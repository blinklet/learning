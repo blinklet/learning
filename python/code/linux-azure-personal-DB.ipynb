{
 "cells": [
  {
   "cell_type": "code",
   "execution_count": 1,
   "id": "da52edb6-230f-4a20-8e2a-65bcad61bb60",
   "metadata": {},
   "outputs": [
    {
     "data": {
      "text/plain": [
       "True"
      ]
     },
     "execution_count": 1,
     "metadata": {},
     "output_type": "execute_result"
    }
   ],
   "source": [
    "# check what directory I am in\n",
    "# should be \"code\" directory in my blog draft post\n",
    "import os\n",
    "from dotenv import load_dotenv\n",
    "\n",
    "load_dotenv('.env.public2', override=True)\n"
   ]
  },
  {
   "cell_type": "code",
   "execution_count": 2,
   "id": "b85d3393-b910-44b5-89c9-27b45dfbadff",
   "metadata": {},
   "outputs": [],
   "source": [
    "connection_string = os.getenv('CONN_STRING')"
   ]
  },
  {
   "cell_type": "code",
   "execution_count": 3,
   "id": "50a9fa47-42c2-46a4-9dda-125167e2ac7c",
   "metadata": {},
   "outputs": [
    {
     "name": "stdout",
     "output_type": "stream",
     "text": [
      "Driver={ODBC Driver 18 for SQL Server};Server=tcp:sqlservercentralpublic.database.windows.net,1433;Database=AdventureWorks;Uid=sqlfamily;Pwd=sqlf@m1ly;Encrypt=yes;TrustServerCertificate=no;Connection Timeout=30;\n"
     ]
    }
   ],
   "source": [
    "print(connection_string)"
   ]
  },
  {
   "cell_type": "code",
   "execution_count": 4,
   "id": "083c53f0-9894-4ba3-8777-61e8a8ac1e61",
   "metadata": {},
   "outputs": [
    {
     "name": "stdout",
     "output_type": "stream",
     "text": [
      "<pyodbc.Connection object at 0x00000213F5B83DF0>\n"
     ]
    }
   ],
   "source": [
    "import pyodbc\n",
    "conn = pyodbc.connect(connection_string)\n",
    "print(conn)"
   ]
  },
  {
   "cell_type": "code",
   "execution_count": 6,
   "id": "7c9a8e69-0fc7-4b02-a228-eeb4ada48e73",
   "metadata": {},
   "outputs": [
    {
     "name": "stdout",
     "output_type": "stream",
     "text": [
      "[('SalesLT',), ('sys',)]\n"
     ]
    }
   ],
   "source": [
    "statement = \"\"\"\n",
    "SELECT DISTINCT\n",
    "  TABLE_SCHEMA\n",
    "FROM INFORMATION_SCHEMA.TABLES\n",
    "ORDER BY TABLE_SCHEMA\n",
    "\"\"\"\n",
    "cursor = conn.cursor()\n",
    "cursor.execute(statement)\n",
    "print(cursor.fetchall())\n",
    "cursor.close()"
   ]
  },
  {
   "cell_type": "code",
   "execution_count": 7,
   "id": "d390af5b-12a4-4512-bc82-efe43ce7c542",
   "metadata": {},
   "outputs": [
    {
     "name": "stdout",
     "output_type": "stream",
     "text": [
      "[('AdventureWorks', 'SalesLT', 'Logger', 'BASE TABLE'), ('AdventureWorks', 'SalesLT', 'Customer', 'BASE TABLE'), ('AdventureWorks', 'SalesLT', 'ProductModel', 'BASE TABLE'), ('AdventureWorks', 'SalesLT', 'ProductDescription', 'BASE TABLE'), ('AdventureWorks', 'SalesLT', 'Product', 'BASE TABLE'), ('AdventureWorks', 'SalesLT', 'ProductModelProductDescription', 'BASE TABLE'), ('AdventureWorks', 'SalesLT', 'ProductCategory', 'BASE TABLE'), ('AdventureWorks', 'SalesLT', 'Address', 'BASE TABLE'), ('AdventureWorks', 'SalesLT', 'CustomerAddress', 'BASE TABLE'), ('AdventureWorks', 'SalesLT', 'SalesOrderDetail', 'BASE TABLE'), ('AdventureWorks', 'SalesLT', 'SalesOrderHeader', 'BASE TABLE'), ('AdventureWorks', 'sys', 'database_firewall_rules', 'VIEW')]\n"
     ]
    }
   ],
   "source": [
    "statement = \"\"\"\n",
    "SELECT \n",
    "  *\n",
    "FROM INFORMATION_SCHEMA.TABLES\n",
    "ORDER BY TABLE_SCHEMA\n",
    "\"\"\"\n",
    "cursor = conn.cursor()\n",
    "cursor.execute(statement)\n",
    "print(cursor.fetchall())\n",
    "cursor.close()"
   ]
  },
  {
   "cell_type": "code",
   "execution_count": 8,
   "id": "cd91bb89-b1eb-4d7e-96ed-f0b279f48bf3",
   "metadata": {},
   "outputs": [
    {
     "name": "stdout",
     "output_type": "stream",
     "text": [
      "TABLE_NAME                      TABLE_TYPE\n",
      "------------------------------  ------------\n",
      "Address                         BASE TABLE\n",
      "Customer                        BASE TABLE\n",
      "CustomerAddress                 BASE TABLE\n",
      "Logger                          BASE TABLE\n",
      "Product                         BASE TABLE\n",
      "ProductCategory                 BASE TABLE\n",
      "ProductDescription              BASE TABLE\n",
      "ProductModel                    BASE TABLE\n",
      "ProductModelProductDescription  BASE TABLE\n",
      "SalesOrderDetail                BASE TABLE\n",
      "SalesOrderHeader                BASE TABLE\n"
     ]
    }
   ],
   "source": [
    "from tabulate import tabulate\n",
    "\n",
    "statement = \"\"\"\n",
    "SELECT \n",
    "  TABLE_NAME, TABLE_TYPE\n",
    "FROM INFORMATION_SCHEMA.TABLES\n",
    "WHERE TABLE_SCHEMA = 'SalesLT'\n",
    "ORDER BY TABLE_NAME\n",
    "\"\"\"\n",
    "\n",
    "cursor = conn.cursor()\n",
    "cursor.execute(statement)\n",
    "\n",
    "headers = [h[0] for h in cursor.description]\n",
    "tables = cursor.fetchall()\n",
    "print(tabulate(tables, headers=headers))\n",
    "\n",
    "cursor.close()"
   ]
  },
  {
   "cell_type": "code",
   "execution_count": 47,
   "id": "b88effb8-af08-4ea4-affc-8aa06a4eafec",
   "metadata": {},
   "outputs": [],
   "source": [
    "def table_info(table, schema='SalesLT'):\n",
    "    \n",
    "    statement = (\n",
    "        f\"SELECT COLUMN_NAME, DATA_TYPE, CHARACTER_MAXIMUM_LENGTH\\n\"\n",
    "        f\"FROM INFORMATION_SCHEMA.COLUMNS\\n\"\n",
    "        f\"WHERE TABLE_SCHEMA = '{str(schema)}'\\n\"\n",
    "        f\"AND TABLE_NAME = '{str(table)}'\"\n",
    "    )\n",
    "\n",
    "    with conn.cursor() as cursor:\n",
    "        cursor.execute(statement)\n",
    "        headers = [h[0] for h in cursor.description]\n",
    "        table_rows = cursor.fetchall()\n",
    "        \n",
    "    return table_rows, headers"
   ]
  },
  {
   "cell_type": "code",
   "execution_count": 69,
   "id": "39ccd2d3-fe53-42cd-992f-81151f6bde4d",
   "metadata": {},
   "outputs": [
    {
     "name": "stdout",
     "output_type": "stream",
     "text": [
      "COLUMN_NAME             DATA_TYPE           CHARACTER_MAXIMUM_LENGTH\n",
      "----------------------  ----------------  --------------------------\n",
      "ProductModelID          int\n",
      "Name                    nvarchar                                  50\n",
      "Summary                 nvarchar                                  -1\n",
      "Manufacturer            nvarchar                                  -1\n",
      "Copyright               nvarchar                                  30\n",
      "ProductURL              nvarchar                                 256\n",
      "WarrantyPeriod          nvarchar                                 256\n",
      "WarrantyDescription     nvarchar                                 256\n",
      "NoOfYears               nvarchar                                 256\n",
      "MaintenanceDescription  nvarchar                                 256\n",
      "Wheel                   nvarchar                                 256\n",
      "Saddle                  nvarchar                                 256\n",
      "Pedal                   nvarchar                                 256\n",
      "BikeFrame               nvarchar                                  -1\n",
      "Crankset                nvarchar                                 256\n",
      "PictureAngle            nvarchar                                 256\n",
      "PictureSize             nvarchar                                 256\n",
      "ProductPhotoID          nvarchar                                 256\n",
      "Material                nvarchar                                 256\n",
      "Color                   nvarchar                                 256\n",
      "ProductLine             nvarchar                                 256\n",
      "Style                   nvarchar                                 256\n",
      "RiderExperience         nvarchar                                1024\n",
      "rowguid                 uniqueidentifier\n",
      "ModifiedDate            datetime\n"
     ]
    }
   ],
   "source": [
    "table, head = table_info('vProductModelCatalogDescription')\n",
    "print(tabulate(table, headers=head))"
   ]
  },
  {
   "cell_type": "code",
   "execution_count": 65,
   "id": "210f5436-b9c7-4ad5-bb04-eb30d677a13a",
   "metadata": {},
   "outputs": [],
   "source": [
    "def constraint_info(table, schema='SalesLT'):\n",
    "\n",
    "    statement = (\n",
    "        f\"SELECT TABLE_NAME, CONSTRAINT_NAME, CONSTRAINT_TYPE\\n\"\n",
    "        f\"FROM INFORMATION_SCHEMA.TABLE_CONSTRAINTS\\n\"\n",
    "        f\"WHERE TABLE_SCHEMA = '{str(schema)}'\\n\"\n",
    "        f\"AND TABLE_NAME = '{str(table)}'\"\n",
    "    )\n",
    "\n",
    "    with conn.cursor() as cursor:\n",
    "        cursor.execute(statement)\n",
    "        headers = [h[0] for h in cursor.description]\n",
    "        constraint_rows = cursor.fetchall()\n",
    "        \n",
    "    return constraint_rows, headers"
   ]
  },
  {
   "cell_type": "code",
   "execution_count": 70,
   "id": "eafeb159-a850-4087-9e4e-e3e9e8f62484",
   "metadata": {},
   "outputs": [
    {
     "name": "stdout",
     "output_type": "stream",
     "text": [
      "[]\n"
     ]
    }
   ],
   "source": [
    "table, head = constraint_info('vProductModelCatalogDescription')\n",
    "print(table)"
   ]
  },
  {
   "cell_type": "code",
   "execution_count": 148,
   "id": "03b55382-ec13-4f5e-bd7d-00714d3e6805",
   "metadata": {},
   "outputs": [
    {
     "name": "stdout",
     "output_type": "stream",
     "text": [
      "Schema Name\n",
      "-----------\n",
      "SalesLT\n",
      "dbo\n",
      "INFORMATION_SCHEMA\n",
      "sys\n"
     ]
    }
   ],
   "source": [
    "cursor = conn.cursor()\n",
    "\n",
    "schema_set = set()\n",
    "\n",
    "for row in cursor.tables():\n",
    "    schema_set.add(row.table_schem)\n",
    "    \n",
    "print('Schema Name')\n",
    "print('-' * 11)\n",
    "print(*schema_set, sep='\\n')\n",
    "\n",
    "cursor.close()\n"
   ]
  },
  {
   "cell_type": "code",
   "execution_count": 45,
   "id": "35b0fce4-96bb-45ce-9127-6e44290c9e01",
   "metadata": {},
   "outputs": [],
   "source": [
    "cursor = conn.cursor()\n",
    "\n",
    "print(dir(cursor)\n",
    "\n",
    "cursor.close()"
   ]
  },
  {
   "cell_type": "code",
   "execution_count": 88,
   "id": "09550476-22db-40c2-8cd8-c109f5057c16",
   "metadata": {},
   "outputs": [],
   "source": [
    "def view_def(view, schema='SalesLT'):\n",
    "\n",
    "    statement = (\n",
    "    f\"SELECT VIEW_DEFINITION\\n\"\n",
    "    f\"FROM INFORMATION_SCHEMA.VIEWS\\n\"\n",
    "    f\"WHERE TABLE_SCHEMA = '{str(schema)}'\\n\"\n",
    "    f\"AND TABLE_NAME = '{str(view)}'\"\n",
    "    )\n",
    "\n",
    "    view_definition = str()\n",
    "    with conn.cursor() as cursor:\n",
    "        cursor.execute(statement)\n",
    "        for row in cursor.fetchone():\n",
    "            view_definition = view_definition + row + '\\n'\n",
    "       \n",
    "    return view_definition"
   ]
  },
  {
   "cell_type": "code",
   "execution_count": 89,
   "id": "3a92062f-8268-451d-92f3-d0c0388e45ff",
   "metadata": {},
   "outputs": [
    {
     "name": "stdout",
     "output_type": "stream",
     "text": [
      "CREATE VIEW [SalesLT].[vProductAndDescription]\n",
      "WITH SCHEMABINDING\n",
      "AS\n",
      "-- View (indexed or standard) to display products and product descriptions by language.\n",
      "SELECT\n",
      "    p.[ProductID]\n",
      "    ,p.[Name]\n",
      "    ,pm.[Name] AS [ProductModel]\n",
      "    ,pmx.[Culture]\n",
      "    ,pd.[Description]\n",
      "FROM [SalesLT].[Product] p\n",
      "    INNER JOIN [SalesLT].[ProductModel] pm\n",
      "    ON p.[ProductModelID] = pm.[ProductModelID]\n",
      "    INNER JOIN [SalesLT].[ProductModelProductDescription] pmx\n",
      "    ON pm.[ProductModelID] = pmx.[ProductModelID]\n",
      "    INNER JOIN [SalesLT].[ProductDescription] pd\n",
      "    ON pmx.[ProductDescriptionID] = pd.[ProductDescriptionID];\n",
      "\n",
      "\n"
     ]
    }
   ],
   "source": [
    "print(view_def('vProductAndDescription'))"
   ]
  },
  {
   "cell_type": "code",
   "execution_count": 204,
   "id": "560b4873-c996-477a-81ad-fd8c020f66ed",
   "metadata": {},
   "outputs": [
    {
     "name": "stdout",
     "output_type": "stream",
     "text": [
      "TABLE_NAME, TABLE_TYPE\n",
      "Address,  BASE TABLE\n",
      "Customer,  BASE TABLE\n",
      "CustomerAddress,  BASE TABLE\n",
      "Product,  BASE TABLE\n",
      "ProductCategory,  BASE TABLE\n",
      "ProductDescription,  BASE TABLE\n",
      "ProductModel,  BASE TABLE\n",
      "ProductModelProductDescription,  BASE TABLE\n",
      "SalesOrderDetail,  BASE TABLE\n",
      "SalesOrderHeader,  BASE TABLE\n",
      "vGetAllCategories,  VIEW\n",
      "vProductAndDescription,  VIEW\n",
      "vProductModelCatalogDescription,  VIEW\n"
     ]
    }
   ],
   "source": [
    "statement = \"\"\"\n",
    "SELECT\n",
    "  TABLE_NAME, TABLE_TYPE\n",
    "FROM INFORMATION_SCHEMA.TABLES\n",
    "WHERE TABLE_SCHEMA = 'SalesLT'\n",
    "ORDER BY TABLE_NAME\n",
    "\"\"\"\n",
    "cursor = conn.cursor()\n",
    "cursor.execute(statement)\n",
    "\n",
    "columns = [column[0] for column in cursor.description]\n",
    "print(*columns, sep=', ')\n",
    "\n",
    "for row in cursor:\n",
    "    print(*row, sep=',  ')\n",
    "\n",
    "cursor.close()"
   ]
  },
  {
   "cell_type": "code",
   "execution_count": 16,
   "id": "ade2a3c1-7417-4fb7-b254-db1d06e0f2b1",
   "metadata": {},
   "outputs": [
    {
     "name": "stdout",
     "output_type": "stream",
     "text": [
      "AdventureWorks, SalesLT, Address, TABLE, None\n",
      "AdventureWorks, SalesLT, Customer, TABLE, None\n",
      "AdventureWorks, SalesLT, CustomerAddress, TABLE, None\n",
      "AdventureWorks, SalesLT, Logger, TABLE, None\n",
      "AdventureWorks, SalesLT, Product, TABLE, None\n",
      "AdventureWorks, SalesLT, ProductCategory, TABLE, None\n",
      "AdventureWorks, SalesLT, ProductDescription, TABLE, None\n",
      "AdventureWorks, SalesLT, ProductModel, TABLE, None\n",
      "AdventureWorks, SalesLT, ProductModelProductDescription, TABLE, None\n",
      "AdventureWorks, SalesLT, SalesOrderDetail, TABLE, None\n",
      "AdventureWorks, SalesLT, SalesOrderHeader, TABLE, None\n",
      "table_cat, table_schem, table_name, table_type, remarks\n"
     ]
    }
   ],
   "source": [
    "cursor = conn.cursor()\n",
    "\n",
    "for row in cursor.tables(schema='SalesLT'):\n",
    "    print(*row, sep=', ')\n",
    "\n",
    "# Can only get columns after I get data in the cursor\n",
    "columns = [column[0] for column in cursor.description]\n",
    "print(*columns, sep=', ')\n",
    "\n",
    "cursor.close()"
   ]
  },
  {
   "cell_type": "code",
   "execution_count": 17,
   "id": "4117f61c-73f5-4fa3-80b3-2ee3b73cd0fa",
   "metadata": {},
   "outputs": [
    {
     "name": "stdout",
     "output_type": "stream",
     "text": [
      "column_name              type_name           column_size\n",
      "AddressID                int identity            10\n",
      "AddressLine1             nvarchar                60\n",
      "AddressLine2             nvarchar                60\n",
      "City                     nvarchar                30\n",
      "PostalCode               nvarchar                15\n",
      "rowguid                  uniqueidentifier        36\n",
      "ModifiedDate             datetime                23\n"
     ]
    }
   ],
   "source": [
    "cursor = conn.cursor()\n",
    "\n",
    "column_list = (\n",
    "    cursor.columns(\n",
    "        table='Address', \n",
    "        schema='SalesLT')\n",
    "    .fetchall()\n",
    ")\n",
    "\n",
    "# headers\n",
    "headers = [h[0] for h in cursor.description]\n",
    "print(f'{headers[3]:{25}}{headers[5]:{20}}{headers[6]:{11}}')\n",
    "\n",
    "# data\n",
    "for row in column_list:\n",
    "    print(f'{row[3]:{25}}{row[5]:{20}}{row[6]:{6}}')\n",
    "\n",
    "cursor.close()"
   ]
  },
  {
   "cell_type": "code",
   "execution_count": 18,
   "id": "8f028b40-374a-45ea-8d89-1bc935c3f884",
   "metadata": {
    "scrolled": true
   },
   "outputs": [
    {
     "name": "stdout",
     "output_type": "stream",
     "text": [
      "Address:  Primary Keys = [('AdventureWorks', 'SalesLT', 'Address', 'AddressID', 1, 'PK_Address_AddressID')]\n",
      "Address:  Foreign Keys = [('AdventureWorks', 'SalesLT', 'Address', 'AddressID', 'AdventureWorks', 'SalesLT', 'CustomerAddress', 'AddressID', 1, 1, 1, 'FK_CustomerAddress_Address_AddressID', 'PK_Address_AddressID', 7), ('AdventureWorks', 'SalesLT', 'Address', 'AddressID', 'AdventureWorks', 'SalesLT', 'SalesOrderHeader', 'BillToAddressID', 1, 1, 1, 'FK_SalesOrderHeader_Address_BillTo_AddressID', 'PK_Address_AddressID', 7), ('AdventureWorks', 'SalesLT', 'Address', 'AddressID', 'AdventureWorks', 'SalesLT', 'SalesOrderHeader', 'ShipToAddressID', 1, 1, 1, 'FK_SalesOrderHeader_Address_ShipTo_AddressID', 'PK_Address_AddressID', 7)]\n"
     ]
    }
   ],
   "source": [
    "cursor = conn.cursor()\n",
    "\n",
    "table = 'Address'\n",
    "schema = 'SalesLT'\n",
    "\n",
    "primary_keys = cursor.primaryKeys(table=table, schema=schema).fetchall()\n",
    "print(f\"{table}:  Primary Keys = {primary_keys}\")\n",
    "\n",
    "foreign_keys = cursor.foreignKeys(table=table, schema=schema).fetchall()\n",
    "print(f\"{table}:  Foreign Keys = {foreign_keys}\")\n",
    "\n",
    "cursor.close()"
   ]
  },
  {
   "cell_type": "code",
   "execution_count": 19,
   "id": "781918ea-bdde-4ce1-9f73-38dd951e0e12",
   "metadata": {},
   "outputs": [
    {
     "name": "stdout",
     "output_type": "stream",
     "text": [
      "column_name              type_name           column_size\n"
     ]
    }
   ],
   "source": [
    "cursor = conn.cursor()\n",
    "\n",
    "column_list = (\n",
    "    cursor.columns(\n",
    "        table='vProductAndDescription', \n",
    "        schema='SalesLT')\n",
    "    .fetchall()\n",
    ")\n",
    "\n",
    "# headers\n",
    "headers = [h[0] for h in cursor.description]\n",
    "print(f'{headers[3]:{25}}{headers[5]:{20}}{headers[6]:{11}}')\n",
    "\n",
    "# data\n",
    "for row in column_list:\n",
    "    print(f'{row[3]:{25}}{row[5]:{20}}{row[6]:{6}}')\n",
    "\n",
    "cursor.close()"
   ]
  },
  {
   "cell_type": "code",
   "execution_count": 100,
   "id": "5de5bda3-7e3a-43fb-98a5-2faa7c6d5e16",
   "metadata": {},
   "outputs": [
    {
     "name": "stdout",
     "output_type": "stream",
     "text": [
      "0                  1        2                                3      4\n",
      "-----------------  -------  -------------------------------  -----  ---\n",
      "data-science-test  SalesLT  Address                          TABLE\n",
      "data-science-test  SalesLT  Customer                         TABLE\n",
      "data-science-test  SalesLT  CustomerAddress                  TABLE\n",
      "data-science-test  SalesLT  Product                          TABLE\n",
      "data-science-test  SalesLT  ProductCategory                  TABLE\n",
      "data-science-test  SalesLT  ProductDescription               TABLE\n",
      "data-science-test  SalesLT  ProductModel                     TABLE\n",
      "data-science-test  SalesLT  ProductModelProductDescription   TABLE\n",
      "data-science-test  SalesLT  SalesOrderDetail                 TABLE\n",
      "data-science-test  SalesLT  SalesOrderHeader                 TABLE\n",
      "data-science-test  SalesLT  vGetAllCategories                VIEW\n",
      "data-science-test  SalesLT  vProductAndDescription           VIEW\n",
      "data-science-test  SalesLT  vProductModelCatalogDescription  VIEW\n"
     ]
    }
   ],
   "source": [
    "from tabulate import tabulate\n",
    "\n",
    "with conn.cursor() as cursor:\n",
    "    tables =  cursor.tables(schema='SalesLT').fetchall()\n",
    "    headers = [h[0] for h in cursor.description]\n",
    "\n",
    "print(tabulate(tables, headers='keys'))\n",
    "\n",
    "\n"
   ]
  },
  {
   "cell_type": "code",
   "execution_count": 123,
   "id": "718d1153-6b5a-4ad9-95ac-2c2163cf7368",
   "metadata": {},
   "outputs": [
    {
     "name": "stdout",
     "output_type": "stream",
     "text": [
      "column_name    type_name           column_size\n",
      "-------------  ----------------  -------------\n",
      "AddressID      int identity                 10\n",
      "AddressLine1   nvarchar                     60\n",
      "AddressLine2   nvarchar                     60\n",
      "City           nvarchar                     30\n",
      "StateProvince  Name                         50\n",
      "CountryRegion  Name                         50\n",
      "PostalCode     nvarchar                     15\n",
      "rowguid        uniqueidentifier             36\n",
      "ModifiedDate   datetime                     23\n"
     ]
    }
   ],
   "source": [
    "def column_info(table, schema='SalesLT'):\n",
    "    \n",
    "    column_list = []\n",
    "    indexes = (3,5,6)\n",
    "    \n",
    "    with conn.cursor() as cursor:\n",
    "    \n",
    "        for row in cursor.columns(table=table, schema=schema):\n",
    "            column_data = [row[x] for x in indexes]\n",
    "            column_list.append(column_data)\n",
    "    \n",
    "        headers = [cursor.description[x][0] for x in indexes]\n",
    "\n",
    "    return column_list, headers\n",
    "\n",
    "\n",
    "columns, headers = column_info('Address')\n",
    "print(tabulate(columns, headers))"
   ]
  },
  {
   "cell_type": "code",
   "execution_count": 150,
   "id": "88c585d6-8f65-4f1b-b2f4-3886fbe6732c",
   "metadata": {},
   "outputs": [
    {
     "name": "stdout",
     "output_type": "stream",
     "text": [
      "Primary Keys\n",
      "============\n",
      "table_cat          table_schem    table_name    column_name      key_seq  pk_name\n",
      "-----------------  -------------  ------------  -------------  ---------  --------------------\n",
      "data-science-test  SalesLT        Address       AddressID              1  PK_Address_AddressID\n",
      "\n",
      "Foreign Keys\n",
      "============\n",
      "pktable_cat        pktable_schem    pktable_name    pkcolumn_name    fktable_cat        fktable_schem    fktable_name      fkcolumn_name      key_seq    update_rule    delete_rule  fk_name                                       pk_name                 deferrability\n",
      "-----------------  ---------------  --------------  ---------------  -----------------  ---------------  ----------------  ---------------  ---------  -------------  -------------  --------------------------------------------  --------------------  ---------------\n",
      "data-science-test  SalesLT          Address         AddressID        data-science-test  SalesLT          CustomerAddress   AddressID                1              1              1  FK_CustomerAddress_Address_AddressID          PK_Address_AddressID                7\n",
      "data-science-test  SalesLT          Address         AddressID        data-science-test  SalesLT          SalesOrderHeader  BillToAddressID          1              1              1  FK_SalesOrderHeader_Address_BillTo_AddressID  PK_Address_AddressID                7\n",
      "data-science-test  SalesLT          Address         AddressID        data-science-test  SalesLT          SalesOrderHeader  ShipToAddressID          1              1              1  FK_SalesOrderHeader_Address_ShipTo_AddressID  PK_Address_AddressID                7\n",
      "\n"
     ]
    }
   ],
   "source": [
    "import pprint\n",
    "\n",
    "def constraint_info(table, schema='SalesLT'):\n",
    "    \n",
    "    with conn.cursor() as cursor:\n",
    "        pk_list = cursor.primaryKeys(table=table, schema=schema).fetchall()\n",
    "        pk_headers = [h[0] for h in cursor.description]\n",
    "        fk_list = cursor.foreignKeys(table=table, schema=schema).fetchall()\n",
    "        fk_headers = [h[0] for h in cursor.description]\n",
    "\n",
    "    return pk_list, pk_headers, fk_list, fk_headers\n",
    "\n",
    "pk_list, pk_headers, fk_list, fk_headers = constraint_info('Address')\n",
    "\n",
    "print('Primary Keys\\n============')\n",
    "print(tabulate(pk_list, headers=pk_headers))\n",
    "print()\n",
    "\n",
    "print('Foreign Keys\\n============')\n",
    "print(tabulate(fk_list, headers=fk_headers))\n",
    "print()\n"
   ]
  },
  {
   "cell_type": "code",
   "execution_count": 179,
   "id": "81411511-d827-4b22-b3fd-39500bb86652",
   "metadata": {},
   "outputs": [
    {
     "name": "stdout",
     "output_type": "stream",
     "text": [
      "TABLE = SalesLT.Address\n",
      "=========================\n",
      "\n",
      "Primary Keys\n",
      "column_name\n",
      "-------------\n",
      "AddressID\n",
      "\n",
      "Foreign Keys\n",
      "pkcolumn_name    fktable_name      fkcolumn_name\n",
      "---------------  ----------------  ---------------\n",
      "AddressID        CustomerAddress   AddressID\n",
      "AddressID        SalesOrderHeader  BillToAddressID\n",
      "AddressID        SalesOrderHeader  ShipToAddressID\n"
     ]
    }
   ],
   "source": [
    "def constraint_info(table, schema='SalesLT'):\n",
    "    pk_list = []\n",
    "    fk_list = []\n",
    "    pk_headers = []\n",
    "    fk_headers = []\n",
    "    pk_indexes = (3, )\n",
    "    fk_indexes= (3, 6, 7)\n",
    "    \n",
    "    with conn.cursor() as cursor:\n",
    "        \n",
    "        for row in cursor.primaryKeys(table=table, schema=schema):\n",
    "            data = [row[x] for x in pk_indexes]\n",
    "            pk_list.append(data)\n",
    "        pk_headers = [cursor.description[x][0] for x in pk_indexes]\n",
    "        \n",
    "        for row in cursor.foreignKeys(table=table, schema=schema):\n",
    "            data = [row[x] for x in fk_indexes]\n",
    "            fk_list.append(data)\n",
    "        fk_headers = [cursor.description[x][0] for x in fk_indexes]\n",
    "\n",
    "    return pk_list, pk_headers, fk_list, fk_headers\n",
    "\n",
    "def display_constraints(table, schema='SalesLT'):\n",
    "    \n",
    "    pk_list, pk_headers, fk_list, fk_headers = constraint_info(table)\n",
    "    \n",
    "    output = ''\n",
    "    \n",
    "    output += f'TABLE = {schema}.{table}\\n'\n",
    "    output += '=========================\\n'\n",
    "    output += '\\n'\n",
    "    \n",
    "    output += 'Primary Keys\\n'\n",
    "    output += tabulate(pk_list, headers=pk_headers) + '\\n'\n",
    "    output += '\\n'\n",
    "\n",
    "    output += 'Foreign Keys\\n'\n",
    "    output += tabulate(fk_list, headers=fk_headers)\n",
    "\n",
    "    return output\n",
    "    \n",
    "table = 'Address'\n",
    "print(display_constraints(table))\n",
    "\n",
    "\n"
   ]
  },
  {
   "cell_type": "code",
   "execution_count": 166,
   "id": "be88bdce-bc83-48ca-ac97-9f53cd6b6129",
   "metadata": {},
   "outputs": [
    {
     "name": "stdout",
     "output_type": "stream",
     "text": [
      "\n"
     ]
    }
   ],
   "source": [
    "test = ''\n",
    "test.join('tttest')\n",
    "print(test)"
   ]
  },
  {
   "cell_type": "code",
   "execution_count": 208,
   "id": "84531cb5-9d16-48c7-a201-506500717e0f",
   "metadata": {},
   "outputs": [
    {
     "name": "stdout",
     "output_type": "stream",
     "text": [
      "database_firewall_rules\n",
      "Customer\n",
      "ProductModel\n",
      "vProductModelCatalogDescription\n",
      "ProductDescription\n",
      "Product\n",
      "ProductModelProductDescription\n",
      "vProductAndDescription\n",
      "ProductCategory\n",
      "vGetAllCategories\n",
      "Address\n",
      "CustomerAddress\n",
      "SalesOrderDetail\n",
      "SalesOrderHeader\n"
     ]
    }
   ],
   "source": [
    "statement = \"\"\"\n",
    "SELECT sys.objects.name AS table_name\n",
    "FROM sys.objects \n",
    "INNER JOIN sys.schemas ON sys.objects.schema_id = sys.schemas.schema_id\n",
    "WHERE sys.schemas.name = 'SalesLT'\n",
    "AND sys.objects.type = 'U' OR sys.objects.type = 'V'\n",
    "\"\"\"\n",
    "\n",
    "with conn.cursor() as cursor:\n",
    "    cursor.execute(statement)\n",
    "    for row in cursor.fetchall():\n",
    "        print(*row)\n",
    "    \n"
   ]
  },
  {
   "cell_type": "code",
   "execution_count": 25,
   "id": "93ccd40d-493e-4c94-bec7-40bd1629167d",
   "metadata": {},
   "outputs": [
    {
     "name": "stdout",
     "output_type": "stream",
     "text": [
      "column_name    type                max_length\n",
      "-------------  ----------------  ------------\n",
      "CustomerID     int                          4\n",
      "AddressID      int                          4\n",
      "rowguid        uniqueidentifier            16\n",
      "ModifiedDate   datetime                     8\n"
     ]
    }
   ],
   "source": [
    "statement = \"\"\"\n",
    "SELECT \n",
    "    sys.columns.name as column_name, \n",
    "    sys.types.name as type, \n",
    "    sys.columns.max_length as max_length\n",
    "FROM sys.objects\n",
    "JOIN sys.columns \n",
    "    ON sys.objects.object_id = sys.columns.object_id\n",
    "INNER JOIN sys.types\n",
    "    ON sys.types.user_type_id = sys.columns.user_type_id\n",
    "INNER JOIN sys.schemas \n",
    "    ON sys.objects.schema_id = sys.schemas.schema_id\n",
    "WHERE sys.objects.name = 'CustomerAddress'\n",
    "AND sys.schemas.name = 'SalesLT'\n",
    "\"\"\"\n",
    "\n",
    "with conn.cursor() as cursor:\n",
    "    cursor.execute(statement)\n",
    "    headers = [h[0] for h in cursor.description]\n",
    "    results = cursor.fetchall()\n",
    "\n",
    "print(tabulate(results, headers=headers))"
   ]
  },
  {
   "cell_type": "code",
   "execution_count": 259,
   "id": "b8408949-3f1b-4b9a-b76d-5149c0784928",
   "metadata": {},
   "outputs": [
    {
     "name": "stdout",
     "output_type": "stream",
     "text": [
      "column_name    type                max_length\n",
      "-------------  ----------------  ------------\n",
      "AddressID      int                          4\n",
      "AddressLine1   nvarchar                   120\n",
      "AddressLine2   nvarchar                   120\n",
      "City           nvarchar                    60\n",
      "StateProvince  Name                       100\n",
      "CountryRegion  Name                       100\n",
      "PostalCode     nvarchar                    30\n",
      "rowguid        uniqueidentifier            16\n",
      "ModifiedDate   datetime                     8\n"
     ]
    }
   ],
   "source": [
    "def columns_info(table, schema='SalesLT'):\n",
    "    \n",
    "    statement = f\"\"\"\n",
    "    SELECT \n",
    "        sys.columns.name as column_name, \n",
    "        sys.types.name as type, \n",
    "        sys.columns.max_length as max_length\n",
    "    FROM sys.objects\n",
    "    JOIN sys.columns \n",
    "        ON sys.objects.object_id = sys.columns.object_id\n",
    "    INNER JOIN sys.types\n",
    "        ON sys.types.user_type_id = sys.columns.user_type_id\n",
    "    INNER JOIN sys.schemas \n",
    "        ON sys.objects.schema_id = sys.schemas.schema_id\n",
    "    WHERE sys.objects.name = '{table}'\n",
    "    AND sys.schemas.name = '{schema}'\n",
    "    \"\"\"\n",
    "\n",
    "    with conn.cursor() as cursor:\n",
    "        cursor.execute(statement)\n",
    "        headers = [h[0] for h in cursor.description]\n",
    "        results = cursor.fetchall()\n",
    "\n",
    "    return results, headers\n",
    "\n",
    "results, headers = columns_info('Address')\n",
    "print(tabulate(results, headers=headers))"
   ]
  },
  {
   "cell_type": "code",
   "execution_count": 65,
   "id": "159bb4ba-f7bb-480a-92f2-b72927cfda0c",
   "metadata": {},
   "outputs": [
    {
     "name": "stdout",
     "output_type": "stream",
     "text": [
      "column_name    type                max_length\n",
      "-------------  ----------------  ------------\n",
      "AddressID      int                          4\n",
      "AddressLine1   nvarchar                   120\n",
      "AddressLine2   nvarchar                   120\n",
      "City           nvarchar                    60\n",
      "PostalCode     nvarchar                    30\n",
      "rowguid        uniqueidentifier            16\n",
      "ModifiedDate   datetime                     8\n"
     ]
    }
   ],
   "source": [
    "def columns_info(table, schema='SalesLT'):\n",
    "    \n",
    "    statement = f\"\"\"\n",
    "    SELECT \n",
    "        sys.columns.name as column_name, \n",
    "        sys.types.name as type, \n",
    "        sys.columns.max_length as max_length\n",
    "    FROM sys.objects\n",
    "    JOIN sys.columns \n",
    "        ON sys.objects.object_id = sys.columns.object_id\n",
    "    INNER JOIN sys.types\n",
    "        ON sys.types.user_type_id = sys.columns.user_type_id\n",
    "    INNER JOIN sys.schemas \n",
    "        ON sys.objects.schema_id = sys.schemas.schema_id\n",
    "    WHERE sys.objects.name = '{table}'\n",
    "    AND sys.schemas.name = '{schema}'\n",
    "    \"\"\"\n",
    "\n",
    "    with conn.cursor() as cursor:\n",
    "        cursor.execute(statement)\n",
    "        headers = [h[0] for h in cursor.description]\n",
    "        results = cursor.fetchall()\n",
    "\n",
    "    return results, headers\n",
    "\n",
    "results, headers = columns_info('Address')\n",
    "print(tabulate(results, headers=headers))"
   ]
  },
  {
   "cell_type": "code",
   "execution_count": 24,
   "id": "4e553ac7-679e-4f37-ac83-893ace4b8f45",
   "metadata": {},
   "outputs": [
    {
     "name": "stdout",
     "output_type": "stream",
     "text": [
      "column_name    index_name                               is_identity\n",
      "-------------  ---------------------------------------  -------------\n",
      "CustomerID     PK_CustomerAddress_CustomerID_AddressID  False\n",
      "AddressID      PK_CustomerAddress_CustomerID_AddressID  False\n"
     ]
    }
   ],
   "source": [
    "def pk_info(table, schema='SalesLT'):\n",
    "    \n",
    "    statement = f\"\"\"\n",
    "    SELECT\n",
    "        sys.columns.name AS column_name,\n",
    "        sys.indexes.name AS index_name,\n",
    "        sys.columns.is_identity\n",
    "    FROM sys.indexes\n",
    "        inner join sys.index_columns  \n",
    "            ON sys.indexes.object_id = sys.index_columns.object_id \n",
    "            AND sys.indexes.index_id = sys.index_columns.index_id\n",
    "        inner join sys.columns \n",
    "            ON sys.index_columns.object_id = sys.columns.object_id \n",
    "            AND sys.columns.column_id = sys.index_columns.column_id\n",
    "    WHERE sys.indexes.is_primary_key = 1\n",
    "        and sys.indexes.object_ID = OBJECT_ID('{schema}.{table}');\n",
    "    \"\"\"\n",
    "\n",
    "    with conn.cursor() as cursor:\n",
    "        cursor.execute(statement)\n",
    "        headers = [h[0] for h in cursor.description]\n",
    "        results = cursor.fetchall()\n",
    "\n",
    "    return results, headers\n",
    "\n",
    "results, headers = pk_info('CustomerAddress')\n",
    "print(tabulate(results, headers=headers))"
   ]
  },
  {
   "cell_type": "code",
   "execution_count": 63,
   "id": "91120fab-1b8a-4d3a-9f05-79423e639033",
   "metadata": {},
   "outputs": [
    {
     "name": "stdout",
     "output_type": "stream",
     "text": [
      "table_name       column_name    referenced_table    referenced_column\n",
      "---------------  -------------  ------------------  -------------------\n",
      "CustomerAddress  CustomerID     Customer            CustomerID\n",
      "CustomerAddress  AddressID      Address             AddressID\n"
     ]
    }
   ],
   "source": [
    "def fk_info(table, schema='SalesLT'):\n",
    "    \n",
    "    statement = f\"\"\"\n",
    "    SELECT\n",
    "        tab1.name AS table_name,\n",
    "        col1.name AS column_name,\n",
    "        tab2.name AS referenced_table,\n",
    "        col2.name AS referenced_column\n",
    "    FROM sys.foreign_key_columns fkc\n",
    "    INNER JOIN sys.objects obj\n",
    "        ON obj.object_id = fkc.constraint_object_id\n",
    "    INNER JOIN sys.tables tab1\n",
    "        ON tab1.object_id = fkc.parent_object_id\n",
    "    INNER JOIN sys.schemas sch\n",
    "        ON tab1.schema_id = sch.schema_id\n",
    "    INNER JOIN sys.columns col1\n",
    "        ON col1.column_id = parent_column_id AND col1.object_id = tab1.object_id\n",
    "    INNER JOIN sys.tables tab2\n",
    "        ON tab2.object_id = fkc.referenced_object_id\n",
    "    INNER JOIN sys.columns col2\n",
    "        ON col2.column_id = referenced_column_id AND col2.object_id = tab2.object_id\n",
    "    WHERE sch.name = '{schema}' AND tab1.name = '{table}'\n",
    "    \"\"\"\n",
    "\n",
    "    with conn.cursor() as cursor:\n",
    "        cursor.execute(statement)\n",
    "        headers = [h[0] for h in cursor.description]\n",
    "        results = cursor.fetchall()\n",
    "\n",
    "    return results, headers\n",
    "\n",
    "results, headers = fk_info('CustomerAddress')\n",
    "print(tabulate(results, headers=headers))"
   ]
  },
  {
   "cell_type": "code",
   "execution_count": null,
   "id": "801c9d31-d599-47c5-a03f-0485b5c1d9ed",
   "metadata": {},
   "outputs": [],
   "source": []
  }
 ],
 "metadata": {
  "kernelspec": {
   "display_name": "Python 3 (ipykernel)",
   "language": "python",
   "name": "python3"
  },
  "language_info": {
   "codemirror_mode": {
    "name": "ipython",
    "version": 3
   },
   "file_extension": ".py",
   "mimetype": "text/x-python",
   "name": "python",
   "nbconvert_exporter": "python",
   "pygments_lexer": "ipython3",
   "version": "3.11.3"
  }
 },
 "nbformat": 4,
 "nbformat_minor": 5
}
