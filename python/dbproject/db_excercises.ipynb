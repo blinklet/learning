{
 "cells": [
  {
   "cell_type": "code",
   "execution_count": 1,
   "id": "f6bb2b04-3de7-4d2a-a915-8172a903be6d",
   "metadata": {},
   "outputs": [],
   "source": [
    "from sqlalchemy import create_engine\n",
    "\n",
    "connection_string = \"sqlite:///userdata.db\"\n",
    "engine = create_engine(connection_string, echo=True)"
   ]
  },
  {
   "cell_type": "code",
   "execution_count": 2,
   "id": "3ec783e7-fc69-48f2-8533-03969b8170a4",
   "metadata": {},
   "outputs": [],
   "source": [
    "from sqlalchemy.orm import DeclarativeBase\n",
    "\n",
    "class Base(DeclarativeBase):\n",
    "    pass"
   ]
  },
  {
   "cell_type": "code",
   "execution_count": 3,
   "id": "e785690c-d393-4415-8d47-270a01ea976e",
   "metadata": {},
   "outputs": [],
   "source": [
    "from sqlalchemy import String, DateTime, func\n",
    "from sqlalchemy.orm import mapped_column\n",
    "\n",
    "class Userdata(Base):\n",
    "    __tablename__ = \"userdata\"\n",
    "    user_id = mapped_column(String(32), primary_key=True, nullable=False)\n",
    "    user_data = mapped_column(String(640))\n",
    "    time_stamp = mapped_column(DateTime(), default=func.now(), onupdate=func.now())"
   ]
  },
  {
   "cell_type": "code",
   "execution_count": null,
   "id": "311d9c29-ca82-4a24-9465-ce398846b1f0",
   "metadata": {},
   "outputs": [],
   "source": [
    "print(Base.metadata.tables)"
   ]
  },
  {
   "cell_type": "code",
   "execution_count": 4,
   "id": "84908935-96c8-4f6a-a952-a37eb82e5354",
   "metadata": {},
   "outputs": [
    {
     "name": "stdout",
     "output_type": "stream",
     "text": [
      "2023-10-19 22:44:17,658 INFO sqlalchemy.engine.Engine BEGIN (implicit)\n",
      "2023-10-19 22:44:17,662 INFO sqlalchemy.engine.Engine PRAGMA main.table_info(\"userdata\")\n",
      "2023-10-19 22:44:17,663 INFO sqlalchemy.engine.Engine [raw sql] ()\n",
      "2023-10-19 22:44:17,665 INFO sqlalchemy.engine.Engine PRAGMA temp.table_info(\"userdata\")\n",
      "2023-10-19 22:44:17,667 INFO sqlalchemy.engine.Engine [raw sql] ()\n",
      "2023-10-19 22:44:17,668 INFO sqlalchemy.engine.Engine \n",
      "CREATE TABLE userdata (\n",
      "\tuser_id VARCHAR(32) NOT NULL, \n",
      "\tuser_data VARCHAR(640), \n",
      "\ttime_stamp DATETIME, \n",
      "\tPRIMARY KEY (user_id)\n",
      ")\n",
      "\n",
      "\n",
      "2023-10-19 22:44:17,669 INFO sqlalchemy.engine.Engine [no key 0.00107s] ()\n",
      "2023-10-19 22:44:17,677 INFO sqlalchemy.engine.Engine COMMIT\n"
     ]
    }
   ],
   "source": [
    "Base.metadata.create_all(engine)"
   ]
  },
  {
   "cell_type": "code",
   "execution_count": 6,
   "id": "fbd79184-9fff-4daa-ad72-22fe8762f1a0",
   "metadata": {},
   "outputs": [],
   "source": [
    "from sqlalchemy.orm import Session\n",
    "\n",
    "session = Session(engine)"
   ]
  },
  {
   "cell_type": "code",
   "execution_count": 7,
   "id": "ed86b469-c3d6-4fe6-9ca7-d74383225e7d",
   "metadata": {},
   "outputs": [],
   "source": [
    "from datetime import datetime\n",
    "user = Userdata(user_id=\"Brad\", user_data=\"Brad's data\")\n",
    "session.add(user)"
   ]
  },
  {
   "cell_type": "code",
   "execution_count": 8,
   "id": "e581b3d0-b080-4961-83f3-85cc834c225e",
   "metadata": {},
   "outputs": [],
   "source": [
    "user = Userdata(user_id=\"Larry\", user_data=\"Data for Larry\")\n",
    "session.add(user)\n",
    "user = Userdata(user_id=\"Jane\", user_data=\"More data\")\n",
    "session.add(user)"
   ]
  },
  {
   "cell_type": "code",
   "execution_count": 9,
   "id": "6c2bf71f-da2a-4dff-a3db-0d7a48e1970d",
   "metadata": {},
   "outputs": [
    {
     "name": "stdout",
     "output_type": "stream",
     "text": [
      "2023-10-19 22:46:37,734 INFO sqlalchemy.engine.Engine BEGIN (implicit)\n",
      "2023-10-19 22:46:37,738 INFO sqlalchemy.engine.Engine INSERT INTO userdata (user_id, user_data, time_stamp) VALUES (?, ?, CURRENT_TIMESTAMP), (?, ?, CURRENT_TIMESTAMP), (?, ?, CURRENT_TIMESTAMP) RETURNING time_stamp, user_id\n",
      "2023-10-19 22:46:37,739 INFO sqlalchemy.engine.Engine [generated in 0.00027s (insertmanyvalues) 1/1 (ordered)] ('Brad', \"Brad's data\", 'Larry', 'Data for Larry', 'Jane', 'More data')\n",
      "2023-10-19 22:46:37,747 INFO sqlalchemy.engine.Engine INSERT INTO userdata (user_id, user_data, time_stamp) VALUES (?, ?, CURRENT_TIMESTAMP)\n",
      "2023-10-19 22:46:37,749 INFO sqlalchemy.engine.Engine [generated in 0.00201s] [('Barbra', 'Data for Barbra'), ('Jessa', 'Jessas data'), ('Ed', 'Ed has lots of data')]\n"
     ]
    },
    {
     "data": {
      "text/plain": [
       "<sqlalchemy.engine.result.IteratorResult at 0x18d328f6650>"
      ]
     },
     "execution_count": 9,
     "metadata": {},
     "output_type": "execute_result"
    }
   ],
   "source": [
    "from sqlalchemy import insert\n",
    "\n",
    "add_list = [{\"user_id\": \"Barbra\", \"user_data\": \"Data for Barbra\"},\n",
    "            {\"user_id\": \"Jessa\", \"user_data\": \"Jessas data\"},\n",
    "            {\"user_id\": \"Ed\", \"user_data\": \"Ed has lots of data\"}]\n",
    "\n",
    "session.execute(insert(Userdata), add_list)"
   ]
  },
  {
   "cell_type": "code",
   "execution_count": 10,
   "id": "53e79a9a-b00a-4604-adaf-b705d70c88d3",
   "metadata": {},
   "outputs": [
    {
     "name": "stdout",
     "output_type": "stream",
     "text": [
      "2023-10-19 22:46:41,133 INFO sqlalchemy.engine.Engine SELECT userdata.user_id, userdata.user_data, userdata.time_stamp \n",
      "FROM userdata\n",
      "2023-10-19 22:46:41,134 INFO sqlalchemy.engine.Engine [generated in 0.00106s] ()\n",
      "Brad Brad's data 2023-10-20 02:46:37\n",
      "Larry Data for Larry 2023-10-20 02:46:37\n",
      "Jane More data 2023-10-20 02:46:37\n",
      "Barbra Data for Barbra 2023-10-20 02:46:37\n",
      "Jessa Jessas data 2023-10-20 02:46:37\n",
      "Ed Ed has lots of data 2023-10-20 02:46:37\n"
     ]
    }
   ],
   "source": [
    "from sqlalchemy import select\n",
    "\n",
    "stmt = select(Userdata)\n",
    "results = session.execute(stmt).scalars()\n",
    "for x in results:\n",
    "    print(x.user_id, x.user_data, x.time_stamp)"
   ]
  },
  {
   "cell_type": "code",
   "execution_count": 11,
   "id": "e0bbdeb6-d8f0-4ee9-9ec7-21e5d7db2d88",
   "metadata": {},
   "outputs": [
    {
     "name": "stdout",
     "output_type": "stream",
     "text": [
      "2023-10-19 22:46:42,762 INFO sqlalchemy.engine.Engine COMMIT\n"
     ]
    }
   ],
   "source": [
    "session.commit()"
   ]
  },
  {
   "cell_type": "code",
   "execution_count": 12,
   "id": "f580be85-fd0f-4466-8354-e0d0c0aa9ee1",
   "metadata": {},
   "outputs": [],
   "source": [
    "session.close()"
   ]
  },
  {
   "cell_type": "code",
   "execution_count": 13,
   "id": "22ad6413-0f0e-4ff0-ab36-2c279f93b4fa",
   "metadata": {},
   "outputs": [
    {
     "name": "stdout",
     "output_type": "stream",
     "text": [
      "2023-10-19 22:47:21,385 INFO sqlalchemy.engine.Engine BEGIN (implicit)\n",
      "2023-10-19 22:47:21,387 INFO sqlalchemy.engine.Engine SELECT userdata.user_id, userdata.user_data, userdata.time_stamp \n",
      "FROM userdata \n",
      "WHERE userdata.user_id = ?\n",
      "2023-10-19 22:47:21,388 INFO sqlalchemy.engine.Engine [generated in 0.00066s] ('Brad',)\n",
      "2023-10-19 22:47:21,391 INFO sqlalchemy.engine.Engine UPDATE userdata SET user_data=?, time_stamp=CURRENT_TIMESTAMP WHERE userdata.user_id = ?\n",
      "2023-10-19 22:47:21,392 INFO sqlalchemy.engine.Engine [generated in 0.00089s] ('Changed data', 'Brad')\n",
      "2023-10-19 22:47:21,394 INFO sqlalchemy.engine.Engine COMMIT\n"
     ]
    }
   ],
   "source": [
    "id = \"Brad\"\n",
    "brad = session.execute(\n",
    "    select(Userdata).where(Userdata.user_id == id)\n",
    "    ).scalar()\n",
    "if brad:\n",
    "    brad.user_data = \"Changed data\"\n",
    "    session.commit()\n",
    "else:\n",
    "    print(f\"User '{id}' does not exist\")\n",
    "session.close()"
   ]
  },
  {
   "cell_type": "code",
   "execution_count": 15,
   "id": "752bfa1b-5ed4-4fa9-ba24-6c14783a2c4b",
   "metadata": {},
   "outputs": [
    {
     "name": "stdout",
     "output_type": "stream",
     "text": [
      "2023-10-19 23:04:03,055 INFO sqlalchemy.engine.Engine BEGIN (implicit)\n",
      "2023-10-19 23:04:03,058 INFO sqlalchemy.engine.Engine DELETE FROM userdata WHERE userdata.user_id = ?\n",
      "2023-10-19 23:04:03,059 INFO sqlalchemy.engine.Engine [generated in 0.00113s] ('Larry',)\n",
      "2023-10-19 23:04:03,065 INFO sqlalchemy.engine.Engine COMMIT\n"
     ]
    }
   ],
   "source": [
    "from sqlalchemy import delete\n",
    "\n",
    "session.execute(delete(Userdata).where(Userdata.user_id == \"Larry\"))\n",
    "session.commit()\n",
    "session.close()"
   ]
  },
  {
   "cell_type": "code",
   "execution_count": 16,
   "id": "53bfcb93-4772-431f-95be-5cb0e54767d6",
   "metadata": {},
   "outputs": [
    {
     "name": "stdout",
     "output_type": "stream",
     "text": [
      "2023-10-19 23:05:04,223 INFO sqlalchemy.engine.Engine BEGIN (implicit)\n",
      "2023-10-19 23:05:04,224 INFO sqlalchemy.engine.Engine SELECT userdata.user_id, userdata.user_data, userdata.time_stamp \n",
      "FROM userdata\n",
      "2023-10-19 23:05:04,225 INFO sqlalchemy.engine.Engine [cached since 1103s ago] ()\n",
      "<__main__.Userdata object at 0x0000018D31BF2650>\n",
      "<__main__.Userdata object at 0x0000018D32980790>\n",
      "<__main__.Userdata object at 0x0000018D32982CD0>\n",
      "<__main__.Userdata object at 0x0000018D32983350>\n",
      "<__main__.Userdata object at 0x0000018D32983390>\n"
     ]
    }
   ],
   "source": [
    "stmt = select(Userdata)\n",
    "results = session.execute(stmt).scalars()\n",
    "for x in results:\n",
    "    print(x)"
   ]
  },
  {
   "cell_type": "code",
   "execution_count": 18,
   "id": "ff9b4eff-dd88-4089-8ba2-6bd797b4dcab",
   "metadata": {},
   "outputs": [
    {
     "name": "stderr",
     "output_type": "stream",
     "text": [
      "C:\\Users\\blinklet\\AppData\\Local\\Temp\\ipykernel_9308\\3337887068.py:1: SAWarning: This declarative base already contains a class with the same class name and module name as __main__.Userdata, and will be replaced in the string-lookup table.\n",
      "  class Userdata(Base):\n"
     ]
    }
   ],
   "source": [
    "class Userdata(Base):\n",
    "    __tablename__ = \"userdata\"\n",
    "    __table_args__ = {'extend_existing': True}\n",
    "    user_id = mapped_column(String(32), primary_key=True, nullable=False)\n",
    "    user_data = mapped_column(String(640))\n",
    "    time_stamp = mapped_column(DateTime(), default=func.now(), onupdate=func.now())\n",
    "\n",
    "    def __repr__(self):\n",
    "        return f\"user_id={self.user_id}, \" \\\n",
    "               f\"user_data={self.user_data}, \" \\\n",
    "               f\"time_stamp={self.time_stamp.strftime('%B %d %H:%M')}\""
   ]
  },
  {
   "cell_type": "code",
   "execution_count": 19,
   "id": "95b21e5a-03d3-4fea-8d19-759f06d15fcf",
   "metadata": {},
   "outputs": [
    {
     "name": "stdout",
     "output_type": "stream",
     "text": [
      "2023-10-19 23:08:23,680 INFO sqlalchemy.engine.Engine SELECT userdata.user_id, userdata.user_data, userdata.time_stamp \n",
      "FROM userdata\n",
      "2023-10-19 23:08:23,682 INFO sqlalchemy.engine.Engine [generated in 0.00137s] ()\n",
      "user_id=Brad, user_data=Changed data, time_stamp=October 20 02:47\n",
      "user_id=Jane, user_data=More data, time_stamp=October 20 02:46\n",
      "user_id=Barbra, user_data=Data for Barbra, time_stamp=October 20 02:46\n",
      "user_id=Jessa, user_data=Jessas data, time_stamp=October 20 02:46\n",
      "user_id=Ed, user_data=Ed has lots of data, time_stamp=October 20 02:46\n"
     ]
    }
   ],
   "source": [
    "stmt = select(Userdata)\n",
    "results = session.execute(stmt).scalars()\n",
    "for x in results:\n",
    "    print(x)"
   ]
  },
  {
   "cell_type": "code",
   "execution_count": null,
   "id": "ea41429a-d2b8-4395-8858-ee58b523e0c1",
   "metadata": {},
   "outputs": [],
   "source": []
  },
  {
   "cell_type": "code",
   "execution_count": null,
   "id": "26b86126-9365-42e3-a399-a3adc2f58716",
   "metadata": {},
   "outputs": [],
   "source": []
  },
  {
   "cell_type": "markdown",
   "id": "f27c11eb-83b7-4768-b711-0d1dfc8d8a73",
   "metadata": {},
   "source": [
    "# Stop here"
   ]
  },
  {
   "cell_type": "code",
   "execution_count": null,
   "id": "47b2b355-4847-4c65-98f0-dfa0f5991189",
   "metadata": {},
   "outputs": [],
   "source": [
    "from sqlalchemy import create_engine\n",
    "from sqlalchemy.orm import Session\n",
    "\n",
    "engine = create_engine(\"sqlite:///userdata.db\", echo=True)"
   ]
  },
  {
   "cell_type": "code",
   "execution_count": null,
   "id": "9fe02ab7-6dfb-4bae-a4e5-af98f27b91ea",
   "metadata": {},
   "outputs": [],
   "source": [
    "from sqlalchemy.orm import DeclarativeBase\n",
    "\n",
    "class Base(DeclarativeBase):\n",
    "    pass"
   ]
  },
  {
   "cell_type": "code",
   "execution_count": null,
   "id": "16e993ee-bcb8-4797-bd3e-d45d15a1e687",
   "metadata": {},
   "outputs": [],
   "source": [
    "from sqlalchemy import String, DateTime, func\n",
    "from sqlalchemy.orm import mapped_column\n",
    "\n",
    "class Userdata(Base):\n",
    "    __tablename__ = \"userdata\"\n",
    "    user_id = mapped_column(String(32), primary_key=True, nullable=False)\n",
    "    user_data = mapped_column(String(640))\n",
    "    time_stamp = mapped_column(DateTime(timezone=True), default=func.now(), onupdate=func.now())\n",
    "\n",
    "    def __repr__(self):\n",
    "        return f\"user_id={self.user_id}, \" \\\n",
    "               f\"user_data={self.user_data}, \" \\\n",
    "               f\"time_stamp={self.time_stamp.strftime('%B %d %H:%M')}\""
   ]
  },
  {
   "cell_type": "code",
   "execution_count": null,
   "id": "9189f36e-a010-4758-8ef1-644f53d53fd9",
   "metadata": {},
   "outputs": [],
   "source": [
    "from sqlalchemy import String, DateTime\n",
    "from sqlalchemy.orm import mapped_column\n",
    "\n",
    "class Userdata(Base):\n",
    "    __tablename__ = \"userdata\"\n",
    "    user_id = mapped_column(String(32), primary_key=True, nullable=False)\n",
    "    user_data = mapped_column(String(640))\n",
    "    time_stamp = mapped_column(DateTime(timezone=True))"
   ]
  },
  {
   "cell_type": "code",
   "execution_count": null,
   "id": "19bbddc5-7295-4483-a2f9-a196fb82cbb6",
   "metadata": {},
   "outputs": [],
   "source": [
    "print(DeclarativeBase.metadata.tables)"
   ]
  },
  {
   "cell_type": "code",
   "execution_count": null,
   "id": "49332278-e074-4f5e-b2d5-9cdf98b0e518",
   "metadata": {},
   "outputs": [],
   "source": [
    "print(Userdata)"
   ]
  },
  {
   "cell_type": "markdown",
   "id": "2b147a7a-069e-43ce-90e8-b1ec7a273388",
   "metadata": {},
   "source": [
    "Database is created after the step below. See userdata.db file in folder"
   ]
  },
  {
   "cell_type": "code",
   "execution_count": null,
   "id": "7d9bf4bc-f4d0-4c59-960f-f08df38d8066",
   "metadata": {},
   "outputs": [],
   "source": [
    "Base.metadata.create_all(engine)"
   ]
  },
  {
   "cell_type": "markdown",
   "id": "953362ff-2693-411d-a57d-77deb85774d5",
   "metadata": {},
   "source": [
    "In section below, need to manually commit and close session"
   ]
  },
  {
   "cell_type": "code",
   "execution_count": null,
   "id": "e568d2c2-1755-44e5-9c88-9aac93650f8b",
   "metadata": {},
   "outputs": [],
   "source": [
    "from datetime import datetime\n",
    "\n",
    "session = Session(engine)\n",
    "user = Userdata(user_id=\"Brad\", user_data=\"Data from brad\")\n",
    "session.add(user)\n",
    "user = Userdata(user_id=\"Larry\", user_data=\"More data\")\n",
    "session.add(user)\n",
    "user = Userdata(user_id=\"Jane\", user_data=\"Even more data\")\n",
    "session.add(user)\n",
    "session.commit()\n",
    "session.close()"
   ]
  },
  {
   "cell_type": "code",
   "execution_count": null,
   "id": "92b9f67f-2ed6-42ee-ba12-b967625e1088",
   "metadata": {},
   "outputs": [],
   "source": [
    "from sqlalchemy import update\n",
    "\n",
    "def db_update(session, id, data):\n",
    "    stmt = (update(Userdata)\n",
    "            .where(Userdata.user_id == id)\n",
    "            .values(user_data=data))\n",
    "    session.execute(stmt)"
   ]
  },
  {
   "cell_type": "code",
   "execution_count": null,
   "id": "a3aadbbc-7983-4540-b6fe-6962279d5418",
   "metadata": {},
   "outputs": [],
   "source": [
    "db_update(session, \"Brad\", \"New New New Bradley\")\n",
    "user = Userdata(user_id=\"Sally\", user_data=\"Sally data\")\n",
    "session.add(user)\n",
    "session.commit()"
   ]
  },
  {
   "cell_type": "code",
   "execution_count": null,
   "id": "dd8ef85c-e9e3-43a4-80ad-38795a8b73b1",
   "metadata": {},
   "outputs": [],
   "source": [
    "from datetime import datetime\n",
    "\n",
    "session = Session(engine)\n",
    "user1 = Userdata(user_id=\"x\", user_data=\"Data from brad\")\n",
    "user2 = Userdata(user_id=\"y\", user_data=\"More data\")\n",
    "user3 = Userdata(user_id=\"z\", user_data=\"Even more data\")\n",
    "session.add_all([user1, user2, user3])\n",
    "session.commit()\n",
    "session.close()"
   ]
  },
  {
   "cell_type": "markdown",
   "id": "fd1303e9-3400-40d7-ade9-b26c7c5107eb",
   "metadata": {},
   "source": [
    "if you just use Session class, conext manager does not automatically write data to DB at end of block, or rollback if error. need to call *session.commit()* before end of block\n"
   ]
  },
  {
   "cell_type": "code",
   "execution_count": null,
   "id": "1bd52c68-946c-4b7e-9ab4-63083aab06e0",
   "metadata": {},
   "outputs": [],
   "source": [
    "with Session(engine) as session:\n",
    "    user = Userdata(user_id=\"Allan\", user_data=\"Data from Allan\", time_stamp=datetime.now())\n",
    "    session.add(user)\n",
    "    user = Userdata(user_id=\"Chad\", user_data=\"More Chad data\", time_stamp=datetime.now())\n",
    "    session.add(user)\n",
    "    user = Userdata(user_id=\"Mary\", user_data=\"Even more Mary data\", time_stamp=datetime.now())\n",
    "    session.add(user)\n",
    "    session.commit()\n"
   ]
  },
  {
   "cell_type": "markdown",
   "id": "4eb04f4c-4d46-4c02-b7aa-8d0000dd2c90",
   "metadata": {},
   "source": [
    "In the section below, the sessiomaker's *begin* method creates a context manager that will run purge() and commit() at the end of the block so they do not need to be explixitly called using *session.commit()*. Also takes care of rollback if write fails. See https://docs.sqlalchemy.org/en/14/orm/session_basics.html#getting-a-session for more ways to do this"
   ]
  },
  {
   "cell_type": "code",
   "execution_count": null,
   "id": "8081a146-dd6a-4b6a-8793-4a60be1f5161",
   "metadata": {},
   "outputs": [],
   "source": [
    "from sqlalchemy.orm import sessionmaker\n",
    "\n",
    "Session2 = sessionmaker(engine)\n",
    "\n",
    "with Session2.begin() as session:\n",
    "    user1 = Userdata(user_id=\"xx\", user_data=\"Data from Phil\", time_stamp=datetime.now())\n",
    "    user2 = Userdata(user_id=\"yy\", user_data=\"More Karen data\", time_stamp=datetime.now())\n",
    "    user3 = Userdata(user_id=\"ss\", user_data=\"Gary data\", time_stamp=datetime.now())\n",
    "    session.add_all([user1, user2, user3])"
   ]
  },
  {
   "cell_type": "markdown",
   "id": "f4e96f9b-852f-4906-bbee-b6eb5f77e966",
   "metadata": {},
   "source": [
    "experiment with flush"
   ]
  },
  {
   "cell_type": "code",
   "execution_count": null,
   "id": "b0fab537-012f-411e-8378-53df2e3813a3",
   "metadata": {},
   "outputs": [],
   "source": [
    "session3.close()\n",
    "from sqlalchemy import select\n",
    "\n",
    "session3 = Session(engine)\n",
    "session3.autoflush=False\n",
    "\n",
    "user = Userdata(user_id=\"Flusher6\", user_data=\"Flushed6\")\n",
    "session3.add(user)\n"
   ]
  },
  {
   "cell_type": "code",
   "execution_count": null,
   "id": "0261dec1-d251-4644-9e07-050a3b4d8eb5",
   "metadata": {},
   "outputs": [],
   "source": [
    "session3.autoflush=True\n",
    "f = session3.get(Userdata, \"Flusher6\")"
   ]
  },
  {
   "cell_type": "code",
   "execution_count": null,
   "id": "af1a79fe-7856-4220-b573-f85a35110787",
   "metadata": {},
   "outputs": [],
   "source": [
    "print(f)\n",
    "print(f.user_id, f.user_data, f.time_stamp)"
   ]
  },
  {
   "cell_type": "code",
   "execution_count": null,
   "id": "85392430-faca-468b-9245-f76cd564eb10",
   "metadata": {},
   "outputs": [],
   "source": [
    "stmt = select(Userdata)\n",
    "results = session3.execute(stmt).fetchall()\n",
    "print(results)\n",
    "for x in results:\n",
    "    print(type(x))\n",
    "    # print(x.user_id, x.user_data, x.time_stamp)"
   ]
  },
  {
   "cell_type": "code",
   "execution_count": null,
   "id": "9f5fb645-16f7-4c45-b34c-76fc0ced9284",
   "metadata": {},
   "outputs": [],
   "source": [
    "stmt = select(Userdata)\n",
    "results = session3.execute(stmt).scalars()\n",
    "for x in results:\n",
    "    print(x.user_id, x.user_data, x.time_stamp)"
   ]
  },
  {
   "cell_type": "code",
   "execution_count": null,
   "id": "208b30cd-acbf-481c-8347-f446e09ebb6a",
   "metadata": {},
   "outputs": [],
   "source": [
    "session3.commit()"
   ]
  },
  {
   "cell_type": "code",
   "execution_count": null,
   "id": "bdd776ee-e6d8-4a8f-b63a-2cb8d1892cb1",
   "metadata": {},
   "outputs": [],
   "source": [
    "d1 = session3.execute(select(Userdata).where(Userdata.user_id==\"Flusher\")).scalar()\n",
    "d2 = session3.execute(select(Userdata).where(Userdata.user_id==\"Flusher3\")).scalar()\n",
    "d3 = session3.execute(select(Userdata).where(Userdata.user_id==\"Flusher6\")).scalar()\n",
    "session3.delete(d1)\n",
    "session3.delete(d2)\n",
    "session3.delete(d3)\n",
    "session3.commit()"
   ]
  },
  {
   "cell_type": "code",
   "execution_count": null,
   "id": "c2045914-c20a-41fa-9510-b5464bbe9799",
   "metadata": {},
   "outputs": [],
   "source": [
    "from sqlalchemy import select\n",
    "\n",
    "session = Session(engine)\n",
    "stmt = select(Userdata).where(Userdata.user_id == \"Brad\")\n",
    "brad = session.execute(stmt).scalar()\n",
    "brad.user_data = \"Changed2 data\"\n",
    "session.commit()"
   ]
  },
  {
   "cell_type": "code",
   "execution_count": null,
   "id": "387cde3b-5084-4080-9d7d-944f3d3e0a25",
   "metadata": {},
   "outputs": [],
   "source": [
    "from sqlalchemy import update\n",
    "\n",
    "session.execute(\n",
    "    update(Userdata)\n",
    "    .where(Userdata.user_id == \"Brad\")\n",
    "    .values(user_data=\"Changed again\")\n",
    ")"
   ]
  },
  {
   "cell_type": "code",
   "execution_count": null,
   "id": "218cd022-feec-4d2c-9760-ee60ba69883b",
   "metadata": {},
   "outputs": [],
   "source": [
    "session.commit()"
   ]
  },
  {
   "cell_type": "code",
   "execution_count": null,
   "id": "176a6685-be0a-4a04-8432-fd67d96ee655",
   "metadata": {},
   "outputs": [],
   "source": [
    "id = \"Brian\"\n",
    "brad = session.execute(\n",
    "    select(Userdata).where(Userdata.user_id == id)\n",
    "    ).scalar()\n",
    "if brad:\n",
    "    brad.user_data = \"More changes data\"\n",
    "    session.commit()\n",
    "else:\n",
    "    print(f\"User '{id}' does not exist\")\n",
    "session.close()"
   ]
  },
  {
   "cell_type": "code",
   "execution_count": null,
   "id": "9c18cb58-9dfe-45db-be81-82c306cd1f24",
   "metadata": {},
   "outputs": [],
   "source": [
    "id = \"Brad\"\n",
    "brad = session.execute(\n",
    "    select(Userdata).where(Userdata.user_id == id)\n",
    "    ).scalar()\n",
    "if brad:\n",
    "    session.execute(\n",
    "        update(Userdata)\n",
    "        .where(Userdata.user_id == id)\n",
    "        .values(user_data=\"Changed yet again\")\n",
    "    )\n",
    "    session.commit()\n",
    "else:\n",
    "    print(f\"User '{id}' does not exist\")\n",
    "session.close()"
   ]
  },
  {
   "cell_type": "code",
   "execution_count": null,
   "id": "aca06508-e879-4fa7-b7d3-96279c279aaa",
   "metadata": {},
   "outputs": [],
   "source": [
    "session.execute(update(Userdata).values(user_data=\"Changed again\"))\n",
    "session.commit()"
   ]
  },
  {
   "cell_type": "code",
   "execution_count": null,
   "id": "6f2bc07b-64d5-4660-8ba4-7a303d635c07",
   "metadata": {},
   "outputs": [],
   "source": [
    "change_list = [{\"user_id\": \"Brad\", \"user_data\": \"bulk 32 data for Brad\"},\n",
    "               {\"user_id\": \"Larry\", \"user_data\": \"Larry's85  bulk data\"}]\n",
    "\n",
    "session.execute(update(Userdata), change_list)\n",
    "session.commit()"
   ]
  },
  {
   "cell_type": "code",
   "execution_count": null,
   "id": "5c34101c-4077-41db-899b-f644fe9e97c9",
   "metadata": {},
   "outputs": [],
   "source": [
    "brad = session.execute(\n",
    "    select(Userdata).where(Userdata.user_id == \"Brad\")\n",
    "    ).scalar()\n",
    "\n",
    "session.delete(brad)\n",
    "session.commit()\n",
    "session.close()"
   ]
  },
  {
   "cell_type": "code",
   "execution_count": null,
   "id": "3f8fbab3-3322-4eee-a488-a92910026382",
   "metadata": {},
   "outputs": [],
   "source": [
    "from sqlalchemy import delete\n",
    "\n",
    "session.execute(delete(Userdata).where(Userdata.user_id == \"Larry\"))\n",
    "session.commit()\n",
    "session.close()"
   ]
  },
  {
   "cell_type": "code",
   "execution_count": null,
   "id": "1b33fd0b-5f1e-49fc-b19e-5700f0091e3b",
   "metadata": {},
   "outputs": [],
   "source": [
    "from sqlalchemy import insert\n",
    "\n",
    "add_list = [{\"user_id\": \"Barbra\", \"user_data\": \"Data for Barbra\"},\n",
    "            {\"user_id\": \"Jessa\", \"user_data\": \"Jessa's data\"}]\n",
    "\n",
    "session.execute(insert(Userdata), add_list)\n",
    "session.commit()\n"
   ]
  },
  {
   "cell_type": "code",
   "execution_count": null,
   "id": "db7d2bf9-b2c1-4319-b8a9-c547167edeb5",
   "metadata": {},
   "outputs": [],
   "source": [
    "from sqlalchemy import select\n",
    "from sqlalchemy.orm import Session\n",
    "\n",
    "session = Session(engine)\n",
    "stmt = select(Userdata)\n",
    "results = session.execute(stmt).scalars()\n",
    "for x in results:\n",
    "    print(x)"
   ]
  },
  {
   "cell_type": "markdown",
   "id": "e95fa8ee-82c3-47a9-b73f-634fa66f2557",
   "metadata": {},
   "source": [
    "End experiment with flush"
   ]
  },
  {
   "cell_type": "code",
   "execution_count": null,
   "id": "39940976-e2f0-4c9a-ab6d-8237657a4d47",
   "metadata": {},
   "outputs": [],
   "source": [
    "from sqlalchemy import select\n",
    "\n",
    "session = Session(engine)\n",
    "\n",
    "user = Userdata(user_id=\"Flusher\", user_data=\"Flushed?\")\n",
    "session.add(user)\n",
    "stmt = select(Userdata).execution_options(autoflush=False)\n",
    "results = session.execute(stmt).scalars()\n",
    "for x in results:\n",
    "    print(x.user_id, x.user_data, x.time_stamp)"
   ]
  },
  {
   "cell_type": "code",
   "execution_count": null,
   "id": "cd915ba5-7cf0-4e99-b950-a0f05217a8ec",
   "metadata": {},
   "outputs": [],
   "source": [
    "from sqlalchemy import select\n",
    "\n",
    "stmt = select(Userdata)\n",
    "results = session.execute(stmt).scalars()\n",
    "for x in results:\n",
    "    print(x.user_id)"
   ]
  },
  {
   "cell_type": "code",
   "execution_count": null,
   "id": "eee60a24-24d4-4e9d-bfe1-b2fe4377c7f7",
   "metadata": {},
   "outputs": [],
   "source": [
    "session.flush()"
   ]
  },
  {
   "cell_type": "code",
   "execution_count": null,
   "id": "3f13a741-960c-47cb-ad17-444de41d66bd",
   "metadata": {},
   "outputs": [],
   "source": [
    "stmt = select(Userdata).execution_options(autoflush=False)\n",
    "results = session.execute(stmt).fetchall()\n",
    "for x in results:\n",
    "    print(type(x[0]))"
   ]
  },
  {
   "cell_type": "code",
   "execution_count": null,
   "id": "95842ea7-269a-43b2-b858-163e94bf3fea",
   "metadata": {},
   "outputs": [],
   "source": [
    "stmt = select(Userdata).execution_options(autoflush=False)\n",
    "results = session.execute(stmt).scalars()\n",
    "for x in results:\n",
    "    print(x.user_data)"
   ]
  },
  {
   "cell_type": "code",
   "execution_count": null,
   "id": "a63b8140-0f4a-41f4-9132-1bff5214bb07",
   "metadata": {},
   "outputs": [],
   "source": [
    "stmt = select(Userdata.user_data, Userdata.time_stamp).where(Userdata.user_id==\"Brad\")\n",
    "results = session.execute(stmt).one()\n",
    "print(results)\n",
    "print(results.time_stamp)"
   ]
  },
  {
   "cell_type": "code",
   "execution_count": null,
   "id": "66787113-ebcf-4522-9a10-5629a002a4bb",
   "metadata": {},
   "outputs": [],
   "source": [
    "session.close()"
   ]
  },
  {
   "cell_type": "code",
   "execution_count": null,
   "id": "604b48d8-3d7d-4b9d-b385-11b3a51d35a4",
   "metadata": {},
   "outputs": [],
   "source": []
  }
 ],
 "metadata": {
  "kernelspec": {
   "display_name": "Python 3 (ipykernel)",
   "language": "python",
   "name": "python3"
  },
  "language_info": {
   "codemirror_mode": {
    "name": "ipython",
    "version": 3
   },
   "file_extension": ".py",
   "mimetype": "text/x-python",
   "name": "python",
   "nbconvert_exporter": "python",
   "pygments_lexer": "ipython3",
   "version": "3.11.6"
  }
 },
 "nbformat": 4,
 "nbformat_minor": 5
}
