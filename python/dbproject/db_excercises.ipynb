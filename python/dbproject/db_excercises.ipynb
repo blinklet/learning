{
 "cells": [
  {
   "cell_type": "code",
   "execution_count": 1,
   "id": "47b2b355-4847-4c65-98f0-dfa0f5991189",
   "metadata": {},
   "outputs": [],
   "source": [
    "from sqlalchemy import create_engine\n",
    "from sqlalchemy.orm import Session\n",
    "\n",
    "engine = create_engine(\"sqlite:///userdata.db\")"
   ]
  },
  {
   "cell_type": "code",
   "execution_count": 2,
   "id": "9fe02ab7-6dfb-4bae-a4e5-af98f27b91ea",
   "metadata": {},
   "outputs": [],
   "source": [
    "from sqlalchemy.orm import DeclarativeBase\n",
    "\n",
    "class Base(DeclarativeBase):\n",
    "    pass"
   ]
  },
  {
   "cell_type": "code",
   "execution_count": 3,
   "id": "9189f36e-a010-4758-8ef1-644f53d53fd9",
   "metadata": {},
   "outputs": [],
   "source": [
    "from sqlalchemy import String, DateTime\n",
    "from sqlalchemy.orm import mapped_column\n",
    "\n",
    "class Userdata(Base):\n",
    "    __tablename__ = \"userdata\"\n",
    "    user_id = mapped_column(String(32), primary_key=True, nullable=False)\n",
    "    user_data = mapped_column(String(640))\n",
    "    time_stamp = mapped_column(DateTime(timezone=True))"
   ]
  },
  {
   "cell_type": "markdown",
   "id": "2b147a7a-069e-43ce-90e8-b1ec7a273388",
   "metadata": {},
   "source": [
    "Database is created after the step below. See userdata.db file in folder"
   ]
  },
  {
   "cell_type": "code",
   "execution_count": 4,
   "id": "7d9bf4bc-f4d0-4c59-960f-f08df38d8066",
   "metadata": {},
   "outputs": [],
   "source": [
    "Base.metadata.create_all(engine)"
   ]
  },
  {
   "cell_type": "markdown",
   "id": "953362ff-2693-411d-a57d-77deb85774d5",
   "metadata": {},
   "source": [
    "In section below, need to manually commit and close session"
   ]
  },
  {
   "cell_type": "code",
   "execution_count": 6,
   "id": "dd8ef85c-e9e3-43a4-80ad-38795a8b73b1",
   "metadata": {},
   "outputs": [],
   "source": [
    "from datetime import datetime\n",
    "\n",
    "session = Session(engine)\n",
    "user = Userdata(user_id=\"Brad\", user_data=\"Data from brad\", time_stamp=datetime.now())\n",
    "session.add(user)\n",
    "user = Userdata(user_id=\"Larry\", user_data=\"More data\", time_stamp=datetime.now())\n",
    "session.add(user)\n",
    "user = Userdata(user_id=\"Jane\", user_data=\"Even more data\", time_stamp=datetime.now())\n",
    "session.add(user)\n",
    "session.commit()\n",
    "session.close()"
   ]
  },
  {
   "cell_type": "markdown",
   "id": "fd1303e9-3400-40d7-ade9-b26c7c5107eb",
   "metadata": {},
   "source": [
    "if you just use Session class, conext manager does not automatically write data to DB at end of block, or rollback if error. need to call *session.commit()* before end of block\n"
   ]
  },
  {
   "cell_type": "code",
   "execution_count": 7,
   "id": "1bd52c68-946c-4b7e-9ab4-63083aab06e0",
   "metadata": {},
   "outputs": [],
   "source": [
    "with Session(engine) as session:\n",
    "    user = Userdata(user_id=\"Allan\", user_data=\"Data from Allan\", time_stamp=datetime.now())\n",
    "    session.add(user)\n",
    "    user = Userdata(user_id=\"Chad\", user_data=\"More Chad data\", time_stamp=datetime.now())\n",
    "    session.add(user)\n",
    "    user = Userdata(user_id=\"Mary\", user_data=\"Even more Mary data\", time_stamp=datetime.now())\n",
    "    session.add(user)\n",
    "    session.commit()\n"
   ]
  },
  {
   "cell_type": "markdown",
   "id": "4eb04f4c-4d46-4c02-b7aa-8d0000dd2c90",
   "metadata": {},
   "source": [
    "In the section below, the sessiomaker's *begin* method creates a context manager that will run purge() and commit() at the end of the block so they do not need to be explixitly called using *session.commit()*. Also takes care of rollback if write fails. See https://docs.sqlalchemy.org/en/14/orm/session_basics.html#getting-a-session for more ways to do this"
   ]
  },
  {
   "cell_type": "code",
   "execution_count": 8,
   "id": "8081a146-dd6a-4b6a-8793-4a60be1f5161",
   "metadata": {},
   "outputs": [],
   "source": [
    "from sqlalchemy.orm import sessionmaker\n",
    "\n",
    "Session2 = sessionmaker(engine)\n",
    "\n",
    "with Session2.begin() as session:\n",
    "    user1 = Userdata(user_id=\"xx\", user_data=\"Data from Phil\", time_stamp=datetime.now())\n",
    "    user2 = Userdata(user_id=\"yy\", user_data=\"More Karen data\", time_stamp=datetime.now())\n",
    "    user3 = Userdata(user_id=\"ss\", user_data=\"Gary data\", time_stamp=datetime.now())\n",
    "    session.add_all([user1, user2, user3])"
   ]
  },
  {
   "cell_type": "code",
   "execution_count": 19,
   "id": "cd915ba5-7cf0-4e99-b950-a0f05217a8ec",
   "metadata": {},
   "outputs": [
    {
     "name": "stdout",
     "output_type": "stream",
     "text": [
      "Brad\n",
      "Larry\n",
      "Jane\n"
     ]
    }
   ],
   "source": [
    "from sqlalchemy import select\n",
    "\n",
    "stmt = select(Userdata)\n",
    "results = session.execute(stmt).scalars()\n",
    "for x in results:\n",
    "    print(x.user_id)"
   ]
  },
  {
   "cell_type": "code",
   "execution_count": 20,
   "id": "39940976-e2f0-4c9a-ab6d-8237657a4d47",
   "metadata": {},
   "outputs": [
    {
     "name": "stdout",
     "output_type": "stream",
     "text": [
      "Brad\n",
      "Larry\n",
      "Jane\n"
     ]
    }
   ],
   "source": [
    "user = Userdata(user_id=\"Flusher\", user_data=\"Flushed?\", time_stamp=datetime.now())\n",
    "session.add(user)\n",
    "stmt = select(Userdata).execution_options(autoflush=False)\n",
    "results = session.execute(stmt).scalars()\n",
    "for x in results:\n",
    "    print(x.user_id)"
   ]
  },
  {
   "cell_type": "code",
   "execution_count": 21,
   "id": "eee60a24-24d4-4e9d-bfe1-b2fe4377c7f7",
   "metadata": {},
   "outputs": [],
   "source": [
    "session.flush()"
   ]
  },
  {
   "cell_type": "code",
   "execution_count": 66,
   "id": "3f13a741-960c-47cb-ad17-444de41d66bd",
   "metadata": {},
   "outputs": [],
   "source": [
    "stmt = select(Userdata).execution_options(autoflush=False)\n",
    "results = session.execute(stmt).fetchall()\n",
    "for x in results:\n",
    "    print(type(x[0]))"
   ]
  },
  {
   "cell_type": "code",
   "execution_count": 49,
   "id": "95842ea7-269a-43b2-b858-163e94bf3fea",
   "metadata": {},
   "outputs": [
    {
     "name": "stdout",
     "output_type": "stream",
     "text": [
      "Changed\n",
      "Changed\n",
      "Changed\n",
      "Changed\n"
     ]
    }
   ],
   "source": [
    "stmt = select(Userdata).execution_options(autoflush=False)\n",
    "results = session.execute(stmt).scalars()\n",
    "for x in results:\n",
    "    print(x.user_data)"
   ]
  },
  {
   "cell_type": "code",
   "execution_count": 58,
   "id": "a63b8140-0f4a-41f4-9132-1bff5214bb07",
   "metadata": {},
   "outputs": [
    {
     "name": "stdout",
     "output_type": "stream",
     "text": [
      "('Changed', datetime.datetime(2023, 10, 16, 11, 2, 2, 423735))\n",
      "2023-10-16 11:02:02.423735\n"
     ]
    }
   ],
   "source": [
    "stmt = select(Userdata.user_data, Userdata.time_stamp).where(Userdata.user_id==\"Brad\")\n",
    "results = session.execute(stmt).one()\n",
    "print(results)\n",
    "print(results.time_stamp)"
   ]
  },
  {
   "cell_type": "code",
   "execution_count": 69,
   "id": "66787113-ebcf-4522-9a10-5629a002a4bb",
   "metadata": {},
   "outputs": [],
   "source": [
    "session.close()"
   ]
  },
  {
   "cell_type": "code",
   "execution_count": null,
   "id": "604b48d8-3d7d-4b9d-b385-11b3a51d35a4",
   "metadata": {},
   "outputs": [],
   "source": []
  }
 ],
 "metadata": {
  "kernelspec": {
   "display_name": "Python 3 (ipykernel)",
   "language": "python",
   "name": "python3"
  },
  "language_info": {
   "codemirror_mode": {
    "name": "ipython",
    "version": 3
   },
   "file_extension": ".py",
   "mimetype": "text/x-python",
   "name": "python",
   "nbconvert_exporter": "python",
   "pygments_lexer": "ipython3",
   "version": "3.11.6"
  }
 },
 "nbformat": 4,
 "nbformat_minor": 5
}
