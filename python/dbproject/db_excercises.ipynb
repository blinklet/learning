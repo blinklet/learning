{
 "cells": [
  {
   "cell_type": "code",
   "execution_count": 1,
   "id": "47b2b355-4847-4c65-98f0-dfa0f5991189",
   "metadata": {},
   "outputs": [],
   "source": [
    "from sqlalchemy import create_engine\n",
    "from sqlalchemy.orm import Session\n",
    "\n",
    "engine = create_engine(\"sqlite:///userdata.db\", echo=True)"
   ]
  },
  {
   "cell_type": "code",
   "execution_count": 2,
   "id": "9fe02ab7-6dfb-4bae-a4e5-af98f27b91ea",
   "metadata": {},
   "outputs": [],
   "source": [
    "from sqlalchemy.orm import DeclarativeBase\n",
    "\n",
    "class Base(DeclarativeBase):\n",
    "    pass"
   ]
  },
  {
   "cell_type": "code",
   "execution_count": 3,
   "id": "16e993ee-bcb8-4797-bd3e-d45d15a1e687",
   "metadata": {},
   "outputs": [],
   "source": [
    "from sqlalchemy import String, DateTime, func\n",
    "from sqlalchemy.orm import mapped_column\n",
    "\n",
    "class Userdata(Base):\n",
    "    __tablename__ = \"userdata\"\n",
    "    user_id = mapped_column(String(32), primary_key=True, nullable=False)\n",
    "    user_data = mapped_column(String(640))\n",
    "    time_stamp = mapped_column(DateTime(timezone=True), server_default=func.now(), onupdate=func.now())"
   ]
  },
  {
   "cell_type": "code",
   "execution_count": null,
   "id": "9189f36e-a010-4758-8ef1-644f53d53fd9",
   "metadata": {},
   "outputs": [],
   "source": [
    "from sqlalchemy import String, DateTime\n",
    "from sqlalchemy.orm import mapped_column\n",
    "\n",
    "class Userdata(Base):\n",
    "    __tablename__ = \"userdata\"\n",
    "    user_id = mapped_column(String(32), primary_key=True, nullable=False)\n",
    "    user_data = mapped_column(String(640))\n",
    "    time_stamp = mapped_column(DateTime(timezone=True))"
   ]
  },
  {
   "cell_type": "code",
   "execution_count": null,
   "id": "19bbddc5-7295-4483-a2f9-a196fb82cbb6",
   "metadata": {},
   "outputs": [],
   "source": [
    "print(Base.metadata.tables)"
   ]
  },
  {
   "cell_type": "code",
   "execution_count": null,
   "id": "49332278-e074-4f5e-b2d5-9cdf98b0e518",
   "metadata": {},
   "outputs": [],
   "source": [
    "print(Userdata)"
   ]
  },
  {
   "cell_type": "markdown",
   "id": "2b147a7a-069e-43ce-90e8-b1ec7a273388",
   "metadata": {},
   "source": [
    "Database is created after the step below. See userdata.db file in folder"
   ]
  },
  {
   "cell_type": "code",
   "execution_count": 4,
   "id": "7d9bf4bc-f4d0-4c59-960f-f08df38d8066",
   "metadata": {},
   "outputs": [
    {
     "name": "stdout",
     "output_type": "stream",
     "text": [
      "2023-10-19 08:44:33,425 INFO sqlalchemy.engine.Engine BEGIN (implicit)\n",
      "2023-10-19 08:44:33,429 INFO sqlalchemy.engine.Engine PRAGMA main.table_info(\"userdata\")\n",
      "2023-10-19 08:44:33,430 INFO sqlalchemy.engine.Engine [raw sql] ()\n",
      "2023-10-19 08:44:33,432 INFO sqlalchemy.engine.Engine PRAGMA temp.table_info(\"userdata\")\n",
      "2023-10-19 08:44:33,433 INFO sqlalchemy.engine.Engine [raw sql] ()\n",
      "2023-10-19 08:44:33,433 INFO sqlalchemy.engine.Engine \n",
      "CREATE TABLE userdata (\n",
      "\tuser_id VARCHAR(32) NOT NULL, \n",
      "\tuser_data VARCHAR(640), \n",
      "\ttime_stamp DATETIME DEFAULT (CURRENT_TIMESTAMP), \n",
      "\tPRIMARY KEY (user_id)\n",
      ")\n",
      "\n",
      "\n",
      "2023-10-19 08:44:33,436 INFO sqlalchemy.engine.Engine [no key 0.00160s] ()\n",
      "2023-10-19 08:44:33,445 INFO sqlalchemy.engine.Engine COMMIT\n"
     ]
    }
   ],
   "source": [
    "Base.metadata.create_all(engine)"
   ]
  },
  {
   "cell_type": "markdown",
   "id": "953362ff-2693-411d-a57d-77deb85774d5",
   "metadata": {},
   "source": [
    "In section below, need to manually commit and close session"
   ]
  },
  {
   "cell_type": "code",
   "execution_count": 5,
   "id": "e568d2c2-1755-44e5-9c88-9aac93650f8b",
   "metadata": {},
   "outputs": [
    {
     "name": "stdout",
     "output_type": "stream",
     "text": [
      "2023-10-19 08:44:53,170 INFO sqlalchemy.engine.Engine BEGIN (implicit)\n",
      "2023-10-19 08:44:53,173 INFO sqlalchemy.engine.Engine INSERT INTO userdata (user_id, user_data) VALUES (?, ?), (?, ?), (?, ?) RETURNING time_stamp, user_id\n",
      "2023-10-19 08:44:53,174 INFO sqlalchemy.engine.Engine [generated in 0.00015s (insertmanyvalues) 1/1 (ordered)] ('Brad', 'Data from brad', 'Larry', 'More data', 'Jane', 'Even more data')\n",
      "2023-10-19 08:44:53,179 INFO sqlalchemy.engine.Engine COMMIT\n"
     ]
    }
   ],
   "source": [
    "from datetime import datetime\n",
    "\n",
    "session = Session(engine)\n",
    "user = Userdata(user_id=\"Brad\", user_data=\"Data from brad\")\n",
    "session.add(user)\n",
    "user = Userdata(user_id=\"Larry\", user_data=\"More data\")\n",
    "session.add(user)\n",
    "user = Userdata(user_id=\"Jane\", user_data=\"Even more data\")\n",
    "session.add(user)\n",
    "session.commit()\n",
    "session.close()"
   ]
  },
  {
   "cell_type": "code",
   "execution_count": null,
   "id": "92b9f67f-2ed6-42ee-ba12-b967625e1088",
   "metadata": {},
   "outputs": [],
   "source": [
    "from sqlalchemy import update\n",
    "\n",
    "def db_update(session, id, data):\n",
    "    stmt = (update(Userdata)\n",
    "            .where(Userdata.user_id == id)\n",
    "            .values(user_data=data))\n",
    "    session.execute(stmt)"
   ]
  },
  {
   "cell_type": "code",
   "execution_count": null,
   "id": "a3aadbbc-7983-4540-b6fe-6962279d5418",
   "metadata": {},
   "outputs": [],
   "source": [
    "db_update(session, \"Brad\", \"New New New Bradley\")\n",
    "user = Userdata(user_id=\"Sally\", user_data=\"Sally data\")\n",
    "session.add(user)\n",
    "session.commit()"
   ]
  },
  {
   "cell_type": "code",
   "execution_count": null,
   "id": "dd8ef85c-e9e3-43a4-80ad-38795a8b73b1",
   "metadata": {},
   "outputs": [],
   "source": [
    "from datetime import datetime\n",
    "\n",
    "session = Session(engine)\n",
    "user = Userdata(user_id=\"Brad\", user_data=\"Data from brad\", time_stamp=datetime.now())\n",
    "session.add(user)\n",
    "user = Userdata(user_id=\"Larry\", user_data=\"More data\", time_stamp=datetime.now())\n",
    "session.add(user)\n",
    "user = Userdata(user_id=\"Jane\", user_data=\"Even more data\", time_stamp=datetime.now())\n",
    "session.add(user)\n",
    "session.commit()\n",
    "session.close()"
   ]
  },
  {
   "cell_type": "markdown",
   "id": "fd1303e9-3400-40d7-ade9-b26c7c5107eb",
   "metadata": {},
   "source": [
    "if you just use Session class, conext manager does not automatically write data to DB at end of block, or rollback if error. need to call *session.commit()* before end of block\n"
   ]
  },
  {
   "cell_type": "code",
   "execution_count": null,
   "id": "1bd52c68-946c-4b7e-9ab4-63083aab06e0",
   "metadata": {},
   "outputs": [],
   "source": [
    "with Session(engine) as session:\n",
    "    user = Userdata(user_id=\"Allan\", user_data=\"Data from Allan\", time_stamp=datetime.now())\n",
    "    session.add(user)\n",
    "    user = Userdata(user_id=\"Chad\", user_data=\"More Chad data\", time_stamp=datetime.now())\n",
    "    session.add(user)\n",
    "    user = Userdata(user_id=\"Mary\", user_data=\"Even more Mary data\", time_stamp=datetime.now())\n",
    "    session.add(user)\n",
    "    session.commit()\n"
   ]
  },
  {
   "cell_type": "markdown",
   "id": "4eb04f4c-4d46-4c02-b7aa-8d0000dd2c90",
   "metadata": {},
   "source": [
    "In the section below, the sessiomaker's *begin* method creates a context manager that will run purge() and commit() at the end of the block so they do not need to be explixitly called using *session.commit()*. Also takes care of rollback if write fails. See https://docs.sqlalchemy.org/en/14/orm/session_basics.html#getting-a-session for more ways to do this"
   ]
  },
  {
   "cell_type": "code",
   "execution_count": null,
   "id": "8081a146-dd6a-4b6a-8793-4a60be1f5161",
   "metadata": {},
   "outputs": [],
   "source": [
    "from sqlalchemy.orm import sessionmaker\n",
    "\n",
    "Session2 = sessionmaker(engine)\n",
    "\n",
    "with Session2.begin() as session:\n",
    "    user1 = Userdata(user_id=\"xx\", user_data=\"Data from Phil\", time_stamp=datetime.now())\n",
    "    user2 = Userdata(user_id=\"yy\", user_data=\"More Karen data\", time_stamp=datetime.now())\n",
    "    user3 = Userdata(user_id=\"ss\", user_data=\"Gary data\", time_stamp=datetime.now())\n",
    "    session.add_all([user1, user2, user3])"
   ]
  },
  {
   "cell_type": "markdown",
   "id": "f4e96f9b-852f-4906-bbee-b6eb5f77e966",
   "metadata": {},
   "source": [
    "experiment with flush"
   ]
  },
  {
   "cell_type": "code",
   "execution_count": 43,
   "id": "b0fab537-012f-411e-8378-53df2e3813a3",
   "metadata": {},
   "outputs": [
    {
     "name": "stdout",
     "output_type": "stream",
     "text": [
      "2023-10-19 09:13:49,643 INFO sqlalchemy.engine.Engine ROLLBACK\n"
     ]
    }
   ],
   "source": [
    "session3.close()\n",
    "from sqlalchemy import select\n",
    "\n",
    "session3 = Session(engine)\n",
    "session3.autoflush=False\n",
    "\n",
    "user = Userdata(user_id=\"Flusher6\", user_data=\"Flushed6\")\n",
    "session3.add(user)\n"
   ]
  },
  {
   "cell_type": "code",
   "execution_count": 47,
   "id": "0261dec1-d251-4644-9e07-050a3b4d8eb5",
   "metadata": {},
   "outputs": [
    {
     "name": "stdout",
     "output_type": "stream",
     "text": [
      "2023-10-19 09:21:16,186 INFO sqlalchemy.engine.Engine INSERT INTO userdata (user_id, user_data) VALUES (?, ?) RETURNING time_stamp\n",
      "2023-10-19 09:21:16,188 INFO sqlalchemy.engine.Engine [cached since 2122s ago] ('Flusher6', 'Flushed6')\n",
      "2023-10-19 09:21:16,195 INFO sqlalchemy.engine.Engine SELECT userdata.user_id AS userdata_user_id, userdata.user_data AS userdata_user_data, userdata.time_stamp AS userdata_time_stamp \n",
      "FROM userdata \n",
      "WHERE userdata.user_id = ?\n",
      "2023-10-19 09:21:16,196 INFO sqlalchemy.engine.Engine [cached since 535.6s ago] ('Flusher6',)\n"
     ]
    }
   ],
   "source": [
    "session3.autoflush=True\n",
    "f = session3.get(Userdata, \"Flusher6\")"
   ]
  },
  {
   "cell_type": "code",
   "execution_count": 49,
   "id": "af1a79fe-7856-4220-b573-f85a35110787",
   "metadata": {},
   "outputs": [
    {
     "name": "stdout",
     "output_type": "stream",
     "text": [
      "<__main__.Userdata object at 0x000002075A226750>\n",
      "Flusher6 Flushed6 2023-10-19 13:21:16\n"
     ]
    }
   ],
   "source": [
    "print(f)\n",
    "print(f.user_id, f.user_data, f.time_stamp)"
   ]
  },
  {
   "cell_type": "code",
   "execution_count": 36,
   "id": "85392430-faca-468b-9245-f76cd564eb10",
   "metadata": {},
   "outputs": [
    {
     "name": "stdout",
     "output_type": "stream",
     "text": [
      "2023-10-19 09:06:53,609 INFO sqlalchemy.engine.Engine SELECT userdata.user_id, userdata.user_data, userdata.time_stamp \n",
      "FROM userdata\n",
      "2023-10-19 09:06:53,610 INFO sqlalchemy.engine.Engine [cached since 972.2s ago] ()\n",
      "[(<__main__.Userdata object at 0x000002075A1C8C10>,), (<__main__.Userdata object at 0x000002075A1D1610>,), (<__main__.Userdata object at 0x000002075A1D3210>,), (<__main__.Userdata object at 0x000002075A1D2490>,), (<__main__.Userdata object at 0x000002075A1D0E50>,), (<__main__.Userdata object at 0x000002075A0E2550>,)]\n",
      "<class 'sqlalchemy.engine.row.Row'>\n",
      "<class 'sqlalchemy.engine.row.Row'>\n",
      "<class 'sqlalchemy.engine.row.Row'>\n",
      "<class 'sqlalchemy.engine.row.Row'>\n",
      "<class 'sqlalchemy.engine.row.Row'>\n",
      "<class 'sqlalchemy.engine.row.Row'>\n"
     ]
    }
   ],
   "source": [
    "stmt = select(Userdata)\n",
    "results = session3.execute(stmt).fetchall()\n",
    "print(results)\n",
    "for x in results:\n",
    "    print(type(x))\n",
    "    # print(x.user_id, x.user_data, x.time_stamp)"
   ]
  },
  {
   "cell_type": "code",
   "execution_count": 54,
   "id": "9f5fb645-16f7-4c45-b34c-76fc0ced9284",
   "metadata": {},
   "outputs": [
    {
     "name": "stdout",
     "output_type": "stream",
     "text": [
      "2023-10-19 11:44:33,915 INFO sqlalchemy.engine.Engine SELECT userdata.user_id, userdata.user_data, userdata.time_stamp \n",
      "FROM userdata\n",
      "2023-10-19 11:44:33,916 INFO sqlalchemy.engine.Engine [cached since 9690s ago] ()\n",
      "Brad Data from brad 2023-10-19 12:44:53\n",
      "Larry More data 2023-10-19 12:44:53\n",
      "Jane Even more data 2023-10-19 12:44:53\n",
      "Flusher Flushed? 2023-10-19 12:45:54\n",
      "Flusher3 Flushed33 2023-10-19 12:53:46\n",
      "Flusher6 Flushed6 2023-10-19 13:21:16\n"
     ]
    }
   ],
   "source": [
    "stmt = select(Userdata)\n",
    "results = session3.execute(stmt).scalars()\n",
    "for x in results:\n",
    "    print(x.user_id, x.user_data, x.time_stamp)"
   ]
  },
  {
   "cell_type": "code",
   "execution_count": 55,
   "id": "208b30cd-acbf-481c-8347-f446e09ebb6a",
   "metadata": {},
   "outputs": [
    {
     "name": "stdout",
     "output_type": "stream",
     "text": [
      "2023-10-19 11:53:43,330 INFO sqlalchemy.engine.Engine COMMIT\n"
     ]
    }
   ],
   "source": [
    "session3.commit()"
   ]
  },
  {
   "cell_type": "code",
   "execution_count": 61,
   "id": "bdd776ee-e6d8-4a8f-b63a-2cb8d1892cb1",
   "metadata": {},
   "outputs": [
    {
     "name": "stdout",
     "output_type": "stream",
     "text": [
      "2023-10-19 11:59:21,140 INFO sqlalchemy.engine.Engine BEGIN (implicit)\n",
      "2023-10-19 11:59:21,142 INFO sqlalchemy.engine.Engine SELECT userdata.user_id, userdata.user_data, userdata.time_stamp \n",
      "FROM userdata \n",
      "WHERE userdata.user_id = ?\n",
      "2023-10-19 11:59:21,143 INFO sqlalchemy.engine.Engine [generated in 0.00107s] ('Flusher',)\n",
      "2023-10-19 11:59:21,145 INFO sqlalchemy.engine.Engine SELECT userdata.user_id, userdata.user_data, userdata.time_stamp \n",
      "FROM userdata \n",
      "WHERE userdata.user_id = ?\n",
      "2023-10-19 11:59:21,146 INFO sqlalchemy.engine.Engine [cached since 0.004878s ago] ('Flusher3',)\n",
      "2023-10-19 11:59:21,148 INFO sqlalchemy.engine.Engine SELECT userdata.user_id, userdata.user_data, userdata.time_stamp \n",
      "FROM userdata \n",
      "WHERE userdata.user_id = ?\n",
      "2023-10-19 11:59:21,149 INFO sqlalchemy.engine.Engine [cached since 0.008344s ago] ('Flusher6',)\n",
      "2023-10-19 11:59:21,154 INFO sqlalchemy.engine.Engine DELETE FROM userdata WHERE userdata.user_id = ?\n",
      "2023-10-19 11:59:21,155 INFO sqlalchemy.engine.Engine [generated in 0.00130s] [('Flusher',), ('Flusher3',), ('Flusher6',)]\n",
      "2023-10-19 11:59:21,159 INFO sqlalchemy.engine.Engine COMMIT\n"
     ]
    }
   ],
   "source": [
    "d1 = session3.execute(select(Userdata).where(Userdata.user_id==\"Flusher\")).scalar()\n",
    "d2 = session3.execute(select(Userdata).where(Userdata.user_id==\"Flusher3\")).scalar()\n",
    "d3 = session3.execute(select(Userdata).where(Userdata.user_id==\"Flusher6\")).scalar()\n",
    "session3.delete(d1)\n",
    "session3.delete(d2)\n",
    "session3.delete(d3)\n",
    "session3.commit()"
   ]
  },
  {
   "cell_type": "code",
   "execution_count": 62,
   "id": "c2045914-c20a-41fa-9510-b5464bbe9799",
   "metadata": {},
   "outputs": [
    {
     "name": "stdout",
     "output_type": "stream",
     "text": [
      "2023-10-19 13:13:54,847 INFO sqlalchemy.engine.Engine BEGIN (implicit)\n",
      "2023-10-19 13:13:54,849 INFO sqlalchemy.engine.Engine SELECT userdata.user_id, userdata.user_data, userdata.time_stamp \n",
      "FROM userdata \n",
      "WHERE userdata.user_id = ?\n",
      "2023-10-19 13:13:54,850 INFO sqlalchemy.engine.Engine [cached since 4474s ago] ('Brad',)\n",
      "2023-10-19 13:13:54,853 INFO sqlalchemy.engine.Engine UPDATE userdata SET user_data=?, time_stamp=CURRENT_TIMESTAMP WHERE userdata.user_id = ?\n",
      "2023-10-19 13:13:54,854 INFO sqlalchemy.engine.Engine [generated in 0.00146s] ('Changed data', 'Brad')\n",
      "2023-10-19 13:13:54,857 INFO sqlalchemy.engine.Engine COMMIT\n"
     ]
    }
   ],
   "source": [
    "stmt = select(Userdata).where(Userdata.user_id == \"Brad\")\n",
    "brad = session.execute(stmt).scalar()\n",
    "brad.user_data = \"Changed data\"\n",
    "session.commit()"
   ]
  },
  {
   "cell_type": "code",
   "execution_count": 64,
   "id": "387cde3b-5084-4080-9d7d-944f3d3e0a25",
   "metadata": {},
   "outputs": [
    {
     "name": "stdout",
     "output_type": "stream",
     "text": [
      "2023-10-19 13:30:45,450 INFO sqlalchemy.engine.Engine BEGIN (implicit)\n",
      "2023-10-19 13:30:45,452 INFO sqlalchemy.engine.Engine UPDATE userdata SET user_data=?, time_stamp=CURRENT_TIMESTAMP WHERE userdata.user_id = ?\n",
      "2023-10-19 13:30:45,452 INFO sqlalchemy.engine.Engine [generated in 0.00078s] ('Changed again', 'Brad')\n"
     ]
    },
    {
     "data": {
      "text/plain": [
       "<sqlalchemy.engine.cursor.CursorResult at 0x2075a3f4600>"
      ]
     },
     "execution_count": 64,
     "metadata": {},
     "output_type": "execute_result"
    }
   ],
   "source": [
    "from sqlalchemy import update\n",
    "\n",
    "session.execute(\n",
    "    update(Userdata)\n",
    "    .where(Userdata.user_id == \"Brad\")\n",
    "    .values(user_data=\"Changed again\")\n",
    ")"
   ]
  },
  {
   "cell_type": "code",
   "execution_count": 65,
   "id": "218cd022-feec-4d2c-9760-ee60ba69883b",
   "metadata": {},
   "outputs": [
    {
     "name": "stdout",
     "output_type": "stream",
     "text": [
      "2023-10-19 13:31:19,962 INFO sqlalchemy.engine.Engine COMMIT\n"
     ]
    }
   ],
   "source": [
    "session.commit()"
   ]
  },
  {
   "cell_type": "code",
   "execution_count": 68,
   "id": "176a6685-be0a-4a04-8432-fd67d96ee655",
   "metadata": {},
   "outputs": [
    {
     "name": "stdout",
     "output_type": "stream",
     "text": [
      "2023-10-19 13:37:22,353 INFO sqlalchemy.engine.Engine BEGIN (implicit)\n",
      "2023-10-19 13:37:22,355 INFO sqlalchemy.engine.Engine SELECT userdata.user_id, userdata.user_data, userdata.time_stamp \n",
      "FROM userdata \n",
      "WHERE userdata.user_id = ?\n",
      "2023-10-19 13:37:22,356 INFO sqlalchemy.engine.Engine [cached since 5881s ago] ('Brian',)\n",
      "User 'Brian' does not exist\n",
      "2023-10-19 13:37:22,358 INFO sqlalchemy.engine.Engine ROLLBACK\n"
     ]
    }
   ],
   "source": [
    "id = \"Brian\"\n",
    "brad = session.execute(\n",
    "    select(Userdata).where(Userdata.user_id == id)\n",
    "    ).scalar()\n",
    "if brad:\n",
    "    brad.user_data = \"More changes data\"\n",
    "    session.commit()\n",
    "else:\n",
    "    print(f\"User '{id}' does not exist\")\n",
    "session.close()"
   ]
  },
  {
   "cell_type": "code",
   "execution_count": 71,
   "id": "9c18cb58-9dfe-45db-be81-82c306cd1f24",
   "metadata": {},
   "outputs": [
    {
     "name": "stdout",
     "output_type": "stream",
     "text": [
      "2023-10-19 13:50:59,384 INFO sqlalchemy.engine.Engine BEGIN (implicit)\n",
      "2023-10-19 13:50:59,384 INFO sqlalchemy.engine.Engine SELECT userdata.user_id, userdata.user_data, userdata.time_stamp \n",
      "FROM userdata \n",
      "WHERE userdata.user_id = ?\n",
      "2023-10-19 13:50:59,385 INFO sqlalchemy.engine.Engine [cached since 6698s ago] ('Brad',)\n",
      "2023-10-19 13:50:59,386 INFO sqlalchemy.engine.Engine UPDATE userdata SET user_data=?, time_stamp=CURRENT_TIMESTAMP WHERE userdata.user_id = ?\n",
      "2023-10-19 13:50:59,388 INFO sqlalchemy.engine.Engine [cached since 1214s ago] ('Changed yet again', 'Brad')\n",
      "2023-10-19 13:50:59,391 INFO sqlalchemy.engine.Engine COMMIT\n"
     ]
    }
   ],
   "source": [
    "id = \"Brad\"\n",
    "brad = session.execute(\n",
    "    select(Userdata).where(Userdata.user_id == id)\n",
    "    ).scalar()\n",
    "if brad:\n",
    "    session.execute(\n",
    "        update(Userdata)\n",
    "        .where(Userdata.user_id == id)\n",
    "        .values(user_data=\"Changed yet again\")\n",
    "    )\n",
    "    session.commit()\n",
    "else:\n",
    "    print(f\"User '{id}' does not exist\")\n",
    "session.close()"
   ]
  },
  {
   "cell_type": "markdown",
   "id": "e95fa8ee-82c3-47a9-b73f-634fa66f2557",
   "metadata": {},
   "source": [
    "End experiment with flush"
   ]
  },
  {
   "cell_type": "code",
   "execution_count": null,
   "id": "39940976-e2f0-4c9a-ab6d-8237657a4d47",
   "metadata": {},
   "outputs": [],
   "source": [
    "from sqlalchemy import select\n",
    "\n",
    "session = Session(engine)\n",
    "\n",
    "user = Userdata(user_id=\"Flusher\", user_data=\"Flushed?\")\n",
    "session.add(user)\n",
    "stmt = select(Userdata).execution_options(autoflush=False)\n",
    "results = session.execute(stmt).scalars()\n",
    "for x in results:\n",
    "    print(x.user_id, x.user_data, x.time_stamp)"
   ]
  },
  {
   "cell_type": "code",
   "execution_count": null,
   "id": "cd915ba5-7cf0-4e99-b950-a0f05217a8ec",
   "metadata": {},
   "outputs": [],
   "source": [
    "from sqlalchemy import select\n",
    "\n",
    "stmt = select(Userdata)\n",
    "results = session.execute(stmt).scalars()\n",
    "for x in results:\n",
    "    print(x.user_id)"
   ]
  },
  {
   "cell_type": "code",
   "execution_count": null,
   "id": "eee60a24-24d4-4e9d-bfe1-b2fe4377c7f7",
   "metadata": {},
   "outputs": [],
   "source": [
    "session.flush()"
   ]
  },
  {
   "cell_type": "code",
   "execution_count": null,
   "id": "3f13a741-960c-47cb-ad17-444de41d66bd",
   "metadata": {},
   "outputs": [],
   "source": [
    "stmt = select(Userdata).execution_options(autoflush=False)\n",
    "results = session.execute(stmt).fetchall()\n",
    "for x in results:\n",
    "    print(type(x[0]))"
   ]
  },
  {
   "cell_type": "code",
   "execution_count": null,
   "id": "95842ea7-269a-43b2-b858-163e94bf3fea",
   "metadata": {},
   "outputs": [],
   "source": [
    "stmt = select(Userdata).execution_options(autoflush=False)\n",
    "results = session.execute(stmt).scalars()\n",
    "for x in results:\n",
    "    print(x.user_data)"
   ]
  },
  {
   "cell_type": "code",
   "execution_count": null,
   "id": "a63b8140-0f4a-41f4-9132-1bff5214bb07",
   "metadata": {},
   "outputs": [],
   "source": [
    "stmt = select(Userdata.user_data, Userdata.time_stamp).where(Userdata.user_id==\"Brad\")\n",
    "results = session.execute(stmt).one()\n",
    "print(results)\n",
    "print(results.time_stamp)"
   ]
  },
  {
   "cell_type": "code",
   "execution_count": null,
   "id": "66787113-ebcf-4522-9a10-5629a002a4bb",
   "metadata": {},
   "outputs": [],
   "source": [
    "session.close()"
   ]
  },
  {
   "cell_type": "code",
   "execution_count": null,
   "id": "604b48d8-3d7d-4b9d-b385-11b3a51d35a4",
   "metadata": {},
   "outputs": [],
   "source": []
  }
 ],
 "metadata": {
  "kernelspec": {
   "display_name": "Python 3 (ipykernel)",
   "language": "python",
   "name": "python3"
  },
  "language_info": {
   "codemirror_mode": {
    "name": "ipython",
    "version": 3
   },
   "file_extension": ".py",
   "mimetype": "text/x-python",
   "name": "python",
   "nbconvert_exporter": "python",
   "pygments_lexer": "ipython3",
   "version": "3.11.6"
  }
 },
 "nbformat": 4,
 "nbformat_minor": 5
}
