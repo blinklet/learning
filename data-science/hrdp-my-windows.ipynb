{
 "cells": [
  {
   "cell_type": "markdown",
   "id": "1860c078",
   "metadata": {},
   "source": [
    "# Basic *pyodbc* driver\n",
    "\n",
    "Using only *pyodbc* driver. Can list all tables."
   ]
  },
  {
   "cell_type": "code",
   "execution_count": 16,
   "id": "4b8a0726",
   "metadata": {},
   "outputs": [
    {
     "ename": "InterfaceError",
     "evalue": "('28000', \"[28000] [Microsoft][ODBC Driver 18 for SQL Server][SQL Server]Login failed for user '<token-identified principal>'. (18456) (SQLDriverConnect); [28000] [Microsoft][ODBC Driver 18 for SQL Server][SQL Server]Login failed for user '<token-identified principal>'. (18456)\")",
     "output_type": "error",
     "traceback": [
      "\u001b[1;31m---------------------------------------------------------------------------\u001b[0m",
      "\u001b[1;31mInterfaceError\u001b[0m                            Traceback (most recent call last)",
      "Cell \u001b[1;32mIn[16], line 15\u001b[0m\n\u001b[0;32m      7\u001b[0m driver\u001b[38;5;241m=\u001b[39m \u001b[38;5;124m'\u001b[39m\u001b[38;5;124m{\u001b[39m\u001b[38;5;124mODBC Driver 18 for SQL Server}\u001b[39m\u001b[38;5;124m'\u001b[39m\n\u001b[0;32m      8\u001b[0m \u001b[38;5;66;03m# conn = pyodbc.connect('DRIVER='+driver+\u001b[39;00m\n\u001b[0;32m      9\u001b[0m \u001b[38;5;66;03m#                       ';SERVER='+server+\u001b[39;00m\n\u001b[0;32m     10\u001b[0m \u001b[38;5;66;03m#                       ';PORT=1433;DATABASE='+database+\u001b[39;00m\n\u001b[0;32m     11\u001b[0m \u001b[38;5;66;03m#                       ';UID='+username+\u001b[39;00m\n\u001b[0;32m     12\u001b[0m \u001b[38;5;66;03m#                       ';AUTHENTICATION='+Authentication\u001b[39;00m\n\u001b[0;32m     13\u001b[0m \u001b[38;5;66;03m#                       )\u001b[39;00m\n\u001b[1;32m---> 15\u001b[0m conn \u001b[38;5;241m=\u001b[39m \u001b[43mpyodbc\u001b[49m\u001b[38;5;241;43m.\u001b[39;49m\u001b[43mconnect\u001b[49m\u001b[43m(\u001b[49m\u001b[38;5;124;43m'\u001b[39;49m\u001b[38;5;124;43mDriver=\u001b[39;49m\u001b[38;5;124;43m{\u001b[39;49m\u001b[38;5;124;43mODBC Driver 18 for SQL Server};Server=tcp:brian-dbserver.database.windows.net,1433;Database=data-science-test;Uid=brian.e.linkletter@gmail.com;Authentication=ActiveDirectoryInteractive\u001b[39;49m\u001b[38;5;124;43m'\u001b[39;49m\u001b[43m)\u001b[49m\n\u001b[0;32m     17\u001b[0m \u001b[38;5;28mprint\u001b[39m(conn)\n",
      "\u001b[1;31mInterfaceError\u001b[0m: ('28000', \"[28000] [Microsoft][ODBC Driver 18 for SQL Server][SQL Server]Login failed for user '<token-identified principal>'. (18456) (SQLDriverConnect); [28000] [Microsoft][ODBC Driver 18 for SQL Server][SQL Server]Login failed for user '<token-identified principal>'. (18456)\")"
     ]
    }
   ],
   "source": [
    "import pyodbc\n",
    "#from azure.identity import ActiveDirectoryIntegrated\n",
    "server = 'brian-dbserver.database.windows.net'\n",
    "database = 'data-science-test'\n",
    "username ='brian.e.linkletter@gmail.com'\n",
    "Authentication='ActiveDirectoryInteractive'\n",
    "driver= '{ODBC Driver 18 for SQL Server}'\n",
    "# conn = pyodbc.connect('DRIVER='+driver+\n",
    "#                       ';SERVER='+server+\n",
    "#                       ';PORT=1433;DATABASE='+database+\n",
    "#                       ';UID='+username+\n",
    "#                       ';AUTHENTICATION='+Authentication\n",
    "#                       )\n",
    "\n",
    "conn = pyodbc.connect('Driver={ODBC Driver 18 for SQL Server};Server=tcp:brian-dbserver.database.windows.net,1433;Database=data-science-test;Uid=brian.e.linkletter@gmail.com;Authentication=ActiveDirectoryInteractive')\n",
    "\n",
    "print(conn)"
   ]
  },
  {
   "cell_type": "code",
   "execution_count": null,
   "id": "6b884a86",
   "metadata": {
    "scrolled": false
   },
   "outputs": [],
   "source": [
    "import pprint\n",
    "cursor = conn.cursor()\n",
    "print(dir(cursor.tables()))\n",
    "\n",
    "# for row in cursor.tables():\n",
    "#     print(row.table_name)\n",
    "\n",
    "statement = \"\"\"\n",
    "SELECT TABLE_CATALOG, TABLE_SCHEMA, TABLE_NAME, COLUMN_NAME, COLUMN_DEFAULT\n",
    "FROM hraap-euw-db01.INFORMATION_SCHEMA.COLUMNS\n",
    "WHERE TABLE_NAME = N'Snapshot P24 Last Close';\n",
    "\"\"\"\n",
    "\n",
    "print(statement)\n",
    "\n",
    "#cursor.execute(statement)\n",
    "\n",
    "# cursor.execute(\"SELECT * in table [Snapshot P24 Last Close];\") \n",
    "# row = cursor.fetchone()\n",
    "# x = 0\n",
    "# while x < 5: \n",
    "#     print(row[0])\n",
    "#     row = cursor.fetchone()\n",
    "#     x += 1"
   ]
  },
  {
   "cell_type": "code",
   "execution_count": null,
   "id": "fc50845c",
   "metadata": {},
   "outputs": [],
   "source": [
    "query = cursor.execute('Select TOP 5 * FROM [employment_details] table [Snapshot Non P24 Last Close];')"
   ]
  },
  {
   "cell_type": "code",
   "execution_count": null,
   "id": "79547958",
   "metadata": {},
   "outputs": [],
   "source": [
    "cursor.execute(\"SELECT @@version;\") \n",
    "row = cursor.fetchone() \n",
    "print(row)\n",
    "# while row: \n",
    "#     print(row[0])\n",
    "#     row = cursor.fetchone()"
   ]
  },
  {
   "cell_type": "markdown",
   "id": "61838a9f",
   "metadata": {},
   "source": [
    "# SQLAlchemy\n",
    "\n",
    "Can list schemas but cannot list tables"
   ]
  },
  {
   "cell_type": "code",
   "execution_count": 1,
   "id": "e9403852",
   "metadata": {},
   "outputs": [],
   "source": [
    "import pandas as pd\n",
    "from sqlalchemy import create_engine\n",
    "from sqlalchemy import URL\n",
    "from azure.identity import InteractiveBrowserCredential\n",
    "import pyodbc\n",
    "\n",
    "server_name = 'hraap-euw-prod-asq01.database.windows.net'\n",
    "database_name = 'hraap-euw-db01'\n",
    "user_name = 'brian.linkletter@nokia.com'\n",
    "connection_string = (\n",
    "    f\"Driver={{ODBC Driver 18 for SQL Server}};\"\n",
    "    f\"Server={server_name};\"\n",
    "    f\"Database={database_name};\"\n",
    "    f\"Authentication=ActiveDirectoryInteractive;\"\n",
    "    f\"UID={user_name};PWD=''\"\n",
    ")\n",
    "\n",
    "engine = create_engine(f\"mssql+pyodbc:///?odbc_connect={connection_string}\")\n"
   ]
  },
  {
   "cell_type": "code",
   "execution_count": 2,
   "id": "f6715c9f",
   "metadata": {},
   "outputs": [],
   "source": [
    "from sqlalchemy import MetaData\n",
    "from sqlalchemy.ext.automap import automap_base\n",
    "from sqlalchemy.orm import Session\n",
    "\n",
    "# Base = automap_base()\n",
    "# Base.prepare(autoload_with=engine)\n",
    "\n",
    "metadata = MetaData(schema=\"employment_details\")\n",
    "metadata.reflect(engine)\n",
    "\n",
    "# tables = ['Snapshot P24 Last Close']\n",
    "# metadata.reflect(engine, only=tables)\n",
    "\n",
    "Base = automap_base(metadata=metadata)\n",
    "Base.prepare()"
   ]
  },
  {
   "cell_type": "code",
   "execution_count": 3,
   "id": "6b8b0b95",
   "metadata": {
    "scrolled": true
   },
   "outputs": [
    {
     "data": {
      "text/plain": [
       "dict_keys([])"
      ]
     },
     "execution_count": 3,
     "metadata": {},
     "output_type": "execute_result"
    }
   ],
   "source": [
    "metadata.tables.keys()"
   ]
  },
  {
   "cell_type": "code",
   "execution_count": null,
   "id": "72105f81",
   "metadata": {},
   "outputs": [],
   "source": [
    "print(metadata.reflect(engine, schema=\"employment_details\"))\n",
    "#metadata.tables[\"employment_details.Snapshot P24 Last Close\"]"
   ]
  },
  {
   "cell_type": "code",
   "execution_count": null,
   "id": "e8ed7def",
   "metadata": {},
   "outputs": [],
   "source": [
    "print(Base.metadata.tables)"
   ]
  },
  {
   "cell_type": "markdown",
   "id": "291ca171",
   "metadata": {},
   "source": [
    "# SQLAlchemy inspect\n",
    "\n",
    "Inspect() function lists schema (run after the login above)"
   ]
  },
  {
   "cell_type": "code",
   "execution_count": null,
   "id": "9785b7b8",
   "metadata": {},
   "outputs": [],
   "source": [
    "print(engine)\n",
    "from sqlalchemy import inspect\n",
    "inspector = inspect(engine)"
   ]
  },
  {
   "cell_type": "code",
   "execution_count": null,
   "id": "7e658d3c",
   "metadata": {},
   "outputs": [],
   "source": [
    "#dir(inspector)\n",
    "db_list = inspector.get_schema_names()\n",
    "print(db_list)"
   ]
  },
  {
   "cell_type": "code",
   "execution_count": null,
   "id": "abd4bc4e",
   "metadata": {},
   "outputs": [],
   "source": [
    "inspector.get_table_names(schema='employment_details')"
   ]
  },
  {
   "cell_type": "code",
   "execution_count": null,
   "id": "cc056083",
   "metadata": {},
   "outputs": [],
   "source": [
    "statement = \"SELECT TOP 10 * FROM [employment_details.Snapshot P24 Last Close]\"\n",
    "P24close = pd.read_sql_query(statement, engine)"
   ]
  },
  {
   "cell_type": "code",
   "execution_count": null,
   "id": "a129d7a4",
   "metadata": {},
   "outputs": [],
   "source": [
    "P24data = pd.read_sql_table(table_name='Snapshot P24 Last Close', con=engine)"
   ]
  }
 ],
 "metadata": {
  "kernelspec": {
   "display_name": "Python 3 (ipykernel)",
   "language": "python",
   "name": "python3"
  },
  "language_info": {
   "codemirror_mode": {
    "name": "ipython",
    "version": 3
   },
   "file_extension": ".py",
   "mimetype": "text/x-python",
   "name": "python",
   "nbconvert_exporter": "python",
   "pygments_lexer": "ipython3",
   "version": "3.11.3"
  }
 },
 "nbformat": 4,
 "nbformat_minor": 5
}
