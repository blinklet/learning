{
 "cells": [
  {
   "cell_type": "code",
   "execution_count": 1,
   "id": "578a3394",
   "metadata": {},
   "outputs": [],
   "source": [
    "url = r\"sqlite:///C:/Users/blinklet/Documents/Chinook_Sqlite.sqlite\""
   ]
  },
  {
   "cell_type": "code",
   "execution_count": 2,
   "id": "826f8b22",
   "metadata": {},
   "outputs": [],
   "source": [
    "from sqlalchemy import create_engine\n",
    "\n",
    "engine = create_engine(url)"
   ]
  },
  {
   "cell_type": "code",
   "execution_count": 3,
   "id": "39dfc36d",
   "metadata": {},
   "outputs": [],
   "source": [
    "from sqlalchemy.ext.automap import automap_base\n",
    "from sqlalchemy.orm import Session\n",
    "\n",
    "Base = automap_base()\n",
    "Base.prepare(autoload_with=engine)"
   ]
  },
  {
   "cell_type": "code",
   "execution_count": 4,
   "id": "e19064ca",
   "metadata": {},
   "outputs": [],
   "source": [
    "Album = Base.classes.Album\n",
    "Artist = Base.classes.Artist\n",
    "Customer = Base.classes.Customer\n",
    "Employee = Base.classes.Employee\n",
    "Genre = Base.classes.Genre\n",
    "Invoice = Base.classes.Invoice\n",
    "InvoiceLine = Base.classes.InvoiceLine\n",
    "MediaType = Base.classes.MediaType\n",
    "Playlist = Base.classes.Playlist\n",
    "Track = Base.classes.Track\n",
    "playlisttrack = Base.metadata.tables['PlaylistTrack']"
   ]
  },
  {
   "cell_type": "code",
   "execution_count": 21,
   "id": "cd19b32a",
   "metadata": {},
   "outputs": [],
   "source": [
    "from sqlalchemy import select\n",
    "\n",
    "statement = (select(Artist))"
   ]
  },
  {
   "cell_type": "code",
   "execution_count": 22,
   "id": "810449c9",
   "metadata": {},
   "outputs": [
    {
     "name": "stdout",
     "output_type": "stream",
     "text": [
      "SELECT \"Artist\".\"ArtistId\", \"Artist\".\"Name\" \n",
      "FROM \"Artist\"\n"
     ]
    }
   ],
   "source": [
    "print(statement)"
   ]
  },
  {
   "cell_type": "code",
   "execution_count": 23,
   "id": "8cebc65d",
   "metadata": {},
   "outputs": [
    {
     "name": "stdout",
     "output_type": "stream",
     "text": [
      "(275, 2)\n",
      "   ArtistId               Name\n",
      "0         1              AC/DC\n",
      "1         2             Accept\n",
      "2         3          Aerosmith\n",
      "3         4  Alanis Morissette\n",
      "4         5    Alice In Chains\n"
     ]
    }
   ],
   "source": [
    "import pandas as pd\n",
    "\n",
    "artists = pd.read_sql_query(sql=statement, con=engine)\n",
    "\n",
    "print(artists.shape)\n",
    "print(artists.head(5))"
   ]
  },
  {
   "cell_type": "code",
   "execution_count": 29,
   "id": "9db733b8",
   "metadata": {
    "scrolled": true
   },
   "outputs": [
    {
     "name": "stdout",
     "output_type": "stream",
     "text": [
      "SELECT \"Artist\".\"ArtistId\", \"Artist\".\"Name\" \n",
      "FROM \"Artist\" \n",
      "WHERE \"Artist\".\"Name\" = :Name_1\n",
      "\n",
      "SELECT \"Artist\".\"ArtistId\", \"Artist\".\"Name\" \n",
      "FROM \"Artist\" \n",
      "WHERE \"Artist\".\"Name\" = 'Alice In Chains'\n"
     ]
    }
   ],
   "source": [
    "statement = (select(Artist).where(Artist.Name=='Alice In Chains'))\n",
    "print(statement)\n",
    "print()\n",
    "from sqlalchemy.dialects import sqlite \n",
    "query = statement.compile(dialect=sqlite.dialect(),compile_kwargs={\"literal_binds\": True})\n",
    "print(query) # will print the compiled query statement againt the dialect.\n"
   ]
  },
  {
   "cell_type": "code",
   "execution_count": 48,
   "id": "8418365c",
   "metadata": {
    "scrolled": true
   },
   "outputs": [
    {
     "name": "stdout",
     "output_type": "stream",
     "text": [
      "(5, 2)\n",
      "   ArtistId                                               Name\n",
      "0        43                                       A Cor Do Som\n",
      "1         1                                              AC/DC\n",
      "2       230          Aaron Copland & London Symphony Orchestra\n",
      "3       202                                     Aaron Goldberg\n",
      "4       214  Academy of St. Martin in the Fields & Sir Nevi...\n"
     ]
    }
   ],
   "source": [
    "statement = (\n",
    "    select(Artist)\n",
    "    .order_by(Artist.Name)\n",
    "    .limit(5)\n",
    "    )\n",
    "\n",
    "alpha_artists = pd.read_sql_query(sql=statement, con=engine)\n",
    "print(alpha_artists.shape)\n",
    "print(alpha_artists.head(5))"
   ]
  },
  {
   "cell_type": "code",
   "execution_count": 51,
   "id": "fd63c61d",
   "metadata": {},
   "outputs": [
    {
     "name": "stdout",
     "output_type": "stream",
     "text": [
      "(5, 2)\n",
      "   ArtistId                         Name\n",
      "0        85                Frank Sinatra\n",
      "1        16               Caetano Veloso\n",
      "2       265                 Julian Bream\n",
      "3       203  Nicolaus Esterhazy Sinfonia\n",
      "4        93                          JET\n"
     ]
    }
   ],
   "source": [
    "statement = (\n",
    "    select(Artist)\n",
    "    .order_by(func.random())\n",
    "    .limit(5))\n",
    "\n",
    "rand_artists = pd.read_sql_query(sql=statement, con=engine)\n",
    "print(rand_artists.shape)\n",
    "print(rand_artists.head(5))"
   ]
  },
  {
   "cell_type": "code",
   "execution_count": 53,
   "id": "d85183f7",
   "metadata": {},
   "outputs": [
    {
     "name": "stdout",
     "output_type": "stream",
     "text": [
      "SELECT \"Album\".\"AlbumId\", \"Album\".\"Title\", \"Album\".\"ArtistId\", \"Track\".\"TrackId\", \"Track\".\"Name\", \"Track\".\"AlbumId\" AS \"AlbumId_1\", \"Track\".\"MediaTypeId\", \"Track\".\"GenreId\", \"Track\".\"Composer\", \"Track\".\"Milliseconds\", \"Track\".\"Bytes\", \"Track\".\"UnitPrice\", \"Artist\".\"ArtistId\" AS \"ArtistId_1\", \"Artist\".\"Name\" AS \"Name_1\" \n",
      "FROM \"Album\" JOIN \"Track\" ON \"Album\".\"AlbumId\" = \"Track\".\"AlbumId\" JOIN \"Artist\" ON \"Artist\".\"ArtistId\" = \"Album\".\"ArtistId\"\n"
     ]
    }
   ],
   "source": [
    "statement = (select(Album, Track, Artist)\n",
    "     .join(Track)\n",
    "     .join(Artist)\n",
    "    )\n",
    "print(statement)"
   ]
  },
  {
   "cell_type": "code",
   "execution_count": 56,
   "id": "1e786597",
   "metadata": {},
   "outputs": [
    {
     "name": "stdout",
     "output_type": "stream",
     "text": [
      "SELECT \"Album\".\"Title\" AS \"Album\", \"Artist\".\"Name\" AS \"Artist\", \"Track\".\"Name\" AS \"Track\", \"Track\".\"Composer\", \"Track\".\"Milliseconds\" AS \"Length\" \n",
      "FROM \"Album\" JOIN \"Track\" ON \"Album\".\"AlbumId\" = \"Track\".\"AlbumId\" JOIN \"Artist\" ON \"Artist\".\"ArtistId\" = \"Album\".\"ArtistId\"\n"
     ]
    }
   ],
   "source": [
    "\n",
    "statement = (select(Album.Title.label(\"Album\"),\n",
    "            Artist.Name.label(\"Artist\"),\n",
    "            Track.Name.label(\"Track\"),\n",
    "            Track.Composer, \n",
    "            Track.Milliseconds.label(\"Length\"))\n",
    "     .join(Track)\n",
    "     .join(Artist)\n",
    "    )\n",
    "print(statement)"
   ]
  },
  {
   "cell_type": "code",
   "execution_count": 73,
   "id": "7f1b15cb",
   "metadata": {},
   "outputs": [
    {
     "name": "stdout",
     "output_type": "stream",
     "text": [
      "(64, 7)\n"
     ]
    },
    {
     "data": {
      "text/html": [
       "<style type=\"text/css\">\n",
       "</style>\n",
       "<table id=\"T_7151a\">\n",
       "  <thead>\n",
       "    <tr>\n",
       "      <th id=\"T_7151a_level0_col0\" class=\"col_heading level0 col0\" >EmployeeId</th>\n",
       "      <th id=\"T_7151a_level0_col1\" class=\"col_heading level0 col1\" >Emp_First_Name</th>\n",
       "      <th id=\"T_7151a_level0_col2\" class=\"col_heading level0 col2\" >Emp_Last_Name</th>\n",
       "      <th id=\"T_7151a_level0_col3\" class=\"col_heading level0 col3\" >Title</th>\n",
       "      <th id=\"T_7151a_level0_col4\" class=\"col_heading level0 col4\" >Cust_First_Name</th>\n",
       "      <th id=\"T_7151a_level0_col5\" class=\"col_heading level0 col5\" >Cust_Last_Name</th>\n",
       "      <th id=\"T_7151a_level0_col6\" class=\"col_heading level0 col6\" >Cust_Company</th>\n",
       "    </tr>\n",
       "  </thead>\n",
       "  <tbody>\n",
       "    <tr>\n",
       "      <td id=\"T_7151a_row0_col0\" class=\"data row0 col0\" >1</td>\n",
       "      <td id=\"T_7151a_row0_col1\" class=\"data row0 col1\" >Andrew</td>\n",
       "      <td id=\"T_7151a_row0_col2\" class=\"data row0 col2\" >Adams</td>\n",
       "      <td id=\"T_7151a_row0_col3\" class=\"data row0 col3\" >General Manager</td>\n",
       "      <td id=\"T_7151a_row0_col4\" class=\"data row0 col4\" >None</td>\n",
       "      <td id=\"T_7151a_row0_col5\" class=\"data row0 col5\" >None</td>\n",
       "      <td id=\"T_7151a_row0_col6\" class=\"data row0 col6\" >None</td>\n",
       "    </tr>\n",
       "    <tr>\n",
       "      <td id=\"T_7151a_row1_col0\" class=\"data row1 col0\" >2</td>\n",
       "      <td id=\"T_7151a_row1_col1\" class=\"data row1 col1\" >Nancy</td>\n",
       "      <td id=\"T_7151a_row1_col2\" class=\"data row1 col2\" >Edwards</td>\n",
       "      <td id=\"T_7151a_row1_col3\" class=\"data row1 col3\" >Sales Manager</td>\n",
       "      <td id=\"T_7151a_row1_col4\" class=\"data row1 col4\" >None</td>\n",
       "      <td id=\"T_7151a_row1_col5\" class=\"data row1 col5\" >None</td>\n",
       "      <td id=\"T_7151a_row1_col6\" class=\"data row1 col6\" >None</td>\n",
       "    </tr>\n",
       "    <tr>\n",
       "      <td id=\"T_7151a_row2_col0\" class=\"data row2 col0\" >3</td>\n",
       "      <td id=\"T_7151a_row2_col1\" class=\"data row2 col1\" >Jane</td>\n",
       "      <td id=\"T_7151a_row2_col2\" class=\"data row2 col2\" >Peacock</td>\n",
       "      <td id=\"T_7151a_row2_col3\" class=\"data row2 col3\" >Sales Support Agent</td>\n",
       "      <td id=\"T_7151a_row2_col4\" class=\"data row2 col4\" >Luís</td>\n",
       "      <td id=\"T_7151a_row2_col5\" class=\"data row2 col5\" >Gonçalves</td>\n",
       "      <td id=\"T_7151a_row2_col6\" class=\"data row2 col6\" >Embraer - Empresa Brasileira de Aeronáutica S.A.</td>\n",
       "    </tr>\n",
       "    <tr>\n",
       "      <td id=\"T_7151a_row3_col0\" class=\"data row3 col0\" >3</td>\n",
       "      <td id=\"T_7151a_row3_col1\" class=\"data row3 col1\" >Jane</td>\n",
       "      <td id=\"T_7151a_row3_col2\" class=\"data row3 col2\" >Peacock</td>\n",
       "      <td id=\"T_7151a_row3_col3\" class=\"data row3 col3\" >Sales Support Agent</td>\n",
       "      <td id=\"T_7151a_row3_col4\" class=\"data row3 col4\" >François</td>\n",
       "      <td id=\"T_7151a_row3_col5\" class=\"data row3 col5\" >Tremblay</td>\n",
       "      <td id=\"T_7151a_row3_col6\" class=\"data row3 col6\" >None</td>\n",
       "    </tr>\n",
       "    <tr>\n",
       "      <td id=\"T_7151a_row4_col0\" class=\"data row4 col0\" >3</td>\n",
       "      <td id=\"T_7151a_row4_col1\" class=\"data row4 col1\" >Jane</td>\n",
       "      <td id=\"T_7151a_row4_col2\" class=\"data row4 col2\" >Peacock</td>\n",
       "      <td id=\"T_7151a_row4_col3\" class=\"data row4 col3\" >Sales Support Agent</td>\n",
       "      <td id=\"T_7151a_row4_col4\" class=\"data row4 col4\" >Roberto</td>\n",
       "      <td id=\"T_7151a_row4_col5\" class=\"data row4 col5\" >Almeida</td>\n",
       "      <td id=\"T_7151a_row4_col6\" class=\"data row4 col6\" >Riotur</td>\n",
       "    </tr>\n",
       "  </tbody>\n",
       "</table>\n"
      ],
      "text/plain": [
       "<pandas.io.formats.style.Styler at 0x2224dda00d0>"
      ]
     },
     "metadata": {},
     "output_type": "display_data"
    }
   ],
   "source": [
    "statement = select(\n",
    "    Employee.EmployeeId, \n",
    "    Employee.FirstName.label(\"Emp_First_Name\"),\n",
    "    Employee.LastName.label(\"Emp_Last_Name\"), \n",
    "    Employee.Title,\n",
    "    Customer.FirstName.label(\"Cust_First_Name\"),\n",
    "    Customer.LastName.label(\"Cust_Last_Name\"),\n",
    "    Customer.Company.label(\"Cust_Company\"),   \n",
    ").outerjoin(Customer)\n",
    "\n",
    "dataframe = pd.read_sql_query(sql=statement, con=engine)\n",
    "print(dataframe.shape)\n",
    "display(dataframe.head().style.hide(axis=\"index\"))"
   ]
  },
  {
   "cell_type": "code",
   "execution_count": 80,
   "id": "459bcb09",
   "metadata": {},
   "outputs": [
    {
     "name": "stdout",
     "output_type": "stream",
     "text": [
      " EmployeeId    Employee Name               Title  Num_Customers\n",
      "          1     Andrew Adams     General Manager              0\n",
      "          2    Nancy Edwards       Sales Manager              0\n",
      "          3     Jane Peacock Sales Support Agent             21\n",
      "          4    Margaret Park Sales Support Agent             20\n",
      "          5    Steve Johnson Sales Support Agent             18\n",
      "          6 Michael Mitchell          IT Manager              0\n",
      "          7      Robert King            IT Staff              0\n",
      "          8   Laura Callahan            IT Staff              0\n"
     ]
    }
   ],
   "source": [
    "statement = (\n",
    "    select(\n",
    "        Employee.EmployeeId, \n",
    "        (Employee.FirstName + ' ' + Employee.LastName).label(\"Employee Name\"), \n",
    "        Employee.Title,\n",
    "        func.count(Customer.CustomerId).label(\"Num_Customers\")\n",
    "    )\n",
    "    .outerjoin(Customer)\n",
    "    .group_by(Employee.EmployeeId)\n",
    ")\n",
    "\n",
    "dataframe = pd.read_sql_query(sql=statement, con=engine)\n",
    "print(dataframe.to_string(index=False))"
   ]
  }
 ],
 "metadata": {
  "kernelspec": {
   "display_name": "Python 3 (ipykernel)",
   "language": "python",
   "name": "python3"
  },
  "language_info": {
   "codemirror_mode": {
    "name": "ipython",
    "version": 3
   },
   "file_extension": ".py",
   "mimetype": "text/x-python",
   "name": "python",
   "nbconvert_exporter": "python",
   "pygments_lexer": "ipython3",
   "version": "3.11.2"
  }
 },
 "nbformat": 4,
 "nbformat_minor": 5
}
