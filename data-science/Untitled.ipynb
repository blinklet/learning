{
 "cells": [
  {
   "cell_type": "code",
   "execution_count": 1,
   "id": "b629f361",
   "metadata": {},
   "outputs": [],
   "source": [
    "url = r\"sqlite:///C:/Users/blinklet/Documents/Chinook_Sqlite.sqlite\""
   ]
  },
  {
   "cell_type": "code",
   "execution_count": 2,
   "id": "28b58417",
   "metadata": {},
   "outputs": [],
   "source": [
    "from sqlalchemy import create_engine\n",
    "\n",
    "engine = create_engine(url)"
   ]
  },
  {
   "cell_type": "code",
   "execution_count": 3,
   "id": "80644633",
   "metadata": {},
   "outputs": [],
   "source": [
    "from sqlalchemy.ext.automap import automap_base\n",
    "from sqlalchemy.orm import Session\n",
    "\n",
    "Base = automap_base()\n",
    "Base.prepare(autoload_with=engine)"
   ]
  },
  {
   "cell_type": "code",
   "execution_count": 4,
   "id": "2d27d828",
   "metadata": {},
   "outputs": [],
   "source": [
    "Album = Base.classes.Album\n",
    "Artist = Base.classes.Artist\n",
    "Customer = Base.classes.Customer\n",
    "Employee = Base.classes.Employee\n",
    "Genre = Base.classes.Genre\n",
    "Invoice = Base.classes.Invoice\n",
    "InvoiceLine = Base.classes.InvoiceLine\n",
    "MediaType = Base.classes.MediaType\n",
    "Playlist = Base.classes.Playlist\n",
    "Track = Base.classes.Track\n",
    "playlisttrack = Base.metadata.tables['PlaylistTrack']"
   ]
  },
  {
   "cell_type": "code",
   "execution_count": 21,
   "id": "42c4529e",
   "metadata": {},
   "outputs": [],
   "source": [
    "from sqlalchemy import select\n",
    "\n",
    "statement = (select(Artist))"
   ]
  },
  {
   "cell_type": "code",
   "execution_count": 22,
   "id": "cf29b4a5",
   "metadata": {},
   "outputs": [
    {
     "name": "stdout",
     "output_type": "stream",
     "text": [
      "SELECT \"Artist\".\"ArtistId\", \"Artist\".\"Name\" \n",
      "FROM \"Artist\"\n"
     ]
    }
   ],
   "source": [
    "print(statement)"
   ]
  },
  {
   "cell_type": "code",
   "execution_count": 23,
   "id": "5fe560fe",
   "metadata": {},
   "outputs": [
    {
     "name": "stdout",
     "output_type": "stream",
     "text": [
      "(275, 2)\n",
      "   ArtistId               Name\n",
      "0         1              AC/DC\n",
      "1         2             Accept\n",
      "2         3          Aerosmith\n",
      "3         4  Alanis Morissette\n",
      "4         5    Alice In Chains\n"
     ]
    }
   ],
   "source": [
    "import pandas as pd\n",
    "\n",
    "artists = pd.read_sql_query(sql=statement, con=engine)\n",
    "\n",
    "print(artists.shape)\n",
    "print(artists.head(5))"
   ]
  },
  {
   "cell_type": "code",
   "execution_count": 29,
   "id": "f51cb22b",
   "metadata": {
    "scrolled": true
   },
   "outputs": [
    {
     "name": "stdout",
     "output_type": "stream",
     "text": [
      "SELECT \"Artist\".\"ArtistId\", \"Artist\".\"Name\" \n",
      "FROM \"Artist\" \n",
      "WHERE \"Artist\".\"Name\" = :Name_1\n",
      "\n",
      "SELECT \"Artist\".\"ArtistId\", \"Artist\".\"Name\" \n",
      "FROM \"Artist\" \n",
      "WHERE \"Artist\".\"Name\" = 'Alice In Chains'\n"
     ]
    }
   ],
   "source": [
    "statement = (select(Artist).where(Artist.Name=='Alice In Chains'))\n",
    "print(statement)\n",
    "print()\n",
    "from sqlalchemy.dialects import sqlite \n",
    "query = statement.compile(dialect=sqlite.dialect(),compile_kwargs={\"literal_binds\": True})\n",
    "print(query) # will print the compiled query statement againt the dialect.\n"
   ]
  },
  {
   "cell_type": "code",
   "execution_count": 48,
   "id": "8030bf58",
   "metadata": {
    "scrolled": true
   },
   "outputs": [
    {
     "name": "stdout",
     "output_type": "stream",
     "text": [
      "(5, 2)\n",
      "   ArtistId                                               Name\n",
      "0        43                                       A Cor Do Som\n",
      "1         1                                              AC/DC\n",
      "2       230          Aaron Copland & London Symphony Orchestra\n",
      "3       202                                     Aaron Goldberg\n",
      "4       214  Academy of St. Martin in the Fields & Sir Nevi...\n"
     ]
    }
   ],
   "source": [
    "statement = (\n",
    "    select(Artist)\n",
    "    .order_by(Artist.Name)\n",
    "    .limit(5)\n",
    "    )\n",
    "\n",
    "alpha_artists = pd.read_sql_query(sql=statement, con=engine)\n",
    "print(alpha_artists.shape)\n",
    "print(alpha_artists.head(5))"
   ]
  },
  {
   "cell_type": "code",
   "execution_count": 51,
   "id": "8fd8c378",
   "metadata": {},
   "outputs": [
    {
     "name": "stdout",
     "output_type": "stream",
     "text": [
      "(5, 2)\n",
      "   ArtistId                         Name\n",
      "0        85                Frank Sinatra\n",
      "1        16               Caetano Veloso\n",
      "2       265                 Julian Bream\n",
      "3       203  Nicolaus Esterhazy Sinfonia\n",
      "4        93                          JET\n"
     ]
    }
   ],
   "source": [
    "statement = (\n",
    "    select(Artist)\n",
    "    .order_by(func.random())\n",
    "    .limit(5))\n",
    "\n",
    "rand_artists = pd.read_sql_query(sql=statement, con=engine)\n",
    "print(rand_artists.shape)\n",
    "print(rand_artists.head(5))"
   ]
  },
  {
   "cell_type": "code",
   "execution_count": 53,
   "id": "dd21df3f",
   "metadata": {},
   "outputs": [
    {
     "name": "stdout",
     "output_type": "stream",
     "text": [
      "SELECT \"Album\".\"AlbumId\", \"Album\".\"Title\", \"Album\".\"ArtistId\", \"Track\".\"TrackId\", \"Track\".\"Name\", \"Track\".\"AlbumId\" AS \"AlbumId_1\", \"Track\".\"MediaTypeId\", \"Track\".\"GenreId\", \"Track\".\"Composer\", \"Track\".\"Milliseconds\", \"Track\".\"Bytes\", \"Track\".\"UnitPrice\", \"Artist\".\"ArtistId\" AS \"ArtistId_1\", \"Artist\".\"Name\" AS \"Name_1\" \n",
      "FROM \"Album\" JOIN \"Track\" ON \"Album\".\"AlbumId\" = \"Track\".\"AlbumId\" JOIN \"Artist\" ON \"Artist\".\"ArtistId\" = \"Album\".\"ArtistId\"\n"
     ]
    }
   ],
   "source": [
    "statement = (select(Album, Track, Artist)\n",
    "     .join(Track)\n",
    "     .join(Artist)\n",
    "    )\n",
    "print(statement)"
   ]
  },
  {
   "cell_type": "code",
   "execution_count": 56,
   "id": "a32e1b4c",
   "metadata": {},
   "outputs": [
    {
     "name": "stdout",
     "output_type": "stream",
     "text": [
      "SELECT \"Album\".\"Title\" AS \"Album\", \"Artist\".\"Name\" AS \"Artist\", \"Track\".\"Name\" AS \"Track\", \"Track\".\"Composer\", \"Track\".\"Milliseconds\" AS \"Length\" \n",
      "FROM \"Album\" JOIN \"Track\" ON \"Album\".\"AlbumId\" = \"Track\".\"AlbumId\" JOIN \"Artist\" ON \"Artist\".\"ArtistId\" = \"Album\".\"ArtistId\"\n"
     ]
    }
   ],
   "source": [
    "\n",
    "statement = (select(Album.Title.label(\"Album\"),\n",
    "            Artist.Name.label(\"Artist\"),\n",
    "            Track.Name.label(\"Track\"),\n",
    "            Track.Composer, \n",
    "            Track.Milliseconds.label(\"Length\"))\n",
    "     .join(Track)\n",
    "     .join(Artist)\n",
    "    )\n",
    "print(statement)"
   ]
  },
  {
   "cell_type": "code",
   "execution_count": 73,
   "id": "8ba531bf",
   "metadata": {},
   "outputs": [
    {
     "name": "stdout",
     "output_type": "stream",
     "text": [
      "(64, 7)\n"
     ]
    },
    {
     "data": {
      "text/html": [
       "<style type=\"text/css\">\n",
       "</style>\n",
       "<table id=\"T_7151a\">\n",
       "  <thead>\n",
       "    <tr>\n",
       "      <th id=\"T_7151a_level0_col0\" class=\"col_heading level0 col0\" >EmployeeId</th>\n",
       "      <th id=\"T_7151a_level0_col1\" class=\"col_heading level0 col1\" >Emp_First_Name</th>\n",
       "      <th id=\"T_7151a_level0_col2\" class=\"col_heading level0 col2\" >Emp_Last_Name</th>\n",
       "      <th id=\"T_7151a_level0_col3\" class=\"col_heading level0 col3\" >Title</th>\n",
       "      <th id=\"T_7151a_level0_col4\" class=\"col_heading level0 col4\" >Cust_First_Name</th>\n",
       "      <th id=\"T_7151a_level0_col5\" class=\"col_heading level0 col5\" >Cust_Last_Name</th>\n",
       "      <th id=\"T_7151a_level0_col6\" class=\"col_heading level0 col6\" >Cust_Company</th>\n",
       "    </tr>\n",
       "  </thead>\n",
       "  <tbody>\n",
       "    <tr>\n",
       "      <td id=\"T_7151a_row0_col0\" class=\"data row0 col0\" >1</td>\n",
       "      <td id=\"T_7151a_row0_col1\" class=\"data row0 col1\" >Andrew</td>\n",
       "      <td id=\"T_7151a_row0_col2\" class=\"data row0 col2\" >Adams</td>\n",
       "      <td id=\"T_7151a_row0_col3\" class=\"data row0 col3\" >General Manager</td>\n",
       "      <td id=\"T_7151a_row0_col4\" class=\"data row0 col4\" >None</td>\n",
       "      <td id=\"T_7151a_row0_col5\" class=\"data row0 col5\" >None</td>\n",
       "      <td id=\"T_7151a_row0_col6\" class=\"data row0 col6\" >None</td>\n",
       "    </tr>\n",
       "    <tr>\n",
       "      <td id=\"T_7151a_row1_col0\" class=\"data row1 col0\" >2</td>\n",
       "      <td id=\"T_7151a_row1_col1\" class=\"data row1 col1\" >Nancy</td>\n",
       "      <td id=\"T_7151a_row1_col2\" class=\"data row1 col2\" >Edwards</td>\n",
       "      <td id=\"T_7151a_row1_col3\" class=\"data row1 col3\" >Sales Manager</td>\n",
       "      <td id=\"T_7151a_row1_col4\" class=\"data row1 col4\" >None</td>\n",
       "      <td id=\"T_7151a_row1_col5\" class=\"data row1 col5\" >None</td>\n",
       "      <td id=\"T_7151a_row1_col6\" class=\"data row1 col6\" >None</td>\n",
       "    </tr>\n",
       "    <tr>\n",
       "      <td id=\"T_7151a_row2_col0\" class=\"data row2 col0\" >3</td>\n",
       "      <td id=\"T_7151a_row2_col1\" class=\"data row2 col1\" >Jane</td>\n",
       "      <td id=\"T_7151a_row2_col2\" class=\"data row2 col2\" >Peacock</td>\n",
       "      <td id=\"T_7151a_row2_col3\" class=\"data row2 col3\" >Sales Support Agent</td>\n",
       "      <td id=\"T_7151a_row2_col4\" class=\"data row2 col4\" >Luís</td>\n",
       "      <td id=\"T_7151a_row2_col5\" class=\"data row2 col5\" >Gonçalves</td>\n",
       "      <td id=\"T_7151a_row2_col6\" class=\"data row2 col6\" >Embraer - Empresa Brasileira de Aeronáutica S.A.</td>\n",
       "    </tr>\n",
       "    <tr>\n",
       "      <td id=\"T_7151a_row3_col0\" class=\"data row3 col0\" >3</td>\n",
       "      <td id=\"T_7151a_row3_col1\" class=\"data row3 col1\" >Jane</td>\n",
       "      <td id=\"T_7151a_row3_col2\" class=\"data row3 col2\" >Peacock</td>\n",
       "      <td id=\"T_7151a_row3_col3\" class=\"data row3 col3\" >Sales Support Agent</td>\n",
       "      <td id=\"T_7151a_row3_col4\" class=\"data row3 col4\" >François</td>\n",
       "      <td id=\"T_7151a_row3_col5\" class=\"data row3 col5\" >Tremblay</td>\n",
       "      <td id=\"T_7151a_row3_col6\" class=\"data row3 col6\" >None</td>\n",
       "    </tr>\n",
       "    <tr>\n",
       "      <td id=\"T_7151a_row4_col0\" class=\"data row4 col0\" >3</td>\n",
       "      <td id=\"T_7151a_row4_col1\" class=\"data row4 col1\" >Jane</td>\n",
       "      <td id=\"T_7151a_row4_col2\" class=\"data row4 col2\" >Peacock</td>\n",
       "      <td id=\"T_7151a_row4_col3\" class=\"data row4 col3\" >Sales Support Agent</td>\n",
       "      <td id=\"T_7151a_row4_col4\" class=\"data row4 col4\" >Roberto</td>\n",
       "      <td id=\"T_7151a_row4_col5\" class=\"data row4 col5\" >Almeida</td>\n",
       "      <td id=\"T_7151a_row4_col6\" class=\"data row4 col6\" >Riotur</td>\n",
       "    </tr>\n",
       "  </tbody>\n",
       "</table>\n"
      ],
      "text/plain": [
       "<pandas.io.formats.style.Styler at 0x2224dda00d0>"
      ]
     },
     "metadata": {},
     "output_type": "display_data"
    }
   ],
   "source": [
    "statement = select(\n",
    "    Employee.EmployeeId, \n",
    "    Employee.FirstName.label(\"Emp_First_Name\"),\n",
    "    Employee.LastName.label(\"Emp_Last_Name\"), \n",
    "    Employee.Title,\n",
    "    Customer.FirstName.label(\"Cust_First_Name\"),\n",
    "    Customer.LastName.label(\"Cust_Last_Name\"),\n",
    "    Customer.Company.label(\"Cust_Company\"),   \n",
    ").outerjoin(Customer)\n",
    "\n",
    "dataframe = pd.read_sql_query(sql=statement, con=engine)\n",
    "print(dataframe.shape)\n",
    "display(dataframe.head().style.hide(axis=\"index\"))"
   ]
  },
  {
   "cell_type": "code",
   "execution_count": 80,
   "id": "293268c1",
   "metadata": {},
   "outputs": [
    {
     "name": "stdout",
     "output_type": "stream",
     "text": [
      " EmployeeId    Employee Name               Title  Num_Customers\n",
      "          1     Andrew Adams     General Manager              0\n",
      "          2    Nancy Edwards       Sales Manager              0\n",
      "          3     Jane Peacock Sales Support Agent             21\n",
      "          4    Margaret Park Sales Support Agent             20\n",
      "          5    Steve Johnson Sales Support Agent             18\n",
      "          6 Michael Mitchell          IT Manager              0\n",
      "          7      Robert King            IT Staff              0\n",
      "          8   Laura Callahan            IT Staff              0\n"
     ]
    }
   ],
   "source": [
    "statement = (\n",
    "    select(\n",
    "        Employee.EmployeeId, \n",
    "        (Employee.FirstName + ' ' + Employee.LastName).label(\"Employee Name\"), \n",
    "        Employee.Title,\n",
    "        func.count(Customer.CustomerId).label(\"Num_Customers\")\n",
    "    )\n",
    "    .outerjoin(Customer)\n",
    "    .group_by(Employee.EmployeeId)\n",
    ")\n",
    "\n",
    "dataframe = pd.read_sql_query(sql=statement, con=engine)\n",
    "print(dataframe.to_string(index=False))"
   ]
  },
  {
   "cell_type": "code",
   "execution_count": 83,
   "id": "ba254953",
   "metadata": {},
   "outputs": [
    {
     "ename": "NameError",
     "evalue": "name 'sqlite_master' is not defined",
     "output_type": "error",
     "traceback": [
      "\u001b[1;31m---------------------------------------------------------------------------\u001b[0m",
      "\u001b[1;31mNameError\u001b[0m                                 Traceback (most recent call last)",
      "Cell \u001b[1;32mIn[83], line 2\u001b[0m\n\u001b[0;32m      1\u001b[0m \u001b[38;5;66;03m#statement = 'SELECT name FROM sqlite_master WHERE type= \"table\"'\u001b[39;00m\n\u001b[1;32m----> 2\u001b[0m statement \u001b[38;5;241m=\u001b[39m select(\u001b[43msqlite_master\u001b[49m\u001b[38;5;241m.\u001b[39mname)\n\u001b[0;32m      3\u001b[0m \u001b[38;5;28mprint\u001b[39m(statement)\n\u001b[0;32m      4\u001b[0m tables \u001b[38;5;241m=\u001b[39m pd\u001b[38;5;241m.\u001b[39mread_sql_query(statement, url)\n",
      "\u001b[1;31mNameError\u001b[0m: name 'sqlite_master' is not defined"
     ]
    }
   ],
   "source": [
    "#statement = 'SELECT name FROM sqlite_master WHERE type= \"table\"'\n",
    "statement = select(sqlite_master.name)\n",
    "print(statement)\n",
    "tables = pd.read_sql_query(statement, url)\n",
    "print(tables)\n"
   ]
  },
  {
   "cell_type": "code",
   "execution_count": 85,
   "id": "e575c692",
   "metadata": {},
   "outputs": [
    {
     "name": "stdout",
     "output_type": "stream",
     "text": [
      "['Album', 'Artist', 'Customer', 'Employee', 'Genre', 'Invoice', 'InvoiceLine', 'MediaType', 'Playlist', 'PlaylistTrack', 'Track']\n"
     ]
    }
   ],
   "source": [
    "from sqlalchemy import inspect\n",
    "\n",
    "inspector = inspect(engine)\n",
    "\n",
    "print(inspector.get_table_names())"
   ]
  },
  {
   "cell_type": "code",
   "execution_count": 86,
   "id": "e2912f72",
   "metadata": {
    "scrolled": true
   },
   "outputs": [
    {
     "name": "stdout",
     "output_type": "stream",
     "text": [
      "[{'autoincrement': 'auto',\n",
      "  'default': None,\n",
      "  'name': 'AlbumId',\n",
      "  'nullable': False,\n",
      "  'primary_key': 1,\n",
      "  'type': INTEGER()},\n",
      " {'autoincrement': 'auto',\n",
      "  'default': None,\n",
      "  'name': 'Title',\n",
      "  'nullable': False,\n",
      "  'primary_key': 0,\n",
      "  'type': NVARCHAR(length=160)},\n",
      " {'autoincrement': 'auto',\n",
      "  'default': None,\n",
      "  'name': 'ArtistId',\n",
      "  'nullable': False,\n",
      "  'primary_key': 0,\n",
      "  'type': INTEGER()}]\n",
      "\n"
     ]
    }
   ],
   "source": [
    "from pprint import pprint\n",
    "\n",
    "pprint(inspector.get_columns(\"Album\"))\n",
    "print()"
   ]
  },
  {
   "cell_type": "code",
   "execution_count": 91,
   "id": "861400b6",
   "metadata": {},
   "outputs": [
    {
     "name": "stdout",
     "output_type": "stream",
     "text": [
      "{'constrained_columns': ['PlaylistId', 'TrackId'], 'name': None}\n"
     ]
    }
   ],
   "source": [
    "print(inspector.get_pk_constraint(\"PlaylistTrack\"))"
   ]
  },
  {
   "cell_type": "code",
   "execution_count": 90,
   "id": "e82462b7",
   "metadata": {
    "scrolled": true
   },
   "outputs": [
    {
     "name": "stdout",
     "output_type": "stream",
     "text": [
      "[{'constrained_columns': ['ArtistId'],\n",
      "  'name': None,\n",
      "  'options': {},\n",
      "  'referred_columns': ['ArtistId'],\n",
      "  'referred_schema': None,\n",
      "  'referred_table': 'Artist'}]\n"
     ]
    }
   ],
   "source": [
    "pprint(inspector.get_foreign_keys(\"Album\"))"
   ]
  },
  {
   "cell_type": "code",
   "execution_count": 102,
   "id": "88965c22",
   "metadata": {
    "scrolled": true
   },
   "outputs": [
    {
     "name": "stdout",
     "output_type": "stream",
     "text": [
      "Table = Album\n",
      "Columns = Title, ArtistId, AlbumId\n",
      "Primary Keys = AlbumId\n",
      "Foreign Keys:\n",
      "    ArtistId ---> Artist:ArtistId\n",
      "\n",
      "Table = Artist\n",
      "Columns = Name, ArtistId\n",
      "Primary Keys = ArtistId\n",
      "\n",
      "Table = Customer\n",
      "Columns = FirstName, LastName, Company, Address, City, State, Country, PostalCode, Phone, Fax, Email, SupportRepId, CustomerId\n",
      "Primary Keys = CustomerId\n",
      "Foreign Keys:\n",
      "    SupportRepId ---> Employee:EmployeeId\n",
      "\n",
      "Table = Employee\n",
      "Columns = LastName, FirstName, Title, ReportsTo, BirthDate, HireDate, Address, City, State, Country, PostalCode, Phone, Fax, Email, EmployeeId\n",
      "Primary Keys = EmployeeId\n",
      "Foreign Keys:\n",
      "    ReportsTo ---> Employee:EmployeeId\n",
      "\n",
      "Table = Genre\n",
      "Columns = Name, GenreId\n",
      "Primary Keys = GenreId\n",
      "\n",
      "Table = Invoice\n",
      "Columns = CustomerId, InvoiceDate, BillingAddress, BillingCity, BillingState, BillingCountry, BillingPostalCode, Total, InvoiceId\n",
      "Primary Keys = InvoiceId\n",
      "Foreign Keys:\n",
      "    CustomerId ---> Customer:CustomerId\n",
      "\n",
      "Table = InvoiceLine\n",
      "Columns = InvoiceId, TrackId, UnitPrice, Quantity, InvoiceLineId\n",
      "Primary Keys = InvoiceLineId\n",
      "Foreign Keys:\n",
      "    TrackId ---> Track:TrackId\n",
      "    InvoiceId ---> Invoice:InvoiceId\n",
      "\n",
      "Table = MediaType\n",
      "Columns = Name, MediaTypeId\n",
      "Primary Keys = MediaTypeId\n",
      "\n",
      "Table = Playlist\n",
      "Columns = Name, PlaylistId\n",
      "Primary Keys = PlaylistId\n",
      "\n",
      "Table = PlaylistTrack\n",
      "Columns = PlaylistId, TrackId\n",
      "Primary Keys = PlaylistId, TrackId\n",
      "Foreign Keys:\n",
      "    TrackId ---> Track:TrackId\n",
      "    PlaylistId ---> Playlist:PlaylistId\n",
      "\n",
      "Table = Track\n",
      "Columns = Name, AlbumId, MediaTypeId, GenreId, Composer, Milliseconds, Bytes, UnitPrice, TrackId\n",
      "Primary Keys = TrackId\n",
      "Foreign Keys:\n",
      "    MediaTypeId ---> MediaType:MediaTypeId\n",
      "    GenreId ---> Genre:GenreId\n",
      "    AlbumId ---> Album:AlbumId\n",
      "\n"
     ]
    }
   ],
   "source": [
    "def inspect_table(table_name):\n",
    "\n",
    "    print(f\"Table = {table_name}\")\n",
    "    \n",
    "    print(f\"Columns = \", end=\"\")\n",
    "    col_names_list = []\n",
    "    for col in inspector.get_columns(table_name):\n",
    "        col_names_list.append(col['name'])\n",
    "    print(*col_names_list, sep=\", \")\n",
    "    \n",
    "    print(f\"Primary Keys = \", end=\"\")\n",
    "    pk_list = inspector.get_pk_constraint(table_name)\n",
    "    pk_name_list = pk_list[\"constrained_columns\"]\n",
    "    print(*pk_name_list, sep=\", \")\n",
    "\n",
    "    fk_list = inspector.get_foreign_keys(table_name)\n",
    "    if fk_list:\n",
    "        print(f\"Foreign Keys:\")\n",
    "        fk_name_list = []\n",
    "        fk_reftbl_list = []\n",
    "        fk_refcol_list = []\n",
    "        \n",
    "        for fk in fk_list:\n",
    "            fk_name_list.append(*fk['constrained_columns'])\n",
    "            fk_reftbl_list.append(fk['referred_table'])\n",
    "            fk_refcol_list.append(*fk['referred_columns'])\n",
    "            \n",
    "        fk_info = zip(fk_name_list, fk_reftbl_list, fk_refcol_list)\n",
    "        \n",
    "        for n, t, c in fk_info:\n",
    "            print(f\"    {n} ---> {t}:{c}\")\n",
    "\n",
    "            \n",
    "for tbl in inspector.get_table_names():\n",
    "    inspect_table(tbl)\n",
    "    print()\n"
   ]
  },
  {
   "cell_type": "code",
   "execution_count": null,
   "id": "70e346a6",
   "metadata": {},
   "outputs": [],
   "source": []
  },
  {
   "cell_type": "code",
   "execution_count": 96,
   "id": "4e402b7e",
   "metadata": {
    "scrolled": true
   },
   "outputs": [
    {
     "name": "stdout",
     "output_type": "stream",
     "text": [
      "Table = Album\n",
      "Columns = Title, ArtistId, AlbumId\n",
      "Primary Keys = AlbumId\n",
      "Foreign Keys:\n",
      "    ArtistId ---> Artist:ArtistId\n",
      "\n",
      "Table = Artist\n",
      "Columns = Name, ArtistId\n",
      "Primary Keys = ArtistId\n",
      "\n",
      "Table = Customer\n",
      "Columns = FirstName, LastName, Company, Address, City, State, Country, PostalCode, Phone, Fax, Email, SupportRepId, CustomerId\n",
      "Primary Keys = CustomerId\n",
      "Foreign Keys:\n",
      "    SupportRepId ---> Employee:EmployeeId\n",
      "\n",
      "Table = Employee\n",
      "Columns = LastName, FirstName, Title, ReportsTo, BirthDate, HireDate, Address, City, State, Country, PostalCode, Phone, Fax, Email, EmployeeId\n",
      "Primary Keys = EmployeeId\n",
      "Foreign Keys:\n",
      "    ReportsTo ---> Employee:EmployeeId\n",
      "\n",
      "Table = Genre\n",
      "Columns = Name, GenreId\n",
      "Primary Keys = GenreId\n",
      "\n",
      "Table = Invoice\n",
      "Columns = CustomerId, InvoiceDate, BillingAddress, BillingCity, BillingState, BillingCountry, BillingPostalCode, Total, InvoiceId\n",
      "Primary Keys = InvoiceId\n",
      "Foreign Keys:\n",
      "    CustomerId ---> Customer:CustomerId\n",
      "\n",
      "Table = InvoiceLine\n",
      "Columns = InvoiceId, TrackId, UnitPrice, Quantity, InvoiceLineId\n",
      "Primary Keys = InvoiceLineId\n",
      "Foreign Keys:\n",
      "    TrackId ---> Track:TrackId\n",
      "    InvoiceId ---> Invoice:InvoiceId\n",
      "\n",
      "Table = MediaType\n",
      "Columns = Name, MediaTypeId\n",
      "Primary Keys = MediaTypeId\n",
      "\n",
      "Table = Playlist\n",
      "Columns = Name, PlaylistId\n",
      "Primary Keys = PlaylistId\n",
      "\n",
      "Table = PlaylistTrack\n",
      "Columns = PlaylistId, TrackId\n",
      "Primary Keys = PlaylistId, TrackId\n",
      "Foreign Keys:\n",
      "    TrackId ---> Track:TrackId\n",
      "    PlaylistId ---> Playlist:PlaylistId\n",
      "\n",
      "Table = Track\n",
      "Columns = Name, AlbumId, MediaTypeId, GenreId, Composer, Milliseconds, Bytes, UnitPrice, TrackId\n",
      "Primary Keys = TrackId\n",
      "Foreign Keys:\n",
      "    MediaTypeId ---> MediaType:MediaTypeId\n",
      "    GenreId ---> Genre:GenreId\n",
      "    AlbumId ---> Album:AlbumId\n",
      "\n"
     ]
    }
   ],
   "source": [
    "for table_name in inspector.get_table_names():\n",
    "\n",
    "    print(f\"Table = {table_name}\")\n",
    "    \n",
    "    print(f\"Columns = \", end=\"\")\n",
    "    col_names_list = []\n",
    "    for col in inspector.get_columns(table_name):\n",
    "        col_names_list.append(col['name'])\n",
    "    print(*col_names_list, sep=\", \")\n",
    "    \n",
    "    print(f\"Primary Keys = \", end=\"\")\n",
    "    pk_list = inspector.get_pk_constraint(table_name)\n",
    "    pk_name_list = pk_list[\"constrained_columns\"]\n",
    "    print(*pk_name_list, sep=\", \")\n",
    "\n",
    "    fk_list = inspector.get_foreign_keys(table_name)\n",
    "    if fk_list:\n",
    "        print(f\"Foreign Keys:\")\n",
    "        fk_name_list = []\n",
    "        fk_reftbl_list = []\n",
    "        fk_refcol_list = []\n",
    "        \n",
    "        for fk in fk_list:\n",
    "            fk_name_list.append(*fk['constrained_columns'])\n",
    "            fk_reftbl_list.append(fk['referred_table'])\n",
    "            fk_refcol_list.append(*fk['referred_columns'])\n",
    "            \n",
    "        fk_info = zip(fk_name_list, fk_reftbl_list, fk_refcol_list)\n",
    "        \n",
    "        for n, t, c in fk_info:\n",
    "            print(f\"    {n} ---> {t}:{c}\")\n",
    "\n",
    "    print()"
   ]
  },
  {
   "cell_type": "code",
   "execution_count": 99,
   "id": "04154df9",
   "metadata": {
    "scrolled": true
   },
   "outputs": [
    {
     "name": "stdout",
     "output_type": "stream",
     "text": [
      "Table = Album\n",
      "Columns = Title, ArtistId, AlbumId\n",
      "Primary Keys = AlbumId\n",
      "Foreign Keys:\n",
      "    ArtistId ---> Artist:ArtistId\n",
      "\n",
      "Table = Artist\n",
      "Columns = Name, ArtistId\n",
      "Primary Keys = ArtistId\n",
      "\n",
      "Table = Customer\n",
      "Columns = FirstName, LastName, Company, Address, City, State, Country, PostalCode, Phone, Fax, Email, SupportRepId, CustomerId\n",
      "Primary Keys = CustomerId\n",
      "Foreign Keys:\n",
      "    SupportRepId ---> Employee:EmployeeId\n",
      "\n",
      "Table = Employee\n",
      "Columns = LastName, FirstName, Title, ReportsTo, BirthDate, HireDate, Address, City, State, Country, PostalCode, Phone, Fax, Email, EmployeeId\n",
      "Primary Keys = EmployeeId\n",
      "Foreign Keys:\n",
      "    ReportsTo ---> Employee:EmployeeId\n",
      "\n",
      "Table = Genre\n",
      "Columns = Name, GenreId\n",
      "Primary Keys = GenreId\n",
      "\n",
      "Table = Invoice\n",
      "Columns = CustomerId, InvoiceDate, BillingAddress, BillingCity, BillingState, BillingCountry, BillingPostalCode, Total, InvoiceId\n",
      "Primary Keys = InvoiceId\n",
      "Foreign Keys:\n",
      "    CustomerId ---> Customer:CustomerId\n",
      "\n",
      "Table = InvoiceLine\n",
      "Columns = InvoiceId, TrackId, UnitPrice, Quantity, InvoiceLineId\n",
      "Primary Keys = InvoiceLineId\n",
      "Foreign Keys:\n",
      "    TrackId ---> Track:TrackId\n",
      "    InvoiceId ---> Invoice:InvoiceId\n",
      "\n",
      "Table = MediaType\n",
      "Columns = Name, MediaTypeId\n",
      "Primary Keys = MediaTypeId\n",
      "\n",
      "Table = Playlist\n",
      "Columns = Name, PlaylistId\n",
      "Primary Keys = PlaylistId\n",
      "\n",
      "Table = PlaylistTrack\n",
      "Columns = PlaylistId, TrackId\n",
      "Primary Keys = PlaylistId, TrackId\n",
      "Foreign Keys:\n",
      "    TrackId ---> Track:TrackId\n",
      "    PlaylistId ---> Playlist:PlaylistId\n",
      "\n",
      "Table = Track\n",
      "Columns = Name, AlbumId, MediaTypeId, GenreId, Composer, Milliseconds, Bytes, UnitPrice, TrackId\n",
      "Primary Keys = TrackId\n",
      "Foreign Keys:\n",
      "    MediaTypeId ---> MediaType:MediaTypeId\n",
      "    GenreId ---> Genre:GenreId\n",
      "    AlbumId ---> Album:AlbumId\n",
      "\n"
     ]
    }
   ],
   "source": [
    "def tbls():\n",
    "    for table_name in inspector.get_table_names():\n",
    "\n",
    "        print(f\"Table = {table_name}\")\n",
    "\n",
    "        print(f\"Columns = \", end=\"\")\n",
    "        col_names_list = []\n",
    "        for col in inspector.get_columns(table_name):\n",
    "            col_names_list.append(col['name'])\n",
    "        print(*col_names_list, sep=\", \")\n",
    "\n",
    "        print(f\"Primary Keys = \", end=\"\")\n",
    "        pk_list = inspector.get_pk_constraint(table_name)\n",
    "        pk_name_list = pk_list[\"constrained_columns\"]\n",
    "        print(*pk_name_list, sep=\", \")\n",
    "\n",
    "        fk_list = inspector.get_foreign_keys(table_name)\n",
    "        if fk_list:\n",
    "            print(f\"Foreign Keys:\")\n",
    "            fk_name_list = []\n",
    "            fk_reftbl_list = []\n",
    "            fk_refcol_list = []\n",
    "\n",
    "            for fk in fk_list:\n",
    "                fk_name_list.append(*fk['constrained_columns'])\n",
    "                fk_reftbl_list.append(fk['referred_table'])\n",
    "                fk_refcol_list.append(*fk['referred_columns'])\n",
    "\n",
    "            fk_info = zip(fk_name_list, fk_reftbl_list, fk_refcol_list)\n",
    "\n",
    "            for n, t, c in fk_info:\n",
    "                print(f\"    {n} ---> {t}:{c}\")\n",
    "\n",
    "        print()\n",
    "\n",
    "tbls()"
   ]
  },
  {
   "cell_type": "code",
   "execution_count": 160,
   "id": "f2ecfca8",
   "metadata": {},
   "outputs": [
    {
     "name": "stdout",
     "output_type": "stream",
     "text": [
      "Table = Album\n",
      "Columns = Title, ArtistId, AlbumId\n",
      "Primary Keys = AlbumId\n",
      "Foreign Keys:\n",
      "    ArtistId ---> Artist:ArtistId\n",
      "\n",
      "Table = Artist\n",
      "Columns = Name, ArtistId\n",
      "Primary Keys = ArtistId\n",
      "\n",
      "Table = Customer\n",
      "Columns = FirstName, LastName, Company, Address, City, State, Country, PostalCode, Phone, Fax, Email, SupportRepId, CustomerId\n",
      "Primary Keys = CustomerId\n",
      "Foreign Keys:\n",
      "    SupportRepId ---> Employee:EmployeeId\n",
      "\n",
      "Table = Employee\n",
      "Columns = LastName, FirstName, Title, ReportsTo, BirthDate, HireDate, Address, City, State, Country, PostalCode, Phone, Fax, Email, EmployeeId\n",
      "Primary Keys = EmployeeId\n",
      "Foreign Keys:\n",
      "    ReportsTo ---> Employee:EmployeeId\n",
      "\n",
      "Table = Genre\n",
      "Columns = Name, GenreId\n",
      "Primary Keys = GenreId\n",
      "\n",
      "Table = Invoice\n",
      "Columns = CustomerId, InvoiceDate, BillingAddress, BillingCity, BillingState, BillingCountry, BillingPostalCode, Total, InvoiceId\n",
      "Primary Keys = InvoiceId\n",
      "Foreign Keys:\n",
      "    CustomerId ---> Customer:CustomerId\n",
      "\n",
      "Table = InvoiceLine\n",
      "Columns = InvoiceId, TrackId, UnitPrice, Quantity, InvoiceLineId\n",
      "Primary Keys = InvoiceLineId\n",
      "Foreign Keys:\n",
      "    TrackId ---> Track:TrackId\n",
      "    InvoiceId ---> Invoice:InvoiceId\n",
      "\n",
      "Table = MediaType\n",
      "Columns = Name, MediaTypeId\n",
      "Primary Keys = MediaTypeId\n",
      "\n",
      "Table = Playlist\n",
      "Columns = Name, PlaylistId\n",
      "Primary Keys = PlaylistId\n",
      "\n",
      "Table = PlaylistTrack\n",
      "Columns = PlaylistId, TrackId\n",
      "Primary Keys = PlaylistId, TrackId\n",
      "Foreign Keys:\n",
      "    TrackId ---> Track:TrackId\n",
      "    PlaylistId ---> Playlist:PlaylistId\n",
      "\n",
      "Table = Track\n",
      "Columns = Name, AlbumId, MediaTypeId, GenreId, Composer, Milliseconds, Bytes, UnitPrice, TrackId\n",
      "Primary Keys = TrackId\n",
      "Foreign Keys:\n",
      "    MediaTypeId ---> MediaType:MediaTypeId\n",
      "    GenreId ---> Genre:GenreId\n",
      "    AlbumId ---> Album:AlbumId\n",
      "\n"
     ]
    }
   ],
   "source": [
    "def inspect_table(table_name):\n",
    "    tbl_out = f\"Table = {table_name}\\n\"\n",
    "    #print(tbl_out)\n",
    "    \n",
    "    col_out = \"Columns = \"\n",
    "    cols_list = inspector.get_columns(table_name)\n",
    "    for i, c in enumerate(cols_list, 1):\n",
    "        if i < len(cols_list):\n",
    "            col_out += (c['name'] + \", \")\n",
    "        else:\n",
    "            col_out += c['name'] + \"\\n\"\n",
    "    \n",
    "    pk_out = \"Primary Keys = \"\n",
    "    pk = inspector.get_pk_constraint(table_name)\n",
    "    pk_list = pk[\"constrained_columns\"]\n",
    "    for i, c in enumerate(pk_list):\n",
    "        if i < len(pk_list) - 1:\n",
    "            pk_out += (c + \", \")\n",
    "        else:\n",
    "            pk_out += (c + \"\\n\")  \n",
    "    \n",
    "    fk_out = \"\"\n",
    "    fk_list = inspector.get_foreign_keys(table_name)\n",
    "    if fk_list:\n",
    "        fk_out = \"Foreign Keys:\\n\"\n",
    "        fk_name_list = []\n",
    "        fk_reftbl_list = []\n",
    "        fk_refcol_list = []\n",
    "        \n",
    "        for fk in fk_list:\n",
    "            fk_name_list.append(*fk['constrained_columns'])\n",
    "            fk_reftbl_list.append(fk['referred_table'])\n",
    "            fk_refcol_list.append(*fk['referred_columns'])\n",
    "            \n",
    "        fk_info = zip(fk_name_list, fk_reftbl_list, fk_refcol_list)\n",
    "        \n",
    "        for n, t, c in fk_info:\n",
    "            fk_out += f\"    {n} ---> {t}:{c}\\n\"\n",
    "    \n",
    "    return(\"\".join([tbl_out, col_out, pk_out, fk_out]))\n",
    "            \n",
    "for tbl in inspector.get_table_names():\n",
    "    print(inspect_table(tbl))\n"
   ]
  },
  {
   "cell_type": "code",
   "execution_count": 162,
   "id": "9e52a514",
   "metadata": {
    "scrolled": true
   },
   "outputs": [
    {
     "name": "stdout",
     "output_type": "stream",
     "text": [
      "Table = Album\n",
      "Columns = Title, ArtistId, AlbumId\n",
      "Primary Keys = AlbumId\n",
      "Foreign Keys:\n",
      "    ArtistId ---> Artist:ArtistId\n",
      "\n"
     ]
    }
   ],
   "source": [
    "print(inspect_table(\"Album\"))"
   ]
  },
  {
   "cell_type": "code",
   "execution_count": 174,
   "id": "6dfffcfc",
   "metadata": {},
   "outputs": [
    {
     "name": "stdout",
     "output_type": "stream",
     "text": [
      "Album table relationships\n",
      "\n",
      "[('artist', <RelationshipProperty at 0x2223a325f50; artist>),\n",
      " ('track_collection',\n",
      "  <RelationshipProperty at 0x2223a3afa50; track_collection>)]\n"
     ]
    }
   ],
   "source": [
    "print(f\"Album table relationships\")\n",
    "print()\n",
    "thing_relations = inspect(Album).relationships.items()\n",
    "pprint(thing_relations)\n",
    "# for relationship in inspect(Album).relationships:\n",
    "#     print(dir(relationship))\n",
    "#     print(f\"Relationship: {relationship}\")\n",
    "#     print(f\"Direction:    {relationship.direction}\")\n",
    "#     print(f\"Joined Table: {relationship.target}\")\n",
    "#     print(f\"strategy: {relationship.strategy}\")\n",
    "#     print(f\"remote_side: {relationship.remote_side}\")\n",
    "#     print(relationship.items())\n",
    "    \n",
    "#     print()"
   ]
  }
 ],
 "metadata": {
  "kernelspec": {
   "display_name": "Python 3 (ipykernel)",
   "language": "python",
   "name": "python3"
  },
  "language_info": {
   "codemirror_mode": {
    "name": "ipython",
    "version": 3
   },
   "file_extension": ".py",
   "mimetype": "text/x-python",
   "name": "python",
   "nbconvert_exporter": "python",
   "pygments_lexer": "ipython3",
   "version": "3.11.2"
  }
 },
 "nbformat": 4,
 "nbformat_minor": 5
}
