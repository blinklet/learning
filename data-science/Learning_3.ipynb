{
 "cells": [
  {
   "cell_type": "markdown",
   "id": "106f03db",
   "metadata": {},
   "source": [
    "\n"
   ]
  },
  {
   "cell_type": "code",
   "execution_count": 324,
   "id": "83ff17a9",
   "metadata": {
    "scrolled": true
   },
   "outputs": [
    {
     "name": "stdout",
     "output_type": "stream",
     "text": [
      "['Album',\n",
      " 'Artist',\n",
      " 'Customer',\n",
      " 'Employee',\n",
      " 'Genre',\n",
      " 'Invoice',\n",
      " 'InvoiceLine',\n",
      " 'MediaType',\n",
      " 'Playlist',\n",
      " 'PlaylistTrack',\n",
      " 'Track']\n",
      "[{'autoincrement': 'auto',\n",
      "  'default': None,\n",
      "  'name': 'AlbumId',\n",
      "  'nullable': False,\n",
      "  'primary_key': 1,\n",
      "  'type': INTEGER()},\n",
      " {'autoincrement': 'auto',\n",
      "  'default': None,\n",
      "  'name': 'Title',\n",
      "  'nullable': False,\n",
      "  'primary_key': 0,\n",
      "  'type': NVARCHAR(length=160)},\n",
      " {'autoincrement': 'auto',\n",
      "  'default': None,\n",
      "  'name': 'ArtistId',\n",
      "  'nullable': False,\n",
      "  'primary_key': 0,\n",
      "  'type': INTEGER()}]\n",
      "\n",
      "{'constrained_columns': ['AlbumId'], 'name': None}\n"
     ]
    }
   ],
   "source": [
    "from sqlalchemy import create_engine, inspect\n",
    "\n",
    "engine = create_engine(r\"sqlite:///C:/Users/blinklet/Documents/chinook-database/ChinookDatabase/DataSources/Chinook_Sqlite.sqlite\")\n",
    "inspector = inspect(engine)\n",
    "\n",
    "from pprint import pprint\n",
    "\n",
    "pprint(inspector.get_table_names())\n",
    "\n",
    "# Columns in table \"Album\"\n",
    "pprint(inspector.get_columns(\"Album\"))\n",
    "print()\n",
    "\n",
    "# Primary Key for table \"Album\"\n",
    "pprint(inspector.get_pk_constraint(\"Album\"))\n"
   ]
  },
  {
   "cell_type": "code",
   "execution_count": 342,
   "id": "c9ef74cf",
   "metadata": {},
   "outputs": [
    {
     "name": "stdout",
     "output_type": "stream",
     "text": [
      "Album, Artist, Customer, Employee, Genre, Invoice, InvoiceLine, Track, MediaType, Playlist, PlaylistTrack\n",
      "FacadeDict({'Album': Table('Album', MetaData(), Column('AlbumId', INTEGER(), table=<Album>, primary_key=True, nullable=False), Column('Title', NVARCHAR(length=160), table=<Album>, nullable=False), Column('ArtistId', INTEGER(), ForeignKey('Artist.ArtistId'), table=<Album>, nullable=False), schema=None), 'Artist': Table('Artist', MetaData(), Column('ArtistId', INTEGER(), table=<Artist>, primary_key=True, nullable=False), Column('Name', NVARCHAR(length=120), table=<Artist>), schema=None), 'Customer': Table('Customer', MetaData(), Column('CustomerId', INTEGER(), table=<Customer>, primary_key=True, nullable=False), Column('FirstName', NVARCHAR(length=40), table=<Customer>, nullable=False), Column('LastName', NVARCHAR(length=20), table=<Customer>, nullable=False), Column('Company', NVARCHAR(length=80), table=<Customer>), Column('Address', NVARCHAR(length=70), table=<Customer>), Column('City', NVARCHAR(length=40), table=<Customer>), Column('State', NVARCHAR(length=40), table=<Customer>), Column('Country', NVARCHAR(length=40), table=<Customer>), Column('PostalCode', NVARCHAR(length=10), table=<Customer>), Column('Phone', NVARCHAR(length=24), table=<Customer>), Column('Fax', NVARCHAR(length=24), table=<Customer>), Column('Email', NVARCHAR(length=60), table=<Customer>, nullable=False), Column('SupportRepId', INTEGER(), ForeignKey('Employee.EmployeeId'), table=<Customer>), schema=None), 'Employee': Table('Employee', MetaData(), Column('EmployeeId', INTEGER(), table=<Employee>, primary_key=True, nullable=False), Column('LastName', NVARCHAR(length=20), table=<Employee>, nullable=False), Column('FirstName', NVARCHAR(length=20), table=<Employee>, nullable=False), Column('Title', NVARCHAR(length=30), table=<Employee>), Column('ReportsTo', INTEGER(), ForeignKey('Employee.EmployeeId'), table=<Employee>), Column('BirthDate', DATETIME(), table=<Employee>), Column('HireDate', DATETIME(), table=<Employee>), Column('Address', NVARCHAR(length=70), table=<Employee>), Column('City', NVARCHAR(length=40), table=<Employee>), Column('State', NVARCHAR(length=40), table=<Employee>), Column('Country', NVARCHAR(length=40), table=<Employee>), Column('PostalCode', NVARCHAR(length=10), table=<Employee>), Column('Phone', NVARCHAR(length=24), table=<Employee>), Column('Fax', NVARCHAR(length=24), table=<Employee>), Column('Email', NVARCHAR(length=60), table=<Employee>), schema=None), 'Genre': Table('Genre', MetaData(), Column('GenreId', INTEGER(), table=<Genre>, primary_key=True, nullable=False), Column('Name', NVARCHAR(length=120), table=<Genre>), schema=None), 'Invoice': Table('Invoice', MetaData(), Column('InvoiceId', INTEGER(), table=<Invoice>, primary_key=True, nullable=False), Column('CustomerId', INTEGER(), ForeignKey('Customer.CustomerId'), table=<Invoice>, nullable=False), Column('InvoiceDate', DATETIME(), table=<Invoice>, nullable=False), Column('BillingAddress', NVARCHAR(length=70), table=<Invoice>), Column('BillingCity', NVARCHAR(length=40), table=<Invoice>), Column('BillingState', NVARCHAR(length=40), table=<Invoice>), Column('BillingCountry', NVARCHAR(length=40), table=<Invoice>), Column('BillingPostalCode', NVARCHAR(length=10), table=<Invoice>), Column('Total', NUMERIC(precision=10, scale=2), table=<Invoice>, nullable=False), schema=None), 'InvoiceLine': Table('InvoiceLine', MetaData(), Column('InvoiceLineId', INTEGER(), table=<InvoiceLine>, primary_key=True, nullable=False), Column('InvoiceId', INTEGER(), ForeignKey('Invoice.InvoiceId'), table=<InvoiceLine>, nullable=False), Column('TrackId', INTEGER(), ForeignKey('Track.TrackId'), table=<InvoiceLine>, nullable=False), Column('UnitPrice', NUMERIC(precision=10, scale=2), table=<InvoiceLine>, nullable=False), Column('Quantity', INTEGER(), table=<InvoiceLine>, nullable=False), schema=None), 'Track': Table('Track', MetaData(), Column('TrackId', INTEGER(), table=<Track>, primary_key=True, nullable=False), Column('Name', NVARCHAR(length=200), table=<Track>, nullable=False), Column('AlbumId', INTEGER(), ForeignKey('Album.AlbumId'), table=<Track>), Column('MediaTypeId', INTEGER(), ForeignKey('MediaType.MediaTypeId'), table=<Track>, nullable=False), Column('GenreId', INTEGER(), ForeignKey('Genre.GenreId'), table=<Track>), Column('Composer', NVARCHAR(length=220), table=<Track>), Column('Milliseconds', INTEGER(), table=<Track>, nullable=False), Column('Bytes', INTEGER(), table=<Track>), Column('UnitPrice', NUMERIC(precision=10, scale=2), table=<Track>, nullable=False), schema=None), 'MediaType': Table('MediaType', MetaData(), Column('MediaTypeId', INTEGER(), table=<MediaType>, primary_key=True, nullable=False), Column('Name', NVARCHAR(length=120), table=<MediaType>), schema=None), 'Playlist': Table('Playlist', MetaData(), Column('PlaylistId', INTEGER(), table=<Playlist>, primary_key=True, nullable=False), Column('Name', NVARCHAR(length=120), table=<Playlist>), schema=None), 'PlaylistTrack': Table('PlaylistTrack', MetaData(), Column('PlaylistId', INTEGER(), ForeignKey('Playlist.PlaylistId'), table=<PlaylistTrack>, primary_key=True, nullable=False), Column('TrackId', INTEGER(), ForeignKey('Track.TrackId'), table=<PlaylistTrack>, primary_key=True, nullable=False), schema=None)})\n",
      "Album, Artist, Customer, Employee, Genre, Invoice, InvoiceLine, Track, MediaType, Playlist\n"
     ]
    }
   ],
   "source": [
    "print(*Base.metadata.tables, sep=\", \")\n",
    "\n",
    "pprint(Base.metadata.tables)\n",
    "\n",
    "print(*Base.classes.keys(), sep=\", \")"
   ]
  },
  {
   "cell_type": "code",
   "execution_count": 326,
   "id": "b6db32c9",
   "metadata": {
    "scrolled": true
   },
   "outputs": [
    {
     "name": "stdout",
     "output_type": "stream",
     "text": [
      "Table = Album\n",
      "Columns = Title, ArtistId, AlbumId\n",
      "Primary Keys = AlbumId\n",
      "Foreign Keys:\n",
      "    ArtistId ---> Artist:ArtistId\n",
      "\n",
      "Table = Artist\n",
      "Columns = Name, ArtistId\n",
      "Primary Keys = ArtistId\n",
      "\n",
      "Table = Customer\n",
      "Columns = FirstName, LastName, Company, Address, City, State, Country, PostalCode, Phone, Fax, Email, SupportRepId, CustomerId\n",
      "Primary Keys = CustomerId\n",
      "Foreign Keys:\n",
      "    SupportRepId ---> Employee:EmployeeId\n",
      "\n",
      "Table = Employee\n",
      "Columns = LastName, FirstName, Title, ReportsTo, BirthDate, HireDate, Address, City, State, Country, PostalCode, Phone, Fax, Email, EmployeeId\n",
      "Primary Keys = EmployeeId\n",
      "Foreign Keys:\n",
      "    ReportsTo ---> Employee:EmployeeId\n",
      "\n",
      "Table = Genre\n",
      "Columns = Name, GenreId\n",
      "Primary Keys = GenreId\n",
      "\n",
      "Table = Invoice\n",
      "Columns = CustomerId, InvoiceDate, BillingAddress, BillingCity, BillingState, BillingCountry, BillingPostalCode, Total, InvoiceId\n",
      "Primary Keys = InvoiceId\n",
      "Foreign Keys:\n",
      "    CustomerId ---> Customer:CustomerId\n",
      "\n",
      "Table = InvoiceLine\n",
      "Columns = InvoiceId, TrackId, UnitPrice, Quantity, InvoiceLineId\n",
      "Primary Keys = InvoiceLineId\n",
      "Foreign Keys:\n",
      "    TrackId ---> Track:TrackId\n",
      "    InvoiceId ---> Invoice:InvoiceId\n",
      "\n",
      "Table = MediaType\n",
      "Columns = Name, MediaTypeId\n",
      "Primary Keys = MediaTypeId\n",
      "\n",
      "Table = Playlist\n",
      "Columns = Name, PlaylistId\n",
      "Primary Keys = PlaylistId\n",
      "\n",
      "Table = PlaylistTrack\n",
      "Columns = PlaylistId, TrackId\n",
      "Primary Keys = PlaylistId, TrackId\n",
      "Foreign Keys:\n",
      "    TrackId ---> Track:TrackId\n",
      "    PlaylistId ---> Playlist:PlaylistId\n",
      "\n",
      "Table = Track\n",
      "Columns = Name, AlbumId, MediaTypeId, GenreId, Composer, Milliseconds, Bytes, UnitPrice, TrackId\n",
      "Primary Keys = TrackId\n",
      "Foreign Keys:\n",
      "    MediaTypeId ---> MediaType:MediaTypeId\n",
      "    GenreId ---> Genre:GenreId\n",
      "    AlbumId ---> Album:AlbumId\n",
      "\n"
     ]
    }
   ],
   "source": [
    "for table_name in inspector.get_table_names():\n",
    "\n",
    "    print(f\"Table = {table_name}\")\n",
    "    \n",
    "    print(f\"Columns = \", end=\"\")\n",
    "    col_names_list = []\n",
    "    for col in inspector.get_columns(table_name):\n",
    "        col_names_list.append(col['name'])\n",
    "    print(*col_names_list, sep=\", \")\n",
    "    \n",
    "    print(f\"Primary Keys = \", end=\"\")\n",
    "    pk_list = inspector.get_pk_constraint(table_name)\n",
    "    pk_name_list = pk_list[\"constrained_columns\"]\n",
    "    print(*pk_name_list, sep=\", \")\n",
    "\n",
    "    fk_list = inspector.get_foreign_keys(table_name)\n",
    "    if fk_list:\n",
    "        print(f\"Foreign Keys:\")\n",
    "        fk_name_list = []\n",
    "        fk_reftbl_list = []\n",
    "        fk_refcol_list = []\n",
    "        \n",
    "        for fk in fk_list:\n",
    "            fk_name_list.append(*fk['constrained_columns'])\n",
    "            fk_reftbl_list.append(fk['referred_table'])\n",
    "            fk_refcol_list.append(*fk['referred_columns'])\n",
    "            \n",
    "        fk_info = zip(fk_name_list, fk_reftbl_list, fk_refcol_list)\n",
    "        \n",
    "        for n, t, c in fk_info:\n",
    "            print(f\"    {n} ---> {t}:{c}\")\n",
    "\n",
    "    print()"
   ]
  },
  {
   "cell_type": "code",
   "execution_count": 2,
   "id": "91e4ba7a",
   "metadata": {},
   "outputs": [
    {
     "name": "stdout",
     "output_type": "stream",
     "text": [
      "Album, Artist, Customer, Employee, Genre, Invoice, InvoiceLine, MediaType, Playlist, Track\n",
      "\n",
      "Album, Artist, Customer, Employee, Genre, Invoice, InvoiceLine, MediaType, Playlist, PlaylistTrack, Track\n"
     ]
    }
   ],
   "source": [
    "from sqlalchemy.ext.automap import automap_base\n",
    "from sqlalchemy.orm import Session\n",
    "\n",
    "Base = automap_base()\n",
    "Base.prepare(autoload_with=engine)\n",
    "\n",
    "print(*sorted(Base.classes.keys()), sep=\", \")\n",
    "print()\n",
    "print(*sorted(Base.metadata.tables), sep=\", \")\n",
    "\n",
    "\n",
    "\n",
    "# insp = inspect(Base.classes.Album)\n",
    "# print(insp.columns)\n",
    "# dir(insp)\n",
    "#dir(Base.classes.Album)\n",
    "#print(inspect(Base))"
   ]
  },
  {
   "cell_type": "code",
   "execution_count": 92,
   "id": "19d47818",
   "metadata": {},
   "outputs": [
    {
     "name": "stdout",
     "output_type": "stream",
     "text": [
      "Customer.employee\n",
      "Customer.invoice_collection\n"
     ]
    }
   ],
   "source": [
    "Customers = Base.classes.Customer\n",
    "session = Session(engine)\n",
    "relations = inspect(Customers).relationships\n",
    "for x in relations:\n",
    "    print(x)"
   ]
  },
  {
   "cell_type": "code",
   "execution_count": null,
   "id": "4d8425e3",
   "metadata": {},
   "outputs": [],
   "source": [
    "Invoices = Base.classes.Invoice\n",
    "session = Session(engine)\n",
    "for z in session.query(Base.classes):\n",
    "    pass\n",
    "\n",
    "# relations = inspect(Invoices).relationships\n",
    "# for x in relations:\n",
    "#     print(x, x.direction)\n",
    "    \n",
    "# inspector = inspect(engine)   \n",
    "# for tbl in inspector.get_table_names():\n",
    "#     print(f\"Table = {tbl}\")\n",
    "#     for col in inspector.get_columns(schema_name=\"main\",table_name=tbl):\n",
    "#         star = \"\"\n",
    "#         if col['primary_key'] == 1:\n",
    "#             star = \"*\"\n",
    "#         print(f\"{star}{col['name']}{star}\", end = \", \")\n",
    "#     print()\n",
    "#     par = str(tbl) + \".\" + \"relationships\"\n",
    "#     print(par)\n",
    "#     relations = inspect(par)\n",
    "#     for x in relations:\n",
    "#         print(x, x.direction)\n",
    "#     print(\"\\n\")\n"
   ]
  },
  {
   "cell_type": "code",
   "execution_count": null,
   "id": "c31d897c",
   "metadata": {},
   "outputs": [],
   "source": []
  },
  {
   "cell_type": "code",
   "execution_count": null,
   "id": "23a15d93",
   "metadata": {},
   "outputs": [],
   "source": [
    "#dir(Base.classes)\n",
    "Albums = Base.classes.Album\n",
    "# dir(Albums)\n",
    "session = Session(engine)\n",
    "u1 = session.query(Albums).limit(5).all()\n",
    "\n",
    "relations = inspect(Albums).relationships.items()\n",
    "for x in relations:\n",
    "    direction = x[0]\n",
    "    print(x[0],x[1])\n",
    "    \n",
    "# print(inspect(Albums).relationships.items())\n",
    "\n",
    "# for relationship in inspect(Albums).relationships:\n",
    "#     direction = relationship.direction\n",
    "#     print(direction)\n",
    "    \n",
    "#print(relations)\n",
    "\n",
    "# for x in relations:\n",
    "#     for a in x:\n",
    "#         print(x[0], a)\n",
    "        \n",
    "\n",
    "    \n",
    "#dir(u1[0])\n",
    "#print(u1)"
   ]
  },
  {
   "cell_type": "markdown",
   "id": "058330c4",
   "metadata": {},
   "source": [
    "# Studying reflection\n"
   ]
  },
  {
   "cell_type": "code",
   "execution_count": 27,
   "id": "aa1c0d68",
   "metadata": {
    "scrolled": true
   },
   "outputs": [
    {
     "name": "stdout",
     "output_type": "stream",
     "text": [
      "Table: Album\n",
      "Columns: \n",
      "   AlbumId           *Primary Key*   \n",
      "   Title             \n",
      "   ArtistId          {ForeignKey('Artist.ArtistId')}\n",
      "\n",
      "Table: Artist\n",
      "Columns: \n",
      "   ArtistId          *Primary Key*   \n",
      "   Name              \n",
      "\n",
      "Table: Customer\n",
      "Columns: \n",
      "   CustomerId        *Primary Key*   \n",
      "   FirstName         \n",
      "   LastName          \n",
      "   Company           \n",
      "   Address           \n",
      "   City              \n",
      "   State             \n",
      "   Country           \n",
      "   PostalCode        \n",
      "   Phone             \n",
      "   Fax               \n",
      "   Email             \n",
      "   SupportRepId      {ForeignKey('Employee.EmployeeId')}\n",
      "\n",
      "Table: Employee\n",
      "Columns: \n",
      "   EmployeeId        *Primary Key*   \n",
      "   LastName          \n",
      "   FirstName         \n",
      "   Title             \n",
      "   ReportsTo         {ForeignKey('Employee.EmployeeId')}\n",
      "   BirthDate         \n",
      "   HireDate          \n",
      "   Address           \n",
      "   City              \n",
      "   State             \n",
      "   Country           \n",
      "   PostalCode        \n",
      "   Phone             \n",
      "   Fax               \n",
      "   Email             \n",
      "\n",
      "Table: Genre\n",
      "Columns: \n",
      "   GenreId           *Primary Key*   \n",
      "   Name              \n",
      "\n",
      "Table: Invoice\n",
      "Columns: \n",
      "   InvoiceId         *Primary Key*   \n",
      "   CustomerId        {ForeignKey('Customer.CustomerId')}\n",
      "   InvoiceDate       \n",
      "   BillingAddress    \n",
      "   BillingCity       \n",
      "   BillingState      \n",
      "   BillingCountry    \n",
      "   BillingPostalCode \n",
      "   Total             \n",
      "\n",
      "Table: InvoiceLine\n",
      "Columns: \n",
      "   InvoiceLineId     *Primary Key*   \n",
      "   InvoiceId         {ForeignKey('Invoice.InvoiceId')}\n",
      "   TrackId           {ForeignKey('Track.TrackId')}\n",
      "   UnitPrice         \n",
      "   Quantity          \n",
      "\n",
      "Table: Track\n",
      "Columns: \n",
      "   TrackId           *Primary Key*   \n",
      "   Name              \n",
      "   AlbumId           {ForeignKey('Album.AlbumId')}\n",
      "   MediaTypeId       {ForeignKey('MediaType.MediaTypeId')}\n",
      "   GenreId           {ForeignKey('Genre.GenreId')}\n",
      "   Composer          \n",
      "   Milliseconds      \n",
      "   Bytes             \n",
      "   UnitPrice         \n",
      "\n",
      "Table: MediaType\n",
      "Columns: \n",
      "   MediaTypeId       *Primary Key*   \n",
      "   Name              \n",
      "\n",
      "Table: Playlist\n",
      "Columns: \n",
      "   PlaylistId        *Primary Key*   \n",
      "   Name              \n",
      "\n",
      "Table: PlaylistTrack\n",
      "Columns: \n",
      "   PlaylistId        *Primary Key*   {ForeignKey('Playlist.PlaylistId')}\n",
      "   TrackId           *Primary Key*   {ForeignKey('Track.TrackId')}\n",
      "\n"
     ]
    }
   ],
   "source": [
    "for tbl in Base.metadata.tables.values():\n",
    "    print(f\"Table: {tbl.name}\")\n",
    "    print(\"Columns: \")\n",
    "    for col in tbl.columns:\n",
    "        print(f\"   {col.name:18}\", end=\"\")\n",
    "        if col.primary_key:\n",
    "            print(f\"*Primary Key*   \", end=\"\")\n",
    "        if col.foreign_keys:\n",
    "            print(f\"{col.foreign_keys}\", end=\"\")\n",
    "        print()\n",
    "    print()\n",
    "\n",
    "# for table in Base.metadata.tables.values():\n",
    "#     print(f\"Table: {table.name}\")\n",
    "#     print(\"Columns: \", end=\"\")\n",
    "#     print(*table.columns.keys(), sep = \", \")\n",
    "#     print(\"Primary Keys: \", end=\"\")\n",
    "#     print(*table.primary_key.columns.keys(), sep=\", \")\n",
    "#     print(\"Foreign Keys: \", end=\"\")\n",
    "#     print(*table.foreign_keys, sep=\", \")\n",
    "#     print()"
   ]
  },
  {
   "cell_type": "code",
   "execution_count": 363,
   "id": "ac410c55",
   "metadata": {},
   "outputs": [
    {
     "name": "stdout",
     "output_type": "stream",
     "text": [
      "Table: PlaylistTrack\n",
      "Columns: \n",
      "   PlaylistId     *Primary Key*   {ForeignKey('Playlist.PlaylistId')}\n",
      "   TrackId        *Primary Key*   {ForeignKey('Track.TrackId')}\n",
      "\n",
      "Table: Track\n",
      "Columns: \n",
      "   TrackId        *Primary Key*   \n",
      "   Name           \n",
      "   AlbumId        {ForeignKey('Album.AlbumId')}\n",
      "   MediaTypeId    {ForeignKey('MediaType.MediaTypeId')}\n",
      "   GenreId        {ForeignKey('Genre.GenreId')}\n",
      "   Composer       \n",
      "   Milliseconds   \n",
      "   Bytes          \n",
      "   UnitPrice      \n",
      "\n"
     ]
    }
   ],
   "source": [
    "def table_info(table_name):\n",
    "    table = Base.metadata.tables[table_name]\n",
    "    print(f\"Table: {table_name}\")\n",
    "    print(f\"Columns: \")\n",
    "    for col in table.columns:\n",
    "        print(f\"   {col.name:15}\", end=\"\")\n",
    "        if col.primary_key:\n",
    "            print(f\"*Primary Key*   \", end=\"\")\n",
    "        if col.foreign_keys:\n",
    "            print(f\"{col.foreign_keys}\", end=\"\")\n",
    "        print()\n",
    "    print()\n",
    "\n",
    "table_info(\"PlaylistTrack\")\n",
    "table_info(\"Track\")"
   ]
  },
  {
   "cell_type": "code",
   "execution_count": 350,
   "id": "91f375a9",
   "metadata": {},
   "outputs": [
    {
     "data": {
      "text/plain": [
       "Table('Album', MetaData(), Column('AlbumId', INTEGER(), table=<Album>, primary_key=True, nullable=False), Column('Title', NVARCHAR(length=160), table=<Album>, nullable=False), Column('ArtistId', INTEGER(), ForeignKey('Artist.ArtistId'), table=<Album>, nullable=False), schema=None)"
      ]
     },
     "execution_count": 350,
     "metadata": {},
     "output_type": "execute_result"
    }
   ],
   "source": [
    "Base.metadata.tables[\"Album\"]"
   ]
  },
  {
   "cell_type": "code",
   "execution_count": 46,
   "id": "ca8dbf2d",
   "metadata": {},
   "outputs": [
    {
     "name": "stdout",
     "output_type": "stream",
     "text": [
      "Table: Album\n",
      "Columns: AlbumId, Title, ArtistId\n",
      "Primary Key: AlbumId\n",
      "Foreign Keys: ForeignKey('Artist.ArtistId')\n",
      "\n",
      "Table: Artist\n",
      "Columns: ArtistId, Name\n",
      "Primary Key: ArtistId\n",
      "Foreign Keys: \n",
      "\n",
      "Table: Customer\n",
      "Columns: CustomerId, FirstName, LastName, Company, Address, City, State, Country, PostalCode, Phone, Fax, Email, SupportRepId\n",
      "Primary Key: CustomerId\n",
      "Foreign Keys: ForeignKey('Employee.EmployeeId')\n",
      "\n",
      "Table: Employee\n",
      "Columns: EmployeeId, LastName, FirstName, Title, ReportsTo, BirthDate, HireDate, Address, City, State, Country, PostalCode, Phone, Fax, Email\n",
      "Primary Key: EmployeeId\n",
      "Foreign Keys: ForeignKey('Employee.EmployeeId')\n",
      "\n",
      "Table: Genre\n",
      "Columns: GenreId, Name\n",
      "Primary Key: GenreId\n",
      "Foreign Keys: \n",
      "\n",
      "Table: Invoice\n",
      "Columns: InvoiceId, CustomerId, InvoiceDate, BillingAddress, BillingCity, BillingState, BillingCountry, BillingPostalCode, Total\n",
      "Primary Key: InvoiceId\n",
      "Foreign Keys: ForeignKey('Customer.CustomerId')\n",
      "\n",
      "Table: InvoiceLine\n",
      "Columns: InvoiceLineId, InvoiceId, TrackId, UnitPrice, Quantity\n",
      "Primary Key: InvoiceLineId\n",
      "Foreign Keys: ForeignKey('Invoice.InvoiceId'), ForeignKey('Track.TrackId')\n",
      "\n",
      "Table: Track\n",
      "Columns: TrackId, Name, AlbumId, MediaTypeId, GenreId, Composer, Milliseconds, Bytes, UnitPrice\n",
      "Primary Key: TrackId\n",
      "Foreign Keys: ForeignKey('Album.AlbumId'), ForeignKey('Genre.GenreId'), ForeignKey('MediaType.MediaTypeId')\n",
      "\n",
      "Table: MediaType\n",
      "Columns: MediaTypeId, Name\n",
      "Primary Key: MediaTypeId\n",
      "Foreign Keys: \n",
      "\n",
      "Table: Playlist\n",
      "Columns: PlaylistId, Name\n",
      "Primary Key: PlaylistId\n",
      "Foreign Keys: \n",
      "\n"
     ]
    }
   ],
   "source": [
    "for x in Base.classes:\n",
    "    print(f\"Table: {x.__table__.name}\")\n",
    "    print(\"Columns: \", end=\"\")\n",
    "    print(*x.__table__.columns.keys(), sep=\", \")\n",
    "    print(\"Primary Key: \", end=\"\")\n",
    "    print(*x.__table__.primary_key.columns.keys())\n",
    "    print(\"Foreign Keys: \", end=\"\")\n",
    "    print(*x.__table__.foreign_keys, sep=\", \")\n",
    "    print()"
   ]
  },
  {
   "cell_type": "code",
   "execution_count": 388,
   "id": "81039f6d",
   "metadata": {},
   "outputs": [
    {
     "ename": "AttributeError",
     "evalue": "__table__",
     "output_type": "error",
     "traceback": [
      "\u001b[1;31m---------------------------------------------------------------------------\u001b[0m",
      "\u001b[1;31mKeyError\u001b[0m                                  Traceback (most recent call last)",
      "File \u001b[1;32m~\\Documents\\learning\\data-science\\env\\Lib\\site-packages\\sqlalchemy\\util\\_collections.py:186\u001b[0m, in \u001b[0;36mProperties.__getattr__\u001b[1;34m(self, key)\u001b[0m\n\u001b[0;32m    185\u001b[0m \u001b[38;5;28;01mtry\u001b[39;00m:\n\u001b[1;32m--> 186\u001b[0m     \u001b[38;5;28;01mreturn\u001b[39;00m \u001b[38;5;28;43mself\u001b[39;49m\u001b[38;5;241;43m.\u001b[39;49m\u001b[43m_data\u001b[49m\u001b[43m[\u001b[49m\u001b[43mkey\u001b[49m\u001b[43m]\u001b[49m\n\u001b[0;32m    187\u001b[0m \u001b[38;5;28;01mexcept\u001b[39;00m \u001b[38;5;167;01mKeyError\u001b[39;00m:\n",
      "\u001b[1;31mKeyError\u001b[0m: '__table__'",
      "\nDuring handling of the above exception, another exception occurred:\n",
      "\u001b[1;31mAttributeError\u001b[0m                            Traceback (most recent call last)",
      "Cell \u001b[1;32mIn[388], line 12\u001b[0m\n\u001b[0;32m     10\u001b[0m Track \u001b[38;5;241m=\u001b[39m Base\u001b[38;5;241m.\u001b[39mclasses\u001b[38;5;241m.\u001b[39mTrack\n\u001b[0;32m     11\u001b[0m playlisttrack \u001b[38;5;241m=\u001b[39m Base\u001b[38;5;241m.\u001b[39mmetadata\u001b[38;5;241m.\u001b[39mtables[\u001b[38;5;124m'\u001b[39m\u001b[38;5;124mPlaylistTrack\u001b[39m\u001b[38;5;124m'\u001b[39m]\n\u001b[1;32m---> 12\u001b[0m \u001b[43mBase\u001b[49m\u001b[38;5;241;43m.\u001b[39;49m\u001b[43mclasses\u001b[49m\u001b[38;5;241;43m.\u001b[39;49m\u001b[43m__table__\u001b[49m\u001b[38;5;241m.\u001b[39mPlaylistTrack\n\u001b[0;32m     13\u001b[0m playlisttrack\n\u001b[0;32m     14\u001b[0m Playlist\n",
      "File \u001b[1;32m~\\Documents\\learning\\data-science\\env\\Lib\\site-packages\\sqlalchemy\\util\\_collections.py:188\u001b[0m, in \u001b[0;36mProperties.__getattr__\u001b[1;34m(self, key)\u001b[0m\n\u001b[0;32m    186\u001b[0m     \u001b[38;5;28;01mreturn\u001b[39;00m \u001b[38;5;28mself\u001b[39m\u001b[38;5;241m.\u001b[39m_data[key]\n\u001b[0;32m    187\u001b[0m \u001b[38;5;28;01mexcept\u001b[39;00m \u001b[38;5;167;01mKeyError\u001b[39;00m:\n\u001b[1;32m--> 188\u001b[0m     \u001b[38;5;28;01mraise\u001b[39;00m \u001b[38;5;167;01mAttributeError\u001b[39;00m(key)\n",
      "\u001b[1;31mAttributeError\u001b[0m: __table__"
     ]
    }
   ],
   "source": [
    "Album = Base.classes.Album\n",
    "Artist = Base.classes.Artist\n",
    "Customer = Base.classes.Customer\n",
    "Employee = Base.classes.Employee\n",
    "Genre = Base.classes.Genre\n",
    "Invoice = Base.classes.Invoice\n",
    "InvoiceLine = Base.classes.InvoiceLine\n",
    "MediaType = Base.classes.MediaType\n",
    "Playlist = Base.classes.Playlist\n",
    "Track = Base.classes.Track\n",
    "playlisttrack = Base.metadata.tables['PlaylistTrack']\n",
    "Base.classes.__table__.PlaylistTrack\n",
    "playlisttrack\n",
    "Playlist"
   ]
  },
  {
   "cell_type": "code",
   "execution_count": 399,
   "id": "9a9e673b",
   "metadata": {
    "scrolled": true
   },
   "outputs": [
    {
     "name": "stdout",
     "output_type": "stream",
     "text": [
      "     AlbumId                                              Title  ArtistId\n",
      "0          1              For Those About To Rock We Salute You         1\n",
      "1          2                                  Balls to the Wall         2\n",
      "2          3                                  Restless and Wild         2\n",
      "3          4                                  Let There Be Rock         1\n",
      "4          5                                           Big Ones         3\n",
      "..       ...                                                ...       ...\n",
      "342      343                             Respighi:Pines of Rome       226\n",
      "343      344  Schubert: The Late String Quartets & String Qu...       272\n",
      "344      345                                Monteverdi: L'Orfeo       273\n",
      "345      346                              Mozart: Chamber Music       274\n",
      "346      347  Koyaanisqatsi (Soundtrack from the Motion Pict...       275\n",
      "\n",
      "[347 rows x 3 columns]\n"
     ]
    }
   ],
   "source": [
    "import pandas as pd\n",
    "\n",
    "session1 = Session(engine)\n",
    "\n",
    "df = pd.read_sql_table(table_name='Album', con=engine)\n",
    "\n",
    "print(df)"
   ]
  },
  {
   "cell_type": "code",
   "execution_count": 431,
   "id": "c31fcc11",
   "metadata": {},
   "outputs": [
    {
     "name": "stdout",
     "output_type": "stream",
     "text": [
      "   ArtistId               Name\n",
      "0         1              AC/DC\n",
      "1         2             Accept\n",
      "2         3          Aerosmith\n",
      "3         4  Alanis Morissette\n",
      "4         5    Alice In Chains\n"
     ]
    }
   ],
   "source": [
    "df2 = pd.read_sql_table(table_name='Artist', con=engine)\n",
    "\n",
    "print(df2.head())\n",
    "\n",
    "#session.close()"
   ]
  },
  {
   "cell_type": "code",
   "execution_count": 434,
   "id": "7b850d7f",
   "metadata": {},
   "outputs": [
    {
     "name": "stdout",
     "output_type": "stream",
     "text": [
      "   AlbumId                                  Title  ArtistId       Name\n",
      "0        1  For Those About To Rock We Salute You         1      AC/DC\n",
      "1        4                      Let There Be Rock         1      AC/DC\n",
      "2        2                      Balls to the Wall         2     Accept\n",
      "3        3                      Restless and Wild         2     Accept\n",
      "4        5                               Big Ones         3  Aerosmith\n",
      "(347, 4)\n"
     ]
    }
   ],
   "source": [
    "mdf = pd.merge(left = df, right = df2, how = 'inner')\n",
    "print(mdf.head())\n",
    "print(mdf.shape)"
   ]
  },
  {
   "cell_type": "code",
   "execution_count": 409,
   "id": "ef1d48f2",
   "metadata": {},
   "outputs": [
    {
     "data": {
      "text/html": [
       "<div>\n",
       "<style scoped>\n",
       "    .dataframe tbody tr th:only-of-type {\n",
       "        vertical-align: middle;\n",
       "    }\n",
       "\n",
       "    .dataframe tbody tr th {\n",
       "        vertical-align: top;\n",
       "    }\n",
       "\n",
       "    .dataframe thead th {\n",
       "        text-align: right;\n",
       "    }\n",
       "</style>\n",
       "<table border=\"1\" class=\"dataframe\">\n",
       "  <thead>\n",
       "    <tr style=\"text-align: right;\">\n",
       "      <th></th>\n",
       "      <th>AlbumId</th>\n",
       "      <th>Title</th>\n",
       "      <th>ArtistId</th>\n",
       "      <th>Name</th>\n",
       "    </tr>\n",
       "  </thead>\n",
       "  <tbody>\n",
       "    <tr>\n",
       "      <th>0</th>\n",
       "      <td>1</td>\n",
       "      <td>For Those About To Rock We Salute You</td>\n",
       "      <td>1</td>\n",
       "      <td>AC/DC</td>\n",
       "    </tr>\n",
       "    <tr>\n",
       "      <th>1</th>\n",
       "      <td>4</td>\n",
       "      <td>Let There Be Rock</td>\n",
       "      <td>1</td>\n",
       "      <td>AC/DC</td>\n",
       "    </tr>\n",
       "    <tr>\n",
       "      <th>2</th>\n",
       "      <td>2</td>\n",
       "      <td>Balls to the Wall</td>\n",
       "      <td>2</td>\n",
       "      <td>Accept</td>\n",
       "    </tr>\n",
       "    <tr>\n",
       "      <th>3</th>\n",
       "      <td>3</td>\n",
       "      <td>Restless and Wild</td>\n",
       "      <td>2</td>\n",
       "      <td>Accept</td>\n",
       "    </tr>\n",
       "    <tr>\n",
       "      <th>4</th>\n",
       "      <td>5</td>\n",
       "      <td>Big Ones</td>\n",
       "      <td>3</td>\n",
       "      <td>Aerosmith</td>\n",
       "    </tr>\n",
       "    <tr>\n",
       "      <th>...</th>\n",
       "      <td>...</td>\n",
       "      <td>...</td>\n",
       "      <td>...</td>\n",
       "      <td>...</td>\n",
       "    </tr>\n",
       "    <tr>\n",
       "      <th>342</th>\n",
       "      <td>342</td>\n",
       "      <td>Locatelli: Concertos for Violin, Strings and C...</td>\n",
       "      <td>271</td>\n",
       "      <td>Mela Tenenbaum, Pro Musica Prague &amp; Richard Kapp</td>\n",
       "    </tr>\n",
       "    <tr>\n",
       "      <th>343</th>\n",
       "      <td>344</td>\n",
       "      <td>Schubert: The Late String Quartets &amp; String Qu...</td>\n",
       "      <td>272</td>\n",
       "      <td>Emerson String Quartet</td>\n",
       "    </tr>\n",
       "    <tr>\n",
       "      <th>344</th>\n",
       "      <td>345</td>\n",
       "      <td>Monteverdi: L'Orfeo</td>\n",
       "      <td>273</td>\n",
       "      <td>C. Monteverdi, Nigel Rogers - Chiaroscuro; Lon...</td>\n",
       "    </tr>\n",
       "    <tr>\n",
       "      <th>345</th>\n",
       "      <td>346</td>\n",
       "      <td>Mozart: Chamber Music</td>\n",
       "      <td>274</td>\n",
       "      <td>Nash Ensemble</td>\n",
       "    </tr>\n",
       "    <tr>\n",
       "      <th>346</th>\n",
       "      <td>347</td>\n",
       "      <td>Koyaanisqatsi (Soundtrack from the Motion Pict...</td>\n",
       "      <td>275</td>\n",
       "      <td>Philip Glass Ensemble</td>\n",
       "    </tr>\n",
       "  </tbody>\n",
       "</table>\n",
       "<p>347 rows × 4 columns</p>\n",
       "</div>"
      ],
      "text/plain": [
       "     AlbumId                                              Title  ArtistId  \\\n",
       "0          1              For Those About To Rock We Salute You         1   \n",
       "1          4                                  Let There Be Rock         1   \n",
       "2          2                                  Balls to the Wall         2   \n",
       "3          3                                  Restless and Wild         2   \n",
       "4          5                                           Big Ones         3   \n",
       "..       ...                                                ...       ...   \n",
       "342      342  Locatelli: Concertos for Violin, Strings and C...       271   \n",
       "343      344  Schubert: The Late String Quartets & String Qu...       272   \n",
       "344      345                                Monteverdi: L'Orfeo       273   \n",
       "345      346                              Mozart: Chamber Music       274   \n",
       "346      347  Koyaanisqatsi (Soundtrack from the Motion Pict...       275   \n",
       "\n",
       "                                                  Name  \n",
       "0                                                AC/DC  \n",
       "1                                                AC/DC  \n",
       "2                                               Accept  \n",
       "3                                               Accept  \n",
       "4                                            Aerosmith  \n",
       "..                                                 ...  \n",
       "342   Mela Tenenbaum, Pro Musica Prague & Richard Kapp  \n",
       "343                             Emerson String Quartet  \n",
       "344  C. Monteverdi, Nigel Rogers - Chiaroscuro; Lon...  \n",
       "345                                      Nash Ensemble  \n",
       "346                              Philip Glass Ensemble  \n",
       "\n",
       "[347 rows x 4 columns]"
      ]
     },
     "execution_count": 409,
     "metadata": {},
     "output_type": "execute_result"
    }
   ],
   "source": [
    "pd.merge(left = df, right = df2, how = 'inner', left_on=[\"ArtistId\"], right_on=[\"ArtistId\"])"
   ]
  },
  {
   "cell_type": "code",
   "execution_count": 435,
   "id": "4edc67c9",
   "metadata": {},
   "outputs": [
    {
     "name": "stdout",
     "output_type": "stream",
     "text": [
      "   AlbumId                                  Title     Artist\n",
      "0        1  For Those About To Rock We Salute You      AC/DC\n",
      "1        4                      Let There Be Rock      AC/DC\n",
      "2        2                      Balls to the Wall     Accept\n",
      "3        3                      Restless and Wild     Accept\n",
      "4        5                               Big Ones  Aerosmith\n",
      "(347, 3)\n"
     ]
    }
   ],
   "source": [
    "x = pd.merge(df, df2)\n",
    "x = x.drop('ArtistId', axis=1)\n",
    "x = x.rename(columns = {'Name':'Artist'})\n",
    "print(x.head())\n",
    "print(x.shape)"
   ]
  },
  {
   "cell_type": "code",
   "execution_count": 400,
   "id": "2c7c9361",
   "metadata": {},
   "outputs": [
    {
     "name": "stdout",
     "output_type": "stream",
     "text": [
      "     AlbumId                                              Title  ArtistId\n",
      "0          1              For Those About To Rock We Salute You         1\n",
      "1          2                                  Balls to the Wall         2\n",
      "2          3                                  Restless and Wild         2\n",
      "3          4                                  Let There Be Rock         1\n",
      "4          5                                           Big Ones         3\n",
      "..       ...                                                ...       ...\n",
      "342      343                             Respighi:Pines of Rome       226\n",
      "343      344  Schubert: The Late String Quartets & String Qu...       272\n",
      "344      345                                Monteverdi: L'Orfeo       273\n",
      "345      346                              Mozart: Chamber Music       274\n",
      "346      347  Koyaanisqatsi (Soundtrack from the Motion Pict...       275\n",
      "\n",
      "[347 rows x 3 columns]\n"
     ]
    }
   ],
   "source": [
    "session1 = Session(engine)\n",
    "\n",
    "df = pd.read_sql(\n",
    "    sql=session1.query(Album).statement,\n",
    "    con=engine\n",
    ")\n",
    "\n",
    "df = pd.read_sql_table(table_name='Album', con=engine)\n",
    "\n",
    "print(df)\n",
    "\n",
    "session.close()"
   ]
  }
 ],
 "metadata": {
  "kernelspec": {
   "display_name": "Python 3 (ipykernel)",
   "language": "python",
   "name": "python3"
  },
  "language_info": {
   "codemirror_mode": {
    "name": "ipython",
    "version": 3
   },
   "file_extension": ".py",
   "mimetype": "text/x-python",
   "name": "python",
   "nbconvert_exporter": "python",
   "pygments_lexer": "ipython3",
   "version": "3.11.2"
  }
 },
 "nbformat": 4,
 "nbformat_minor": 5
}
