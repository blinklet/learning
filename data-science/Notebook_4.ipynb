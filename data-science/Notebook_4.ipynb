{
 "cells": [
  {
   "cell_type": "code",
   "execution_count": 1,
   "id": "5b3737c7",
   "metadata": {},
   "outputs": [],
   "source": [
    "from sqlalchemy import create_engine\n",
    "\n",
    "engine = create_engine(r\"sqlite:///C:/Users/blinklet/Documents/chinook-database/ChinookDatabase/DataSources/Chinook_Sqlite.sqlite\")"
   ]
  },
  {
   "cell_type": "code",
   "execution_count": 2,
   "id": "4391bb4b",
   "metadata": {},
   "outputs": [
    {
     "name": "stdout",
     "output_type": "stream",
     "text": [
      "['Album', 'Artist', 'Customer', 'Employee', 'Genre', 'Invoice', 'InvoiceLine', 'MediaType', 'Playlist', 'PlaylistTrack', 'Track']\n"
     ]
    }
   ],
   "source": [
    "from sqlalchemy import inspect\n",
    "\n",
    "inspector = inspect(engine)\n",
    "\n",
    "print(inspector.get_table_names())"
   ]
  },
  {
   "cell_type": "code",
   "execution_count": 3,
   "id": "ecf2f1a1",
   "metadata": {},
   "outputs": [
    {
     "name": "stdout",
     "output_type": "stream",
     "text": [
      "[{'autoincrement': 'auto',\n",
      "  'default': None,\n",
      "  'name': 'AlbumId',\n",
      "  'nullable': False,\n",
      "  'primary_key': 1,\n",
      "  'type': INTEGER()},\n",
      " {'autoincrement': 'auto',\n",
      "  'default': None,\n",
      "  'name': 'Title',\n",
      "  'nullable': False,\n",
      "  'primary_key': 0,\n",
      "  'type': NVARCHAR(length=160)},\n",
      " {'autoincrement': 'auto',\n",
      "  'default': None,\n",
      "  'name': 'ArtistId',\n",
      "  'nullable': False,\n",
      "  'primary_key': 0,\n",
      "  'type': INTEGER()}]\n",
      "\n",
      "{'constrained_columns': ['AlbumId'], 'name': None}\n"
     ]
    }
   ],
   "source": [
    "from pprint import pprint\n",
    "\n",
    "# Columns in table \"Album\"\n",
    "pprint(inspector.get_columns(\"Album\"))\n",
    "print()\n",
    "\n",
    "# Primary Key for table \"Album\"\n",
    "pprint(inspector.get_pk_constraint(\"Album\"))"
   ]
  },
  {
   "cell_type": "code",
   "execution_count": 4,
   "id": "6e06a815",
   "metadata": {},
   "outputs": [
    {
     "name": "stdout",
     "output_type": "stream",
     "text": [
      "Table = Album\n",
      "Columns = Title, ArtistId, AlbumId\n",
      "Primary Keys = AlbumId\n",
      "Foreign Keys:\n",
      "    ArtistId ---> Artist:ArtistId\n",
      "\n",
      "Table = Artist\n",
      "Columns = ArtistId, Name\n",
      "Primary Keys = ArtistId\n",
      "\n",
      "Table = Customer\n",
      "Columns = CustomerId, FirstName, LastName, Company, Address, City, State, Country, PostalCode, Phone, Fax, Email, SupportRepId\n",
      "Primary Keys = CustomerId\n",
      "Foreign Keys:\n",
      "    SupportRepId ---> Employee:EmployeeId\n",
      "\n",
      "Table = Employee\n",
      "Columns = EmployeeId, LastName, FirstName, Title, ReportsTo, BirthDate, HireDate, Address, City, State, Country, PostalCode, Phone, Fax, Email\n",
      "Primary Keys = EmployeeId\n",
      "Foreign Keys:\n",
      "    ReportsTo ---> Employee:EmployeeId\n",
      "\n",
      "Table = Genre\n",
      "Columns = GenreId, Name\n",
      "Primary Keys = GenreId\n",
      "\n",
      "Table = Invoice\n",
      "Columns = InvoiceId, CustomerId, InvoiceDate, BillingAddress, BillingCity, BillingState, BillingCountry, BillingPostalCode, Total\n",
      "Primary Keys = InvoiceId\n",
      "Foreign Keys:\n",
      "    CustomerId ---> Customer:CustomerId\n",
      "\n",
      "Table = InvoiceLine\n",
      "Columns = InvoiceLineId, InvoiceId, TrackId, UnitPrice, Quantity\n",
      "Primary Keys = InvoiceLineId\n",
      "Foreign Keys:\n",
      "    TrackId ---> Track:TrackId\n",
      "    InvoiceId ---> Invoice:InvoiceId\n",
      "\n",
      "Table = MediaType\n",
      "Columns = MediaTypeId, Name\n",
      "Primary Keys = MediaTypeId\n",
      "\n",
      "Table = Playlist\n",
      "Columns = PlaylistId, Name\n",
      "Primary Keys = PlaylistId\n",
      "\n",
      "Table = PlaylistTrack\n",
      "Columns = PlaylistId, TrackId\n",
      "Primary Keys = PlaylistId, TrackId\n",
      "Foreign Keys:\n",
      "    TrackId ---> Track:TrackId\n",
      "    PlaylistId ---> Playlist:PlaylistId\n",
      "\n",
      "Table = Track\n",
      "Columns = TrackId, Name, AlbumId, MediaTypeId, GenreId, Composer, Milliseconds, Bytes, UnitPrice\n",
      "Primary Keys = TrackId\n",
      "Foreign Keys:\n",
      "    MediaTypeId ---> MediaType:MediaTypeId\n",
      "    GenreId ---> Genre:GenreId\n",
      "    AlbumId ---> Album:AlbumId\n",
      "\n"
     ]
    }
   ],
   "source": [
    "for table_name in inspector.get_table_names():\n",
    "\n",
    "    print(f\"Table = {table_name}\")\n",
    "    \n",
    "    print(f\"Columns = \", end=\"\")\n",
    "    col_names_list = []\n",
    "    for col in inspector.get_columns(table_name):\n",
    "        col_names_list.append(col['name'])\n",
    "    print(*col_names_list, sep=\", \")\n",
    "    \n",
    "    print(f\"Primary Keys = \", end=\"\")\n",
    "    pk_list = inspector.get_pk_constraint(table_name)\n",
    "    pk_name_list = pk_list[\"constrained_columns\"]\n",
    "    print(*pk_name_list, sep=\", \")\n",
    "\n",
    "    fk_list = inspector.get_foreign_keys(table_name)\n",
    "    if fk_list:\n",
    "        print(f\"Foreign Keys:\")\n",
    "        fk_name_list = []\n",
    "        fk_reftbl_list = []\n",
    "        fk_refcol_list = []\n",
    "        \n",
    "        for fk in fk_list:\n",
    "            fk_name_list.append(*fk['constrained_columns'])\n",
    "            fk_reftbl_list.append(fk['referred_table'])\n",
    "            fk_refcol_list.append(*fk['referred_columns'])\n",
    "            \n",
    "        fk_info = zip(fk_name_list, fk_reftbl_list, fk_refcol_list)\n",
    "        \n",
    "        for n, t, c in fk_info:\n",
    "            print(f\"    {n} ---> {t}:{c}\")\n",
    "\n",
    "    print()"
   ]
  },
  {
   "cell_type": "code",
   "execution_count": 5,
   "id": "d05dac45",
   "metadata": {},
   "outputs": [
    {
     "name": "stdout",
     "output_type": "stream",
     "text": [
      "Album, Artist, Customer, Employee, Genre, Invoice, InvoiceLine, Track, MediaType, Playlist, PlaylistTrack\n"
     ]
    }
   ],
   "source": [
    "from sqlalchemy.ext.automap import automap_base\n",
    "from sqlalchemy.orm import Session\n",
    "\n",
    "Base = automap_base()\n",
    "Base.prepare(autoload_with=engine)\n",
    "\n",
    "print(*Base.metadata.tables, sep=\", \")"
   ]
  },
  {
   "cell_type": "code",
   "execution_count": 6,
   "id": "ab28f1b8",
   "metadata": {},
   "outputs": [
    {
     "name": "stdout",
     "output_type": "stream",
     "text": [
      "Album, Artist, Customer, Employee, Genre, Invoice, InvoiceLine, Track, MediaType, Playlist\n"
     ]
    }
   ],
   "source": [
    "print(*Base.classes.keys(), sep=\", \")"
   ]
  },
  {
   "cell_type": "code",
   "execution_count": 7,
   "id": "ea83bb06",
   "metadata": {},
   "outputs": [],
   "source": [
    "def table_info(table_name):\n",
    "    table = Base.metadata.tables[table_name]\n",
    "    print(f\"Table: {table_name}\")\n",
    "    print(f\"Columns: \")\n",
    "    for col in table.columns:\n",
    "        print(f\"   {col.name:15}\", end=\"\")\n",
    "        if col.primary_key:\n",
    "            print(f\"*Primary Key*   \", end=\"\")\n",
    "        if col.foreign_keys:\n",
    "            print(f\"{col.foreign_keys}\", end=\"\")\n",
    "        print()\n",
    "    print()"
   ]
  },
  {
   "cell_type": "code",
   "execution_count": 8,
   "id": "08247f26",
   "metadata": {},
   "outputs": [
    {
     "name": "stdout",
     "output_type": "stream",
     "text": [
      "Table: PlaylistTrack\n",
      "Columns: \n",
      "   PlaylistId     *Primary Key*   {ForeignKey('Playlist.PlaylistId')}\n",
      "   TrackId        *Primary Key*   {ForeignKey('Track.TrackId')}\n",
      "\n",
      "Table: Track\n",
      "Columns: \n",
      "   TrackId        *Primary Key*   \n",
      "   Name           \n",
      "   AlbumId        {ForeignKey('Album.AlbumId')}\n",
      "   MediaTypeId    {ForeignKey('MediaType.MediaTypeId')}\n",
      "   GenreId        {ForeignKey('Genre.GenreId')}\n",
      "   Composer       \n",
      "   Milliseconds   \n",
      "   Bytes          \n",
      "   UnitPrice      \n",
      "\n"
     ]
    }
   ],
   "source": [
    "table_info(\"PlaylistTrack\")\n",
    "table_info(\"Track\")"
   ]
  },
  {
   "cell_type": "code",
   "execution_count": 9,
   "id": "047f1530",
   "metadata": {},
   "outputs": [],
   "source": [
    "Album = Base.classes.Album\n",
    "Artist = Base.classes.Artist\n",
    "Customer = Base.classes.Customer\n",
    "Employee = Base.classes.Employee\n",
    "Genre = Base.classes.Genre\n",
    "Invoice = Base.classes.Invoice\n",
    "InvoiceLine = Base.classes.InvoiceLine\n",
    "MediaType = Base.classes.MediaType\n",
    "Playlist = Base.classes.Playlist\n",
    "Track = Base.classes.Track\n",
    "playlisttrack = Base.metadata.tables['PlaylistTrack']"
   ]
  },
  {
   "cell_type": "code",
   "execution_count": 137,
   "id": "e8101676",
   "metadata": {},
   "outputs": [
    {
     "ename": "ValueError",
     "evalue": "Table Album.limit(1) not found",
     "output_type": "error",
     "traceback": [
      "\u001b[1;31m---------------------------------------------------------------------------\u001b[0m",
      "\u001b[1;31mValueError\u001b[0m                                Traceback (most recent call last)",
      "Cell \u001b[1;32mIn[137], line 5\u001b[0m\n\u001b[0;32m      1\u001b[0m \u001b[38;5;28;01mimport\u001b[39;00m \u001b[38;5;21;01mpandas\u001b[39;00m \u001b[38;5;28;01mas\u001b[39;00m \u001b[38;5;21;01mpd\u001b[39;00m\n\u001b[0;32m      3\u001b[0m \u001b[38;5;66;03m#session1 = Session(engine)\u001b[39;00m\n\u001b[1;32m----> 5\u001b[0m albums \u001b[38;5;241m=\u001b[39m \u001b[43mpd\u001b[49m\u001b[38;5;241;43m.\u001b[39;49m\u001b[43mread_sql_table\u001b[49m\u001b[43m(\u001b[49m\u001b[43mtable_name\u001b[49m\u001b[38;5;241;43m=\u001b[39;49m\u001b[38;5;124;43m'\u001b[39;49m\u001b[38;5;124;43mAlbum.limit(1)\u001b[39;49m\u001b[38;5;124;43m'\u001b[39;49m\u001b[43m,\u001b[49m\u001b[43m \u001b[49m\u001b[43mcon\u001b[49m\u001b[38;5;241;43m=\u001b[39;49m\u001b[43mengine\u001b[49m\u001b[43m)\u001b[49m\n\u001b[0;32m      7\u001b[0m \u001b[38;5;28mprint\u001b[39m(albums)\n",
      "File \u001b[1;32m~\\Documents\\learning\\data-science\\env\\Lib\\site-packages\\pandas\\io\\sql.py:282\u001b[0m, in \u001b[0;36mread_sql_table\u001b[1;34m(table_name, con, schema, index_col, coerce_float, parse_dates, columns, chunksize)\u001b[0m\n\u001b[0;32m    280\u001b[0m pandas_sql \u001b[38;5;241m=\u001b[39m pandasSQL_builder(con, schema\u001b[38;5;241m=\u001b[39mschema)\n\u001b[0;32m    281\u001b[0m \u001b[38;5;28;01mif\u001b[39;00m \u001b[38;5;129;01mnot\u001b[39;00m pandas_sql\u001b[38;5;241m.\u001b[39mhas_table(table_name):\n\u001b[1;32m--> 282\u001b[0m     \u001b[38;5;28;01mraise\u001b[39;00m \u001b[38;5;167;01mValueError\u001b[39;00m(\u001b[38;5;124mf\u001b[39m\u001b[38;5;124m\"\u001b[39m\u001b[38;5;124mTable \u001b[39m\u001b[38;5;132;01m{\u001b[39;00mtable_name\u001b[38;5;132;01m}\u001b[39;00m\u001b[38;5;124m not found\u001b[39m\u001b[38;5;124m\"\u001b[39m)\n\u001b[0;32m    284\u001b[0m \u001b[38;5;66;03m# error: Item \"SQLiteDatabase\" of \"Union[SQLDatabase, SQLiteDatabase]\"\u001b[39;00m\n\u001b[0;32m    285\u001b[0m \u001b[38;5;66;03m# has no attribute \"read_table\"\u001b[39;00m\n\u001b[0;32m    286\u001b[0m table \u001b[38;5;241m=\u001b[39m pandas_sql\u001b[38;5;241m.\u001b[39mread_table(  \u001b[38;5;66;03m# type: ignore[union-attr]\u001b[39;00m\n\u001b[0;32m    287\u001b[0m     table_name,\n\u001b[0;32m    288\u001b[0m     index_col\u001b[38;5;241m=\u001b[39mindex_col,\n\u001b[1;32m   (...)\u001b[0m\n\u001b[0;32m    292\u001b[0m     chunksize\u001b[38;5;241m=\u001b[39mchunksize,\n\u001b[0;32m    293\u001b[0m )\n",
      "\u001b[1;31mValueError\u001b[0m: Table Album.limit(1) not found"
     ]
    }
   ],
   "source": [
    "import pandas as pd\n",
    "\n",
    "#session1 = Session(engine)\n",
    "\n",
    "albums = pd.read_sql_table(table_name='Album', con=engine)\n",
    "\n",
    "print(albums)"
   ]
  },
  {
   "cell_type": "code",
   "execution_count": 11,
   "id": "942bacc9",
   "metadata": {},
   "outputs": [
    {
     "name": "stdout",
     "output_type": "stream",
     "text": [
      "60\n",
      "20\n"
     ]
    }
   ],
   "source": [
    "print(pd.options.display.max_rows)\n",
    "print(pd.options.display.max_columns)"
   ]
  },
  {
   "cell_type": "code",
   "execution_count": 12,
   "id": "aaa56edd",
   "metadata": {},
   "outputs": [
    {
     "name": "stdout",
     "output_type": "stream",
     "text": [
      "   ArtistId               Name\n",
      "0         1              AC/DC\n",
      "1         2             Accept\n",
      "2         3          Aerosmith\n",
      "3         4  Alanis Morissette\n",
      "4         5    Alice In Chains\n"
     ]
    }
   ],
   "source": [
    "artists = pd.read_sql_table(table_name='Artist', con=engine)\n",
    "\n",
    "print(artists.head())"
   ]
  },
  {
   "cell_type": "code",
   "execution_count": 13,
   "id": "35211575",
   "metadata": {},
   "outputs": [
    {
     "name": "stdout",
     "output_type": "stream",
     "text": [
      "   AlbumId                                  Title  ArtistId       Name\n",
      "0        1  For Those About To Rock We Salute You         1      AC/DC\n",
      "1        4                      Let There Be Rock         1      AC/DC\n",
      "2        2                      Balls to the Wall         2     Accept\n",
      "3        3                      Restless and Wild         2     Accept\n",
      "4        5                               Big Ones         3  Aerosmith\n",
      "(347, 4)\n"
     ]
    }
   ],
   "source": [
    "df1 = pd.merge(left = albums, right = artists, how = 'inner')\n",
    "print(df1.head())\n",
    "print(df1.shape)"
   ]
  },
  {
   "cell_type": "code",
   "execution_count": 14,
   "id": "fdbfcb20",
   "metadata": {},
   "outputs": [
    {
     "data": {
      "text/html": [
       "<div>\n",
       "<style scoped>\n",
       "    .dataframe tbody tr th:only-of-type {\n",
       "        vertical-align: middle;\n",
       "    }\n",
       "\n",
       "    .dataframe tbody tr th {\n",
       "        vertical-align: top;\n",
       "    }\n",
       "\n",
       "    .dataframe thead th {\n",
       "        text-align: right;\n",
       "    }\n",
       "</style>\n",
       "<table border=\"1\" class=\"dataframe\">\n",
       "  <thead>\n",
       "    <tr style=\"text-align: right;\">\n",
       "      <th></th>\n",
       "      <th>AlbumId</th>\n",
       "      <th>Title</th>\n",
       "      <th>Artist</th>\n",
       "    </tr>\n",
       "  </thead>\n",
       "  <tbody>\n",
       "    <tr>\n",
       "      <th>0</th>\n",
       "      <td>1</td>\n",
       "      <td>For Those About To Rock We Salute You</td>\n",
       "      <td>AC/DC</td>\n",
       "    </tr>\n",
       "    <tr>\n",
       "      <th>1</th>\n",
       "      <td>4</td>\n",
       "      <td>Let There Be Rock</td>\n",
       "      <td>AC/DC</td>\n",
       "    </tr>\n",
       "    <tr>\n",
       "      <th>2</th>\n",
       "      <td>2</td>\n",
       "      <td>Balls to the Wall</td>\n",
       "      <td>Accept</td>\n",
       "    </tr>\n",
       "    <tr>\n",
       "      <th>3</th>\n",
       "      <td>3</td>\n",
       "      <td>Restless and Wild</td>\n",
       "      <td>Accept</td>\n",
       "    </tr>\n",
       "    <tr>\n",
       "      <th>4</th>\n",
       "      <td>5</td>\n",
       "      <td>Big Ones</td>\n",
       "      <td>Aerosmith</td>\n",
       "    </tr>\n",
       "    <tr>\n",
       "      <th>...</th>\n",
       "      <td>...</td>\n",
       "      <td>...</td>\n",
       "      <td>...</td>\n",
       "    </tr>\n",
       "    <tr>\n",
       "      <th>342</th>\n",
       "      <td>342</td>\n",
       "      <td>Locatelli: Concertos for Violin, Strings and C...</td>\n",
       "      <td>Mela Tenenbaum, Pro Musica Prague &amp; Richard Kapp</td>\n",
       "    </tr>\n",
       "    <tr>\n",
       "      <th>343</th>\n",
       "      <td>344</td>\n",
       "      <td>Schubert: The Late String Quartets &amp; String Qu...</td>\n",
       "      <td>Emerson String Quartet</td>\n",
       "    </tr>\n",
       "    <tr>\n",
       "      <th>344</th>\n",
       "      <td>345</td>\n",
       "      <td>Monteverdi: L'Orfeo</td>\n",
       "      <td>C. Monteverdi, Nigel Rogers - Chiaroscuro; Lon...</td>\n",
       "    </tr>\n",
       "    <tr>\n",
       "      <th>345</th>\n",
       "      <td>346</td>\n",
       "      <td>Mozart: Chamber Music</td>\n",
       "      <td>Nash Ensemble</td>\n",
       "    </tr>\n",
       "    <tr>\n",
       "      <th>346</th>\n",
       "      <td>347</td>\n",
       "      <td>Koyaanisqatsi (Soundtrack from the Motion Pict...</td>\n",
       "      <td>Philip Glass Ensemble</td>\n",
       "    </tr>\n",
       "  </tbody>\n",
       "</table>\n",
       "<p>347 rows × 3 columns</p>\n",
       "</div>"
      ],
      "text/plain": [
       "     AlbumId                                              Title  \\\n",
       "0          1              For Those About To Rock We Salute You   \n",
       "1          4                                  Let There Be Rock   \n",
       "2          2                                  Balls to the Wall   \n",
       "3          3                                  Restless and Wild   \n",
       "4          5                                           Big Ones   \n",
       "..       ...                                                ...   \n",
       "342      342  Locatelli: Concertos for Violin, Strings and C...   \n",
       "343      344  Schubert: The Late String Quartets & String Qu...   \n",
       "344      345                                Monteverdi: L'Orfeo   \n",
       "345      346                              Mozart: Chamber Music   \n",
       "346      347  Koyaanisqatsi (Soundtrack from the Motion Pict...   \n",
       "\n",
       "                                                Artist  \n",
       "0                                                AC/DC  \n",
       "1                                                AC/DC  \n",
       "2                                               Accept  \n",
       "3                                               Accept  \n",
       "4                                            Aerosmith  \n",
       "..                                                 ...  \n",
       "342   Mela Tenenbaum, Pro Musica Prague & Richard Kapp  \n",
       "343                             Emerson String Quartet  \n",
       "344  C. Monteverdi, Nigel Rogers - Chiaroscuro; Lon...  \n",
       "345                                      Nash Ensemble  \n",
       "346                              Philip Glass Ensemble  \n",
       "\n",
       "[347 rows x 3 columns]"
      ]
     },
     "execution_count": 14,
     "metadata": {},
     "output_type": "execute_result"
    }
   ],
   "source": [
    "df1.drop('ArtistId', axis=1).rename(columns = {'Name':'Artist'})"
   ]
  },
  {
   "cell_type": "code",
   "execution_count": 15,
   "id": "64bd747a",
   "metadata": {},
   "outputs": [
    {
     "name": "stdout",
     "output_type": "stream",
     "text": [
      "   AlbumId                                  Title     Artist\n",
      "0        1  For Those About To Rock We Salute You      AC/DC\n",
      "1        4                      Let There Be Rock      AC/DC\n",
      "2        2                      Balls to the Wall     Accept\n",
      "3        3                      Restless and Wild     Accept\n",
      "4        5                               Big Ones  Aerosmith\n",
      "(347, 3)\n"
     ]
    }
   ],
   "source": [
    "df2 = (pd\n",
    "     .merge(albums, artists)\n",
    "     .drop('ArtistId', axis=1)\n",
    "     .rename(columns = {'Name':'Artist'}))\n",
    "print(df2.head())\n",
    "print(df2.shape)"
   ]
  },
  {
   "cell_type": "code",
   "execution_count": 16,
   "id": "78737f84",
   "metadata": {},
   "outputs": [
    {
     "name": "stdout",
     "output_type": "stream",
     "text": [
      "   TrackId                                     Name  AlbumId  MediaTypeId  \\\n",
      "0        1  For Those About To Rock (We Salute You)        1            1   \n",
      "1        2                        Balls to the Wall        2            2   \n",
      "2        3                          Fast As a Shark        3            2   \n",
      "3        4                        Restless and Wild        3            2   \n",
      "4        5                     Princess of the Dawn        3            2   \n",
      "\n",
      "   GenreId                                           Composer  Milliseconds  \\\n",
      "0        1          Angus Young, Malcolm Young, Brian Johnson        343719   \n",
      "1        1                                               None        342562   \n",
      "2        1  F. Baltes, S. Kaufman, U. Dirkscneider & W. Ho...        230619   \n",
      "3        1  F. Baltes, R.A. Smith-Diesel, S. Kaufman, U. D...        252051   \n",
      "4        1                         Deaffy & R.A. Smith-Diesel        375418   \n",
      "\n",
      "      Bytes  UnitPrice  \n",
      "0  11170334       0.99  \n",
      "1   5510424       0.99  \n",
      "2   3990994       0.99  \n",
      "3   4331779       0.99  \n",
      "4   6290521       0.99  \n",
      "(3503, 9)\n"
     ]
    }
   ],
   "source": [
    "tracks = pd.read_sql_table(table_name='Track', con=engine)\n",
    "\n",
    "print(tracks.head())\n",
    "print(tracks.shape)"
   ]
  },
  {
   "cell_type": "code",
   "execution_count": 17,
   "id": "4f24df85",
   "metadata": {},
   "outputs": [
    {
     "name": "stdout",
     "output_type": "stream",
     "text": [
      "(3503, 5)\n"
     ]
    },
    {
     "data": {
      "text/html": [
       "<style type=\"text/css\">\n",
       "</style>\n",
       "<table id=\"T_414eb\">\n",
       "  <thead>\n",
       "    <tr>\n",
       "      <th class=\"blank level0\" >&nbsp;</th>\n",
       "      <th id=\"T_414eb_level0_col0\" class=\"col_heading level0 col0\" >Album</th>\n",
       "      <th id=\"T_414eb_level0_col1\" class=\"col_heading level0 col1\" >Artist</th>\n",
       "      <th id=\"T_414eb_level0_col2\" class=\"col_heading level0 col2\" >Track</th>\n",
       "      <th id=\"T_414eb_level0_col3\" class=\"col_heading level0 col3\" >Composer</th>\n",
       "      <th id=\"T_414eb_level0_col4\" class=\"col_heading level0 col4\" >Length(ms)</th>\n",
       "    </tr>\n",
       "  </thead>\n",
       "  <tbody>\n",
       "    <tr>\n",
       "      <th id=\"T_414eb_level0_row0\" class=\"row_heading level0 row0\" >0</th>\n",
       "      <td id=\"T_414eb_row0_col0\" class=\"data row0 col0\" >For Those About To Rock We Salute You</td>\n",
       "      <td id=\"T_414eb_row0_col1\" class=\"data row0 col1\" >AC/DC</td>\n",
       "      <td id=\"T_414eb_row0_col2\" class=\"data row0 col2\" >For Those About To Rock (We Salute You)</td>\n",
       "      <td id=\"T_414eb_row0_col3\" class=\"data row0 col3\" >Angus Young, Malcolm Young, Brian Johnson</td>\n",
       "      <td id=\"T_414eb_row0_col4\" class=\"data row0 col4\" >343,719</td>\n",
       "    </tr>\n",
       "    <tr>\n",
       "      <th id=\"T_414eb_level0_row1\" class=\"row_heading level0 row1\" >1</th>\n",
       "      <td id=\"T_414eb_row1_col0\" class=\"data row1 col0\" >For Those About To Rock We Salute You</td>\n",
       "      <td id=\"T_414eb_row1_col1\" class=\"data row1 col1\" >AC/DC</td>\n",
       "      <td id=\"T_414eb_row1_col2\" class=\"data row1 col2\" >Put The Finger On You</td>\n",
       "      <td id=\"T_414eb_row1_col3\" class=\"data row1 col3\" >Angus Young, Malcolm Young, Brian Johnson</td>\n",
       "      <td id=\"T_414eb_row1_col4\" class=\"data row1 col4\" >205,662</td>\n",
       "    </tr>\n",
       "    <tr>\n",
       "      <th id=\"T_414eb_level0_row2\" class=\"row_heading level0 row2\" >2</th>\n",
       "      <td id=\"T_414eb_row2_col0\" class=\"data row2 col0\" >For Those About To Rock We Salute You</td>\n",
       "      <td id=\"T_414eb_row2_col1\" class=\"data row2 col1\" >AC/DC</td>\n",
       "      <td id=\"T_414eb_row2_col2\" class=\"data row2 col2\" >Let's Get It Up</td>\n",
       "      <td id=\"T_414eb_row2_col3\" class=\"data row2 col3\" >Angus Young, Malcolm Young, Brian Johnson</td>\n",
       "      <td id=\"T_414eb_row2_col4\" class=\"data row2 col4\" >233,926</td>\n",
       "    </tr>\n",
       "    <tr>\n",
       "      <th id=\"T_414eb_level0_row3\" class=\"row_heading level0 row3\" >3</th>\n",
       "      <td id=\"T_414eb_row3_col0\" class=\"data row3 col0\" >For Those About To Rock We Salute You</td>\n",
       "      <td id=\"T_414eb_row3_col1\" class=\"data row3 col1\" >AC/DC</td>\n",
       "      <td id=\"T_414eb_row3_col2\" class=\"data row3 col2\" >Inject The Venom</td>\n",
       "      <td id=\"T_414eb_row3_col3\" class=\"data row3 col3\" >Angus Young, Malcolm Young, Brian Johnson</td>\n",
       "      <td id=\"T_414eb_row3_col4\" class=\"data row3 col4\" >210,834</td>\n",
       "    </tr>\n",
       "    <tr>\n",
       "      <th id=\"T_414eb_level0_row4\" class=\"row_heading level0 row4\" >4</th>\n",
       "      <td id=\"T_414eb_row4_col0\" class=\"data row4 col0\" >For Those About To Rock We Salute You</td>\n",
       "      <td id=\"T_414eb_row4_col1\" class=\"data row4 col1\" >AC/DC</td>\n",
       "      <td id=\"T_414eb_row4_col2\" class=\"data row4 col2\" >Snowballed</td>\n",
       "      <td id=\"T_414eb_row4_col3\" class=\"data row4 col3\" >Angus Young, Malcolm Young, Brian Johnson</td>\n",
       "      <td id=\"T_414eb_row4_col4\" class=\"data row4 col4\" >203,102</td>\n",
       "    </tr>\n",
       "  </tbody>\n",
       "</table>\n"
      ],
      "text/plain": [
       "<pandas.io.formats.style.Styler at 0x173fff8b410>"
      ]
     },
     "execution_count": 17,
     "metadata": {},
     "output_type": "execute_result"
    }
   ],
   "source": [
    "df3 = (pd\n",
    "     .merge(df2, tracks)\n",
    "     .drop(['AlbumId','TrackId',\n",
    "            'Bytes','UnitPrice',\n",
    "            'MediaTypeId','GenreId'], axis=1)\n",
    "     .rename(columns = {'Name':'Track', \n",
    "                        'Title':'Album',\n",
    "                        'Milliseconds':'Length(ms)'}))\n",
    "\n",
    "print(df3.shape)\n",
    "df3.head().style.format(thousands=\",\")"
   ]
  },
  {
   "cell_type": "code",
   "execution_count": 18,
   "id": "623a62b7",
   "metadata": {},
   "outputs": [
    {
     "name": "stdout",
     "output_type": "stream",
     "text": [
      "Album table relationships\n",
      "\n",
      "Relationship: Album.artist\n",
      "Direction:    symbol('MANYTOONE')\n",
      "Joined Table: Artist\n",
      "\n",
      "Relationship: Album.track_collection\n",
      "Direction:    symbol('ONETOMANY')\n",
      "Joined Table: Track\n",
      "\n"
     ]
    }
   ],
   "source": [
    "print(f\"Album table relationships\")\n",
    "print()\n",
    "for relationship in inspect(Album).relationships:\n",
    "    print(f\"Relationship: {relationship}\")\n",
    "    print(f\"Direction:    {relationship.direction}\")\n",
    "    print(f\"Joined Table: {relationship.target}\")\n",
    "    print()"
   ]
  },
  {
   "cell_type": "code",
   "execution_count": 19,
   "id": "19182657",
   "metadata": {},
   "outputs": [
    {
     "name": "stdout",
     "output_type": "stream",
     "text": [
      "Album:  For Those About To Rock We Salute You\n",
      "Artist: AC/DC\n",
      "Tracks:\n",
      "    For Those About To Rock (We Salute You)\n",
      "    Put The Finger On You\n",
      "    Let's Get It Up\n",
      "    Inject The Venom\n",
      "    Snowballed\n",
      "    Evil Walks\n",
      "    C.O.D.\n",
      "    Breaking The Rules\n",
      "    Night Of The Long Knives\n",
      "    Spellbound\n"
     ]
    },
    {
     "name": "stderr",
     "output_type": "stream",
     "text": [
      "C:\\Users\\blinklet\\AppData\\Local\\Temp\\ipykernel_23956\\2387319706.py:11: SAWarning: Dialect sqlite+pysqlite does *not* support Decimal objects natively, and SQLAlchemy must convert from floating point - rounding errors and other issues may occur. Please consider storing Decimal numbers as strings or integers on this platform for lossless storage.\n",
      "  for t in first_album.track_collection:\n"
     ]
    }
   ],
   "source": [
    "from sqlalchemy import select\n",
    "\n",
    "session = Session(engine)\n",
    "\n",
    "statement = select(Album)\n",
    "first_album = session.scalar(statement)\n",
    "\n",
    "print(f\"Album:  {first_album.Title}\")\n",
    "print(f\"Artist: {first_album.artist.Name}\")\n",
    "print(f\"Tracks:\")\n",
    "for t in first_album.track_collection:\n",
    "    print(f\"    {t.Name}\")\n",
    "\n",
    "session.close()"
   ]
  },
  {
   "cell_type": "code",
   "execution_count": 21,
   "id": "dfef6ee6",
   "metadata": {},
   "outputs": [
    {
     "name": "stdout",
     "output_type": "stream",
     "text": [
      "Get inner join of tables Album, Track, and Artist\n",
      "(3503, 14)\n"
     ]
    },
    {
     "data": {
      "text/html": [
       "<div>\n",
       "<style scoped>\n",
       "    .dataframe tbody tr th:only-of-type {\n",
       "        vertical-align: middle;\n",
       "    }\n",
       "\n",
       "    .dataframe tbody tr th {\n",
       "        vertical-align: top;\n",
       "    }\n",
       "\n",
       "    .dataframe thead th {\n",
       "        text-align: right;\n",
       "    }\n",
       "</style>\n",
       "<table border=\"1\" class=\"dataframe\">\n",
       "  <thead>\n",
       "    <tr style=\"text-align: right;\">\n",
       "      <th></th>\n",
       "      <th>AlbumId</th>\n",
       "      <th>Title</th>\n",
       "      <th>ArtistId</th>\n",
       "      <th>TrackId</th>\n",
       "      <th>Name</th>\n",
       "      <th>AlbumId_1</th>\n",
       "      <th>MediaTypeId</th>\n",
       "      <th>GenreId</th>\n",
       "      <th>Composer</th>\n",
       "      <th>Milliseconds</th>\n",
       "      <th>Bytes</th>\n",
       "      <th>UnitPrice</th>\n",
       "      <th>ArtistId_1</th>\n",
       "      <th>Name_1</th>\n",
       "    </tr>\n",
       "  </thead>\n",
       "  <tbody>\n",
       "    <tr>\n",
       "      <th>0</th>\n",
       "      <td>1</td>\n",
       "      <td>For Those About To Rock We Salute You</td>\n",
       "      <td>1</td>\n",
       "      <td>1</td>\n",
       "      <td>For Those About To Rock (We Salute You)</td>\n",
       "      <td>1</td>\n",
       "      <td>1</td>\n",
       "      <td>1</td>\n",
       "      <td>Angus Young, Malcolm Young, Brian Johnson</td>\n",
       "      <td>343719</td>\n",
       "      <td>11170334</td>\n",
       "      <td>0.99</td>\n",
       "      <td>1</td>\n",
       "      <td>AC/DC</td>\n",
       "    </tr>\n",
       "    <tr>\n",
       "      <th>1</th>\n",
       "      <td>2</td>\n",
       "      <td>Balls to the Wall</td>\n",
       "      <td>2</td>\n",
       "      <td>2</td>\n",
       "      <td>Balls to the Wall</td>\n",
       "      <td>2</td>\n",
       "      <td>2</td>\n",
       "      <td>1</td>\n",
       "      <td>None</td>\n",
       "      <td>342562</td>\n",
       "      <td>5510424</td>\n",
       "      <td>0.99</td>\n",
       "      <td>2</td>\n",
       "      <td>Accept</td>\n",
       "    </tr>\n",
       "    <tr>\n",
       "      <th>2</th>\n",
       "      <td>3</td>\n",
       "      <td>Restless and Wild</td>\n",
       "      <td>2</td>\n",
       "      <td>3</td>\n",
       "      <td>Fast As a Shark</td>\n",
       "      <td>3</td>\n",
       "      <td>2</td>\n",
       "      <td>1</td>\n",
       "      <td>F. Baltes, S. Kaufman, U. Dirkscneider &amp; W. Ho...</td>\n",
       "      <td>230619</td>\n",
       "      <td>3990994</td>\n",
       "      <td>0.99</td>\n",
       "      <td>2</td>\n",
       "      <td>Accept</td>\n",
       "    </tr>\n",
       "    <tr>\n",
       "      <th>3</th>\n",
       "      <td>3</td>\n",
       "      <td>Restless and Wild</td>\n",
       "      <td>2</td>\n",
       "      <td>4</td>\n",
       "      <td>Restless and Wild</td>\n",
       "      <td>3</td>\n",
       "      <td>2</td>\n",
       "      <td>1</td>\n",
       "      <td>F. Baltes, R.A. Smith-Diesel, S. Kaufman, U. D...</td>\n",
       "      <td>252051</td>\n",
       "      <td>4331779</td>\n",
       "      <td>0.99</td>\n",
       "      <td>2</td>\n",
       "      <td>Accept</td>\n",
       "    </tr>\n",
       "    <tr>\n",
       "      <th>4</th>\n",
       "      <td>3</td>\n",
       "      <td>Restless and Wild</td>\n",
       "      <td>2</td>\n",
       "      <td>5</td>\n",
       "      <td>Princess of the Dawn</td>\n",
       "      <td>3</td>\n",
       "      <td>2</td>\n",
       "      <td>1</td>\n",
       "      <td>Deaffy &amp; R.A. Smith-Diesel</td>\n",
       "      <td>375418</td>\n",
       "      <td>6290521</td>\n",
       "      <td>0.99</td>\n",
       "      <td>2</td>\n",
       "      <td>Accept</td>\n",
       "    </tr>\n",
       "  </tbody>\n",
       "</table>\n",
       "</div>"
      ],
      "text/plain": [
       "   AlbumId                                  Title  ArtistId  TrackId  \\\n",
       "0        1  For Those About To Rock We Salute You         1        1   \n",
       "1        2                      Balls to the Wall         2        2   \n",
       "2        3                      Restless and Wild         2        3   \n",
       "3        3                      Restless and Wild         2        4   \n",
       "4        3                      Restless and Wild         2        5   \n",
       "\n",
       "                                      Name  AlbumId_1  MediaTypeId  GenreId  \\\n",
       "0  For Those About To Rock (We Salute You)          1            1        1   \n",
       "1                        Balls to the Wall          2            2        1   \n",
       "2                          Fast As a Shark          3            2        1   \n",
       "3                        Restless and Wild          3            2        1   \n",
       "4                     Princess of the Dawn          3            2        1   \n",
       "\n",
       "                                            Composer  Milliseconds     Bytes  \\\n",
       "0          Angus Young, Malcolm Young, Brian Johnson        343719  11170334   \n",
       "1                                               None        342562   5510424   \n",
       "2  F. Baltes, S. Kaufman, U. Dirkscneider & W. Ho...        230619   3990994   \n",
       "3  F. Baltes, R.A. Smith-Diesel, S. Kaufman, U. D...        252051   4331779   \n",
       "4                         Deaffy & R.A. Smith-Diesel        375418   6290521   \n",
       "\n",
       "   UnitPrice  ArtistId_1  Name_1  \n",
       "0       0.99           1   AC/DC  \n",
       "1       0.99           2  Accept  \n",
       "2       0.99           2  Accept  \n",
       "3       0.99           2  Accept  \n",
       "4       0.99           2  Accept  "
      ]
     },
     "metadata": {},
     "output_type": "display_data"
    }
   ],
   "source": [
    "print(f\"Get inner join of tables Album, Track, and Artist\")\n",
    "statement = (select(Album, Track, Artist)\n",
    "     .join(Track)\n",
    "     .join(Artist)\n",
    "    )\n",
    "\n",
    "df4 = pd.read_sql(statement, con=engine)\n",
    "\n",
    "print(df4.shape)\n",
    "display(df4.head())"
   ]
  },
  {
   "cell_type": "code",
   "execution_count": 35,
   "id": "5fffbc26",
   "metadata": {},
   "outputs": [
    {
     "name": "stdout",
     "output_type": "stream",
     "text": [
      "Get inner join of tables Album, Track, and Artist\n",
      "(3503, 5)\n"
     ]
    },
    {
     "data": {
      "text/html": [
       "<style type=\"text/css\">\n",
       "</style>\n",
       "<table id=\"T_3bec2\">\n",
       "  <thead>\n",
       "    <tr>\n",
       "      <th class=\"blank level0\" >&nbsp;</th>\n",
       "      <th id=\"T_3bec2_level0_col0\" class=\"col_heading level0 col0\" >Album</th>\n",
       "      <th id=\"T_3bec2_level0_col1\" class=\"col_heading level0 col1\" >Artist</th>\n",
       "      <th id=\"T_3bec2_level0_col2\" class=\"col_heading level0 col2\" >Track</th>\n",
       "      <th id=\"T_3bec2_level0_col3\" class=\"col_heading level0 col3\" >Composer</th>\n",
       "      <th id=\"T_3bec2_level0_col4\" class=\"col_heading level0 col4\" >Length</th>\n",
       "    </tr>\n",
       "  </thead>\n",
       "  <tbody>\n",
       "    <tr>\n",
       "      <th id=\"T_3bec2_level0_row0\" class=\"row_heading level0 row0\" >0</th>\n",
       "      <td id=\"T_3bec2_row0_col0\" class=\"data row0 col0\" >For Those About To Rock We Salute You</td>\n",
       "      <td id=\"T_3bec2_row0_col1\" class=\"data row0 col1\" >AC/DC</td>\n",
       "      <td id=\"T_3bec2_row0_col2\" class=\"data row0 col2\" >For Those About To Rock (We Salute You)</td>\n",
       "      <td id=\"T_3bec2_row0_col3\" class=\"data row0 col3\" >Angus Young, Malcolm Young, Brian Johnson</td>\n",
       "      <td id=\"T_3bec2_row0_col4\" class=\"data row0 col4\" >343,719</td>\n",
       "    </tr>\n",
       "    <tr>\n",
       "      <th id=\"T_3bec2_level0_row1\" class=\"row_heading level0 row1\" >1</th>\n",
       "      <td id=\"T_3bec2_row1_col0\" class=\"data row1 col0\" >Balls to the Wall</td>\n",
       "      <td id=\"T_3bec2_row1_col1\" class=\"data row1 col1\" >Accept</td>\n",
       "      <td id=\"T_3bec2_row1_col2\" class=\"data row1 col2\" >Balls to the Wall</td>\n",
       "      <td id=\"T_3bec2_row1_col3\" class=\"data row1 col3\" >None</td>\n",
       "      <td id=\"T_3bec2_row1_col4\" class=\"data row1 col4\" >342,562</td>\n",
       "    </tr>\n",
       "    <tr>\n",
       "      <th id=\"T_3bec2_level0_row2\" class=\"row_heading level0 row2\" >2</th>\n",
       "      <td id=\"T_3bec2_row2_col0\" class=\"data row2 col0\" >Restless and Wild</td>\n",
       "      <td id=\"T_3bec2_row2_col1\" class=\"data row2 col1\" >Accept</td>\n",
       "      <td id=\"T_3bec2_row2_col2\" class=\"data row2 col2\" >Fast As a Shark</td>\n",
       "      <td id=\"T_3bec2_row2_col3\" class=\"data row2 col3\" >F. Baltes, S. Kaufman, U. Dirkscneider & W. Hoffman</td>\n",
       "      <td id=\"T_3bec2_row2_col4\" class=\"data row2 col4\" >230,619</td>\n",
       "    </tr>\n",
       "    <tr>\n",
       "      <th id=\"T_3bec2_level0_row3\" class=\"row_heading level0 row3\" >3</th>\n",
       "      <td id=\"T_3bec2_row3_col0\" class=\"data row3 col0\" >Restless and Wild</td>\n",
       "      <td id=\"T_3bec2_row3_col1\" class=\"data row3 col1\" >Accept</td>\n",
       "      <td id=\"T_3bec2_row3_col2\" class=\"data row3 col2\" >Restless and Wild</td>\n",
       "      <td id=\"T_3bec2_row3_col3\" class=\"data row3 col3\" >F. Baltes, R.A. Smith-Diesel, S. Kaufman, U. Dirkscneider & W. Hoffman</td>\n",
       "      <td id=\"T_3bec2_row3_col4\" class=\"data row3 col4\" >252,051</td>\n",
       "    </tr>\n",
       "    <tr>\n",
       "      <th id=\"T_3bec2_level0_row4\" class=\"row_heading level0 row4\" >4</th>\n",
       "      <td id=\"T_3bec2_row4_col0\" class=\"data row4 col0\" >Restless and Wild</td>\n",
       "      <td id=\"T_3bec2_row4_col1\" class=\"data row4 col1\" >Accept</td>\n",
       "      <td id=\"T_3bec2_row4_col2\" class=\"data row4 col2\" >Princess of the Dawn</td>\n",
       "      <td id=\"T_3bec2_row4_col3\" class=\"data row4 col3\" >Deaffy & R.A. Smith-Diesel</td>\n",
       "      <td id=\"T_3bec2_row4_col4\" class=\"data row4 col4\" >375,418</td>\n",
       "    </tr>\n",
       "  </tbody>\n",
       "</table>\n"
      ],
      "text/plain": [
       "<pandas.io.formats.style.Styler at 0x17382e6c610>"
      ]
     },
     "metadata": {},
     "output_type": "display_data"
    }
   ],
   "source": [
    "print(f\"Get inner join of tables Album, Track, and Artist\")\n",
    "\n",
    "statement = (select(Album.Title.label(\"Album\"),\n",
    "            Artist.Name.label(\"Artist\"),\n",
    "            Track.Name.label(\"Track\"),\n",
    "            Track.Composer, \n",
    "            Track.Milliseconds.label(\"Length\"))\n",
    "     .join(Track)\n",
    "     .join(Artist)\n",
    "    )\n",
    "\n",
    "dataframe = pd.read_sql(sql=statement, con=engine)\n",
    "\n",
    "print(dataframe.shape)\n",
    "display(dataframe.head().style.format(thousands=\",\"))"
   ]
  },
  {
   "cell_type": "code",
   "execution_count": 24,
   "id": "9e00c190",
   "metadata": {},
   "outputs": [
    {
     "name": "stdout",
     "output_type": "stream",
     "text": [
      "Longest track: 5286953\n",
      "Shortest track: 1071\n",
      "How many blanks in Composer column?: 978\n",
      "Track length mean: 393599.2121039109\n",
      "Track length median: 255634.0\n",
      "Artist mode: Iron Maiden\n",
      "Correlation between Length and UnitPrice: 0.9317964749112725\n",
      "Track length standard deviation: 535005.4352066235\n"
     ]
    }
   ],
   "source": [
    "albums = pd.read_sql_table(table_name='Album', con=engine)\n",
    "artists = pd.read_sql_table(table_name='Artist', con=engine)\n",
    "tracks = pd.read_sql_table(table_name='Track', con=engine)\n",
    "\n",
    "df1 = (pd\n",
    "     .merge(albums, artists)\n",
    "     .rename(columns = {'Name':'Artist'}))\n",
    "\n",
    "data = (pd\n",
    "     .merge(df1, tracks)\n",
    "     .rename(columns = {'Name':'Track', \n",
    "                        'Title':'Album',\n",
    "                        'Milliseconds':'Length'}))\n",
    "\n",
    "print(f\"Longest track: {data.Length.max()}\")\n",
    "print(f\"Shortest track: {data.Length.min()}\")\n",
    "print(f\"How many blanks in Composer column?: \"\n",
    "      f\"{data.Composer.isnull().sum()}\")\n",
    "print(f\"Track length mean: {data.Length.mean()}\")\n",
    "print(f\"Track length median: {data.Length.median()}\")\n",
    "print(f\"Artist mode: {data.Artist.mode()[0]}\")\n",
    "print(f\"Correlation between Length and UnitPrice: \"\n",
    "      f\"{data['Length'].corr(data['UnitPrice'])}\")\n",
    "print(f\"Track length standard deviation: \"\n",
    "      f\"{data.Length.std()}\")"
   ]
  },
  {
   "cell_type": "code",
   "execution_count": 25,
   "id": "c6a32815",
   "metadata": {},
   "outputs": [
    {
     "name": "stdout",
     "output_type": "stream",
     "text": [
      "Track length standard deviation for a sample of artists:\n",
      "+------------------------------------------------+----------------+\n",
      "| Artist                                         |   Track Length |\n",
      "|                                                |        Std Dev |\n",
      "+================================================+================+\n",
      "| Deep Purple                                    |         170969 |\n",
      "+------------------------------------------------+----------------+\n",
      "| Michael Tilson Thomas & San Francisco Symphony |         202906 |\n",
      "+------------------------------------------------+----------------+\n",
      "| Metallica                                      |         105800 |\n",
      "+------------------------------------------------+----------------+\n",
      "\n",
      "Longest tracks, with artist name:\n",
      "+-----------------------------+----------+--------------------------------+\n",
      "| Track                       |   Length | Artist                         |\n",
      "+=============================+==========+================================+\n",
      "| Occupation / Precipice      |  5286953 | Battlestar Galactica           |\n",
      "+-----------------------------+----------+--------------------------------+\n",
      "| Through a Looking Glass     |  5088838 | Lost                           |\n",
      "+-----------------------------+----------+--------------------------------+\n",
      "| Greetings from Earth, Pt. 1 |  2960293 | Battlestar Galactica (Classic) |\n",
      "+-----------------------------+----------+--------------------------------+\n",
      "\n",
      "Number of tracks per artist, from a sample of artists::\n",
      "+---------------------------------------------------+------------+\n",
      "| Artist                                            |   # Tracks |\n",
      "+===================================================+============+\n",
      "| London Symphony Orchestra & Sir Charles Mackerras |          1 |\n",
      "+---------------------------------------------------+------------+\n",
      "| Santana                                           |         27 |\n",
      "+---------------------------------------------------+------------+\n",
      "| Guns N' Roses                                     |         42 |\n",
      "+---------------------------------------------------+------------+\n",
      "\n",
      "Shortest track by Artist=Guns N' Roses: \n",
      "+---------------------+----------+\n",
      "| Track               |   Length |\n",
      "+=====================+==========+\n",
      "| My World            |    84532 |\n",
      "+---------------------+----------+\n",
      "| Perfect Crime       |   143637 |\n",
      "+---------------------+----------+\n",
      "| You Ain't the First |   156268 |\n",
      "+---------------------+----------+\n"
     ]
    }
   ],
   "source": [
    "from tabulate import tabulate\n",
    "\n",
    "print(f\"Track length standard deviation for a sample of artists:\")\n",
    "print(tabulate(\n",
    "        data.groupby(['Artist'])['Length']\n",
    "        .std()\n",
    "        .dropna()\n",
    "        .sample(3)\n",
    "        .to_frame(), \n",
    "        headers = ['Artist','Track Length\\nStd Dev'], \n",
    "        tablefmt=\"grid\"))\n",
    "print()\n",
    "print(f\"Longest tracks, with artist name:\")\n",
    "print(tabulate(\n",
    "        data[['Track','Length','Artist']]\n",
    "        .nlargest(3, 'Length'), \n",
    "        headers=\"keys\", \n",
    "        tablefmt='grid', \n",
    "        showindex=False))\n",
    "print()\n",
    "print(f\"Number of tracks per artist, from a sample of artists::\")\n",
    "print(tabulate(\n",
    "        data\n",
    "        .groupby('Artist')['Track']\n",
    "        .count()\n",
    "        .sample(3)\n",
    "        .to_frame(), \n",
    "        headers = ['Artist','# Tracks'], \n",
    "        tablefmt=\"grid\"))\n",
    "print()\n",
    "print(f\"Shortest track by Artist=Guns N' Roses: \")\n",
    "gnr = data.loc[data['Artist'] == \"Guns N' Roses\"]\n",
    "gnr_shortest = gnr[['Track','Length']].nsmallest(3, 'Length')\n",
    "print(tabulate(\n",
    "        gnr_shortest, \n",
    "        headers=\"keys\", \n",
    "        tablefmt='grid', \n",
    "        showindex=False))       "
   ]
  },
  {
   "cell_type": "code",
   "execution_count": 26,
   "id": "f2a0a716",
   "metadata": {},
   "outputs": [
    {
     "name": "stdout",
     "output_type": "stream",
     "text": [
      "Longest track length: 5286953\n"
     ]
    }
   ],
   "source": [
    "from sqlalchemy import select, func\n",
    "\n",
    "with Session(engine) as session:\n",
    "    statement = select(func.max(Track.Milliseconds))\n",
    "    length = session.scalar(statement)\n",
    "\n",
    "print(f\"Longest track length: {length}\")\n",
    "\n"
   ]
  },
  {
   "cell_type": "code",
   "execution_count": 43,
   "id": "50aa522e",
   "metadata": {
    "scrolled": true
   },
   "outputs": [
    {
     "name": "stdout",
     "output_type": "stream",
     "text": [
      "<sqlalchemy.engine.result.ChunkedIteratorResult object at 0x0000017385D48150>\n",
      "<class 'sqlalchemy.engine.result.ChunkedIteratorResult'>\n"
     ]
    }
   ],
   "source": [
    "with Session(engine) as session:\n",
    "    result = session.execute(statement)\n",
    "    print(result)\n",
    "    print(type(result))"
   ]
  },
  {
   "cell_type": "code",
   "execution_count": 45,
   "id": "a02ef6ad",
   "metadata": {
    "scrolled": true
   },
   "outputs": [
    {
     "name": "stdout",
     "output_type": "stream",
     "text": [
      "('For Those About To Rock We Salute You', 'AC/DC', 'For Those About To Rock (We Salute You)', 'Angus Young, Malcolm Young, Brian Johnson', 343719)\n",
      "('Balls to the Wall', 'Accept', 'Balls to the Wall', None, 342562)\n",
      "<class 'sqlalchemy.engine.result.ChunkedIteratorResult'>\n"
     ]
    }
   ],
   "source": [
    "with Session(engine) as session:\n",
    "    result = session.execute(statement)\n",
    "    print(next(result))\n",
    "    print(next(result))\n",
    "    print(type(result))"
   ]
  },
  {
   "cell_type": "code",
   "execution_count": 49,
   "id": "22f0de05",
   "metadata": {},
   "outputs": [
    {
     "name": "stdout",
     "output_type": "stream",
     "text": [
      "AC/DC\n",
      "<class 'str'>\n"
     ]
    }
   ],
   "source": [
    "with Session(engine) as session:\n",
    "    result = session.execute(statement)\n",
    "    x = next(result).Artist\n",
    "    print(x)\n",
    "    print(type(x))"
   ]
  },
  {
   "cell_type": "code",
   "execution_count": 56,
   "id": "1453cea9",
   "metadata": {},
   "outputs": [
    {
     "name": "stdout",
     "output_type": "stream",
     "text": [
      "('For Those About To Rock We Salute You', 'AC/DC', 'For Those About To Rock (We Salute You)', 'Angus Young, Malcolm Young, Brian Johnson', 343719)\n",
      "('Balls to the Wall', 'Accept', 'Balls to the Wall', None, 342562)\n",
      "('Restless and Wild', 'Accept', 'Fast As a Shark', 'F. Baltes, S. Kaufman, U. Dirkscneider & W. Hoffman', 230619)\n",
      "('Restless and Wild', 'Accept', 'Restless and Wild', 'F. Baltes, R.A. Smith-Diesel, S. Kaufman, U. Dirkscneider & W. Hoffman', 252051)\n"
     ]
    }
   ],
   "source": [
    "with Session(engine) as session:\n",
    "    limit = 4\n",
    "    result = session.execute(statement)\n",
    "    for index, item in enumerate(result, start=1):\n",
    "        print(item)\n",
    "        if index == limit:\n",
    "            break"
   ]
  },
  {
   "cell_type": "code",
   "execution_count": 72,
   "id": "de7c8174",
   "metadata": {},
   "outputs": [
    {
     "name": "stdout",
     "output_type": "stream",
     "text": [
      "<class 'sqlalchemy.engine.result.RMKeyView'>\n",
      "<class 'sqlalchemy.engine.result.RMKeyView'>\n",
      "[('For Those About To Rock We Salute You', 'AC/DC', 'For Those About To Rock (We Salute You)', 'Angus Young, Malcolm Young, Brian Johnson', 343719), ('Balls to the Wall', 'Accept', 'Balls to the Wall', None, 342562), ('Restless and Wild', 'Accept', 'Fast As a Shark', 'F. Baltes, S. Kaufman, U. Dirkscneider & W. Hoffman', 230619), ('Restless and Wild', 'Accept', 'Restless and Wild', 'F. Baltes, R.A. Smith-Diesel, S. Kaufman, U. Dirkscneider & W. Hoffman', 252051)]\n"
     ]
    }
   ],
   "source": [
    "table = []\n",
    "limit = 4\n",
    "\n",
    "with Session(engine) as session:\n",
    "    result = session.execute(statement)\n",
    "    for index, item in enumerate(result, start=1):\n",
    "        table.append(item)\n",
    "        if index == limit:\n",
    "            break\n",
    "    headers = session.execute(statement).keys()\n",
    "    print(type(headers))\n",
    "    \n",
    "print(type(headers))\n",
    "print(table)"
   ]
  },
  {
   "cell_type": "code",
   "execution_count": 82,
   "id": "41cf792d",
   "metadata": {},
   "outputs": [
    {
     "name": "stdout",
     "output_type": "stream",
     "text": [
      "<class 'sqlalchemy.engine.result.RMKeyView'>\n",
      "<class '__main__.tuple'>\n",
      "Album\n",
      "<class 'list'>\n",
      "<class 'sqlalchemy.engine.row.Row'>\n",
      "<class 'sqlalchemy.engine.row.Row'>\n",
      "<class 'sqlalchemy.engine.row.Row'>\n",
      "<class 'sqlalchemy.engine.row.Row'>\n"
     ]
    }
   ],
   "source": [
    "from collections import namedtuple\n",
    "\n",
    "with Session(engine) as session:\n",
    "    headers = session.execute(statement).keys()\n",
    "    table = session.execute(statement).fetchmany(4)\n",
    "\n",
    "print(type(headers))\n",
    "print(next(iter(headers)))\n",
    "print(type(table))\n",
    "for row in table:\n",
    "    print(type(row))"
   ]
  },
  {
   "cell_type": "code",
   "execution_count": 97,
   "id": "8e969ea9",
   "metadata": {
    "scrolled": true
   },
   "outputs": [
    {
     "name": "stdout",
     "output_type": "stream",
     "text": [
      "<sqlalchemy.engine.result.ChunkedIteratorResult object at 0x00000173832644D0>\n",
      "\n",
      "('For Those About To Rock We Salute You', 'AC/DC', 'For Those About To Rock (We Salute You)', 'Angus Young, Malcolm Young, Brian Johnson', 343719)\n",
      "\n",
      "[('For Those About To Rock We Salute You', 'AC/DC', 'For Those About To Rock (We Salute You)', 'Angus Young, Malcolm Young, Brian Johnson', 343719), ('Balls to the Wall', 'Accept', 'Balls to the Wall', None, 342562)]\n",
      "\n",
      "[('For Those About To Rock We Salute You', 'AC/DC', 'For Those About To Rock (We Salute You)', 'Angus Young, Malcolm Young, Brian Johnson', 343719), ('Balls to the Wall', 'Accept', 'Balls to the Wall', None, 342562)]\n",
      "\n",
      "<sqlalchemy.engine.result.ScalarResult object at 0x00000173FFE2E990>\n",
      "\n",
      "For Those About To Rock We Salute You\n",
      "\n",
      "['For Those About To Rock We Salute You', 'Balls to the Wall']\n",
      "\n",
      "['For Those About To Rock We Salute You', 'Balls to the Wall']\n",
      "\n",
      "For Those About To Rock We Salute You\n"
     ]
    }
   ],
   "source": [
    "from tabulate import tabulate\n",
    "\n",
    "with Session(engine) as session:\n",
    "    print(session.execute(statement))\n",
    "    print()\n",
    "    print(session.execute(statement).first())\n",
    "    print()\n",
    "    print(session.execute(statement).fetchmany(2))\n",
    "    print()\n",
    "    print(session.execute(statement.limit(2)).fetchall())\n",
    "    print()\n",
    "    print(session.scalars(statement))\n",
    "    print()\n",
    "    print(session.scalars(statement).first())\n",
    "    print()\n",
    "    print(session.scalars(statement).fetchmany(2))\n",
    "    print()\n",
    "    print(session.scalars(statement.limit(2)).fetchall())\n",
    "    print()\n",
    "    print(session.scalar(statement))"
   ]
  },
  {
   "cell_type": "code",
   "execution_count": 124,
   "id": "95d63086",
   "metadata": {},
   "outputs": [
    {
     "name": "stdout",
     "output_type": "stream",
     "text": [
      "Experiment with returned data types\n",
      "\n",
      "[('Facelift', 'Alice In Chains', 'We Die Young', 'Jerry Cantrell', 152084), ('Facelift', 'Alice In Chains', 'Man In The Box', 'Jerry Cantrell, Layne Staley', 286641), ('Facelift', 'Alice In Chains', 'Sea Of Sorrow', 'Jerry Cantrell', 349831), ('Facelift', 'Alice In Chains', 'Bleed The Freak', 'Jerry Cantrell', 241946)]\n",
      "\n",
      "Track name: We Die Young\tComposer: Jerry Cantrell\n",
      "Track name: Man In The Box\tComposer: Jerry Cantrell, Layne Staley\n",
      "Track name: Sea Of Sorrow\tComposer: Jerry Cantrell\n",
      "Track name: Bleed The Freak\tComposer: Jerry Cantrell\n",
      "\n",
      "{'Album': 'Facelift', 'Artist': 'Alice In Chains', 'Track': 'We Die Young', 'Composer': 'Jerry Cantrell', 'Length': 152084}\n",
      "{'Album': 'Facelift', 'Artist': 'Alice In Chains', 'Track': 'Man In The Box', 'Composer': 'Jerry Cantrell, Layne Staley', 'Length': 286641}\n",
      "{'Album': 'Facelift', 'Artist': 'Alice In Chains', 'Track': 'Sea Of Sorrow', 'Composer': 'Jerry Cantrell', 'Length': 349831}\n",
      "{'Album': 'Facelift', 'Artist': 'Alice In Chains', 'Track': 'Bleed The Freak', 'Composer': 'Jerry Cantrell', 'Length': 241946}\n",
      "\n",
      "Track name: We Die Young\tComposer: Jerry Cantrell\n",
      "Track name: Man In The Box\tComposer: Jerry Cantrell, Layne Staley\n",
      "Track name: Sea Of Sorrow\tComposer: Jerry Cantrell\n",
      "Track name: Bleed The Freak\tComposer: Jerry Cantrell\n"
     ]
    }
   ],
   "source": [
    "print(f\"Experiment with returned data types\\n\")\n",
    "\n",
    "with Session(engine) as session:\n",
    "    query = session.execute(statement.filter(Artist.Name == 'Alice In Chains'))\n",
    "    headings = query.keys()\n",
    "    result = query.fetchmany(4)\n",
    "    \n",
    "    query = session.execute(statement.filter(Artist.Name == 'Alice In Chains').limit(4))\n",
    "    result_as_dicts = query.mappings().all()\n",
    "\n",
    "print(result)\n",
    "\n",
    "print()\n",
    "for row in result:\n",
    "    print(f\"Track name: {row.Track}\\tComposer: {row.Composer}\")\n",
    "\n",
    "print()\n",
    "for row in result_as_dicts:\n",
    "    print(row)\n",
    "\n",
    "print()\n",
    "for row in result:\n",
    "    print(f\"Track name: {row['Track']}\\tComposer: {row['Composer']}\")\n",
    "    \n"
   ]
  },
  {
   "cell_type": "code",
   "execution_count": 129,
   "id": "77c4aefb",
   "metadata": {},
   "outputs": [
    {
     "name": "stdout",
     "output_type": "stream",
     "text": [
      "Experiment with returned data types\n",
      "\n",
      "[('Facelift', 'Alice In Chains', 'We Die Young', 'Jerry Cantrell', 152084), ('Facelift', 'Alice In Chains', 'Man In The Box', 'Jerry Cantrell, Layne Staley', 286641), ('Facelift', 'Alice In Chains', 'Sea Of Sorrow', 'Jerry Cantrell', 349831), ('Facelift', 'Alice In Chains', 'Bleed The Freak', 'Jerry Cantrell', 241946)]\n",
      "\n",
      "Track name: We Die Young\tComposer: Jerry Cantrell\n",
      "Track name: Man In The Box\tComposer: Jerry Cantrell, Layne Staley\n",
      "Track name: Sea Of Sorrow\tComposer: Jerry Cantrell\n",
      "Track name: Bleed The Freak\tComposer: Jerry Cantrell\n"
     ]
    }
   ],
   "source": [
    "print(f\"Experiment with returned data types\\n\")\n",
    "\n",
    "with Session(engine) as session:\n",
    "    query = session.execute(statement.filter(Artist.Name == 'Alice In Chains'))\n",
    "    headings = query.keys()\n",
    "    result = query.fetchmany(4)\n",
    "    \n",
    "print(result)\n",
    "\n",
    "print()\n",
    "for row in result:\n",
    "    print(f\"Track name: {row.Track}\\tComposer: {row.Composer}\")"
   ]
  },
  {
   "cell_type": "code",
   "execution_count": 130,
   "id": "0cacfbfc",
   "metadata": {},
   "outputs": [
    {
     "name": "stdout",
     "output_type": "stream",
     "text": [
      "('For Those About To Rock We Salute You', 'AC/DC', 'For Those About To Rock (We Salute You)', 'Angus Young, Malcolm Young, Brian Johnson', 343719)\n",
      "('Balls to the Wall', 'Accept', 'Balls to the Wall', None, 342562)\n",
      "('Restless and Wild', 'Accept', 'Fast As a Shark', 'F. Baltes, S. Kaufman, U. Dirkscneider & W. Hoffman', 230619)\n",
      "('Restless and Wild', 'Accept', 'Restless and Wild', 'F. Baltes, R.A. Smith-Diesel, S. Kaufman, U. Dirkscneider & W. Hoffman', 252051)\n",
      "('Restless and Wild', 'Accept', 'Princess of the Dawn', 'Deaffy & R.A. Smith-Diesel', 375418)\n"
     ]
    }
   ],
   "source": [
    "with Session(engine) as session:\n",
    "    query = session.execute(statement)\n",
    "    result_headings = query.keys()\n",
    "    result = query.fetchmany(5)\n",
    "\n",
    "for x in result:\n",
    "    print(x)"
   ]
  },
  {
   "cell_type": "code",
   "execution_count": null,
   "id": "a836f85e",
   "metadata": {},
   "outputs": [],
   "source": [
    "print(\"similar to pandas select() method\")\n",
    "print()\n",
    "with Session(engine) as session:\n",
    "    result = session.execute(statement.order_by(func.random()).limit(2)).fetchall()\n",
    "\n",
    "print(result)"
   ]
  },
  {
   "cell_type": "code",
   "execution_count": null,
   "id": "84111ea0",
   "metadata": {},
   "outputs": [],
   "source": [
    "length = (session1\n",
    "            .query(func.min(Track.Milliseconds))\n",
    "            .scalar()\n",
    "         )\n",
    "\n",
    "print(f\"Shortest track length: {length}\")"
   ]
  },
  {
   "cell_type": "code",
   "execution_count": 141,
   "id": "30432f1e",
   "metadata": {
    "scrolled": true
   },
   "outputs": [
    {
     "name": "stdout",
     "output_type": "stream",
     "text": [
      "(275, 2)\n",
      "   ArtistId               Name\n",
      "0         1              AC/DC\n",
      "1         2             Accept\n",
      "2         3          Aerosmith\n",
      "3         4  Alanis Morissette\n",
      "4         5    Alice In Chains\n"
     ]
    }
   ],
   "source": [
    "statement = (select(Artist))\n",
    "\n",
    "dataframe = pd.read_sql(sql=statement, con=engine)\n",
    "\n",
    "print(dataframe.shape)\n",
    "print(dataframe.head(5))"
   ]
  },
  {
   "cell_type": "code",
   "execution_count": 142,
   "id": "09487f29",
   "metadata": {
    "scrolled": true
   },
   "outputs": [
    {
     "name": "stdout",
     "output_type": "stream",
     "text": [
      "(1, 2)\n",
      "   ArtistId             Name\n",
      "0         5  Alice In Chains\n"
     ]
    }
   ],
   "source": [
    "statement = (select(Artist).filter(Artist.Name=='Alice In Chains'))\n",
    "\n",
    "dataframe = pd.read_sql(sql=statement, con=engine)\n",
    "\n",
    "print(dataframe.shape)\n",
    "print(dataframe.head(5))"
   ]
  },
  {
   "cell_type": "code",
   "execution_count": 148,
   "id": "73599219",
   "metadata": {
    "scrolled": true
   },
   "outputs": [
    {
     "name": "stdout",
     "output_type": "stream",
     "text": [
      "(5, 2)\n",
      "   ArtistId                Name\n",
      "0       247  The King's Singers\n",
      "1       191         Nação Zumbi\n",
      "2       251            Fretwork\n",
      "3        36             O Rappa\n",
      "4        94        Jimi Hendrix\n"
     ]
    }
   ],
   "source": [
    "statement = (select(Artist).order_by(func.random()).limit(5))\n",
    "\n",
    "dataframe = pd.read_sql(sql=statement, con=engine)\n",
    "\n",
    "print(dataframe.shape)\n",
    "print(dataframe.head(5))"
   ]
  },
  {
   "cell_type": "code",
   "execution_count": 176,
   "id": "04c032bd",
   "metadata": {},
   "outputs": [
    {
     "name": "stdout",
     "output_type": "stream",
     "text": [
      "['__class__', '__delattr__', '__dict__', '__dir__', '__doc__', '__eq__', '__format__', '__ge__', '__getattribute__', '__getstate__', '__gt__', '__hash__', '__init__', '__init_subclass__', '__iter__', '__le__', '__lt__', '__module__', '__ne__', '__new__', '__next__', '__reduce__', '__reduce_ex__', '__repr__', '__setattr__', '__sizeof__', '__slots__', '__str__', '__subclasshook__', '__weakref__', '_allrows', '_assert_no_memoizations', '_attributes', '_column_slices', '_fetchall_impl', '_fetchiter_impl', '_fetchmany_impl', '_fetchone_impl', '_generate', '_generate_rows', '_is_cursor', '_iter_impl', '_iterator_getter', '_manyrow_getter', '_memoized_keys', '_metadata', '_next_impl', '_onerow_getter', '_only_one_row', '_post_creational_filter', '_raw_all_rows', '_real_result', '_reset_memoizations', '_row_getter', '_set_memoized_attribute', '_soft_close', '_soft_closed', '_unique_filter_state', '_unique_strategy', 'all', 'close', 'closed', 'fetchall', 'fetchmany', 'first', 'memoized_attribute', 'memoized_instancemethod', 'one', 'one_or_none', 'partitions', 'unique', 'yield_per']\n",
      "Album:  For Those About To Rock We Salute You\n",
      "Artist: AC/DC\n",
      "Tracks:\n",
      "    For Those About To Rock (We Salute You)\n",
      "    Put The Finger On You\n",
      "    Let's Get It Up\n",
      "    Inject The Venom\n",
      "    Snowballed\n",
      "    Evil Walks\n",
      "    C.O.D.\n",
      "    Breaking The Rules\n",
      "    Night Of The Long Knives\n",
      "    Spellbound\n",
      "Album:  Balls to the Wall\n",
      "Artist: Accept\n",
      "Tracks:\n",
      "    Balls to the Wall\n",
      "Album:  Restless and Wild\n",
      "Artist: Accept\n",
      "Tracks:\n",
      "    Fast As a Shark\n",
      "    Restless and Wild\n",
      "    Princess of the Dawn\n"
     ]
    }
   ],
   "source": [
    "from sqlalchemy import select\n",
    "\n",
    "session = Session(engine)\n",
    "\n",
    "statement = select(Album)\n",
    "first_album = session.scalars(statement.limit(3))\n",
    "print(dir(first_album))\n",
    "\n",
    "for x in first_album:\n",
    "\n",
    "    print(f\"Album:  {x.Title}\")\n",
    "    print(f\"Artist: {x.artist.Name}\")\n",
    "    print(f\"Tracks:\")\n",
    "    for t in x.track_collection:\n",
    "        print(f\"    {t.Name}\")\n",
    "\n",
    "session.close()"
   ]
  },
  {
   "cell_type": "code",
   "execution_count": 187,
   "id": "8a7fc317",
   "metadata": {},
   "outputs": [
    {
     "name": "stdout",
     "output_type": "stream",
     "text": [
      "Album:  For Those About To Rock We Salute You\tArtist: AC/DC\tTrack: For Those About To Rock (We Salute You)\n",
      "Album:  Balls to the Wall\tArtist: Accept\tTrack: Balls to the Wall\n",
      "Album:  Restless and Wild\tArtist: Accept\tTrack: Fast As a Shark\n",
      "\n"
     ]
    }
   ],
   "source": [
    "statement = (select(Album.Title.label(\"Album\"),\n",
    "            Artist.Name.label(\"Artist\"),\n",
    "            Track.Name.label(\"Track\"),\n",
    "            Track.Composer, \n",
    "            Track.Milliseconds.label(\"Length\"))\n",
    "     .join(Track)\n",
    "     .join(Artist)\n",
    "    )\n",
    "\n",
    "session = Session(engine)\n",
    "\n",
    "first_album = session.execute(statement.limit(3))\n",
    "\n",
    "for x in first_album:\n",
    "    print(f\"Album:  {x.Album}\\tArtist: {x.Artist}\\tTrack: {x.Track}\")\n",
    "\n",
    "print()\n",
    "\n",
    "session.close()"
   ]
  },
  {
   "cell_type": "code",
   "execution_count": 225,
   "id": "ab9db4d4",
   "metadata": {},
   "outputs": [
    {
     "name": "stdout",
     "output_type": "stream",
     "text": [
      "Names of all the tracks purchased by each customer\n"
     ]
    },
    {
     "ename": "InvalidRequestError",
     "evalue": "Don't know how to join to <Mapper at 0x173f1e5dad0; Customer>. Please use the .select_from() method to establish an explicit left side, as well as providing an explicit ON clause if not present already to help resolve the ambiguity.",
     "output_type": "error",
     "traceback": [
      "\u001b[1;31m---------------------------------------------------------------------------\u001b[0m",
      "\u001b[1;31mInvalidRequestError\u001b[0m                       Traceback (most recent call last)",
      "Cell \u001b[1;32mIn[225], line 18\u001b[0m\n\u001b[0;32m      1\u001b[0m \u001b[38;5;28mprint\u001b[39m(\u001b[38;5;124mf\u001b[39m\u001b[38;5;124m\"\u001b[39m\u001b[38;5;124mNames of all the tracks purchased by each customer\u001b[39m\u001b[38;5;124m\"\u001b[39m)\n\u001b[0;32m      3\u001b[0m statement \u001b[38;5;241m=\u001b[39m (select(Customer\u001b[38;5;241m.\u001b[39mFirstName,\n\u001b[0;32m      4\u001b[0m                     Customer\u001b[38;5;241m.\u001b[39mLastName,\n\u001b[0;32m      5\u001b[0m                     Customer\u001b[38;5;241m.\u001b[39mCountry,\n\u001b[1;32m   (...)\u001b[0m\n\u001b[0;32m     15\u001b[0m                 \u001b[38;5;241m.\u001b[39mjoin_from(Track, Album)\n\u001b[0;32m     16\u001b[0m                 \u001b[38;5;241m.\u001b[39mjoin_from(Album, Artist))\n\u001b[1;32m---> 18\u001b[0m dataframe \u001b[38;5;241m=\u001b[39m \u001b[43mpd\u001b[49m\u001b[38;5;241;43m.\u001b[39;49m\u001b[43mread_sql\u001b[49m\u001b[43m(\u001b[49m\u001b[43msql\u001b[49m\u001b[38;5;241;43m=\u001b[39;49m\u001b[43mstatement\u001b[49m\u001b[43m,\u001b[49m\u001b[43m \u001b[49m\u001b[43mcon\u001b[49m\u001b[38;5;241;43m=\u001b[39;49m\u001b[43mengine\u001b[49m\u001b[43m)\u001b[49m\n\u001b[0;32m     20\u001b[0m \u001b[38;5;28mprint\u001b[39m(dataframe\u001b[38;5;241m.\u001b[39mshape)\n\u001b[0;32m     21\u001b[0m display(dataframe\u001b[38;5;241m.\u001b[39mhead(\u001b[38;5;241m10\u001b[39m)\u001b[38;5;241m.\u001b[39mstyle\u001b[38;5;241m.\u001b[39mformat(thousands\u001b[38;5;241m=\u001b[39m\u001b[38;5;124m\"\u001b[39m\u001b[38;5;124m,\u001b[39m\u001b[38;5;124m\"\u001b[39m))\n",
      "File \u001b[1;32m~\\Documents\\learning\\data-science\\env\\Lib\\site-packages\\pandas\\io\\sql.py:590\u001b[0m, in \u001b[0;36mread_sql\u001b[1;34m(sql, con, index_col, coerce_float, params, parse_dates, columns, chunksize)\u001b[0m\n\u001b[0;32m    581\u001b[0m     \u001b[38;5;28;01mreturn\u001b[39;00m pandas_sql\u001b[38;5;241m.\u001b[39mread_table(\n\u001b[0;32m    582\u001b[0m         sql,\n\u001b[0;32m    583\u001b[0m         index_col\u001b[38;5;241m=\u001b[39mindex_col,\n\u001b[1;32m   (...)\u001b[0m\n\u001b[0;32m    587\u001b[0m         chunksize\u001b[38;5;241m=\u001b[39mchunksize,\n\u001b[0;32m    588\u001b[0m     )\n\u001b[0;32m    589\u001b[0m \u001b[38;5;28;01melse\u001b[39;00m:\n\u001b[1;32m--> 590\u001b[0m     \u001b[38;5;28;01mreturn\u001b[39;00m \u001b[43mpandas_sql\u001b[49m\u001b[38;5;241;43m.\u001b[39;49m\u001b[43mread_query\u001b[49m\u001b[43m(\u001b[49m\n\u001b[0;32m    591\u001b[0m \u001b[43m        \u001b[49m\u001b[43msql\u001b[49m\u001b[43m,\u001b[49m\n\u001b[0;32m    592\u001b[0m \u001b[43m        \u001b[49m\u001b[43mindex_col\u001b[49m\u001b[38;5;241;43m=\u001b[39;49m\u001b[43mindex_col\u001b[49m\u001b[43m,\u001b[49m\n\u001b[0;32m    593\u001b[0m \u001b[43m        \u001b[49m\u001b[43mparams\u001b[49m\u001b[38;5;241;43m=\u001b[39;49m\u001b[43mparams\u001b[49m\u001b[43m,\u001b[49m\n\u001b[0;32m    594\u001b[0m \u001b[43m        \u001b[49m\u001b[43mcoerce_float\u001b[49m\u001b[38;5;241;43m=\u001b[39;49m\u001b[43mcoerce_float\u001b[49m\u001b[43m,\u001b[49m\n\u001b[0;32m    595\u001b[0m \u001b[43m        \u001b[49m\u001b[43mparse_dates\u001b[49m\u001b[38;5;241;43m=\u001b[39;49m\u001b[43mparse_dates\u001b[49m\u001b[43m,\u001b[49m\n\u001b[0;32m    596\u001b[0m \u001b[43m        \u001b[49m\u001b[43mchunksize\u001b[49m\u001b[38;5;241;43m=\u001b[39;49m\u001b[43mchunksize\u001b[49m\u001b[43m,\u001b[49m\n\u001b[0;32m    597\u001b[0m \u001b[43m    \u001b[49m\u001b[43m)\u001b[49m\n",
      "File \u001b[1;32m~\\Documents\\learning\\data-science\\env\\Lib\\site-packages\\pandas\\io\\sql.py:1560\u001b[0m, in \u001b[0;36mSQLDatabase.read_query\u001b[1;34m(self, sql, index_col, coerce_float, parse_dates, params, chunksize, dtype)\u001b[0m\n\u001b[0;32m   1512\u001b[0m \u001b[38;5;250m\u001b[39m\u001b[38;5;124;03m\"\"\"\u001b[39;00m\n\u001b[0;32m   1513\u001b[0m \u001b[38;5;124;03mRead SQL query into a DataFrame.\u001b[39;00m\n\u001b[0;32m   1514\u001b[0m \n\u001b[1;32m   (...)\u001b[0m\n\u001b[0;32m   1556\u001b[0m \n\u001b[0;32m   1557\u001b[0m \u001b[38;5;124;03m\"\"\"\u001b[39;00m\n\u001b[0;32m   1558\u001b[0m args \u001b[38;5;241m=\u001b[39m _convert_params(sql, params)\n\u001b[1;32m-> 1560\u001b[0m result \u001b[38;5;241m=\u001b[39m \u001b[38;5;28;43mself\u001b[39;49m\u001b[38;5;241;43m.\u001b[39;49m\u001b[43mexecute\u001b[49m\u001b[43m(\u001b[49m\u001b[38;5;241;43m*\u001b[39;49m\u001b[43margs\u001b[49m\u001b[43m)\u001b[49m\n\u001b[0;32m   1561\u001b[0m columns \u001b[38;5;241m=\u001b[39m result\u001b[38;5;241m.\u001b[39mkeys()\n\u001b[0;32m   1563\u001b[0m \u001b[38;5;28;01mif\u001b[39;00m chunksize \u001b[38;5;129;01mis\u001b[39;00m \u001b[38;5;129;01mnot\u001b[39;00m \u001b[38;5;28;01mNone\u001b[39;00m:\n",
      "File \u001b[1;32m~\\Documents\\learning\\data-science\\env\\Lib\\site-packages\\pandas\\io\\sql.py:1405\u001b[0m, in \u001b[0;36mSQLDatabase.execute\u001b[1;34m(self, *args, **kwargs)\u001b[0m\n\u001b[0;32m   1403\u001b[0m \u001b[38;5;28;01mdef\u001b[39;00m \u001b[38;5;21mexecute\u001b[39m(\u001b[38;5;28mself\u001b[39m, \u001b[38;5;241m*\u001b[39margs, \u001b[38;5;241m*\u001b[39m\u001b[38;5;241m*\u001b[39mkwargs):\n\u001b[0;32m   1404\u001b[0m \u001b[38;5;250m    \u001b[39m\u001b[38;5;124;03m\"\"\"Simple passthrough to SQLAlchemy connectable\"\"\"\u001b[39;00m\n\u001b[1;32m-> 1405\u001b[0m     \u001b[38;5;28;01mreturn\u001b[39;00m \u001b[38;5;28;43mself\u001b[39;49m\u001b[38;5;241;43m.\u001b[39;49m\u001b[43mconnectable\u001b[49m\u001b[38;5;241;43m.\u001b[39;49m\u001b[43mexecution_options\u001b[49m\u001b[43m(\u001b[49m\u001b[43m)\u001b[49m\u001b[38;5;241;43m.\u001b[39;49m\u001b[43mexecute\u001b[49m\u001b[43m(\u001b[49m\u001b[38;5;241;43m*\u001b[39;49m\u001b[43margs\u001b[49m\u001b[43m,\u001b[49m\u001b[43m \u001b[49m\u001b[38;5;241;43m*\u001b[39;49m\u001b[38;5;241;43m*\u001b[39;49m\u001b[43mkwargs\u001b[49m\u001b[43m)\u001b[49m\n",
      "File \u001b[1;32m<string>:2\u001b[0m, in \u001b[0;36mexecute\u001b[1;34m(self, statement, *multiparams, **params)\u001b[0m\n",
      "File \u001b[1;32m~\\Documents\\learning\\data-science\\env\\Lib\\site-packages\\sqlalchemy\\util\\deprecations.py:468\u001b[0m, in \u001b[0;36m_decorate_with_warning.<locals>.warned\u001b[1;34m(fn, *args, **kwargs)\u001b[0m\n\u001b[0;32m    466\u001b[0m \u001b[38;5;28;01mif\u001b[39;00m \u001b[38;5;129;01mnot\u001b[39;00m skip_warning:\n\u001b[0;32m    467\u001b[0m     _warn_with_version(message, version, wtype, stacklevel\u001b[38;5;241m=\u001b[39m\u001b[38;5;241m3\u001b[39m)\n\u001b[1;32m--> 468\u001b[0m \u001b[38;5;28;01mreturn\u001b[39;00m \u001b[43mfn\u001b[49m\u001b[43m(\u001b[49m\u001b[38;5;241;43m*\u001b[39;49m\u001b[43margs\u001b[49m\u001b[43m,\u001b[49m\u001b[43m \u001b[49m\u001b[38;5;241;43m*\u001b[39;49m\u001b[38;5;241;43m*\u001b[39;49m\u001b[43mkwargs\u001b[49m\u001b[43m)\u001b[49m\n",
      "File \u001b[1;32m~\\Documents\\learning\\data-science\\env\\Lib\\site-packages\\sqlalchemy\\engine\\base.py:3257\u001b[0m, in \u001b[0;36mEngine.execute\u001b[1;34m(self, statement, *multiparams, **params)\u001b[0m\n\u001b[0;32m   3239\u001b[0m \u001b[38;5;250m\u001b[39m\u001b[38;5;124;03m\"\"\"Executes the given construct and returns a\u001b[39;00m\n\u001b[0;32m   3240\u001b[0m \u001b[38;5;124;03m:class:`_engine.CursorResult`.\u001b[39;00m\n\u001b[0;32m   3241\u001b[0m \n\u001b[1;32m   (...)\u001b[0m\n\u001b[0;32m   3254\u001b[0m \n\u001b[0;32m   3255\u001b[0m \u001b[38;5;124;03m\"\"\"\u001b[39;00m\n\u001b[0;32m   3256\u001b[0m connection \u001b[38;5;241m=\u001b[39m \u001b[38;5;28mself\u001b[39m\u001b[38;5;241m.\u001b[39mconnect(close_with_result\u001b[38;5;241m=\u001b[39m\u001b[38;5;28;01mTrue\u001b[39;00m)\n\u001b[1;32m-> 3257\u001b[0m \u001b[38;5;28;01mreturn\u001b[39;00m \u001b[43mconnection\u001b[49m\u001b[38;5;241;43m.\u001b[39;49m\u001b[43mexecute\u001b[49m\u001b[43m(\u001b[49m\u001b[43mstatement\u001b[49m\u001b[43m,\u001b[49m\u001b[43m \u001b[49m\u001b[38;5;241;43m*\u001b[39;49m\u001b[43mmultiparams\u001b[49m\u001b[43m,\u001b[49m\u001b[43m \u001b[49m\u001b[38;5;241;43m*\u001b[39;49m\u001b[38;5;241;43m*\u001b[39;49m\u001b[43mparams\u001b[49m\u001b[43m)\u001b[49m\n",
      "File \u001b[1;32m~\\Documents\\learning\\data-science\\env\\Lib\\site-packages\\sqlalchemy\\engine\\base.py:1380\u001b[0m, in \u001b[0;36mConnection.execute\u001b[1;34m(self, statement, *multiparams, **params)\u001b[0m\n\u001b[0;32m   1376\u001b[0m     util\u001b[38;5;241m.\u001b[39mraise_(\n\u001b[0;32m   1377\u001b[0m         exc\u001b[38;5;241m.\u001b[39mObjectNotExecutableError(statement), replace_context\u001b[38;5;241m=\u001b[39merr\n\u001b[0;32m   1378\u001b[0m     )\n\u001b[0;32m   1379\u001b[0m \u001b[38;5;28;01melse\u001b[39;00m:\n\u001b[1;32m-> 1380\u001b[0m     \u001b[38;5;28;01mreturn\u001b[39;00m \u001b[43mmeth\u001b[49m\u001b[43m(\u001b[49m\u001b[38;5;28;43mself\u001b[39;49m\u001b[43m,\u001b[49m\u001b[43m \u001b[49m\u001b[43mmultiparams\u001b[49m\u001b[43m,\u001b[49m\u001b[43m \u001b[49m\u001b[43mparams\u001b[49m\u001b[43m,\u001b[49m\u001b[43m \u001b[49m\u001b[43m_EMPTY_EXECUTION_OPTS\u001b[49m\u001b[43m)\u001b[49m\n",
      "File \u001b[1;32m~\\Documents\\learning\\data-science\\env\\Lib\\site-packages\\sqlalchemy\\sql\\elements.py:334\u001b[0m, in \u001b[0;36mClauseElement._execute_on_connection\u001b[1;34m(self, connection, multiparams, params, execution_options, _force)\u001b[0m\n\u001b[0;32m    330\u001b[0m \u001b[38;5;28;01mdef\u001b[39;00m \u001b[38;5;21m_execute_on_connection\u001b[39m(\n\u001b[0;32m    331\u001b[0m     \u001b[38;5;28mself\u001b[39m, connection, multiparams, params, execution_options, _force\u001b[38;5;241m=\u001b[39m\u001b[38;5;28;01mFalse\u001b[39;00m\n\u001b[0;32m    332\u001b[0m ):\n\u001b[0;32m    333\u001b[0m     \u001b[38;5;28;01mif\u001b[39;00m _force \u001b[38;5;129;01mor\u001b[39;00m \u001b[38;5;28mself\u001b[39m\u001b[38;5;241m.\u001b[39msupports_execution:\n\u001b[1;32m--> 334\u001b[0m         \u001b[38;5;28;01mreturn\u001b[39;00m \u001b[43mconnection\u001b[49m\u001b[38;5;241;43m.\u001b[39;49m\u001b[43m_execute_clauseelement\u001b[49m\u001b[43m(\u001b[49m\n\u001b[0;32m    335\u001b[0m \u001b[43m            \u001b[49m\u001b[38;5;28;43mself\u001b[39;49m\u001b[43m,\u001b[49m\u001b[43m \u001b[49m\u001b[43mmultiparams\u001b[49m\u001b[43m,\u001b[49m\u001b[43m \u001b[49m\u001b[43mparams\u001b[49m\u001b[43m,\u001b[49m\u001b[43m \u001b[49m\u001b[43mexecution_options\u001b[49m\n\u001b[0;32m    336\u001b[0m \u001b[43m        \u001b[49m\u001b[43m)\u001b[49m\n\u001b[0;32m    337\u001b[0m     \u001b[38;5;28;01melse\u001b[39;00m:\n\u001b[0;32m    338\u001b[0m         \u001b[38;5;28;01mraise\u001b[39;00m exc\u001b[38;5;241m.\u001b[39mObjectNotExecutableError(\u001b[38;5;28mself\u001b[39m)\n",
      "File \u001b[1;32m~\\Documents\\learning\\data-science\\env\\Lib\\site-packages\\sqlalchemy\\engine\\base.py:1564\u001b[0m, in \u001b[0;36mConnection._execute_clauseelement\u001b[1;34m(self, elem, multiparams, params, execution_options)\u001b[0m\n\u001b[0;32m   1556\u001b[0m schema_translate_map \u001b[38;5;241m=\u001b[39m execution_options\u001b[38;5;241m.\u001b[39mget(\n\u001b[0;32m   1557\u001b[0m     \u001b[38;5;124m\"\u001b[39m\u001b[38;5;124mschema_translate_map\u001b[39m\u001b[38;5;124m\"\u001b[39m, \u001b[38;5;28;01mNone\u001b[39;00m\n\u001b[0;32m   1558\u001b[0m )\n\u001b[0;32m   1560\u001b[0m compiled_cache \u001b[38;5;241m=\u001b[39m execution_options\u001b[38;5;241m.\u001b[39mget(\n\u001b[0;32m   1561\u001b[0m     \u001b[38;5;124m\"\u001b[39m\u001b[38;5;124mcompiled_cache\u001b[39m\u001b[38;5;124m\"\u001b[39m, \u001b[38;5;28mself\u001b[39m\u001b[38;5;241m.\u001b[39mengine\u001b[38;5;241m.\u001b[39m_compiled_cache\n\u001b[0;32m   1562\u001b[0m )\n\u001b[1;32m-> 1564\u001b[0m compiled_sql, extracted_params, cache_hit \u001b[38;5;241m=\u001b[39m \u001b[43melem\u001b[49m\u001b[38;5;241;43m.\u001b[39;49m\u001b[43m_compile_w_cache\u001b[49m\u001b[43m(\u001b[49m\n\u001b[0;32m   1565\u001b[0m \u001b[43m    \u001b[49m\u001b[43mdialect\u001b[49m\u001b[38;5;241;43m=\u001b[39;49m\u001b[43mdialect\u001b[49m\u001b[43m,\u001b[49m\n\u001b[0;32m   1566\u001b[0m \u001b[43m    \u001b[49m\u001b[43mcompiled_cache\u001b[49m\u001b[38;5;241;43m=\u001b[39;49m\u001b[43mcompiled_cache\u001b[49m\u001b[43m,\u001b[49m\n\u001b[0;32m   1567\u001b[0m \u001b[43m    \u001b[49m\u001b[43mcolumn_keys\u001b[49m\u001b[38;5;241;43m=\u001b[39;49m\u001b[43mkeys\u001b[49m\u001b[43m,\u001b[49m\n\u001b[0;32m   1568\u001b[0m \u001b[43m    \u001b[49m\u001b[43mfor_executemany\u001b[49m\u001b[38;5;241;43m=\u001b[39;49m\u001b[43mfor_executemany\u001b[49m\u001b[43m,\u001b[49m\n\u001b[0;32m   1569\u001b[0m \u001b[43m    \u001b[49m\u001b[43mschema_translate_map\u001b[49m\u001b[38;5;241;43m=\u001b[39;49m\u001b[43mschema_translate_map\u001b[49m\u001b[43m,\u001b[49m\n\u001b[0;32m   1570\u001b[0m \u001b[43m    \u001b[49m\u001b[43mlinting\u001b[49m\u001b[38;5;241;43m=\u001b[39;49m\u001b[38;5;28;43mself\u001b[39;49m\u001b[38;5;241;43m.\u001b[39;49m\u001b[43mdialect\u001b[49m\u001b[38;5;241;43m.\u001b[39;49m\u001b[43mcompiler_linting\u001b[49m\u001b[43m \u001b[49m\u001b[38;5;241;43m|\u001b[39;49m\u001b[43m \u001b[49m\u001b[43mcompiler\u001b[49m\u001b[38;5;241;43m.\u001b[39;49m\u001b[43mWARN_LINTING\u001b[49m\u001b[43m,\u001b[49m\n\u001b[0;32m   1571\u001b[0m \u001b[43m\u001b[49m\u001b[43m)\u001b[49m\n\u001b[0;32m   1572\u001b[0m ret \u001b[38;5;241m=\u001b[39m \u001b[38;5;28mself\u001b[39m\u001b[38;5;241m.\u001b[39m_execute_context(\n\u001b[0;32m   1573\u001b[0m     dialect,\n\u001b[0;32m   1574\u001b[0m     dialect\u001b[38;5;241m.\u001b[39mexecution_ctx_cls\u001b[38;5;241m.\u001b[39m_init_compiled,\n\u001b[1;32m   (...)\u001b[0m\n\u001b[0;32m   1582\u001b[0m     cache_hit\u001b[38;5;241m=\u001b[39mcache_hit,\n\u001b[0;32m   1583\u001b[0m )\n\u001b[0;32m   1584\u001b[0m \u001b[38;5;28;01mif\u001b[39;00m has_events:\n",
      "File \u001b[1;32m~\\Documents\\learning\\data-science\\env\\Lib\\site-packages\\sqlalchemy\\sql\\elements.py:532\u001b[0m, in \u001b[0;36mClauseElement._compile_w_cache\u001b[1;34m(self, dialect, compiled_cache, column_keys, for_executemany, schema_translate_map, **kw)\u001b[0m\n\u001b[0;32m    530\u001b[0m \u001b[38;5;28;01mif\u001b[39;00m compiled_sql \u001b[38;5;129;01mis\u001b[39;00m \u001b[38;5;28;01mNone\u001b[39;00m:\n\u001b[0;32m    531\u001b[0m     cache_hit \u001b[38;5;241m=\u001b[39m dialect\u001b[38;5;241m.\u001b[39mCACHE_MISS\n\u001b[1;32m--> 532\u001b[0m     compiled_sql \u001b[38;5;241m=\u001b[39m \u001b[38;5;28;43mself\u001b[39;49m\u001b[38;5;241;43m.\u001b[39;49m\u001b[43m_compiler\u001b[49m\u001b[43m(\u001b[49m\n\u001b[0;32m    533\u001b[0m \u001b[43m        \u001b[49m\u001b[43mdialect\u001b[49m\u001b[43m,\u001b[49m\n\u001b[0;32m    534\u001b[0m \u001b[43m        \u001b[49m\u001b[43mcache_key\u001b[49m\u001b[38;5;241;43m=\u001b[39;49m\u001b[43melem_cache_key\u001b[49m\u001b[43m,\u001b[49m\n\u001b[0;32m    535\u001b[0m \u001b[43m        \u001b[49m\u001b[43mcolumn_keys\u001b[49m\u001b[38;5;241;43m=\u001b[39;49m\u001b[43mcolumn_keys\u001b[49m\u001b[43m,\u001b[49m\n\u001b[0;32m    536\u001b[0m \u001b[43m        \u001b[49m\u001b[43mfor_executemany\u001b[49m\u001b[38;5;241;43m=\u001b[39;49m\u001b[43mfor_executemany\u001b[49m\u001b[43m,\u001b[49m\n\u001b[0;32m    537\u001b[0m \u001b[43m        \u001b[49m\u001b[43mschema_translate_map\u001b[49m\u001b[38;5;241;43m=\u001b[39;49m\u001b[43mschema_translate_map\u001b[49m\u001b[43m,\u001b[49m\n\u001b[0;32m    538\u001b[0m \u001b[43m        \u001b[49m\u001b[38;5;241;43m*\u001b[39;49m\u001b[38;5;241;43m*\u001b[39;49m\u001b[43mkw\u001b[49m\n\u001b[0;32m    539\u001b[0m \u001b[43m    \u001b[49m\u001b[43m)\u001b[49m\n\u001b[0;32m    540\u001b[0m     compiled_cache[key] \u001b[38;5;241m=\u001b[39m compiled_sql\n\u001b[0;32m    541\u001b[0m \u001b[38;5;28;01melse\u001b[39;00m:\n",
      "File \u001b[1;32m~\\Documents\\learning\\data-science\\env\\Lib\\site-packages\\sqlalchemy\\sql\\elements.py:567\u001b[0m, in \u001b[0;36mClauseElement._compiler\u001b[1;34m(self, dialect, **kw)\u001b[0m\n\u001b[0;32m    563\u001b[0m \u001b[38;5;28;01mdef\u001b[39;00m \u001b[38;5;21m_compiler\u001b[39m(\u001b[38;5;28mself\u001b[39m, dialect, \u001b[38;5;241m*\u001b[39m\u001b[38;5;241m*\u001b[39mkw):\n\u001b[0;32m    564\u001b[0m \u001b[38;5;250m    \u001b[39m\u001b[38;5;124;03m\"\"\"Return a compiler appropriate for this ClauseElement, given a\u001b[39;00m\n\u001b[0;32m    565\u001b[0m \u001b[38;5;124;03m    Dialect.\"\"\"\u001b[39;00m\n\u001b[1;32m--> 567\u001b[0m     \u001b[38;5;28;01mreturn\u001b[39;00m \u001b[43mdialect\u001b[49m\u001b[38;5;241;43m.\u001b[39;49m\u001b[43mstatement_compiler\u001b[49m\u001b[43m(\u001b[49m\u001b[43mdialect\u001b[49m\u001b[43m,\u001b[49m\u001b[43m \u001b[49m\u001b[38;5;28;43mself\u001b[39;49m\u001b[43m,\u001b[49m\u001b[43m \u001b[49m\u001b[38;5;241;43m*\u001b[39;49m\u001b[38;5;241;43m*\u001b[39;49m\u001b[43mkw\u001b[49m\u001b[43m)\u001b[49m\n",
      "File \u001b[1;32m~\\Documents\\learning\\data-science\\env\\Lib\\site-packages\\sqlalchemy\\sql\\compiler.py:809\u001b[0m, in \u001b[0;36mSQLCompiler.__init__\u001b[1;34m(self, dialect, statement, cache_key, column_keys, for_executemany, linting, **kwargs)\u001b[0m\n\u001b[0;32m    805\u001b[0m \u001b[38;5;66;03m# a map which tracks \"truncated\" names based on\u001b[39;00m\n\u001b[0;32m    806\u001b[0m \u001b[38;5;66;03m# dialect.label_length or dialect.max_identifier_length\u001b[39;00m\n\u001b[0;32m    807\u001b[0m \u001b[38;5;28mself\u001b[39m\u001b[38;5;241m.\u001b[39mtruncated_names \u001b[38;5;241m=\u001b[39m {}\n\u001b[1;32m--> 809\u001b[0m \u001b[43mCompiled\u001b[49m\u001b[38;5;241;43m.\u001b[39;49m\u001b[38;5;21;43m__init__\u001b[39;49m\u001b[43m(\u001b[49m\u001b[38;5;28;43mself\u001b[39;49m\u001b[43m,\u001b[49m\u001b[43m \u001b[49m\u001b[43mdialect\u001b[49m\u001b[43m,\u001b[49m\u001b[43m \u001b[49m\u001b[43mstatement\u001b[49m\u001b[43m,\u001b[49m\u001b[43m \u001b[49m\u001b[38;5;241;43m*\u001b[39;49m\u001b[38;5;241;43m*\u001b[39;49m\u001b[43mkwargs\u001b[49m\u001b[43m)\u001b[49m\n\u001b[0;32m    811\u001b[0m \u001b[38;5;28;01mif\u001b[39;00m \u001b[38;5;28mself\u001b[39m\u001b[38;5;241m.\u001b[39misinsert \u001b[38;5;129;01mor\u001b[39;00m \u001b[38;5;28mself\u001b[39m\u001b[38;5;241m.\u001b[39misupdate \u001b[38;5;129;01mor\u001b[39;00m \u001b[38;5;28mself\u001b[39m\u001b[38;5;241m.\u001b[39misdelete:\n\u001b[0;32m    812\u001b[0m     \u001b[38;5;28;01mif\u001b[39;00m statement\u001b[38;5;241m.\u001b[39m_returning:\n",
      "File \u001b[1;32m~\\Documents\\learning\\data-science\\env\\Lib\\site-packages\\sqlalchemy\\sql\\compiler.py:464\u001b[0m, in \u001b[0;36mCompiled.__init__\u001b[1;34m(self, dialect, statement, schema_translate_map, render_schema_translate, compile_kwargs)\u001b[0m\n\u001b[0;32m    462\u001b[0m \u001b[38;5;28;01mif\u001b[39;00m \u001b[38;5;28mself\u001b[39m\u001b[38;5;241m.\u001b[39mcan_execute:\n\u001b[0;32m    463\u001b[0m     \u001b[38;5;28mself\u001b[39m\u001b[38;5;241m.\u001b[39mexecution_options \u001b[38;5;241m=\u001b[39m statement\u001b[38;5;241m.\u001b[39m_execution_options\n\u001b[1;32m--> 464\u001b[0m \u001b[38;5;28mself\u001b[39m\u001b[38;5;241m.\u001b[39mstring \u001b[38;5;241m=\u001b[39m \u001b[38;5;28;43mself\u001b[39;49m\u001b[38;5;241;43m.\u001b[39;49m\u001b[43mprocess\u001b[49m\u001b[43m(\u001b[49m\u001b[38;5;28;43mself\u001b[39;49m\u001b[38;5;241;43m.\u001b[39;49m\u001b[43mstatement\u001b[49m\u001b[43m,\u001b[49m\u001b[43m \u001b[49m\u001b[38;5;241;43m*\u001b[39;49m\u001b[38;5;241;43m*\u001b[39;49m\u001b[43mcompile_kwargs\u001b[49m\u001b[43m)\u001b[49m\n\u001b[0;32m    466\u001b[0m \u001b[38;5;28;01mif\u001b[39;00m render_schema_translate:\n\u001b[0;32m    467\u001b[0m     \u001b[38;5;28mself\u001b[39m\u001b[38;5;241m.\u001b[39mstring \u001b[38;5;241m=\u001b[39m \u001b[38;5;28mself\u001b[39m\u001b[38;5;241m.\u001b[39mpreparer\u001b[38;5;241m.\u001b[39m_render_schema_translates(\n\u001b[0;32m    468\u001b[0m         \u001b[38;5;28mself\u001b[39m\u001b[38;5;241m.\u001b[39mstring, schema_translate_map\n\u001b[0;32m    469\u001b[0m     )\n",
      "File \u001b[1;32m~\\Documents\\learning\\data-science\\env\\Lib\\site-packages\\sqlalchemy\\sql\\compiler.py:499\u001b[0m, in \u001b[0;36mCompiled.process\u001b[1;34m(self, obj, **kwargs)\u001b[0m\n\u001b[0;32m    498\u001b[0m \u001b[38;5;28;01mdef\u001b[39;00m \u001b[38;5;21mprocess\u001b[39m(\u001b[38;5;28mself\u001b[39m, obj, \u001b[38;5;241m*\u001b[39m\u001b[38;5;241m*\u001b[39mkwargs):\n\u001b[1;32m--> 499\u001b[0m     \u001b[38;5;28;01mreturn\u001b[39;00m \u001b[43mobj\u001b[49m\u001b[38;5;241;43m.\u001b[39;49m\u001b[43m_compiler_dispatch\u001b[49m\u001b[43m(\u001b[49m\u001b[38;5;28;43mself\u001b[39;49m\u001b[43m,\u001b[49m\u001b[43m \u001b[49m\u001b[38;5;241;43m*\u001b[39;49m\u001b[38;5;241;43m*\u001b[39;49m\u001b[43mkwargs\u001b[49m\u001b[43m)\u001b[49m\n",
      "File \u001b[1;32m~\\Documents\\learning\\data-science\\env\\Lib\\site-packages\\sqlalchemy\\sql\\visitors.py:82\u001b[0m, in \u001b[0;36m_generate_compiler_dispatch.<locals>._compiler_dispatch\u001b[1;34m(self, visitor, **kw)\u001b[0m\n\u001b[0;32m     79\u001b[0m     \u001b[38;5;28;01mreturn\u001b[39;00m visitor\u001b[38;5;241m.\u001b[39mvisit_unsupported_compilation(\u001b[38;5;28mself\u001b[39m, err, \u001b[38;5;241m*\u001b[39m\u001b[38;5;241m*\u001b[39mkw)\n\u001b[0;32m     81\u001b[0m \u001b[38;5;28;01melse\u001b[39;00m:\n\u001b[1;32m---> 82\u001b[0m     \u001b[38;5;28;01mreturn\u001b[39;00m \u001b[43mmeth\u001b[49m\u001b[43m(\u001b[49m\u001b[38;5;28;43mself\u001b[39;49m\u001b[43m,\u001b[49m\u001b[43m \u001b[49m\u001b[38;5;241;43m*\u001b[39;49m\u001b[38;5;241;43m*\u001b[39;49m\u001b[43mkw\u001b[49m\u001b[43m)\u001b[49m\n",
      "File \u001b[1;32m~\\Documents\\learning\\data-science\\env\\Lib\\site-packages\\sqlalchemy\\sql\\compiler.py:3405\u001b[0m, in \u001b[0;36mSQLCompiler.visit_select\u001b[1;34m(self, select_stmt, asfrom, insert_into, fromhints, compound_index, select_wraps_for, lateral, from_linter, **kwargs)\u001b[0m\n\u001b[0;32m   3397\u001b[0m \u001b[38;5;66;03m# initial setup of SELECT.  the compile_state_factory may now\u001b[39;00m\n\u001b[0;32m   3398\u001b[0m \u001b[38;5;66;03m# be creating a totally different SELECT from the one that was\u001b[39;00m\n\u001b[0;32m   3399\u001b[0m \u001b[38;5;66;03m# passed in.  for ORM use this will convert from an ORM-state\u001b[39;00m\n\u001b[0;32m   3400\u001b[0m \u001b[38;5;66;03m# SELECT to a regular \"Core\" SELECT.  other composed operations\u001b[39;00m\n\u001b[0;32m   3401\u001b[0m \u001b[38;5;66;03m# such as computation of joins will be performed.\u001b[39;00m\n\u001b[0;32m   3403\u001b[0m kwargs[\u001b[38;5;124m\"\u001b[39m\u001b[38;5;124mwithin_columns_clause\u001b[39m\u001b[38;5;124m\"\u001b[39m] \u001b[38;5;241m=\u001b[39m \u001b[38;5;28;01mFalse\u001b[39;00m\n\u001b[1;32m-> 3405\u001b[0m compile_state \u001b[38;5;241m=\u001b[39m \u001b[43mselect_stmt\u001b[49m\u001b[38;5;241;43m.\u001b[39;49m\u001b[43m_compile_state_factory\u001b[49m\u001b[43m(\u001b[49m\n\u001b[0;32m   3406\u001b[0m \u001b[43m    \u001b[49m\u001b[43mselect_stmt\u001b[49m\u001b[43m,\u001b[49m\u001b[43m \u001b[49m\u001b[38;5;28;43mself\u001b[39;49m\u001b[43m,\u001b[49m\u001b[43m \u001b[49m\u001b[38;5;241;43m*\u001b[39;49m\u001b[38;5;241;43m*\u001b[39;49m\u001b[43mkwargs\u001b[49m\n\u001b[0;32m   3407\u001b[0m \u001b[43m\u001b[49m\u001b[43m)\u001b[49m\n\u001b[0;32m   3408\u001b[0m select_stmt \u001b[38;5;241m=\u001b[39m compile_state\u001b[38;5;241m.\u001b[39mstatement\n\u001b[0;32m   3410\u001b[0m toplevel \u001b[38;5;241m=\u001b[39m \u001b[38;5;129;01mnot\u001b[39;00m \u001b[38;5;28mself\u001b[39m\u001b[38;5;241m.\u001b[39mstack\n",
      "File \u001b[1;32m~\\Documents\\learning\\data-science\\env\\Lib\\site-packages\\sqlalchemy\\sql\\base.py:510\u001b[0m, in \u001b[0;36mCompileState.create_for_statement\u001b[1;34m(cls, statement, compiler, **kw)\u001b[0m\n\u001b[0;32m    508\u001b[0m     \u001b[38;5;28;01mreturn\u001b[39;00m \u001b[38;5;28mcls\u001b[39m(statement, compiler, \u001b[38;5;241m*\u001b[39m\u001b[38;5;241m*\u001b[39mkw)\n\u001b[0;32m    509\u001b[0m \u001b[38;5;28;01melse\u001b[39;00m:\n\u001b[1;32m--> 510\u001b[0m     \u001b[38;5;28;01mreturn\u001b[39;00m \u001b[43mklass\u001b[49m\u001b[38;5;241;43m.\u001b[39;49m\u001b[43mcreate_for_statement\u001b[49m\u001b[43m(\u001b[49m\u001b[43mstatement\u001b[49m\u001b[43m,\u001b[49m\u001b[43m \u001b[49m\u001b[43mcompiler\u001b[49m\u001b[43m,\u001b[49m\u001b[43m \u001b[49m\u001b[38;5;241;43m*\u001b[39;49m\u001b[38;5;241;43m*\u001b[39;49m\u001b[43mkw\u001b[49m\u001b[43m)\u001b[49m\n",
      "File \u001b[1;32m~\\Documents\\learning\\data-science\\env\\Lib\\site-packages\\sqlalchemy\\orm\\context.py:765\u001b[0m, in \u001b[0;36mORMSelectCompileState.create_for_statement\u001b[1;34m(cls, statement, compiler, **kw)\u001b[0m\n\u001b[0;32m    758\u001b[0m \u001b[38;5;28mself\u001b[39m\u001b[38;5;241m.\u001b[39mfrom_clauses \u001b[38;5;241m=\u001b[39m \u001b[38;5;28mself\u001b[39m\u001b[38;5;241m.\u001b[39m_normalize_froms(\n\u001b[0;32m    759\u001b[0m     info\u001b[38;5;241m.\u001b[39mselectable \u001b[38;5;28;01mfor\u001b[39;00m info \u001b[38;5;129;01min\u001b[39;00m select_statement\u001b[38;5;241m.\u001b[39m_from_obj\n\u001b[0;32m    760\u001b[0m )\n\u001b[0;32m    762\u001b[0m \u001b[38;5;66;03m# this is a fairly arbitrary break into a second method,\u001b[39;00m\n\u001b[0;32m    763\u001b[0m \u001b[38;5;66;03m# so it might be nicer to break up create_for_statement()\u001b[39;00m\n\u001b[0;32m    764\u001b[0m \u001b[38;5;66;03m# and _setup_for_generate into three or four logical sections\u001b[39;00m\n\u001b[1;32m--> 765\u001b[0m \u001b[38;5;28;43mself\u001b[39;49m\u001b[38;5;241;43m.\u001b[39;49m\u001b[43m_setup_for_generate\u001b[49m\u001b[43m(\u001b[49m\u001b[43m)\u001b[49m\n\u001b[0;32m    767\u001b[0m SelectState\u001b[38;5;241m.\u001b[39m\u001b[38;5;21m__init__\u001b[39m(\u001b[38;5;28mself\u001b[39m, \u001b[38;5;28mself\u001b[39m\u001b[38;5;241m.\u001b[39mstatement, compiler, \u001b[38;5;241m*\u001b[39m\u001b[38;5;241m*\u001b[39mkw)\n\u001b[0;32m    769\u001b[0m \u001b[38;5;28;01mreturn\u001b[39;00m \u001b[38;5;28mself\u001b[39m\n",
      "File \u001b[1;32m~\\Documents\\learning\\data-science\\env\\Lib\\site-packages\\sqlalchemy\\orm\\context.py:793\u001b[0m, in \u001b[0;36mORMSelectCompileState._setup_for_generate\u001b[1;34m(self)\u001b[0m\n\u001b[0;32m    787\u001b[0m         \u001b[38;5;28mself\u001b[39m\u001b[38;5;241m.\u001b[39m_legacy_join(\n\u001b[0;32m    788\u001b[0m             memoized_entities\u001b[38;5;241m.\u001b[39m_legacy_setup_joins,\n\u001b[0;32m    789\u001b[0m             \u001b[38;5;28mself\u001b[39m\u001b[38;5;241m.\u001b[39m_memoized_entities[memoized_entities],\n\u001b[0;32m    790\u001b[0m         )\n\u001b[0;32m    792\u001b[0m \u001b[38;5;28;01mif\u001b[39;00m query\u001b[38;5;241m.\u001b[39m_setup_joins:\n\u001b[1;32m--> 793\u001b[0m     \u001b[38;5;28;43mself\u001b[39;49m\u001b[38;5;241;43m.\u001b[39;49m\u001b[43m_join\u001b[49m\u001b[43m(\u001b[49m\u001b[43mquery\u001b[49m\u001b[38;5;241;43m.\u001b[39;49m\u001b[43m_setup_joins\u001b[49m\u001b[43m,\u001b[49m\u001b[43m \u001b[49m\u001b[38;5;28;43mself\u001b[39;49m\u001b[38;5;241;43m.\u001b[39;49m\u001b[43m_entities\u001b[49m\u001b[43m)\u001b[49m\n\u001b[0;32m    795\u001b[0m \u001b[38;5;28;01mif\u001b[39;00m query\u001b[38;5;241m.\u001b[39m_legacy_setup_joins:\n\u001b[0;32m    796\u001b[0m     \u001b[38;5;28mself\u001b[39m\u001b[38;5;241m.\u001b[39m_legacy_join(query\u001b[38;5;241m.\u001b[39m_legacy_setup_joins, \u001b[38;5;28mself\u001b[39m\u001b[38;5;241m.\u001b[39m_entities)\n",
      "File \u001b[1;32m~\\Documents\\learning\\data-science\\env\\Lib\\site-packages\\sqlalchemy\\orm\\context.py:1515\u001b[0m, in \u001b[0;36mORMSelectCompileState._join\u001b[1;34m(self, args, entities_collection)\u001b[0m\n\u001b[0;32m   1511\u001b[0m     prop \u001b[38;5;241m=\u001b[39m left \u001b[38;5;241m=\u001b[39m \u001b[38;5;28;01mNone\u001b[39;00m\n\u001b[0;32m   1513\u001b[0m \u001b[38;5;66;03m# figure out the final \"left\" and \"right\" sides and create an\u001b[39;00m\n\u001b[0;32m   1514\u001b[0m \u001b[38;5;66;03m# ORMJoin to add to our _from_obj tuple\u001b[39;00m\n\u001b[1;32m-> 1515\u001b[0m \u001b[38;5;28;43mself\u001b[39;49m\u001b[38;5;241;43m.\u001b[39;49m\u001b[43m_join_left_to_right\u001b[49m\u001b[43m(\u001b[49m\n\u001b[0;32m   1516\u001b[0m \u001b[43m    \u001b[49m\u001b[43mentities_collection\u001b[49m\u001b[43m,\u001b[49m\n\u001b[0;32m   1517\u001b[0m \u001b[43m    \u001b[49m\u001b[43mleft\u001b[49m\u001b[43m,\u001b[49m\n\u001b[0;32m   1518\u001b[0m \u001b[43m    \u001b[49m\u001b[43mright\u001b[49m\u001b[43m,\u001b[49m\n\u001b[0;32m   1519\u001b[0m \u001b[43m    \u001b[49m\u001b[43monclause\u001b[49m\u001b[43m,\u001b[49m\n\u001b[0;32m   1520\u001b[0m \u001b[43m    \u001b[49m\u001b[43mprop\u001b[49m\u001b[43m,\u001b[49m\n\u001b[0;32m   1521\u001b[0m \u001b[43m    \u001b[49m\u001b[38;5;28;43;01mFalse\u001b[39;49;00m\u001b[43m,\u001b[49m\n\u001b[0;32m   1522\u001b[0m \u001b[43m    \u001b[49m\u001b[38;5;28;43;01mFalse\u001b[39;49;00m\u001b[43m,\u001b[49m\n\u001b[0;32m   1523\u001b[0m \u001b[43m    \u001b[49m\u001b[43misouter\u001b[49m\u001b[43m,\u001b[49m\n\u001b[0;32m   1524\u001b[0m \u001b[43m    \u001b[49m\u001b[43mfull\u001b[49m\u001b[43m,\u001b[49m\n\u001b[0;32m   1525\u001b[0m \u001b[43m\u001b[49m\u001b[43m)\u001b[49m\n",
      "File \u001b[1;32m~\\Documents\\learning\\data-science\\env\\Lib\\site-packages\\sqlalchemy\\orm\\context.py:1716\u001b[0m, in \u001b[0;36mORMSelectCompileState._join_left_to_right\u001b[1;34m(self, entities_collection, left, right, onclause, prop, create_aliases, aliased_generation, outerjoin, full)\u001b[0m\n\u001b[0;32m   1707\u001b[0m \u001b[38;5;28;01mif\u001b[39;00m left \u001b[38;5;129;01mis\u001b[39;00m \u001b[38;5;28;01mNone\u001b[39;00m:\n\u001b[0;32m   1708\u001b[0m     \u001b[38;5;66;03m# left not given (e.g. no relationship object/name specified)\u001b[39;00m\n\u001b[0;32m   1709\u001b[0m     \u001b[38;5;66;03m# figure out the best \"left\" side based on our existing froms /\u001b[39;00m\n\u001b[0;32m   1710\u001b[0m     \u001b[38;5;66;03m# entities\u001b[39;00m\n\u001b[0;32m   1711\u001b[0m     \u001b[38;5;28;01massert\u001b[39;00m prop \u001b[38;5;129;01mis\u001b[39;00m \u001b[38;5;28;01mNone\u001b[39;00m\n\u001b[0;32m   1712\u001b[0m     (\n\u001b[0;32m   1713\u001b[0m         left,\n\u001b[0;32m   1714\u001b[0m         replace_from_obj_index,\n\u001b[0;32m   1715\u001b[0m         use_entity_index,\n\u001b[1;32m-> 1716\u001b[0m     ) \u001b[38;5;241m=\u001b[39m \u001b[38;5;28;43mself\u001b[39;49m\u001b[38;5;241;43m.\u001b[39;49m\u001b[43m_join_determine_implicit_left_side\u001b[49m\u001b[43m(\u001b[49m\n\u001b[0;32m   1717\u001b[0m \u001b[43m        \u001b[49m\u001b[43mentities_collection\u001b[49m\u001b[43m,\u001b[49m\u001b[43m \u001b[49m\u001b[43mleft\u001b[49m\u001b[43m,\u001b[49m\u001b[43m \u001b[49m\u001b[43mright\u001b[49m\u001b[43m,\u001b[49m\u001b[43m \u001b[49m\u001b[43monclause\u001b[49m\n\u001b[0;32m   1718\u001b[0m \u001b[43m    \u001b[49m\u001b[43m)\u001b[49m\n\u001b[0;32m   1719\u001b[0m \u001b[38;5;28;01melse\u001b[39;00m:\n\u001b[0;32m   1720\u001b[0m     \u001b[38;5;66;03m# left is given via a relationship/name, or as explicit left side.\u001b[39;00m\n\u001b[0;32m   1721\u001b[0m     \u001b[38;5;66;03m# Determine where in our\u001b[39;00m\n\u001b[0;32m   1722\u001b[0m     \u001b[38;5;66;03m# \"froms\" list it should be spliced/appended as well as what\u001b[39;00m\n\u001b[0;32m   1723\u001b[0m     \u001b[38;5;66;03m# existing entity it corresponds to.\u001b[39;00m\n\u001b[0;32m   1724\u001b[0m     (\n\u001b[0;32m   1725\u001b[0m         replace_from_obj_index,\n\u001b[0;32m   1726\u001b[0m         use_entity_index,\n\u001b[0;32m   1727\u001b[0m     ) \u001b[38;5;241m=\u001b[39m \u001b[38;5;28mself\u001b[39m\u001b[38;5;241m.\u001b[39m_join_place_explicit_left_side(entities_collection, left)\n",
      "File \u001b[1;32m~\\Documents\\learning\\data-science\\env\\Lib\\site-packages\\sqlalchemy\\orm\\context.py:1880\u001b[0m, in \u001b[0;36mORMSelectCompileState._join_determine_implicit_left_side\u001b[1;34m(self, entities_collection, left, right, onclause)\u001b[0m\n\u001b[0;32m   1871\u001b[0m         \u001b[38;5;28;01mraise\u001b[39;00m sa_exc\u001b[38;5;241m.\u001b[39mInvalidRequestError(\n\u001b[0;32m   1872\u001b[0m             \u001b[38;5;124m\"\u001b[39m\u001b[38;5;124mCan\u001b[39m\u001b[38;5;124m'\u001b[39m\u001b[38;5;124mt determine which FROM clause to join \u001b[39m\u001b[38;5;124m\"\u001b[39m\n\u001b[0;32m   1873\u001b[0m             \u001b[38;5;124m\"\u001b[39m\u001b[38;5;124mfrom, there are multiple FROMS which can \u001b[39m\u001b[38;5;124m\"\u001b[39m\n\u001b[1;32m   (...)\u001b[0m\n\u001b[0;32m   1877\u001b[0m             \u001b[38;5;124m\"\u001b[39m\u001b[38;5;124mto help resolve the ambiguity.\u001b[39m\u001b[38;5;124m\"\u001b[39m\n\u001b[0;32m   1878\u001b[0m         )\n\u001b[0;32m   1879\u001b[0m     \u001b[38;5;28;01melse\u001b[39;00m:\n\u001b[1;32m-> 1880\u001b[0m         \u001b[38;5;28;01mraise\u001b[39;00m sa_exc\u001b[38;5;241m.\u001b[39mInvalidRequestError(\n\u001b[0;32m   1881\u001b[0m             \u001b[38;5;124m\"\u001b[39m\u001b[38;5;124mDon\u001b[39m\u001b[38;5;124m'\u001b[39m\u001b[38;5;124mt know how to join to \u001b[39m\u001b[38;5;132;01m%r\u001b[39;00m\u001b[38;5;124m. \u001b[39m\u001b[38;5;124m\"\u001b[39m\n\u001b[0;32m   1882\u001b[0m             \u001b[38;5;124m\"\u001b[39m\u001b[38;5;124mPlease use the .select_from() \u001b[39m\u001b[38;5;124m\"\u001b[39m\n\u001b[0;32m   1883\u001b[0m             \u001b[38;5;124m\"\u001b[39m\u001b[38;5;124mmethod to establish an explicit left side, as well as \u001b[39m\u001b[38;5;124m\"\u001b[39m\n\u001b[0;32m   1884\u001b[0m             \u001b[38;5;124m\"\u001b[39m\u001b[38;5;124mproviding an explicit ON clause if not present already \u001b[39m\u001b[38;5;124m\"\u001b[39m\n\u001b[0;32m   1885\u001b[0m             \u001b[38;5;124m\"\u001b[39m\u001b[38;5;124mto help resolve the ambiguity.\u001b[39m\u001b[38;5;124m\"\u001b[39m \u001b[38;5;241m%\u001b[39m (right,)\n\u001b[0;32m   1886\u001b[0m         )\n\u001b[0;32m   1887\u001b[0m \u001b[38;5;28;01melse\u001b[39;00m:\n\u001b[0;32m   1888\u001b[0m     \u001b[38;5;28;01mraise\u001b[39;00m sa_exc\u001b[38;5;241m.\u001b[39mInvalidRequestError(\n\u001b[0;32m   1889\u001b[0m         \u001b[38;5;124m\"\u001b[39m\u001b[38;5;124mNo entities to join from; please use \u001b[39m\u001b[38;5;124m\"\u001b[39m\n\u001b[0;32m   1890\u001b[0m         \u001b[38;5;124m\"\u001b[39m\u001b[38;5;124mselect_from() to establish the left \u001b[39m\u001b[38;5;124m\"\u001b[39m\n\u001b[0;32m   1891\u001b[0m         \u001b[38;5;124m\"\u001b[39m\u001b[38;5;124mentity/selectable of this join\u001b[39m\u001b[38;5;124m\"\u001b[39m\n\u001b[0;32m   1892\u001b[0m     )\n",
      "\u001b[1;31mInvalidRequestError\u001b[0m: Don't know how to join to <Mapper at 0x173f1e5dad0; Customer>. Please use the .select_from() method to establish an explicit left side, as well as providing an explicit ON clause if not present already to help resolve the ambiguity."
     ]
    }
   ],
   "source": [
    "print(f\"Names of all the tracks purchased by each customer\")\n",
    "\n",
    "statement = (select(Customer.FirstName,\n",
    "                    Customer.LastName,\n",
    "                    Customer.Country,\n",
    "                    InvoiceLine.Quantity,\n",
    "                    InvoiceLine.UnitPrice,\n",
    "                    Track.Name,\n",
    "                    Album.Title,\n",
    "                    Artist.Name\n",
    "                    )\n",
    "                .join_from(Customer, Invoice)\n",
    "                .join_from(Invoice, InvoiceLine)\n",
    "                .join_from(InvoiceLine, Track)\n",
    "                .join_from(Track, Album)\n",
    "                .join_from(Album, Artist))\n",
    "\n",
    "dataframe = pd.read_sql(sql=statement, con=engine)\n",
    "\n",
    "print(dataframe.shape)\n",
    "display(dataframe.head(10).style.format(thousands=\",\"))"
   ]
  },
  {
   "cell_type": "code",
   "execution_count": 234,
   "id": "07ffabf5",
   "metadata": {},
   "outputs": [
    {
     "name": "stdout",
     "output_type": "stream",
     "text": [
      "Names of all the tracks purchased by each customer\n",
      "(2240, 8)\n"
     ]
    },
    {
     "data": {
      "text/html": [
       "<style type=\"text/css\">\n",
       "</style>\n",
       "<table id=\"T_221e2\">\n",
       "  <thead>\n",
       "    <tr>\n",
       "      <th class=\"blank level0\" >&nbsp;</th>\n",
       "      <th id=\"T_221e2_level0_col0\" class=\"col_heading level0 col0\" >FirstName</th>\n",
       "      <th id=\"T_221e2_level0_col1\" class=\"col_heading level0 col1\" >LastName</th>\n",
       "      <th id=\"T_221e2_level0_col2\" class=\"col_heading level0 col2\" >Country</th>\n",
       "      <th id=\"T_221e2_level0_col3\" class=\"col_heading level0 col3\" >Track</th>\n",
       "      <th id=\"T_221e2_level0_col4\" class=\"col_heading level0 col4\" >Album</th>\n",
       "      <th id=\"T_221e2_level0_col5\" class=\"col_heading level0 col5\" >Artist</th>\n",
       "      <th id=\"T_221e2_level0_col6\" class=\"col_heading level0 col6\" >Quantity</th>\n",
       "      <th id=\"T_221e2_level0_col7\" class=\"col_heading level0 col7\" >UnitPrice</th>\n",
       "    </tr>\n",
       "  </thead>\n",
       "  <tbody>\n",
       "    <tr>\n",
       "      <th id=\"T_221e2_level0_row0\" class=\"row_heading level0 row0\" >0</th>\n",
       "      <td id=\"T_221e2_row0_col0\" class=\"data row0 col0\" >Leonie</td>\n",
       "      <td id=\"T_221e2_row0_col1\" class=\"data row0 col1\" >Köhler</td>\n",
       "      <td id=\"T_221e2_row0_col2\" class=\"data row0 col2\" >Germany</td>\n",
       "      <td id=\"T_221e2_row0_col3\" class=\"data row0 col3\" >Balls to the Wall</td>\n",
       "      <td id=\"T_221e2_row0_col4\" class=\"data row0 col4\" >Balls to the Wall</td>\n",
       "      <td id=\"T_221e2_row0_col5\" class=\"data row0 col5\" >Accept</td>\n",
       "      <td id=\"T_221e2_row0_col6\" class=\"data row0 col6\" >1</td>\n",
       "      <td id=\"T_221e2_row0_col7\" class=\"data row0 col7\" >0.990000</td>\n",
       "    </tr>\n",
       "    <tr>\n",
       "      <th id=\"T_221e2_level0_row1\" class=\"row_heading level0 row1\" >1</th>\n",
       "      <td id=\"T_221e2_row1_col0\" class=\"data row1 col0\" >Leonie</td>\n",
       "      <td id=\"T_221e2_row1_col1\" class=\"data row1 col1\" >Köhler</td>\n",
       "      <td id=\"T_221e2_row1_col2\" class=\"data row1 col2\" >Germany</td>\n",
       "      <td id=\"T_221e2_row1_col3\" class=\"data row1 col3\" >Restless and Wild</td>\n",
       "      <td id=\"T_221e2_row1_col4\" class=\"data row1 col4\" >Restless and Wild</td>\n",
       "      <td id=\"T_221e2_row1_col5\" class=\"data row1 col5\" >Accept</td>\n",
       "      <td id=\"T_221e2_row1_col6\" class=\"data row1 col6\" >1</td>\n",
       "      <td id=\"T_221e2_row1_col7\" class=\"data row1 col7\" >0.990000</td>\n",
       "    </tr>\n",
       "    <tr>\n",
       "      <th id=\"T_221e2_level0_row2\" class=\"row_heading level0 row2\" >2</th>\n",
       "      <td id=\"T_221e2_row2_col0\" class=\"data row2 col0\" >Bjørn</td>\n",
       "      <td id=\"T_221e2_row2_col1\" class=\"data row2 col1\" >Hansen</td>\n",
       "      <td id=\"T_221e2_row2_col2\" class=\"data row2 col2\" >Norway</td>\n",
       "      <td id=\"T_221e2_row2_col3\" class=\"data row2 col3\" >Put The Finger On You</td>\n",
       "      <td id=\"T_221e2_row2_col4\" class=\"data row2 col4\" >For Those About To Rock We Salute You</td>\n",
       "      <td id=\"T_221e2_row2_col5\" class=\"data row2 col5\" >AC/DC</td>\n",
       "      <td id=\"T_221e2_row2_col6\" class=\"data row2 col6\" >1</td>\n",
       "      <td id=\"T_221e2_row2_col7\" class=\"data row2 col7\" >0.990000</td>\n",
       "    </tr>\n",
       "    <tr>\n",
       "      <th id=\"T_221e2_level0_row3\" class=\"row_heading level0 row3\" >3</th>\n",
       "      <td id=\"T_221e2_row3_col0\" class=\"data row3 col0\" >Bjørn</td>\n",
       "      <td id=\"T_221e2_row3_col1\" class=\"data row3 col1\" >Hansen</td>\n",
       "      <td id=\"T_221e2_row3_col2\" class=\"data row3 col2\" >Norway</td>\n",
       "      <td id=\"T_221e2_row3_col3\" class=\"data row3 col3\" >Inject The Venom</td>\n",
       "      <td id=\"T_221e2_row3_col4\" class=\"data row3 col4\" >For Those About To Rock We Salute You</td>\n",
       "      <td id=\"T_221e2_row3_col5\" class=\"data row3 col5\" >AC/DC</td>\n",
       "      <td id=\"T_221e2_row3_col6\" class=\"data row3 col6\" >1</td>\n",
       "      <td id=\"T_221e2_row3_col7\" class=\"data row3 col7\" >0.990000</td>\n",
       "    </tr>\n",
       "    <tr>\n",
       "      <th id=\"T_221e2_level0_row4\" class=\"row_heading level0 row4\" >4</th>\n",
       "      <td id=\"T_221e2_row4_col0\" class=\"data row4 col0\" >Bjørn</td>\n",
       "      <td id=\"T_221e2_row4_col1\" class=\"data row4 col1\" >Hansen</td>\n",
       "      <td id=\"T_221e2_row4_col2\" class=\"data row4 col2\" >Norway</td>\n",
       "      <td id=\"T_221e2_row4_col3\" class=\"data row4 col3\" >Evil Walks</td>\n",
       "      <td id=\"T_221e2_row4_col4\" class=\"data row4 col4\" >For Those About To Rock We Salute You</td>\n",
       "      <td id=\"T_221e2_row4_col5\" class=\"data row4 col5\" >AC/DC</td>\n",
       "      <td id=\"T_221e2_row4_col6\" class=\"data row4 col6\" >1</td>\n",
       "      <td id=\"T_221e2_row4_col7\" class=\"data row4 col7\" >0.990000</td>\n",
       "    </tr>\n",
       "  </tbody>\n",
       "</table>\n"
      ],
      "text/plain": [
       "<pandas.io.formats.style.Styler at 0x1738a8266d0>"
      ]
     },
     "metadata": {},
     "output_type": "display_data"
    }
   ],
   "source": [
    "print(f\"Names of all the tracks purchased by each customer\")\n",
    "\n",
    "statement = (select(Customer.FirstName,\n",
    "                    Customer.LastName,\n",
    "                    Customer.Country,\n",
    "                    Track.Name.label(\"Track\"),\n",
    "                    Album.Title.label(\"Album\"),\n",
    "                    Artist.Name.label(\"Artist\"),\n",
    "                    InvoiceLine.Quantity,\n",
    "                    InvoiceLine.UnitPrice\n",
    "                    )\n",
    "                .join_from(InvoiceLine, Invoice)\n",
    "                .join_from(Invoice, Customer)\n",
    "                .join_from(InvoiceLine, Track)\n",
    "                .join_from(Track, Album)\n",
    "                .join_from(Album, Artist))\n",
    "\n",
    "dataframe = pd.read_sql(sql=statement, con=engine)\n",
    "\n",
    "print(dataframe.shape)\n",
    "display(dataframe.head(5).style.format(thousands=\",\"))"
   ]
  },
  {
   "cell_type": "code",
   "execution_count": 243,
   "id": "c71f52fc",
   "metadata": {},
   "outputs": [
    {
     "name": "stdout",
     "output_type": "stream",
     "text": [
      "Names of all the tracks purchased by each customer\n",
      "(8715, 4)\n"
     ]
    },
    {
     "data": {
      "text/html": [
       "<style type=\"text/css\">\n",
       "</style>\n",
       "<table id=\"T_7dd66\">\n",
       "  <thead>\n",
       "    <tr>\n",
       "      <th class=\"blank level0\" >&nbsp;</th>\n",
       "      <th id=\"T_7dd66_level0_col0\" class=\"col_heading level0 col0\" >Playlist</th>\n",
       "      <th id=\"T_7dd66_level0_col1\" class=\"col_heading level0 col1\" >Track</th>\n",
       "      <th id=\"T_7dd66_level0_col2\" class=\"col_heading level0 col2\" >Album</th>\n",
       "      <th id=\"T_7dd66_level0_col3\" class=\"col_heading level0 col3\" >Artist</th>\n",
       "    </tr>\n",
       "  </thead>\n",
       "  <tbody>\n",
       "    <tr>\n",
       "      <th id=\"T_7dd66_level0_row0\" class=\"row_heading level0 row0\" >0</th>\n",
       "      <td id=\"T_7dd66_row0_col0\" class=\"data row0 col0\" >Music</td>\n",
       "      <td id=\"T_7dd66_row0_col1\" class=\"data row0 col1\" >Band Members Discuss Tracks from \"Revelations\"</td>\n",
       "      <td id=\"T_7dd66_row0_col2\" class=\"data row0 col2\" >Revelations</td>\n",
       "      <td id=\"T_7dd66_row0_col3\" class=\"data row0 col3\" >Audioslave</td>\n",
       "    </tr>\n",
       "    <tr>\n",
       "      <th id=\"T_7dd66_level0_row1\" class=\"row_heading level0 row1\" >1</th>\n",
       "      <td id=\"T_7dd66_row1_col0\" class=\"data row1 col0\" >Music</td>\n",
       "      <td id=\"T_7dd66_row1_col1\" class=\"data row1 col1\" >Revelations</td>\n",
       "      <td id=\"T_7dd66_row1_col2\" class=\"data row1 col2\" >Revelations</td>\n",
       "      <td id=\"T_7dd66_row1_col3\" class=\"data row1 col3\" >Audioslave</td>\n",
       "    </tr>\n",
       "    <tr>\n",
       "      <th id=\"T_7dd66_level0_row2\" class=\"row_heading level0 row2\" >2</th>\n",
       "      <td id=\"T_7dd66_row2_col0\" class=\"data row2 col0\" >Music</td>\n",
       "      <td id=\"T_7dd66_row2_col1\" class=\"data row2 col1\" >One and the Same</td>\n",
       "      <td id=\"T_7dd66_row2_col2\" class=\"data row2 col2\" >Revelations</td>\n",
       "      <td id=\"T_7dd66_row2_col3\" class=\"data row2 col3\" >Audioslave</td>\n",
       "    </tr>\n",
       "    <tr>\n",
       "      <th id=\"T_7dd66_level0_row3\" class=\"row_heading level0 row3\" >3</th>\n",
       "      <td id=\"T_7dd66_row3_col0\" class=\"data row3 col0\" >Music</td>\n",
       "      <td id=\"T_7dd66_row3_col1\" class=\"data row3 col1\" >Sound of a Gun</td>\n",
       "      <td id=\"T_7dd66_row3_col2\" class=\"data row3 col2\" >Revelations</td>\n",
       "      <td id=\"T_7dd66_row3_col3\" class=\"data row3 col3\" >Audioslave</td>\n",
       "    </tr>\n",
       "    <tr>\n",
       "      <th id=\"T_7dd66_level0_row4\" class=\"row_heading level0 row4\" >4</th>\n",
       "      <td id=\"T_7dd66_row4_col0\" class=\"data row4 col0\" >Music</td>\n",
       "      <td id=\"T_7dd66_row4_col1\" class=\"data row4 col1\" >Until We Fall</td>\n",
       "      <td id=\"T_7dd66_row4_col2\" class=\"data row4 col2\" >Revelations</td>\n",
       "      <td id=\"T_7dd66_row4_col3\" class=\"data row4 col3\" >Audioslave</td>\n",
       "    </tr>\n",
       "  </tbody>\n",
       "</table>\n"
      ],
      "text/plain": [
       "<pandas.io.formats.style.Styler at 0x17386624790>"
      ]
     },
     "metadata": {},
     "output_type": "display_data"
    }
   ],
   "source": [
    "print(f\"Names of all the tracks purchased by each customer\")\n",
    "\n",
    "statement = (select(Playlist.Name.label(\"Playlist\"),\n",
    "                    Track.Name.label(\"Track\"),\n",
    "                    Album.Title.label(\"Album\"),\n",
    "                    Artist.Name.label(\"Artist\")\n",
    "                    )\n",
    "                .join_from(Playlist, playlisttrack)\n",
    "                .join_from(playlisttrack, Track)\n",
    "                .join_from(Track, Album)\n",
    "                .join_from(Album, Artist))\n",
    "\n",
    "dataframe = pd.read_sql(sql=statement, con=engine)\n",
    "\n",
    "print(dataframe.shape)\n",
    "display(dataframe.head(5).style.format(thousands=\",\"))"
   ]
  },
  {
   "cell_type": "code",
   "execution_count": 257,
   "id": "b7118e2a",
   "metadata": {},
   "outputs": [
    {
     "name": "stdout",
     "output_type": "stream",
     "text": [
      "(5, 4)\n"
     ]
    },
    {
     "data": {
      "text/html": [
       "<div>\n",
       "<style scoped>\n",
       "    .dataframe tbody tr th:only-of-type {\n",
       "        vertical-align: middle;\n",
       "    }\n",
       "\n",
       "    .dataframe tbody tr th {\n",
       "        vertical-align: top;\n",
       "    }\n",
       "\n",
       "    .dataframe thead th {\n",
       "        text-align: right;\n",
       "    }\n",
       "</style>\n",
       "<table border=\"1\" class=\"dataframe\">\n",
       "  <thead>\n",
       "    <tr style=\"text-align: right;\">\n",
       "      <th></th>\n",
       "      <th>Playlist</th>\n",
       "      <th>Track</th>\n",
       "      <th>Album</th>\n",
       "      <th>Artist</th>\n",
       "    </tr>\n",
       "  </thead>\n",
       "  <tbody>\n",
       "    <tr>\n",
       "      <th>0</th>\n",
       "      <td>90’s Music</td>\n",
       "      <td>Chaos-Control</td>\n",
       "      <td>[1997] Black Light Syndrome</td>\n",
       "      <td>Terry Bozzio, Tony Levin &amp; Steve Stevens</td>\n",
       "    </tr>\n",
       "    <tr>\n",
       "      <th>1</th>\n",
       "      <td>Music</td>\n",
       "      <td>Realword</td>\n",
       "      <td>Chemical Wedding</td>\n",
       "      <td>Bruce Dickinson</td>\n",
       "    </tr>\n",
       "    <tr>\n",
       "      <th>2</th>\n",
       "      <td>Classical</td>\n",
       "      <td>Symphony No. 2, Op. 16 -  \"The Four Temperamen...</td>\n",
       "      <td>Nielsen: The Six Symphonies</td>\n",
       "      <td>Göteborgs Symfoniker &amp; Neeme Järvi</td>\n",
       "    </tr>\n",
       "    <tr>\n",
       "      <th>3</th>\n",
       "      <td>90’s Music</td>\n",
       "      <td>Rats</td>\n",
       "      <td>Vs.</td>\n",
       "      <td>Pearl Jam</td>\n",
       "    </tr>\n",
       "    <tr>\n",
       "      <th>4</th>\n",
       "      <td>Music</td>\n",
       "      <td>A Midsummer Night's Dream, Op.61 Incidental Mu...</td>\n",
       "      <td>Mendelssohn: A Midsummer Night's Dream</td>\n",
       "      <td>Philharmonia Orchestra &amp; Sir Neville Marriner</td>\n",
       "    </tr>\n",
       "  </tbody>\n",
       "</table>\n",
       "</div>"
      ],
      "text/plain": [
       "     Playlist                                              Track  \\\n",
       "0  90’s Music                                      Chaos-Control   \n",
       "1       Music                                           Realword   \n",
       "2   Classical  Symphony No. 2, Op. 16 -  \"The Four Temperamen...   \n",
       "3  90’s Music                                               Rats   \n",
       "4       Music  A Midsummer Night's Dream, Op.61 Incidental Mu...   \n",
       "\n",
       "                                    Album  \\\n",
       "0             [1997] Black Light Syndrome   \n",
       "1                        Chemical Wedding   \n",
       "2             Nielsen: The Six Symphonies   \n",
       "3                                     Vs.   \n",
       "4  Mendelssohn: A Midsummer Night's Dream   \n",
       "\n",
       "                                          Artist  \n",
       "0       Terry Bozzio, Tony Levin & Steve Stevens  \n",
       "1                                Bruce Dickinson  \n",
       "2             Göteborgs Symfoniker & Neeme Järvi  \n",
       "3                                      Pearl Jam  \n",
       "4  Philharmonia Orchestra & Sir Neville Marriner  "
      ]
     },
     "metadata": {},
     "output_type": "display_data"
    }
   ],
   "source": [
    "statement = (select(Playlist.Name.label(\"Playlist\"),\n",
    "                    Track.Name.label(\"Track\"),\n",
    "                    Album.Title.label(\"Album\"),\n",
    "                    Artist.Name.label(\"Artist\")\n",
    "                    )\n",
    "                .join_from(Playlist, playlisttrack)\n",
    "                .join_from(playlisttrack, Track)\n",
    "                .join_from(Track, Album)\n",
    "                .join_from(Album, Artist))\n",
    "\n",
    "dataframe = pd.read_sql(sql=statement.order_by(func.random()).limit(5), con=engine)\n",
    "\n",
    "print(dataframe.shape)\n",
    "display(dataframe.head(5))"
   ]
  },
  {
   "cell_type": "code",
   "execution_count": 248,
   "id": "55bda283",
   "metadata": {},
   "outputs": [
    {
     "name": "stdout",
     "output_type": "stream",
     "text": [
      "+------------+------------------------------------------------+-------------+------------+\n",
      "| Playlist   | Track                                          | Album       | Artist     |\n",
      "+============+================================================+=============+============+\n",
      "| Music      | Band Members Discuss Tracks from \"Revelations\" | Revelations | Audioslave |\n",
      "+------------+------------------------------------------------+-------------+------------+\n",
      "| Music      | Revelations                                    | Revelations | Audioslave |\n",
      "+------------+------------------------------------------------+-------------+------------+\n",
      "| Music      | One and the Same                               | Revelations | Audioslave |\n",
      "+------------+------------------------------------------------+-------------+------------+\n",
      "| Music      | Sound of a Gun                                 | Revelations | Audioslave |\n",
      "+------------+------------------------------------------------+-------------+------------+\n"
     ]
    }
   ],
   "source": [
    "from sqlalchemy import create_engine, inspect, select\n",
    "from sqlalchemy.ext.automap import automap_base\n",
    "from sqlalchemy.orm import Session\n",
    "import pandas as pd\n",
    "from tabulate import tabulate\n",
    "\n",
    "engine = create_engine(r\"sqlite:///C:/Users/blinklet/Documents/chinook-database/ChinookDatabase/DataSources/Chinook_Sqlite.sqlite\")\n",
    "Base = automap_base()\n",
    "Base.prepare(autoload_with=engine)\n",
    "\n",
    "Album = Base.classes.Album\n",
    "Artist = Base.classes.Artist\n",
    "Customer = Base.classes.Customer\n",
    "Employee = Base.classes.Employee\n",
    "Genre = Base.classes.Genre\n",
    "Invoice = Base.classes.Invoice\n",
    "InvoiceLine = Base.classes.InvoiceLine\n",
    "MediaType = Base.classes.MediaType\n",
    "Playlist = Base.classes.Playlist\n",
    "Track = Base.classes.Track\n",
    "playlisttrack = Base.metadata.tables['PlaylistTrack']\n",
    "\n",
    "statement = (select(Playlist.Name.label(\"Playlist\"),\n",
    "                Track.Name.label(\"Track\"),\n",
    "                Album.Title.label(\"Album\"),\n",
    "                Artist.Name.label(\"Artist\")\n",
    "                )\n",
    "            .join_from(Playlist, playlisttrack)\n",
    "            .join_from(playlisttrack, Track)\n",
    "            .join_from(Track, Album)\n",
    "            .join_from(Album, Artist))\n",
    "\n",
    "with Session(engine) as session4:\n",
    "    headers = session.execute(statement).keys()\n",
    "    table = session.execute(statement).fetchmany(4)\n",
    "\n",
    "print(tabulate(table, headers, tablefmt='grid'))"
   ]
  }
 ],
 "metadata": {
  "kernelspec": {
   "display_name": "Python 3 (ipykernel)",
   "language": "python",
   "name": "python3"
  },
  "language_info": {
   "codemirror_mode": {
    "name": "ipython",
    "version": 3
   },
   "file_extension": ".py",
   "mimetype": "text/x-python",
   "name": "python",
   "nbconvert_exporter": "python",
   "pygments_lexer": "ipython3",
   "version": "3.11.2"
  }
 },
 "nbformat": 4,
 "nbformat_minor": 5
}
