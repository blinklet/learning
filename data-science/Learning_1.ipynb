{
 "cells": [
  {
   "cell_type": "markdown",
   "id": "c072ba45-1a55-4436-be6e-d9a97c96eb11",
   "metadata": {
    "tags": []
   },
   "source": [
    "# Learning Data Science\n",
    "\n",
    "This notebook is my first attempt at learning data science with Python. Databases, Python, and Frameworks like SQLalchemy, Pandas, Numpy, SciKit, etc."
   ]
  },
  {
   "cell_type": "markdown",
   "id": "13dabdca",
   "metadata": {},
   "source": [
    "## Learning materials\n",
    "\n",
    "In this document, I am working through the examples provided in the book, *[Practical Data Science with Jupyter](https://nokia.percipio.com/books/f016a0a0-91bd-4ebf-852c-54f929f9f446)* by Prateek Gupta, published in 2021. The book is available in [Skillsoft Percipio](https://nokia.percipio.com/) so it is free for Nokians to read. It is concisely written and serves as a good book for beginners who want to learn how to use Python-related tools in data science.  "
   ]
  },
  {
   "cell_type": "markdown",
   "id": "c4b91909-3001-4443-a9e6-4347ca95fd78",
   "metadata": {
    "tags": []
   },
   "source": [
    "## Set up your environment\n",
    "\n",
    "Use Jupyterlab to develop and present your data science projects. To use Jupyterlab, you must:\n",
    "\n",
    "* Install Python on your Windows laptop\n",
    "* Create a new folder for your data science learning projects\n",
    "* Create a Python virtual environment and activate it\n",
    "* Install JupyterLab in your virtual environment and run JupyterLab\n",
    "\n",
    "### Install Python on your Windows laptop\n",
    "\n",
    "There are many ways to [install Python on Windows](https://learn.microsoft.com/en-us/windows/python/beginners#install-python). I recommend installing it from the *Microsoft Store*. Open the Microsoft Store app and search for Python. Install the latest version. [Python 3.11](https://apps.microsoft.com/store/detail/python-311/9NRWMJP3717K?hl=en-ca&gl=ca&activetab=pivot%3Aoverviewtab&rtc=1) was the latest version at the time I wrote this notebook so all examples use Python 3.11.\n",
    "\n",
    "### Create a new folder\n",
    "\n",
    "Open the [Windows Terminal](https://apps.microsoft.com/store/detail/windows-terminal/9N0DX20HK701?hl=en-us&gl=us) app.\n",
    "\n",
    "Create a new folder that will store your virtual environment, notebook files, and other files you create while learning about data science. Navigate to your home folder, or to a subdirectory of your choice and create a folder named *data-science*:\n",
    "\n",
    "```powershell\n",
    "> mkdir data-science\n",
    "```\n",
    "\n",
    "### Create a Python virtual environment\n",
    "\n",
    "Navigate into the folder you created and create a Python virtual environment. I chose to call mine, *env*.\n",
    "\n",
    "```powershell\n",
    "> cd data-science\n",
    "> python -m venv env\n",
    "```\n",
    "\n",
    "Next, activate the virtual environment.\n",
    "\n",
    "```powershell\n",
    "> .\\env\\Scripts\\activate\n",
    "(env) > \n",
    "```\n",
    "\n",
    "### Install and run JupyterLab\n",
    "\n",
    "Install JupyterLab in the virtual environment. JupyterLab installs a lot of modules so you should keep it in a virtual environment to avoid messing up your Windows system.\n",
    "\n",
    "```powershell\n",
    "(env) > pip install jupyterlab\n",
    "```\n",
    "\n",
    "Run JupyterLab.\n",
    "\n",
    "```powershell\n",
    "(env) > jupyter notebook\n",
    "```\n",
    "\n",
    "The terminal will show multiple URLs that you can copy and paste into a web browser. Because you installed JupyterLab in a virtual environment, use one of the *localhost* URLs, like the following\n",
    "\n",
    "```\n",
    "http://localhost:8888/?token=678b6891879b80fc02488701d553b1a2b4\n",
    "```\n",
    "\n",
    "The token is needed the first time you use a new browser to access JupyterLab. After using it once, it is cached in the browser and you can connect to JupyterLab in the future with just the simple URL: \n",
    "\n",
    "```\n",
    "http://localhost:8888\n",
    "```\n",
    "\n",
    "The Jupyter Notebook web interface looks like the image below.\n",
    "\n",
    "![Jupyter Notebook user interface](./Images/JupyterNotebook001.png)\n",
    "\n",
    "### Alternative interfaces\n",
    "\n",
    "#### Jupyter Lab\n",
    "You can also use the JupyterLab interface, instead. If you want to open notebooks using the JupyterLab interface, start the Jupyter server with the following command, instead of using the `jupyter notebook` command:\n",
    "\n",
    "```\n",
    "(env) > jupyter-lab\n",
    "```\n",
    "\n",
    "JupyterLab is the newer interface and has more features but the original Notebook interface is all most people need.\n",
    "\n",
    "#### VS Code\n",
    "\n",
    "Also, you can [edit Jupyter Notebooks in the VS Code editor](https://code.visualstudio.com/docs/datascience/jupyter-notebooks). Install the VSCode [Python extension]() and [Jupyter extension](https://marketplace.visualstudio.com/items?itemName=ms-toolsai.jupyter), then open the Notebook file in VS Code. The virtual environment must already be activated and the JupyterLab server must already be started."
   ]
  },
  {
   "attachments": {},
   "cell_type": "markdown",
   "id": "d59db311-2e01-4a28-8072-bbde365d396e",
   "metadata": {},
   "source": [
    "## Get Data\n",
    "\n",
    "To learn about the basics of data science, you need data. Eventually, you need to learn how to work with many sources of data, such as:\n",
    "\n",
    "* Databases. Mostly SQL\n",
    "* Excel and CSV files stored on a secure SharePoint site\n",
    "* APIs of external services\n",
    "* Web scraping\n",
    "\n",
    "Most of the data you will access in the Analytics team will be from a database or a file on a SharePoint site. Most of our data comes from the HRDP data lake so, instead of starting with simpler examples featuring CSV files, for which there are already [many](https://alongrandomwalk.com/2020/09/14/read-and-write-files-with-jupyter-notebooks/) [tutorials](https://www.digitalocean.com/community/tutorials/data-analysis-and-visualization-with-pandas-and-jupyter-notebook-in-python-3) [available](https://www.datacamp.com/tutorial/python-excel-tutorial), you should first learn how to [access data from a database](https://realpython.com/tutorials/databases/).\n",
    "\n",
    "### SQLAlchemy\n",
    "\n",
    "[SQLAlchemy](https://www.sqlalchemy.org/) is a Python package that helps programmers interact with SQL databases, without having to learn the SQL Query language. If you use the SQLAlchemy package, which has a learning curve of its own, then you do not need to worry about learning the [SQL language differences](https://towardsdatascience.com/how-to-find-your-way-through-the-different-types-of-sql-26e3d3c20aab) between the various SQL databases like MySQL, PostgreSQL, and Microsoft SQL Server, that different data sources may use.\n",
    "\n",
    "In your virtual environment, install SQLAchemy with the following command:\n",
    "\n",
    "```powershell\n",
    "(env) > pip install SQLAlchemy\n",
    "```\n",
    "\n",
    "Once you start using databases in Python, you start learning more about advanced Python features such as [object-oriented programming](https://www.freecodecamp.org/news/object-oriented-programming-in-python/), [data classes](https://docs.python.org/3.11/library/dataclasses.html) and [type hints](https://towardsdatascience.com/type-hints-in-python-everything-you-need-to-know-in-5-minutes-24e0bad06d0b). I leave these topics to your own study.\n",
    "\n",
    "### Data sources\n",
    "\n",
    "I wish we could start experimenting with Python and SQLAlchemy using an already-existing public SQL database but, for good reasons, SQL databases are not made available directly on the Internet. They are accessed via APIs or simply downloaded as CSV files. Many such [datasets that are](https://learnsql.com/blog/free-online-datasets-to-practice-sql/) [available to the public](https://www.dropbase.io/post/top-11-open-and-public-data-sources#:~:text=Top%2011%20Open%20and%20Public%20Data%20Sources%20for,News%20...%208%208.%20NASA%20...%20More%20items) but they don't meet our needs of learning to directly access an SQL database from a Python program.\n",
    "\n",
    "Another option is to create a database on the public SQL server at [db4free.net](https://www.db4free.net/). But you will need to build a sample database from scratch and I want to avoid learning SQL at this early stage. I want to access the database via Python using SQLAlchemy. But, this is an option if you want to take the time to learn the basics of SQL.\n",
    "\n",
    "You may also install an SQL server like [Microsoft Access](https://www.microsoft.com/en-us/microsoft-365/access) on your laptop and then download a database backup from a public repository like the [Microsoft Northwind SQL Sample database](https://learn.microsoft.com/en-us/dotnet/framework/data/adonet/sql/linq/downloading-sample-databases#northwind_access). I will try that."
   ]
  },
  {
   "attachments": {},
   "cell_type": "markdown",
   "id": "28fd1991",
   "metadata": {},
   "source": [
    "### Microsoft Access\n",
    "\n",
    "You already have access to Microsoft Access via Nokia's Office 365 corporate license. Install Access if you do not already have it.\n",
    "\n",
    "Start Microsoft Access. Then, get the [Northwind sample database for Microsoft Access](https://learn.microsoft.com/en-us/dotnet/framework/data/adonet/sql/linq/downloading-sample-databases#northwind_access). \n",
    "\n",
    "Click on the *More templates* link on the Access screen. Search for *Northwind* in the *Search for Online Templates* field. The Northwind database should appear, as shown below:\n",
    "\n",
    "![Find online Northwind database file](./Images/access001.png)\n",
    "\n",
    "Select the Northwind database to download it. You will see an information screen like the one below. Change the filename to *Northwind* and select the folder to which it will be downloaded. The click the *Create* button.\n",
    "\n",
    "![Download and save the database](./Images/access002.png)\n",
    "\n",
    "Microsoft Access will display its view of the database with a welcome screen, as shown below. We are not interested in using teh MS Access interface. We want to connect to this database using SQLAlchemy."
   ]
  },
  {
   "attachments": {},
   "cell_type": "markdown",
   "id": "fc33bddc",
   "metadata": {},
   "source": [
    "### SQLAlchemy Access dialect\n",
    "\n",
    "SQLAlchemy needs a *dialect* installed so you can connect it to Microsoft Access. Install the [sqlalchemy-access](https://pypi.org/project/sqlalchemy-access/) python package into your virtual environment.\n",
    "\n",
    "```powershell\n",
    "(env) > pip install sqlalchemy-access\n",
    "```"
   ]
  },
  {
   "attachments": {},
   "cell_type": "markdown",
   "id": "106f03db",
   "metadata": {},
   "source": [
    "\n"
   ]
  },
  {
   "cell_type": "code",
   "execution_count": 45,
   "id": "e94a544e",
   "metadata": {},
   "outputs": [],
   "source": [
    "from sqlalchemy import create_engine, URL\n",
    "import pyodbc\n",
    "#engine = create_engine(r'access+pyodbc:///?DataSource=C:/Users/blinklet/Documents/Northwind_be.accdb')\n",
    "#engine = create_engine(r'access+pyodbc:///@Northwind?driver=MS+Access+Database?TrustedConnection=yes')\n",
    "# url_object = URL.create(\n",
    "#     \"access+pyodbc\",\n",
    "#     host = \"localhost\",\n",
    "#     database = \"@northwind\"\n",
    "# )\n",
    "#engine = create_engine(url_object)\n",
    "\n",
    "engine = create_engine(r'access+pyodbc://@localhost:3309/northwind')"
   ]
  },
  {
   "cell_type": "code",
   "execution_count": 46,
   "id": "22fb2d85",
   "metadata": {},
   "outputs": [
    {
     "name": "stdout",
     "output_type": "stream",
     "text": [
      "Engine(access+pyodbc://@localhost:3309/northwind)\n"
     ]
    },
    {
     "ename": "InterfaceError",
     "evalue": "(pyodbc.InterfaceError) ('IM002', '[IM002] [Microsoft][ODBC Driver Manager] Data source name not found and no default driver specified (0) (SQLDriverConnect)')\n(Background on this error at: https://sqlalche.me/e/20/rvf5)",
     "output_type": "error",
     "traceback": [
      "\u001b[1;31m---------------------------------------------------------------------------\u001b[0m",
      "\u001b[1;31mInterfaceError\u001b[0m                            Traceback (most recent call last)",
      "File \u001b[1;32mc:\\Users\\blinklet\\Documents\\learning\\data-science\\env\\Lib\\site-packages\\sqlalchemy\\engine\\base.py:145\u001b[0m, in \u001b[0;36mConnection.__init__\u001b[1;34m(self, engine, connection, _has_events, _allow_revalidate, _allow_autobegin)\u001b[0m\n\u001b[0;32m    144\u001b[0m \u001b[39mtry\u001b[39;00m:\n\u001b[1;32m--> 145\u001b[0m     \u001b[39mself\u001b[39m\u001b[39m.\u001b[39m_dbapi_connection \u001b[39m=\u001b[39m engine\u001b[39m.\u001b[39;49mraw_connection()\n\u001b[0;32m    146\u001b[0m \u001b[39mexcept\u001b[39;00m dialect\u001b[39m.\u001b[39mloaded_dbapi\u001b[39m.\u001b[39mError \u001b[39mas\u001b[39;00m err:\n",
      "File \u001b[1;32mc:\\Users\\blinklet\\Documents\\learning\\data-science\\env\\Lib\\site-packages\\sqlalchemy\\engine\\base.py:3269\u001b[0m, in \u001b[0;36mEngine.raw_connection\u001b[1;34m(self)\u001b[0m\n\u001b[0;32m   3248\u001b[0m \u001b[39m\u001b[39m\u001b[39m\"\"\"Return a \"raw\" DBAPI connection from the connection pool.\u001b[39;00m\n\u001b[0;32m   3249\u001b[0m \n\u001b[0;32m   3250\u001b[0m \u001b[39mThe returned object is a proxied version of the DBAPI\u001b[39;00m\n\u001b[1;32m   (...)\u001b[0m\n\u001b[0;32m   3267\u001b[0m \n\u001b[0;32m   3268\u001b[0m \u001b[39m\"\"\"\u001b[39;00m\n\u001b[1;32m-> 3269\u001b[0m \u001b[39mreturn\u001b[39;00m \u001b[39mself\u001b[39;49m\u001b[39m.\u001b[39;49mpool\u001b[39m.\u001b[39;49mconnect()\n",
      "File \u001b[1;32mc:\\Users\\blinklet\\Documents\\learning\\data-science\\env\\Lib\\site-packages\\sqlalchemy\\pool\\impl.py:420\u001b[0m, in \u001b[0;36mSingletonThreadPool.connect\u001b[1;34m(self)\u001b[0m\n\u001b[0;32m    418\u001b[0m         \u001b[39mreturn\u001b[39;00m rec\u001b[39m.\u001b[39m_checkout_existing()\n\u001b[1;32m--> 420\u001b[0m \u001b[39mreturn\u001b[39;00m _ConnectionFairy\u001b[39m.\u001b[39;49m_checkout(\u001b[39mself\u001b[39;49m, \u001b[39mself\u001b[39;49m\u001b[39m.\u001b[39;49m_fairy)\n",
      "File \u001b[1;32mc:\\Users\\blinklet\\Documents\\learning\\data-science\\env\\Lib\\site-packages\\sqlalchemy\\pool\\base.py:1270\u001b[0m, in \u001b[0;36m_ConnectionFairy._checkout\u001b[1;34m(cls, pool, threadconns, fairy)\u001b[0m\n\u001b[0;32m   1269\u001b[0m \u001b[39mif\u001b[39;00m \u001b[39mnot\u001b[39;00m fairy:\n\u001b[1;32m-> 1270\u001b[0m     fairy \u001b[39m=\u001b[39m _ConnectionRecord\u001b[39m.\u001b[39;49mcheckout(pool)\n\u001b[0;32m   1272\u001b[0m     \u001b[39mif\u001b[39;00m threadconns \u001b[39mis\u001b[39;00m \u001b[39mnot\u001b[39;00m \u001b[39mNone\u001b[39;00m:\n",
      "File \u001b[1;32mc:\\Users\\blinklet\\Documents\\learning\\data-science\\env\\Lib\\site-packages\\sqlalchemy\\pool\\base.py:719\u001b[0m, in \u001b[0;36m_ConnectionRecord.checkout\u001b[1;34m(cls, pool)\u001b[0m\n\u001b[0;32m    718\u001b[0m \u001b[39melse\u001b[39;00m:\n\u001b[1;32m--> 719\u001b[0m     rec \u001b[39m=\u001b[39m pool\u001b[39m.\u001b[39;49m_do_get()\n\u001b[0;32m    721\u001b[0m \u001b[39mtry\u001b[39;00m:\n",
      "File \u001b[1;32mc:\\Users\\blinklet\\Documents\\learning\\data-science\\env\\Lib\\site-packages\\sqlalchemy\\pool\\impl.py:402\u001b[0m, in \u001b[0;36mSingletonThreadPool._do_get\u001b[1;34m(self)\u001b[0m\n\u001b[0;32m    401\u001b[0m     \u001b[39mpass\u001b[39;00m\n\u001b[1;32m--> 402\u001b[0m c \u001b[39m=\u001b[39m \u001b[39mself\u001b[39;49m\u001b[39m.\u001b[39;49m_create_connection()\n\u001b[0;32m    403\u001b[0m \u001b[39mself\u001b[39m\u001b[39m.\u001b[39m_conn\u001b[39m.\u001b[39mcurrent \u001b[39m=\u001b[39m weakref\u001b[39m.\u001b[39mref(c)\n",
      "File \u001b[1;32mc:\\Users\\blinklet\\Documents\\learning\\data-science\\env\\Lib\\site-packages\\sqlalchemy\\pool\\base.py:396\u001b[0m, in \u001b[0;36mPool._create_connection\u001b[1;34m(self)\u001b[0m\n\u001b[0;32m    394\u001b[0m \u001b[39m\u001b[39m\u001b[39m\"\"\"Called by subclasses to create a new ConnectionRecord.\"\"\"\u001b[39;00m\n\u001b[1;32m--> 396\u001b[0m \u001b[39mreturn\u001b[39;00m _ConnectionRecord(\u001b[39mself\u001b[39;49m)\n",
      "File \u001b[1;32mc:\\Users\\blinklet\\Documents\\learning\\data-science\\env\\Lib\\site-packages\\sqlalchemy\\pool\\base.py:681\u001b[0m, in \u001b[0;36m_ConnectionRecord.__init__\u001b[1;34m(self, pool, connect)\u001b[0m\n\u001b[0;32m    680\u001b[0m \u001b[39mif\u001b[39;00m connect:\n\u001b[1;32m--> 681\u001b[0m     \u001b[39mself\u001b[39;49m\u001b[39m.\u001b[39;49m__connect()\n\u001b[0;32m    682\u001b[0m \u001b[39mself\u001b[39m\u001b[39m.\u001b[39mfinalize_callback \u001b[39m=\u001b[39m deque()\n",
      "File \u001b[1;32mc:\\Users\\blinklet\\Documents\\learning\\data-science\\env\\Lib\\site-packages\\sqlalchemy\\pool\\base.py:905\u001b[0m, in \u001b[0;36m_ConnectionRecord.__connect\u001b[1;34m(self)\u001b[0m\n\u001b[0;32m    904\u001b[0m \u001b[39mexcept\u001b[39;00m \u001b[39mBaseException\u001b[39;00m \u001b[39mas\u001b[39;00m e:\n\u001b[1;32m--> 905\u001b[0m     \u001b[39mwith\u001b[39;49;00m util\u001b[39m.\u001b[39;49msafe_reraise():\n\u001b[0;32m    906\u001b[0m         pool\u001b[39m.\u001b[39;49mlogger\u001b[39m.\u001b[39;49mdebug(\u001b[39m\"\u001b[39;49m\u001b[39mError on connect(): \u001b[39;49m\u001b[39m%s\u001b[39;49;00m\u001b[39m\"\u001b[39;49m, e)\n",
      "File \u001b[1;32mc:\\Users\\blinklet\\Documents\\learning\\data-science\\env\\Lib\\site-packages\\sqlalchemy\\util\\langhelpers.py:147\u001b[0m, in \u001b[0;36msafe_reraise.__exit__\u001b[1;34m(self, type_, value, traceback)\u001b[0m\n\u001b[0;32m    146\u001b[0m     \u001b[39mself\u001b[39m\u001b[39m.\u001b[39m_exc_info \u001b[39m=\u001b[39m \u001b[39mNone\u001b[39;00m  \u001b[39m# remove potential circular references\u001b[39;00m\n\u001b[1;32m--> 147\u001b[0m     \u001b[39mraise\u001b[39;00m exc_value\u001b[39m.\u001b[39mwith_traceback(exc_tb)\n\u001b[0;32m    148\u001b[0m \u001b[39melse\u001b[39;00m:\n",
      "File \u001b[1;32mc:\\Users\\blinklet\\Documents\\learning\\data-science\\env\\Lib\\site-packages\\sqlalchemy\\pool\\base.py:901\u001b[0m, in \u001b[0;36m_ConnectionRecord.__connect\u001b[1;34m(self)\u001b[0m\n\u001b[0;32m    900\u001b[0m \u001b[39mself\u001b[39m\u001b[39m.\u001b[39mstarttime \u001b[39m=\u001b[39m time\u001b[39m.\u001b[39mtime()\n\u001b[1;32m--> 901\u001b[0m \u001b[39mself\u001b[39m\u001b[39m.\u001b[39mdbapi_connection \u001b[39m=\u001b[39m connection \u001b[39m=\u001b[39m pool\u001b[39m.\u001b[39;49m_invoke_creator(\u001b[39mself\u001b[39;49m)\n\u001b[0;32m    902\u001b[0m pool\u001b[39m.\u001b[39mlogger\u001b[39m.\u001b[39mdebug(\u001b[39m\"\u001b[39m\u001b[39mCreated new connection \u001b[39m\u001b[39m%r\u001b[39;00m\u001b[39m\"\u001b[39m, connection)\n",
      "File \u001b[1;32mc:\\Users\\blinklet\\Documents\\learning\\data-science\\env\\Lib\\site-packages\\sqlalchemy\\engine\\create.py:640\u001b[0m, in \u001b[0;36mcreate_engine.<locals>.connect\u001b[1;34m(connection_record)\u001b[0m\n\u001b[0;32m    639\u001b[0m             \u001b[39mreturn\u001b[39;00m connection\n\u001b[1;32m--> 640\u001b[0m \u001b[39mreturn\u001b[39;00m dialect\u001b[39m.\u001b[39;49mconnect(\u001b[39m*\u001b[39;49mcargs, \u001b[39m*\u001b[39;49m\u001b[39m*\u001b[39;49mcparams)\n",
      "File \u001b[1;32mc:\\Users\\blinklet\\Documents\\learning\\data-science\\env\\Lib\\site-packages\\sqlalchemy\\engine\\default.py:580\u001b[0m, in \u001b[0;36mDefaultDialect.connect\u001b[1;34m(self, *cargs, **cparams)\u001b[0m\n\u001b[0;32m    578\u001b[0m \u001b[39mdef\u001b[39;00m \u001b[39mconnect\u001b[39m(\u001b[39mself\u001b[39m, \u001b[39m*\u001b[39mcargs, \u001b[39m*\u001b[39m\u001b[39m*\u001b[39mcparams):\n\u001b[0;32m    579\u001b[0m     \u001b[39m# inherits the docstring from interfaces.Dialect.connect\u001b[39;00m\n\u001b[1;32m--> 580\u001b[0m     \u001b[39mreturn\u001b[39;00m \u001b[39mself\u001b[39;49m\u001b[39m.\u001b[39;49mloaded_dbapi\u001b[39m.\u001b[39;49mconnect(\u001b[39m*\u001b[39;49mcargs, \u001b[39m*\u001b[39;49m\u001b[39m*\u001b[39;49mcparams)\n",
      "\u001b[1;31mInterfaceError\u001b[0m: ('IM002', '[IM002] [Microsoft][ODBC Driver Manager] Data source name not found and no default driver specified (0) (SQLDriverConnect)')",
      "\nThe above exception was the direct cause of the following exception:\n",
      "\u001b[1;31mInterfaceError\u001b[0m                            Traceback (most recent call last)",
      "Cell \u001b[1;32mIn[46], line 3\u001b[0m\n\u001b[0;32m      1\u001b[0m \u001b[39mfrom\u001b[39;00m \u001b[39msqlalchemy\u001b[39;00m \u001b[39mimport\u001b[39;00m inspect\n\u001b[0;32m      2\u001b[0m \u001b[39mprint\u001b[39m(engine)\n\u001b[1;32m----> 3\u001b[0m inspector \u001b[39m=\u001b[39m inspect(engine)\n\u001b[0;32m      5\u001b[0m \u001b[39mfor\u001b[39;00m table_name \u001b[39min\u001b[39;00m inspector\u001b[39m.\u001b[39mget_table_names():\n\u001b[0;32m      6\u001b[0m    \u001b[39mfor\u001b[39;00m column \u001b[39min\u001b[39;00m inspector\u001b[39m.\u001b[39mget_columns(table_name):\n",
      "File \u001b[1;32mc:\\Users\\blinklet\\Documents\\learning\\data-science\\env\\Lib\\site-packages\\sqlalchemy\\inspection.py:111\u001b[0m, in \u001b[0;36minspect\u001b[1;34m(subject, raiseerr)\u001b[0m\n\u001b[0;32m    109\u001b[0m \u001b[39melif\u001b[39;00m reg \u001b[39mis\u001b[39;00m \u001b[39mTrue\u001b[39;00m:\n\u001b[0;32m    110\u001b[0m     \u001b[39mreturn\u001b[39;00m subject\n\u001b[1;32m--> 111\u001b[0m ret \u001b[39m=\u001b[39m reg(subject)\n\u001b[0;32m    112\u001b[0m \u001b[39mif\u001b[39;00m ret \u001b[39mis\u001b[39;00m \u001b[39mnot\u001b[39;00m \u001b[39mNone\u001b[39;00m:\n\u001b[0;32m    113\u001b[0m     \u001b[39mreturn\u001b[39;00m ret\n",
      "File \u001b[1;32mc:\\Users\\blinklet\\Documents\\learning\\data-science\\env\\Lib\\site-packages\\sqlalchemy\\engine\\reflection.py:304\u001b[0m, in \u001b[0;36mInspector._engine_insp\u001b[1;34m(bind)\u001b[0m\n\u001b[0;32m    302\u001b[0m \u001b[39m@inspection\u001b[39m\u001b[39m.\u001b[39m_inspects(Engine)\n\u001b[0;32m    303\u001b[0m \u001b[39mdef\u001b[39;00m \u001b[39m_engine_insp\u001b[39m(bind: Engine) \u001b[39m-\u001b[39m\u001b[39m>\u001b[39m Inspector:  \u001b[39m# type: ignore[misc]\u001b[39;00m\n\u001b[1;32m--> 304\u001b[0m     \u001b[39mreturn\u001b[39;00m Inspector\u001b[39m.\u001b[39;49m_construct(Inspector\u001b[39m.\u001b[39;49m_init_engine, bind)\n",
      "File \u001b[1;32mc:\\Users\\blinklet\\Documents\\learning\\data-science\\env\\Lib\\site-packages\\sqlalchemy\\engine\\reflection.py:237\u001b[0m, in \u001b[0;36mInspector._construct\u001b[1;34m(cls, init, bind)\u001b[0m\n\u001b[0;32m    234\u001b[0m     \u001b[39mcls\u001b[39m \u001b[39m=\u001b[39m bind\u001b[39m.\u001b[39mdialect\u001b[39m.\u001b[39minspector  \u001b[39m# type: ignore[attr-defined]\u001b[39;00m\n\u001b[0;32m    236\u001b[0m \u001b[39mself\u001b[39m \u001b[39m=\u001b[39m \u001b[39mcls\u001b[39m\u001b[39m.\u001b[39m\u001b[39m__new__\u001b[39m(\u001b[39mcls\u001b[39m)\n\u001b[1;32m--> 237\u001b[0m init(\u001b[39mself\u001b[39;49m, bind)\n\u001b[0;32m    238\u001b[0m \u001b[39mreturn\u001b[39;00m \u001b[39mself\u001b[39m\n",
      "File \u001b[1;32mc:\\Users\\blinklet\\Documents\\learning\\data-science\\env\\Lib\\site-packages\\sqlalchemy\\engine\\reflection.py:248\u001b[0m, in \u001b[0;36mInspector._init_engine\u001b[1;34m(self, engine)\u001b[0m\n\u001b[0;32m    246\u001b[0m \u001b[39mdef\u001b[39;00m \u001b[39m_init_engine\u001b[39m(\u001b[39mself\u001b[39m, engine: Engine) \u001b[39m-\u001b[39m\u001b[39m>\u001b[39m \u001b[39mNone\u001b[39;00m:\n\u001b[0;32m    247\u001b[0m     \u001b[39mself\u001b[39m\u001b[39m.\u001b[39mbind \u001b[39m=\u001b[39m \u001b[39mself\u001b[39m\u001b[39m.\u001b[39mengine \u001b[39m=\u001b[39m engine\n\u001b[1;32m--> 248\u001b[0m     engine\u001b[39m.\u001b[39;49mconnect()\u001b[39m.\u001b[39mclose()\n\u001b[0;32m    249\u001b[0m     \u001b[39mself\u001b[39m\u001b[39m.\u001b[39m_op_context_requires_connect \u001b[39m=\u001b[39m \u001b[39mTrue\u001b[39;00m\n\u001b[0;32m    250\u001b[0m     \u001b[39mself\u001b[39m\u001b[39m.\u001b[39mdialect \u001b[39m=\u001b[39m \u001b[39mself\u001b[39m\u001b[39m.\u001b[39mengine\u001b[39m.\u001b[39mdialect\n",
      "File \u001b[1;32mc:\\Users\\blinklet\\Documents\\learning\\data-science\\env\\Lib\\site-packages\\sqlalchemy\\engine\\base.py:3245\u001b[0m, in \u001b[0;36mEngine.connect\u001b[1;34m(self)\u001b[0m\n\u001b[0;32m   3222\u001b[0m \u001b[39mdef\u001b[39;00m \u001b[39mconnect\u001b[39m(\u001b[39mself\u001b[39m) \u001b[39m-\u001b[39m\u001b[39m>\u001b[39m Connection:\n\u001b[0;32m   3223\u001b[0m \u001b[39m    \u001b[39m\u001b[39m\"\"\"Return a new :class:`_engine.Connection` object.\u001b[39;00m\n\u001b[0;32m   3224\u001b[0m \n\u001b[0;32m   3225\u001b[0m \u001b[39m    The :class:`_engine.Connection` acts as a Python context manager, so\u001b[39;00m\n\u001b[1;32m   (...)\u001b[0m\n\u001b[0;32m   3242\u001b[0m \n\u001b[0;32m   3243\u001b[0m \u001b[39m    \"\"\"\u001b[39;00m\n\u001b[1;32m-> 3245\u001b[0m     \u001b[39mreturn\u001b[39;00m \u001b[39mself\u001b[39;49m\u001b[39m.\u001b[39;49m_connection_cls(\u001b[39mself\u001b[39;49m)\n",
      "File \u001b[1;32mc:\\Users\\blinklet\\Documents\\learning\\data-science\\env\\Lib\\site-packages\\sqlalchemy\\engine\\base.py:147\u001b[0m, in \u001b[0;36mConnection.__init__\u001b[1;34m(self, engine, connection, _has_events, _allow_revalidate, _allow_autobegin)\u001b[0m\n\u001b[0;32m    145\u001b[0m         \u001b[39mself\u001b[39m\u001b[39m.\u001b[39m_dbapi_connection \u001b[39m=\u001b[39m engine\u001b[39m.\u001b[39mraw_connection()\n\u001b[0;32m    146\u001b[0m     \u001b[39mexcept\u001b[39;00m dialect\u001b[39m.\u001b[39mloaded_dbapi\u001b[39m.\u001b[39mError \u001b[39mas\u001b[39;00m err:\n\u001b[1;32m--> 147\u001b[0m         Connection\u001b[39m.\u001b[39;49m_handle_dbapi_exception_noconnection(\n\u001b[0;32m    148\u001b[0m             err, dialect, engine\n\u001b[0;32m    149\u001b[0m         )\n\u001b[0;32m    150\u001b[0m         \u001b[39mraise\u001b[39;00m\n\u001b[0;32m    151\u001b[0m \u001b[39melse\u001b[39;00m:\n",
      "File \u001b[1;32mc:\\Users\\blinklet\\Documents\\learning\\data-science\\env\\Lib\\site-packages\\sqlalchemy\\engine\\base.py:2410\u001b[0m, in \u001b[0;36mConnection._handle_dbapi_exception_noconnection\u001b[1;34m(cls, e, dialect, engine, is_disconnect, invalidate_pool_on_disconnect)\u001b[0m\n\u001b[0;32m   2408\u001b[0m \u001b[39melif\u001b[39;00m should_wrap:\n\u001b[0;32m   2409\u001b[0m     \u001b[39massert\u001b[39;00m sqlalchemy_exception \u001b[39mis\u001b[39;00m \u001b[39mnot\u001b[39;00m \u001b[39mNone\u001b[39;00m\n\u001b[1;32m-> 2410\u001b[0m     \u001b[39mraise\u001b[39;00m sqlalchemy_exception\u001b[39m.\u001b[39mwith_traceback(exc_info[\u001b[39m2\u001b[39m]) \u001b[39mfrom\u001b[39;00m \u001b[39me\u001b[39;00m\n\u001b[0;32m   2411\u001b[0m \u001b[39melse\u001b[39;00m:\n\u001b[0;32m   2412\u001b[0m     \u001b[39massert\u001b[39;00m exc_info[\u001b[39m1\u001b[39m] \u001b[39mis\u001b[39;00m \u001b[39mnot\u001b[39;00m \u001b[39mNone\u001b[39;00m\n",
      "File \u001b[1;32mc:\\Users\\blinklet\\Documents\\learning\\data-science\\env\\Lib\\site-packages\\sqlalchemy\\engine\\base.py:145\u001b[0m, in \u001b[0;36mConnection.__init__\u001b[1;34m(self, engine, connection, _has_events, _allow_revalidate, _allow_autobegin)\u001b[0m\n\u001b[0;32m    143\u001b[0m \u001b[39mif\u001b[39;00m connection \u001b[39mis\u001b[39;00m \u001b[39mNone\u001b[39;00m:\n\u001b[0;32m    144\u001b[0m     \u001b[39mtry\u001b[39;00m:\n\u001b[1;32m--> 145\u001b[0m         \u001b[39mself\u001b[39m\u001b[39m.\u001b[39m_dbapi_connection \u001b[39m=\u001b[39m engine\u001b[39m.\u001b[39;49mraw_connection()\n\u001b[0;32m    146\u001b[0m     \u001b[39mexcept\u001b[39;00m dialect\u001b[39m.\u001b[39mloaded_dbapi\u001b[39m.\u001b[39mError \u001b[39mas\u001b[39;00m err:\n\u001b[0;32m    147\u001b[0m         Connection\u001b[39m.\u001b[39m_handle_dbapi_exception_noconnection(\n\u001b[0;32m    148\u001b[0m             err, dialect, engine\n\u001b[0;32m    149\u001b[0m         )\n",
      "File \u001b[1;32mc:\\Users\\blinklet\\Documents\\learning\\data-science\\env\\Lib\\site-packages\\sqlalchemy\\engine\\base.py:3269\u001b[0m, in \u001b[0;36mEngine.raw_connection\u001b[1;34m(self)\u001b[0m\n\u001b[0;32m   3247\u001b[0m \u001b[39mdef\u001b[39;00m \u001b[39mraw_connection\u001b[39m(\u001b[39mself\u001b[39m) \u001b[39m-\u001b[39m\u001b[39m>\u001b[39m PoolProxiedConnection:\n\u001b[0;32m   3248\u001b[0m \u001b[39m    \u001b[39m\u001b[39m\"\"\"Return a \"raw\" DBAPI connection from the connection pool.\u001b[39;00m\n\u001b[0;32m   3249\u001b[0m \n\u001b[0;32m   3250\u001b[0m \u001b[39m    The returned object is a proxied version of the DBAPI\u001b[39;00m\n\u001b[1;32m   (...)\u001b[0m\n\u001b[0;32m   3267\u001b[0m \n\u001b[0;32m   3268\u001b[0m \u001b[39m    \"\"\"\u001b[39;00m\n\u001b[1;32m-> 3269\u001b[0m     \u001b[39mreturn\u001b[39;00m \u001b[39mself\u001b[39;49m\u001b[39m.\u001b[39;49mpool\u001b[39m.\u001b[39;49mconnect()\n",
      "File \u001b[1;32mc:\\Users\\blinklet\\Documents\\learning\\data-science\\env\\Lib\\site-packages\\sqlalchemy\\pool\\impl.py:420\u001b[0m, in \u001b[0;36mSingletonThreadPool.connect\u001b[1;34m(self)\u001b[0m\n\u001b[0;32m    417\u001b[0m     \u001b[39mif\u001b[39;00m rec \u001b[39mis\u001b[39;00m \u001b[39mnot\u001b[39;00m \u001b[39mNone\u001b[39;00m:\n\u001b[0;32m    418\u001b[0m         \u001b[39mreturn\u001b[39;00m rec\u001b[39m.\u001b[39m_checkout_existing()\n\u001b[1;32m--> 420\u001b[0m \u001b[39mreturn\u001b[39;00m _ConnectionFairy\u001b[39m.\u001b[39;49m_checkout(\u001b[39mself\u001b[39;49m, \u001b[39mself\u001b[39;49m\u001b[39m.\u001b[39;49m_fairy)\n",
      "File \u001b[1;32mc:\\Users\\blinklet\\Documents\\learning\\data-science\\env\\Lib\\site-packages\\sqlalchemy\\pool\\base.py:1270\u001b[0m, in \u001b[0;36m_ConnectionFairy._checkout\u001b[1;34m(cls, pool, threadconns, fairy)\u001b[0m\n\u001b[0;32m   1262\u001b[0m \u001b[39m@classmethod\u001b[39m\n\u001b[0;32m   1263\u001b[0m \u001b[39mdef\u001b[39;00m \u001b[39m_checkout\u001b[39m(\n\u001b[0;32m   1264\u001b[0m     \u001b[39mcls\u001b[39m,\n\u001b[1;32m   (...)\u001b[0m\n\u001b[0;32m   1267\u001b[0m     fairy: Optional[_ConnectionFairy] \u001b[39m=\u001b[39m \u001b[39mNone\u001b[39;00m,\n\u001b[0;32m   1268\u001b[0m ) \u001b[39m-\u001b[39m\u001b[39m>\u001b[39m _ConnectionFairy:\n\u001b[0;32m   1269\u001b[0m     \u001b[39mif\u001b[39;00m \u001b[39mnot\u001b[39;00m fairy:\n\u001b[1;32m-> 1270\u001b[0m         fairy \u001b[39m=\u001b[39m _ConnectionRecord\u001b[39m.\u001b[39;49mcheckout(pool)\n\u001b[0;32m   1272\u001b[0m         \u001b[39mif\u001b[39;00m threadconns \u001b[39mis\u001b[39;00m \u001b[39mnot\u001b[39;00m \u001b[39mNone\u001b[39;00m:\n\u001b[0;32m   1273\u001b[0m             threadconns\u001b[39m.\u001b[39mcurrent \u001b[39m=\u001b[39m weakref\u001b[39m.\u001b[39mref(fairy)\n",
      "File \u001b[1;32mc:\\Users\\blinklet\\Documents\\learning\\data-science\\env\\Lib\\site-packages\\sqlalchemy\\pool\\base.py:719\u001b[0m, in \u001b[0;36m_ConnectionRecord.checkout\u001b[1;34m(cls, pool)\u001b[0m\n\u001b[0;32m    717\u001b[0m     rec \u001b[39m=\u001b[39m cast(_ConnectionRecord, pool\u001b[39m.\u001b[39m_do_get())\n\u001b[0;32m    718\u001b[0m \u001b[39melse\u001b[39;00m:\n\u001b[1;32m--> 719\u001b[0m     rec \u001b[39m=\u001b[39m pool\u001b[39m.\u001b[39;49m_do_get()\n\u001b[0;32m    721\u001b[0m \u001b[39mtry\u001b[39;00m:\n\u001b[0;32m    722\u001b[0m     dbapi_connection \u001b[39m=\u001b[39m rec\u001b[39m.\u001b[39mget_connection()\n",
      "File \u001b[1;32mc:\\Users\\blinklet\\Documents\\learning\\data-science\\env\\Lib\\site-packages\\sqlalchemy\\pool\\impl.py:402\u001b[0m, in \u001b[0;36mSingletonThreadPool._do_get\u001b[1;34m(self)\u001b[0m\n\u001b[0;32m    400\u001b[0m \u001b[39mexcept\u001b[39;00m \u001b[39mAttributeError\u001b[39;00m:\n\u001b[0;32m    401\u001b[0m     \u001b[39mpass\u001b[39;00m\n\u001b[1;32m--> 402\u001b[0m c \u001b[39m=\u001b[39m \u001b[39mself\u001b[39;49m\u001b[39m.\u001b[39;49m_create_connection()\n\u001b[0;32m    403\u001b[0m \u001b[39mself\u001b[39m\u001b[39m.\u001b[39m_conn\u001b[39m.\u001b[39mcurrent \u001b[39m=\u001b[39m weakref\u001b[39m.\u001b[39mref(c)\n\u001b[0;32m    404\u001b[0m \u001b[39mif\u001b[39;00m \u001b[39mlen\u001b[39m(\u001b[39mself\u001b[39m\u001b[39m.\u001b[39m_all_conns) \u001b[39m>\u001b[39m\u001b[39m=\u001b[39m \u001b[39mself\u001b[39m\u001b[39m.\u001b[39msize:\n",
      "File \u001b[1;32mc:\\Users\\blinklet\\Documents\\learning\\data-science\\env\\Lib\\site-packages\\sqlalchemy\\pool\\base.py:396\u001b[0m, in \u001b[0;36mPool._create_connection\u001b[1;34m(self)\u001b[0m\n\u001b[0;32m    393\u001b[0m \u001b[39mdef\u001b[39;00m \u001b[39m_create_connection\u001b[39m(\u001b[39mself\u001b[39m) \u001b[39m-\u001b[39m\u001b[39m>\u001b[39m ConnectionPoolEntry:\n\u001b[0;32m    394\u001b[0m \u001b[39m    \u001b[39m\u001b[39m\"\"\"Called by subclasses to create a new ConnectionRecord.\"\"\"\u001b[39;00m\n\u001b[1;32m--> 396\u001b[0m     \u001b[39mreturn\u001b[39;00m _ConnectionRecord(\u001b[39mself\u001b[39;49m)\n",
      "File \u001b[1;32mc:\\Users\\blinklet\\Documents\\learning\\data-science\\env\\Lib\\site-packages\\sqlalchemy\\pool\\base.py:681\u001b[0m, in \u001b[0;36m_ConnectionRecord.__init__\u001b[1;34m(self, pool, connect)\u001b[0m\n\u001b[0;32m    679\u001b[0m \u001b[39mself\u001b[39m\u001b[39m.\u001b[39m__pool \u001b[39m=\u001b[39m pool\n\u001b[0;32m    680\u001b[0m \u001b[39mif\u001b[39;00m connect:\n\u001b[1;32m--> 681\u001b[0m     \u001b[39mself\u001b[39;49m\u001b[39m.\u001b[39;49m__connect()\n\u001b[0;32m    682\u001b[0m \u001b[39mself\u001b[39m\u001b[39m.\u001b[39mfinalize_callback \u001b[39m=\u001b[39m deque()\n",
      "File \u001b[1;32mc:\\Users\\blinklet\\Documents\\learning\\data-science\\env\\Lib\\site-packages\\sqlalchemy\\pool\\base.py:905\u001b[0m, in \u001b[0;36m_ConnectionRecord.__connect\u001b[1;34m(self)\u001b[0m\n\u001b[0;32m    903\u001b[0m     \u001b[39mself\u001b[39m\u001b[39m.\u001b[39mfresh \u001b[39m=\u001b[39m \u001b[39mTrue\u001b[39;00m\n\u001b[0;32m    904\u001b[0m \u001b[39mexcept\u001b[39;00m \u001b[39mBaseException\u001b[39;00m \u001b[39mas\u001b[39;00m e:\n\u001b[1;32m--> 905\u001b[0m     \u001b[39mwith\u001b[39;49;00m util\u001b[39m.\u001b[39;49msafe_reraise():\n\u001b[0;32m    906\u001b[0m         pool\u001b[39m.\u001b[39;49mlogger\u001b[39m.\u001b[39;49mdebug(\u001b[39m\"\u001b[39;49m\u001b[39mError on connect(): \u001b[39;49m\u001b[39m%s\u001b[39;49;00m\u001b[39m\"\u001b[39;49m, e)\n\u001b[0;32m    907\u001b[0m \u001b[39melse\u001b[39;00m:\n\u001b[0;32m    908\u001b[0m     \u001b[39m# in SQLAlchemy 1.4 the first_connect event is not used by\u001b[39;00m\n\u001b[0;32m    909\u001b[0m     \u001b[39m# the engine, so this will usually not be set\u001b[39;00m\n",
      "File \u001b[1;32mc:\\Users\\blinklet\\Documents\\learning\\data-science\\env\\Lib\\site-packages\\sqlalchemy\\util\\langhelpers.py:147\u001b[0m, in \u001b[0;36msafe_reraise.__exit__\u001b[1;34m(self, type_, value, traceback)\u001b[0m\n\u001b[0;32m    145\u001b[0m     \u001b[39massert\u001b[39;00m exc_value \u001b[39mis\u001b[39;00m \u001b[39mnot\u001b[39;00m \u001b[39mNone\u001b[39;00m\n\u001b[0;32m    146\u001b[0m     \u001b[39mself\u001b[39m\u001b[39m.\u001b[39m_exc_info \u001b[39m=\u001b[39m \u001b[39mNone\u001b[39;00m  \u001b[39m# remove potential circular references\u001b[39;00m\n\u001b[1;32m--> 147\u001b[0m     \u001b[39mraise\u001b[39;00m exc_value\u001b[39m.\u001b[39mwith_traceback(exc_tb)\n\u001b[0;32m    148\u001b[0m \u001b[39melse\u001b[39;00m:\n\u001b[0;32m    149\u001b[0m     \u001b[39mself\u001b[39m\u001b[39m.\u001b[39m_exc_info \u001b[39m=\u001b[39m \u001b[39mNone\u001b[39;00m  \u001b[39m# remove potential circular references\u001b[39;00m\n",
      "File \u001b[1;32mc:\\Users\\blinklet\\Documents\\learning\\data-science\\env\\Lib\\site-packages\\sqlalchemy\\pool\\base.py:901\u001b[0m, in \u001b[0;36m_ConnectionRecord.__connect\u001b[1;34m(self)\u001b[0m\n\u001b[0;32m    899\u001b[0m \u001b[39mtry\u001b[39;00m:\n\u001b[0;32m    900\u001b[0m     \u001b[39mself\u001b[39m\u001b[39m.\u001b[39mstarttime \u001b[39m=\u001b[39m time\u001b[39m.\u001b[39mtime()\n\u001b[1;32m--> 901\u001b[0m     \u001b[39mself\u001b[39m\u001b[39m.\u001b[39mdbapi_connection \u001b[39m=\u001b[39m connection \u001b[39m=\u001b[39m pool\u001b[39m.\u001b[39;49m_invoke_creator(\u001b[39mself\u001b[39;49m)\n\u001b[0;32m    902\u001b[0m     pool\u001b[39m.\u001b[39mlogger\u001b[39m.\u001b[39mdebug(\u001b[39m\"\u001b[39m\u001b[39mCreated new connection \u001b[39m\u001b[39m%r\u001b[39;00m\u001b[39m\"\u001b[39m, connection)\n\u001b[0;32m    903\u001b[0m     \u001b[39mself\u001b[39m\u001b[39m.\u001b[39mfresh \u001b[39m=\u001b[39m \u001b[39mTrue\u001b[39;00m\n",
      "File \u001b[1;32mc:\\Users\\blinklet\\Documents\\learning\\data-science\\env\\Lib\\site-packages\\sqlalchemy\\engine\\create.py:640\u001b[0m, in \u001b[0;36mcreate_engine.<locals>.connect\u001b[1;34m(connection_record)\u001b[0m\n\u001b[0;32m    638\u001b[0m         \u001b[39mif\u001b[39;00m connection \u001b[39mis\u001b[39;00m \u001b[39mnot\u001b[39;00m \u001b[39mNone\u001b[39;00m:\n\u001b[0;32m    639\u001b[0m             \u001b[39mreturn\u001b[39;00m connection\n\u001b[1;32m--> 640\u001b[0m \u001b[39mreturn\u001b[39;00m dialect\u001b[39m.\u001b[39;49mconnect(\u001b[39m*\u001b[39;49mcargs, \u001b[39m*\u001b[39;49m\u001b[39m*\u001b[39;49mcparams)\n",
      "File \u001b[1;32mc:\\Users\\blinklet\\Documents\\learning\\data-science\\env\\Lib\\site-packages\\sqlalchemy\\engine\\default.py:580\u001b[0m, in \u001b[0;36mDefaultDialect.connect\u001b[1;34m(self, *cargs, **cparams)\u001b[0m\n\u001b[0;32m    578\u001b[0m \u001b[39mdef\u001b[39;00m \u001b[39mconnect\u001b[39m(\u001b[39mself\u001b[39m, \u001b[39m*\u001b[39mcargs, \u001b[39m*\u001b[39m\u001b[39m*\u001b[39mcparams):\n\u001b[0;32m    579\u001b[0m     \u001b[39m# inherits the docstring from interfaces.Dialect.connect\u001b[39;00m\n\u001b[1;32m--> 580\u001b[0m     \u001b[39mreturn\u001b[39;00m \u001b[39mself\u001b[39;49m\u001b[39m.\u001b[39;49mloaded_dbapi\u001b[39m.\u001b[39;49mconnect(\u001b[39m*\u001b[39;49mcargs, \u001b[39m*\u001b[39;49m\u001b[39m*\u001b[39;49mcparams)\n",
      "\u001b[1;31mInterfaceError\u001b[0m: (pyodbc.InterfaceError) ('IM002', '[IM002] [Microsoft][ODBC Driver Manager] Data source name not found and no default driver specified (0) (SQLDriverConnect)')\n(Background on this error at: https://sqlalche.me/e/20/rvf5)"
     ]
    }
   ],
   "source": [
    "from sqlalchemy import inspect\n",
    "print(engine)\n",
    "inspector = inspect(engine)\n",
    "\n",
    "for table_name in inspector.get_table_names():\n",
    "   for column in inspector.get_columns(table_name):\n",
    "       print(\"Column: %s\" % column['name'])"
   ]
  }
 ],
 "metadata": {
  "kernelspec": {
   "display_name": "Python 3 (ipykernel)",
   "language": "python",
   "name": "python3"
  },
  "language_info": {
   "codemirror_mode": {
    "name": "ipython",
    "version": 3
   },
   "file_extension": ".py",
   "mimetype": "text/x-python",
   "name": "python",
   "nbconvert_exporter": "python",
   "pygments_lexer": "ipython3",
   "version": "3.11.2"
  }
 },
 "nbformat": 4,
 "nbformat_minor": 5
}
