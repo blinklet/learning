{
 "cells": [
  {
   "cell_type": "markdown",
   "id": "106f03db",
   "metadata": {},
   "source": [
    "\n"
   ]
  },
  {
   "cell_type": "code",
   "execution_count": null,
   "id": "568a4eac",
   "metadata": {},
   "outputs": [],
   "source": [
    "from pathlib import Path\n",
    "from sqlalchemy import create_engine, URL, inspect\n",
    "\n",
    "db_file = Path(\"C:/Users/blinklet/Documents/Formula1.sqlite\")\n",
    "db_connect = 'sqlite:///' + str(db_file)\n",
    "    \n",
    "engine = create_engine(db_connect)\n",
    "inspector = inspect(engine)\n",
    "\n",
    "print(inspector.get_table_names())"
   ]
  },
  {
   "cell_type": "code",
   "execution_count": 1,
   "id": "64c9e0a8",
   "metadata": {},
   "outputs": [
    {
     "name": "stdout",
     "output_type": "stream",
     "text": [
      "['circuits', 'constructor_results', 'constructor_standings', 'constructors', 'driver_standings', 'drivers', 'laptimes', 'pitstops', 'qualifying', 'races', 'results', 'seasons', 'status']\n"
     ]
    }
   ],
   "source": [
    "from sqlalchemy import create_engine, inspect\n",
    "\n",
    "engine = create_engine(r\"sqlite:///C:/Users/blinklet/Documents/Formula1.sqlite\")\n",
    "inspector = inspect(engine)\n",
    "\n",
    "print(inspector.get_table_names())"
   ]
  },
  {
   "cell_type": "code",
   "execution_count": null,
   "id": "e94a544e",
   "metadata": {},
   "outputs": [],
   "source": [
    "import pyodbc\n",
    "from sqlalchemy import create_engine, URL, inspect\n",
    "\n",
    "#engine = create_engine(r'access+pyodbc:///driver=\"Microsoft Access Driver (*.mdb, *.accdb)\"?DataSource=C:\\Users\\blinklet\\Documents\\Northwind_be.accdb')\n",
    "#engine = create_engine(r'access+pyodbc://@MS Access Database/Northwind')\n",
    "engine = create_engine(r'access+pyodbc://@northwind')\n",
    "# engine = create_engine(r'access+pyodbc:///@Northwind?driver=MS+Access+Database?TrustedConnection=yes')\n",
    "# url_object = URL.create(\n",
    "#     \"access+pyodbc\",\n",
    "#     host = \"localhost\",\n",
    "#     database = \"@Northwind\"\n",
    "# )\n",
    "# engine = create_engine(url_object)\n",
    "\n",
    "#engine = create_engine(r'access+pyodbc://@localhost:3309/northwind')\n",
    "# engine = create_engine(\"access+pyodbc://Provider='SQLOLEDB';Server='localhost';Database='Northwind';TrustedConnection=yes\"\n",
    "#Driver={Microsoft Access Driver (*.mdb, *.accdb)};DBQ=C:\\Users\\blinklet\\Documents\\Northwind_be.accdb;'"
   ]
  },
  {
   "cell_type": "code",
   "execution_count": null,
   "id": "22fb2d85",
   "metadata": {
    "scrolled": true
   },
   "outputs": [],
   "source": [
    "#from sqlalchemy import MetaData\n",
    "#\n",
    "print(engine)\n",
    "inspector = inspect(engine)\n",
    "# print(inspector.get_schema_names())\n",
    "print(inspector.get_table_names())\n",
    "from sqlalchemy import MetaData\n",
    "meta = MetaData(engine)\n",
    "print(meta.tables.keys())\n"
   ]
  },
  {
   "cell_type": "code",
   "execution_count": null,
   "id": "390cee63",
   "metadata": {},
   "outputs": [],
   "source": [
    "import pyodbc\n",
    "\n",
    "conn = pyodbc.connect(r'Driver={Microsoft Access Driver (*.mdb, *.accdb)};DBQ=C:\\Users\\blinklet\\Documents\\Northwind.accdb;')\n",
    "cursor = conn.cursor()\n",
    "cursor.execute('select * from products')\n",
    "for row in cursor.tables():\n",
    "    print(row.table_name)\n",
    "for row in cursor.fetchmany(2):\n",
    "    print(row)"
   ]
  }
 ],
 "metadata": {
  "kernelspec": {
   "display_name": "Python 3 (ipykernel)",
   "language": "python",
   "name": "python3"
  },
  "language_info": {
   "codemirror_mode": {
    "name": "ipython",
    "version": 3
   },
   "file_extension": ".py",
   "mimetype": "text/x-python",
   "name": "python",
   "nbconvert_exporter": "python",
   "pygments_lexer": "ipython3",
   "version": "3.11.2"
  }
 },
 "nbformat": 4,
 "nbformat_minor": 5
}
