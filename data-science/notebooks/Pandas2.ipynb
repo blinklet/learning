{
 "cells": [
  {
   "cell_type": "code",
   "execution_count": 3,
   "id": "db3df77e",
   "metadata": {
    "scrolled": true
   },
   "outputs": [
    {
     "name": "stdout",
     "output_type": "stream",
     "text": [
      "             name\n",
      "0           Album\n",
      "1          Artist\n",
      "2        Customer\n",
      "3        Employee\n",
      "4           Genre\n",
      "5         Invoice\n",
      "6     InvoiceLine\n",
      "7       MediaType\n",
      "8        Playlist\n",
      "9   PlaylistTrack\n",
      "10          Track\n"
     ]
    }
   ],
   "source": [
    "import pandas as pd\n",
    "\n",
    "url = r\"sqlite:///C:/Users/blinklet/Documents/Chinook_Sqlite.sqlite\"\n",
    "\n",
    "statement = 'SELECT name FROM sqlite_master WHERE type= \"table\"'\n",
    "\n",
    "tables = pd.read_sql_query(statement, url)\n",
    "print(tables)"
   ]
  }
 ],
 "metadata": {
  "kernelspec": {
   "display_name": "Python 3 (ipykernel)",
   "language": "python",
   "name": "python3"
  },
  "language_info": {
   "codemirror_mode": {
    "name": "ipython",
    "version": 3
   },
   "file_extension": ".py",
   "mimetype": "text/x-python",
   "name": "python",
   "nbconvert_exporter": "python",
   "pygments_lexer": "ipython3",
   "version": "3.10.6"
  }
 },
 "nbformat": 4,
 "nbformat_minor": 5
}
