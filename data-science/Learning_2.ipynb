{
 "cells": [
  {
   "cell_type": "markdown",
   "id": "106f03db",
   "metadata": {},
   "source": [
    "\n"
   ]
  },
  {
   "cell_type": "code",
   "execution_count": 69,
   "id": "83ff17a9",
   "metadata": {},
   "outputs": [
    {
     "name": "stdout",
     "output_type": "stream",
     "text": [
      "['main']\n",
      "['Album', 'Artist', 'Customer', 'Employee', 'Genre', 'Invoice', 'InvoiceLine', 'MediaType', 'Playlist', 'PlaylistTrack', 'Track']\n"
     ]
    }
   ],
   "source": [
    "from sqlalchemy import create_engine, inspect\n",
    "\n",
    "engine = create_engine(r\"sqlite+pysqlite:///C:/Users/blinklet/Documents/chinook-database/ChinookDatabase/DataSources/Chinook_Sqlite.sqlite\")\n",
    "inspector = inspect(engine)\n",
    "\n",
    "print(inspector.get_schema_names())\n",
    "print(inspector.get_table_names())"
   ]
  },
  {
   "cell_type": "code",
   "execution_count": 2,
   "id": "22fb2d85",
   "metadata": {
    "scrolled": true
   },
   "outputs": [
    {
     "name": "stdout",
     "output_type": "stream",
     "text": [
      "[{'name': 'division', 'type': TEXT(), 'nullable': True, 'default': None, 'primary_key': 0}, {'name': 'name', 'type': TEXT(), 'nullable': True, 'default': None, 'primary_key': 0}, {'name': 'country', 'type': TEXT(), 'nullable': True, 'default': None, 'primary_key': 0}]\n",
      "[{'name': 'Div', 'type': TEXT(), 'nullable': True, 'default': None, 'primary_key': 0}, {'name': 'Date', 'type': DATE(), 'nullable': True, 'default': None, 'primary_key': 0}, {'name': 'HomeTeam', 'type': TEXT(), 'nullable': True, 'default': None, 'primary_key': 0}, {'name': 'AwayTeam', 'type': TEXT(), 'nullable': True, 'default': None, 'primary_key': 0}, {'name': 'FTHG', 'type': REAL(), 'nullable': True, 'default': None, 'primary_key': 0}, {'name': 'FTAG', 'type': REAL(), 'nullable': True, 'default': None, 'primary_key': 0}, {'name': 'FTR', 'type': TEXT(), 'nullable': True, 'default': None, 'primary_key': 0}, {'name': 'season', 'type': INTEGER(), 'nullable': True, 'default': None, 'primary_key': 0}]\n"
     ]
    }
   ],
   "source": [
    "for tbl in inspector.get_table_names():\n",
    "    print(inspector.get_columns(schema_name='main',table_name=tbl))"
   ]
  },
  {
   "cell_type": "code",
   "execution_count": 70,
   "id": "b6db32c9",
   "metadata": {},
   "outputs": [
    {
     "name": "stdout",
     "output_type": "stream",
     "text": [
      "Table = Album\n",
      "*AlbumId*, Title, ArtistId, \n",
      "\n",
      "Table = Artist\n",
      "*ArtistId*, Name, \n",
      "\n",
      "Table = Customer\n",
      "*CustomerId*, FirstName, LastName, Company, Address, City, State, Country, PostalCode, Phone, Fax, Email, SupportRepId, \n",
      "\n",
      "Table = Employee\n",
      "*EmployeeId*, LastName, FirstName, Title, ReportsTo, BirthDate, HireDate, Address, City, State, Country, PostalCode, Phone, Fax, Email, \n",
      "\n",
      "Table = Genre\n",
      "*GenreId*, Name, \n",
      "\n",
      "Table = Invoice\n",
      "*InvoiceId*, CustomerId, InvoiceDate, BillingAddress, BillingCity, BillingState, BillingCountry, BillingPostalCode, Total, \n",
      "\n",
      "Table = InvoiceLine\n",
      "*InvoiceLineId*, InvoiceId, TrackId, UnitPrice, Quantity, \n",
      "\n",
      "Table = MediaType\n",
      "*MediaTypeId*, Name, \n",
      "\n",
      "Table = Playlist\n",
      "*PlaylistId*, Name, \n",
      "\n",
      "Table = PlaylistTrack\n",
      "*PlaylistId*, TrackId, \n",
      "\n",
      "Table = Track\n",
      "*TrackId*, Name, AlbumId, MediaTypeId, GenreId, Composer, Milliseconds, Bytes, UnitPrice, \n",
      "\n"
     ]
    }
   ],
   "source": [
    "for tbl in inspector.get_table_names():\n",
    "    print(f\"Table = {tbl}\")\n",
    "    for col in inspector.get_columns(schema_name=\"main\",table_name=tbl):\n",
    "        star = \"\"\n",
    "        if col['primary_key'] == 1:\n",
    "            star = \"*\"\n",
    "        print(f\"{star}{col['name']}{star}\", end = \", \")\n",
    "    print(\"\\n\")"
   ]
  },
  {
   "cell_type": "code",
   "execution_count": 71,
   "id": "91e4ba7a",
   "metadata": {},
   "outputs": [],
   "source": [
    "from sqlalchemy.ext.automap import automap_base\n",
    "from sqlalchemy.orm import Session\n",
    "\n",
    "Base = automap_base()\n",
    "Base.prepare(autoload_with=engine)\n"
   ]
  },
  {
   "cell_type": "code",
   "execution_count": 100,
   "id": "19d47818",
   "metadata": {},
   "outputs": [
    {
     "name": "stdout",
     "output_type": "stream",
     "text": [
      "Customer.employee\n",
      "Customer.invoice_collection\n"
     ]
    }
   ],
   "source": [
    "Customers = Base.classes.Customer\n",
    "session = Session(engine)\n",
    "relations = inspect(Customers).relationships\n",
    "for x in relations:\n",
    "    print(x)"
   ]
  },
  {
   "cell_type": "code",
   "execution_count": 103,
   "id": "4d8425e3",
   "metadata": {},
   "outputs": [
    {
     "name": "stdout",
     "output_type": "stream",
     "text": [
      "Invoice.customer RelationshipDirection.MANYTOONE\n",
      "Invoice.invoiceline_collection RelationshipDirection.ONETOMANY\n"
     ]
    }
   ],
   "source": [
    "Invoices = Base.classes.Invoice\n",
    "session = Session(engine)\n",
    "relations = inspect(Invoices).relationships\n",
    "for x in relations:\n",
    "    print(x, x.direction)\n"
   ]
  },
  {
   "cell_type": "code",
   "execution_count": 98,
   "id": "23a15d93",
   "metadata": {},
   "outputs": [
    {
     "name": "stdout",
     "output_type": "stream",
     "text": [
      "artist Album.artist\n",
      "track_collection Album.track_collection\n"
     ]
    }
   ],
   "source": [
    "#dir(Base.classes)\n",
    "Albums = Base.classes.Album\n",
    "# dir(Albums)\n",
    "session = Session(engine)\n",
    "u1 = session.query(Albums).limit(5).all()\n",
    "\n",
    "relations = inspect(Albums).relationships.items()\n",
    "for x in relations:\n",
    "    direction = x[0]\n",
    "    print(x[0],x[1])\n",
    "    \n",
    "# print(inspect(Albums).relationships.items())\n",
    "\n",
    "# for relationship in inspect(Albums).relationships:\n",
    "#     direction = relationship.direction\n",
    "#     print(direction)\n",
    "    \n",
    "#print(relations)\n",
    "\n",
    "# for x in relations:\n",
    "#     for a in x:\n",
    "#         print(x[0], a)\n",
    "        \n",
    "\n",
    "    \n",
    "#dir(u1[0])\n",
    "#print(u1)"
   ]
  }
 ],
 "metadata": {
  "kernelspec": {
   "display_name": "Python 3 (ipykernel)",
   "language": "python",
   "name": "python3"
  },
  "language_info": {
   "codemirror_mode": {
    "name": "ipython",
    "version": 3
   },
   "file_extension": ".py",
   "mimetype": "text/x-python",
   "name": "python",
   "nbconvert_exporter": "python",
   "pygments_lexer": "ipython3",
   "version": "3.11.2"
  }
 },
 "nbformat": 4,
 "nbformat_minor": 5
}
