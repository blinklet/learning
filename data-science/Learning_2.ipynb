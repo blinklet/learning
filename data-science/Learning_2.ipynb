{
 "cells": [
  {
   "cell_type": "markdown",
   "id": "106f03db",
   "metadata": {},
   "source": [
    "\n"
   ]
  },
  {
   "cell_type": "code",
   "execution_count": 1,
   "id": "83ff17a9",
   "metadata": {},
   "outputs": [
    {
     "name": "stdout",
     "output_type": "stream",
     "text": [
      "['main']\n",
      "['Album', 'Artist', 'Customer', 'Employee', 'Genre', 'Invoice', 'InvoiceLine', 'MediaType', 'Playlist', 'PlaylistTrack', 'Track']\n"
     ]
    }
   ],
   "source": [
    "from sqlalchemy import create_engine, inspect\n",
    "\n",
    "engine = create_engine(r\"sqlite:///C:/Users/blinklet/Documents/chinook-database/ChinookDatabase/DataSources/Chinook_Sqlite.sqlite\")\n",
    "inspector = inspect(engine)\n",
    "\n",
    "print(inspector.get_schema_names())\n",
    "print(inspector.get_table_names())"
   ]
  },
  {
   "cell_type": "code",
   "execution_count": null,
   "id": "22fb2d85",
   "metadata": {
    "scrolled": true
   },
   "outputs": [],
   "source": [
    "for tbl in inspector.get_table_names():\n",
    "    print(inspector.get_columns(schema_name='main',table_name=tbl))"
   ]
  },
  {
   "cell_type": "code",
   "execution_count": null,
   "id": "b6db32c9",
   "metadata": {},
   "outputs": [],
   "source": [
    "for tbl in inspector.get_table_names():\n",
    "    print(f\"Table = {tbl}\")\n",
    "    for col in inspector.get_columns(schema_name=\"main\",table_name=tbl):\n",
    "        star = \"\"\n",
    "        if col['primary_key'] > 0:\n",
    "            star = \"*\"\n",
    "        print(f\"{star}{col['name']}{star}\", end = \", \")\n",
    "    print(\"\\n\")"
   ]
  },
  {
   "cell_type": "code",
   "execution_count": 2,
   "id": "91e4ba7a",
   "metadata": {},
   "outputs": [
    {
     "name": "stdout",
     "output_type": "stream",
     "text": [
      "Album, Artist, Customer, Employee, Genre, Invoice, InvoiceLine, MediaType, Playlist, Track\n",
      "\n",
      "Album, Artist, Customer, Employee, Genre, Invoice, InvoiceLine, MediaType, Playlist, PlaylistTrack, Track\n"
     ]
    }
   ],
   "source": [
    "from sqlalchemy.ext.automap import automap_base\n",
    "from sqlalchemy.orm import Session\n",
    "\n",
    "Base = automap_base()\n",
    "Base.prepare(autoload_with=engine)\n",
    "\n",
    "print(*sorted(Base.classes.keys()), sep=\", \")\n",
    "print()\n",
    "print(*sorted(Base.metadata.tables), sep=\", \")\n",
    "\n",
    "\n",
    "\n",
    "# insp = inspect(Base.classes.Album)\n",
    "# print(insp.columns)\n",
    "# dir(insp)\n",
    "#dir(Base.classes.Album)\n",
    "#print(inspect(Base))"
   ]
  },
  {
   "cell_type": "code",
   "execution_count": 92,
   "id": "19d47818",
   "metadata": {},
   "outputs": [
    {
     "name": "stdout",
     "output_type": "stream",
     "text": [
      "Customer.employee\n",
      "Customer.invoice_collection\n"
     ]
    }
   ],
   "source": [
    "Customers = Base.classes.Customer\n",
    "session = Session(engine)\n",
    "relations = inspect(Customers).relationships\n",
    "for x in relations:\n",
    "    print(x)"
   ]
  },
  {
   "cell_type": "code",
   "execution_count": null,
   "id": "4d8425e3",
   "metadata": {},
   "outputs": [],
   "source": [
    "Invoices = Base.classes.Invoice\n",
    "session = Session(engine)\n",
    "for z in session.query(Base.classes):\n",
    "    pass\n",
    "\n",
    "# relations = inspect(Invoices).relationships\n",
    "# for x in relations:\n",
    "#     print(x, x.direction)\n",
    "    \n",
    "# inspector = inspect(engine)   \n",
    "# for tbl in inspector.get_table_names():\n",
    "#     print(f\"Table = {tbl}\")\n",
    "#     for col in inspector.get_columns(schema_name=\"main\",table_name=tbl):\n",
    "#         star = \"\"\n",
    "#         if col['primary_key'] == 1:\n",
    "#             star = \"*\"\n",
    "#         print(f\"{star}{col['name']}{star}\", end = \", \")\n",
    "#     print()\n",
    "#     par = str(tbl) + \".\" + \"relationships\"\n",
    "#     print(par)\n",
    "#     relations = inspect(par)\n",
    "#     for x in relations:\n",
    "#         print(x, x.direction)\n",
    "#     print(\"\\n\")\n"
   ]
  },
  {
   "cell_type": "code",
   "execution_count": null,
   "id": "c31d897c",
   "metadata": {},
   "outputs": [],
   "source": []
  },
  {
   "cell_type": "code",
   "execution_count": null,
   "id": "23a15d93",
   "metadata": {},
   "outputs": [],
   "source": [
    "#dir(Base.classes)\n",
    "Albums = Base.classes.Album\n",
    "# dir(Albums)\n",
    "session = Session(engine)\n",
    "u1 = session.query(Albums).limit(5).all()\n",
    "\n",
    "relations = inspect(Albums).relationships.items()\n",
    "for x in relations:\n",
    "    direction = x[0]\n",
    "    print(x[0],x[1])\n",
    "    \n",
    "# print(inspect(Albums).relationships.items())\n",
    "\n",
    "# for relationship in inspect(Albums).relationships:\n",
    "#     direction = relationship.direction\n",
    "#     print(direction)\n",
    "    \n",
    "#print(relations)\n",
    "\n",
    "# for x in relations:\n",
    "#     for a in x:\n",
    "#         print(x[0], a)\n",
    "        \n",
    "\n",
    "    \n",
    "#dir(u1[0])\n",
    "#print(u1)"
   ]
  },
  {
   "cell_type": "markdown",
   "id": "058330c4",
   "metadata": {},
   "source": [
    "# Studying reflection\n"
   ]
  },
  {
   "cell_type": "code",
   "execution_count": 27,
   "id": "aa1c0d68",
   "metadata": {
    "scrolled": true
   },
   "outputs": [
    {
     "name": "stdout",
     "output_type": "stream",
     "text": [
      "Table: Album\n",
      "Columns: \n",
      "   AlbumId           *Primary Key*   \n",
      "   Title             \n",
      "   ArtistId          {ForeignKey('Artist.ArtistId')}\n",
      "\n",
      "Table: Artist\n",
      "Columns: \n",
      "   ArtistId          *Primary Key*   \n",
      "   Name              \n",
      "\n",
      "Table: Customer\n",
      "Columns: \n",
      "   CustomerId        *Primary Key*   \n",
      "   FirstName         \n",
      "   LastName          \n",
      "   Company           \n",
      "   Address           \n",
      "   City              \n",
      "   State             \n",
      "   Country           \n",
      "   PostalCode        \n",
      "   Phone             \n",
      "   Fax               \n",
      "   Email             \n",
      "   SupportRepId      {ForeignKey('Employee.EmployeeId')}\n",
      "\n",
      "Table: Employee\n",
      "Columns: \n",
      "   EmployeeId        *Primary Key*   \n",
      "   LastName          \n",
      "   FirstName         \n",
      "   Title             \n",
      "   ReportsTo         {ForeignKey('Employee.EmployeeId')}\n",
      "   BirthDate         \n",
      "   HireDate          \n",
      "   Address           \n",
      "   City              \n",
      "   State             \n",
      "   Country           \n",
      "   PostalCode        \n",
      "   Phone             \n",
      "   Fax               \n",
      "   Email             \n",
      "\n",
      "Table: Genre\n",
      "Columns: \n",
      "   GenreId           *Primary Key*   \n",
      "   Name              \n",
      "\n",
      "Table: Invoice\n",
      "Columns: \n",
      "   InvoiceId         *Primary Key*   \n",
      "   CustomerId        {ForeignKey('Customer.CustomerId')}\n",
      "   InvoiceDate       \n",
      "   BillingAddress    \n",
      "   BillingCity       \n",
      "   BillingState      \n",
      "   BillingCountry    \n",
      "   BillingPostalCode \n",
      "   Total             \n",
      "\n",
      "Table: InvoiceLine\n",
      "Columns: \n",
      "   InvoiceLineId     *Primary Key*   \n",
      "   InvoiceId         {ForeignKey('Invoice.InvoiceId')}\n",
      "   TrackId           {ForeignKey('Track.TrackId')}\n",
      "   UnitPrice         \n",
      "   Quantity          \n",
      "\n",
      "Table: Track\n",
      "Columns: \n",
      "   TrackId           *Primary Key*   \n",
      "   Name              \n",
      "   AlbumId           {ForeignKey('Album.AlbumId')}\n",
      "   MediaTypeId       {ForeignKey('MediaType.MediaTypeId')}\n",
      "   GenreId           {ForeignKey('Genre.GenreId')}\n",
      "   Composer          \n",
      "   Milliseconds      \n",
      "   Bytes             \n",
      "   UnitPrice         \n",
      "\n",
      "Table: MediaType\n",
      "Columns: \n",
      "   MediaTypeId       *Primary Key*   \n",
      "   Name              \n",
      "\n",
      "Table: Playlist\n",
      "Columns: \n",
      "   PlaylistId        *Primary Key*   \n",
      "   Name              \n",
      "\n",
      "Table: PlaylistTrack\n",
      "Columns: \n",
      "   PlaylistId        *Primary Key*   {ForeignKey('Playlist.PlaylistId')}\n",
      "   TrackId           *Primary Key*   {ForeignKey('Track.TrackId')}\n",
      "\n"
     ]
    }
   ],
   "source": [
    "for tbl in Base.metadata.tables.values():\n",
    "    print(f\"Table: {tbl.name}\")\n",
    "    print(\"Columns: \")\n",
    "    for col in tbl.columns:\n",
    "        print(f\"   {col.name:18}\", end=\"\")\n",
    "        if col.primary_key:\n",
    "            print(f\"*Primary Key*   \", end=\"\")\n",
    "        if col.foreign_keys:\n",
    "            print(f\"{col.foreign_keys}\", end=\"\")\n",
    "        print()\n",
    "    print()\n",
    "\n",
    "# for table in Base.metadata.tables.values():\n",
    "#     print(f\"Table: {table.name}\")\n",
    "#     print(\"Columns: \", end=\"\")\n",
    "#     print(*table.columns.keys(), sep = \", \")\n",
    "#     print(\"Primary Keys: \", end=\"\")\n",
    "#     print(*table.primary_key.columns.keys(), sep=\", \")\n",
    "#     print(\"Foreign Keys: \", end=\"\")\n",
    "#     print(*table.foreign_keys, sep=\", \")\n",
    "#     print()"
   ]
  },
  {
   "cell_type": "code",
   "execution_count": 46,
   "id": "085332be",
   "metadata": {},
   "outputs": [
    {
     "name": "stdout",
     "output_type": "stream",
     "text": [
      "Table: Album\n",
      "Columns: AlbumId, Title, ArtistId\n",
      "Primary Key: AlbumId\n",
      "Foreign Keys: ForeignKey('Artist.ArtistId')\n",
      "\n",
      "Table: Artist\n",
      "Columns: ArtistId, Name\n",
      "Primary Key: ArtistId\n",
      "Foreign Keys: \n",
      "\n",
      "Table: Customer\n",
      "Columns: CustomerId, FirstName, LastName, Company, Address, City, State, Country, PostalCode, Phone, Fax, Email, SupportRepId\n",
      "Primary Key: CustomerId\n",
      "Foreign Keys: ForeignKey('Employee.EmployeeId')\n",
      "\n",
      "Table: Employee\n",
      "Columns: EmployeeId, LastName, FirstName, Title, ReportsTo, BirthDate, HireDate, Address, City, State, Country, PostalCode, Phone, Fax, Email\n",
      "Primary Key: EmployeeId\n",
      "Foreign Keys: ForeignKey('Employee.EmployeeId')\n",
      "\n",
      "Table: Genre\n",
      "Columns: GenreId, Name\n",
      "Primary Key: GenreId\n",
      "Foreign Keys: \n",
      "\n",
      "Table: Invoice\n",
      "Columns: InvoiceId, CustomerId, InvoiceDate, BillingAddress, BillingCity, BillingState, BillingCountry, BillingPostalCode, Total\n",
      "Primary Key: InvoiceId\n",
      "Foreign Keys: ForeignKey('Customer.CustomerId')\n",
      "\n",
      "Table: InvoiceLine\n",
      "Columns: InvoiceLineId, InvoiceId, TrackId, UnitPrice, Quantity\n",
      "Primary Key: InvoiceLineId\n",
      "Foreign Keys: ForeignKey('Invoice.InvoiceId'), ForeignKey('Track.TrackId')\n",
      "\n",
      "Table: Track\n",
      "Columns: TrackId, Name, AlbumId, MediaTypeId, GenreId, Composer, Milliseconds, Bytes, UnitPrice\n",
      "Primary Key: TrackId\n",
      "Foreign Keys: ForeignKey('Album.AlbumId'), ForeignKey('Genre.GenreId'), ForeignKey('MediaType.MediaTypeId')\n",
      "\n",
      "Table: MediaType\n",
      "Columns: MediaTypeId, Name\n",
      "Primary Key: MediaTypeId\n",
      "Foreign Keys: \n",
      "\n",
      "Table: Playlist\n",
      "Columns: PlaylistId, Name\n",
      "Primary Key: PlaylistId\n",
      "Foreign Keys: \n",
      "\n"
     ]
    }
   ],
   "source": [
    "for x in Base.classes:\n",
    "    print(f\"Table: {x.__table__.name}\")\n",
    "    print(\"Columns: \", end=\"\")\n",
    "    print(*x.__table__.columns.keys(), sep=\", \")\n",
    "    print(\"Primary Key: \", end=\"\")\n",
    "    print(*x.__table__.primary_key.columns.keys())\n",
    "    print(\"Foreign Keys: \", end=\"\")\n",
    "    print(*x.__table__.foreign_keys, sep=\", \")\n",
    "    print()"
   ]
  },
  {
   "cell_type": "code",
   "execution_count": 83,
   "id": "6163f4d2",
   "metadata": {},
   "outputs": [],
   "source": [
    "Album = Base.classes.Album\n",
    "Artist = Base.classes.Artist\n",
    "Customer = Base.classes.Customer\n",
    "Employee = Base.classes.Employee\n",
    "Genre = Base.classes.Genre\n",
    "Invoice = Base.classes.Invoice\n",
    "InvoiceLine = Base.classes.InvoiceLine\n",
    "MediaType = Base.classes.MediaType\n",
    "Playlist = Base.classes.Playlist\n",
    "Track = Base.classes.Track\n",
    "playlisttrack = Base.metadata.tables['PlaylistTrack']"
   ]
  },
  {
   "cell_type": "code",
   "execution_count": 101,
   "id": "1f4fc50a",
   "metadata": {},
   "outputs": [
    {
     "name": "stdout",
     "output_type": "stream",
     "text": [
      "<class 'pandas.core.frame.DataFrame'>\n",
      "RangeIndex: 347 entries, 0 to 346\n",
      "Data columns (total 3 columns):\n",
      " #   Column    Non-Null Count  Dtype \n",
      "---  ------    --------------  ----- \n",
      " 0   AlbumId   347 non-null    int64 \n",
      " 1   Title     347 non-null    object\n",
      " 2   ArtistId  347 non-null    int64 \n",
      "dtypes: int64(2), object(1)\n",
      "memory usage: 8.3+ KB\n",
      "None\n"
     ]
    }
   ],
   "source": [
    "import pandas as pd\n",
    "\n",
    "session = Session(engine)\n",
    "\n",
    "first_article_df = pd.read_sql(\n",
    "    sql=session.query(Album).statement,\n",
    "    con=engine\n",
    ")\n",
    "\n",
    "print(first_article_df.info())\n",
    "\n",
    "session.close()\n",
    "\n",
    "first_article_df = pd.read_sql(\n",
    "    sql=session.query(Album).statement,\n",
    "    con=engine\n",
    ")"
   ]
  }
 ],
 "metadata": {
  "kernelspec": {
   "display_name": "Python 3 (ipykernel)",
   "language": "python",
   "name": "python3"
  },
  "language_info": {
   "codemirror_mode": {
    "name": "ipython",
    "version": 3
   },
   "file_extension": ".py",
   "mimetype": "text/x-python",
   "name": "python",
   "nbconvert_exporter": "python",
   "pygments_lexer": "ipython3",
   "version": "3.11.2"
  }
 },
 "nbformat": 4,
 "nbformat_minor": 5
}
