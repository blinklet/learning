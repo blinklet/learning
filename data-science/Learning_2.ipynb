{
 "cells": [
  {
   "cell_type": "markdown",
   "id": "106f03db",
   "metadata": {},
   "source": [
    "\n"
   ]
  },
  {
   "cell_type": "code",
   "execution_count": null,
   "id": "bc4f5273",
   "metadata": {},
   "outputs": [],
   "source": [
    "from pathlib import Path\n",
    "from sqlalchemy import create_engine, URL, inspect\n",
    "\n",
    "db_file = Path(\"C:/Users/blinklet/Documents/Formula1.sqlite\")\n",
    "db_connect = 'sqlite:///' + str(db_file)\n",
    "\n",
    "engine = create_engine(db_connect)\n",
    "inspector = inspect(engine)\n",
    "\n",
    "print(inspector.get_table_names())"
   ]
  },
  {
   "cell_type": "code",
   "execution_count": 1,
   "id": "f1825ec5",
   "metadata": {},
   "outputs": [
    {
     "name": "stdout",
     "output_type": "stream",
     "text": [
      "['circuits', 'constructor_results', 'constructor_standings', 'constructors', 'driver_standings', 'drivers', 'laptimes', 'pitstops', 'qualifying', 'races', 'results', 'seasons', 'status']\n"
     ]
    }
   ],
   "source": [
    "from sqlalchemy import create_engine, inspect\n",
    "\n",
    "engine = create_engine(r\"sqlite:///C:/Users/blinklet/Documents/Formula1.sqlite\")\n",
    "inspector = inspect(engine)\n",
    "\n",
    "print(inspector.get_table_names())"
   ]
  },
  {
   "cell_type": "code",
   "execution_count": 51,
   "id": "de9bd02d",
   "metadata": {
    "scrolled": true
   },
   "outputs": [
    {
     "name": "stdout",
     "output_type": "stream",
     "text": [
      "['main']\n",
      "\n",
      "['circuits', 'constructor_results', 'constructor_standings', 'constructors', 'driver_standings', 'drivers', 'laptimes', 'pitstops', 'qualifying', 'races', 'results', 'seasons', 'status']\n",
      "\n",
      "Table = circuits:\n",
      "circuitId, circuitRef, name, location, country, lat, lng, alt, url, \n",
      "\n",
      "Table = constructor_results:\n",
      "constructorResultsId, raceId, constructorId, points, status, \n",
      "\n",
      "Table = constructor_standings:\n",
      "constructorStandingsId, raceId, constructorId, points, position, positionText, wins, , \n",
      "\n",
      "Table = constructors:\n",
      "constructorId, constructorRef, name, nationality, url, , \n",
      "\n",
      "Table = driver_standings:\n",
      "driverStandingsId, raceId, driverId, points, position, positionText, wins, \n",
      "\n",
      "Table = drivers:\n",
      "driverId, driverRef, number, code, forename, surname, dob, nationality, url, \n",
      "\n",
      "Table = laptimes:\n",
      "raceId, driverId, lap, position, time, milliseconds, \n",
      "\n",
      "Table = pitstops:\n",
      "raceId, driverId, stop, lap, time, duration, milliseconds, \n",
      "\n",
      "Table = qualifying:\n",
      "qualifyId, raceId, driverId, constructorId, number, position, q1, q2, q3, \n",
      "\n",
      "Table = races:\n",
      "raceId, year, round, circuitId, name, date, time, url, \n",
      "\n",
      "Table = results:\n",
      "resultId, raceId, driverId, constructorId, number, grid, position, positionText, positionOrder, points, laps, time, milliseconds, fastestLap, rank, fastestLapTime, fastestLapSpeed, statusId, \n",
      "\n",
      "Table = seasons:\n",
      "year, url, \n",
      "\n",
      "Table = status:\n",
      "statusId, status, \n",
      "\n"
     ]
    }
   ],
   "source": [
    "print(inspector.get_schema_names())\n",
    "print()\n",
    "print(inspector.get_table_names(schema_name='main'))\n",
    "print()\n",
    "for tbl in inspector.get_table_names():\n",
    "    print(f'Table = {tbl}')\n",
    "    for col in inspector.get_columns(schema_name='main',table_name=tbl):\n",
    "        print(col['name'], end = \", \")\n",
    "    print('\\n')\n",
    "# for tbl in inspector.get_table_names():\n",
    "#     print(inspector.get_columns(schema_name='main',table_name=tbl))"
   ]
  },
  {
   "cell_type": "code",
   "execution_count": 53,
   "id": "22fb2d85",
   "metadata": {
    "scrolled": true
   },
   "outputs": [
    {
     "name": "stdout",
     "output_type": "stream",
     "text": [
      "[{'name': 'circuitId', 'type': INTEGER(), 'nullable': True, 'default': None, 'primary_key': 1}, {'name': 'circuitRef', 'type': VARCHAR(), 'nullable': True, 'default': None, 'primary_key': 0}, {'name': 'name', 'type': VARCHAR(), 'nullable': True, 'default': None, 'primary_key': 0}, {'name': 'location', 'type': VARCHAR(), 'nullable': True, 'default': None, 'primary_key': 0}, {'name': 'country', 'type': VARCHAR(), 'nullable': True, 'default': None, 'primary_key': 0}, {'name': 'lat', 'type': NUMERIC(precision=8, scale=6), 'nullable': True, 'default': None, 'primary_key': 0}, {'name': 'lng', 'type': NUMERIC(precision=9, scale=6), 'nullable': True, 'default': None, 'primary_key': 0}, {'name': 'alt', 'type': INTEGER(), 'nullable': True, 'default': None, 'primary_key': 0}, {'name': 'url', 'type': VARCHAR(), 'nullable': True, 'default': None, 'primary_key': 0}]\n",
      "[{'name': 'constructorResultsId', 'type': INTEGER(), 'nullable': True, 'default': None, 'primary_key': 1}, {'name': 'raceId', 'type': INTEGER(), 'nullable': True, 'default': None, 'primary_key': 0}, {'name': 'constructorId', 'type': INTEGER(), 'nullable': True, 'default': None, 'primary_key': 0}, {'name': 'points', 'type': INTEGER(), 'nullable': True, 'default': None, 'primary_key': 0}, {'name': 'status', 'type': VARCHAR(), 'nullable': True, 'default': None, 'primary_key': 0}]\n",
      "[{'name': 'constructorStandingsId', 'type': INTEGER(), 'nullable': True, 'default': None, 'primary_key': 1}, {'name': 'raceId', 'type': INTEGER(), 'nullable': True, 'default': None, 'primary_key': 0}, {'name': 'constructorId', 'type': INTEGER(), 'nullable': True, 'default': None, 'primary_key': 0}, {'name': 'points', 'type': INTEGER(), 'nullable': True, 'default': None, 'primary_key': 0}, {'name': 'position', 'type': INTEGER(), 'nullable': True, 'default': None, 'primary_key': 0}, {'name': 'positionText', 'type': VARCHAR(), 'nullable': True, 'default': None, 'primary_key': 0}, {'name': 'wins', 'type': INTEGER(), 'nullable': True, 'default': None, 'primary_key': 0}, {'name': '', 'type': NullType(), 'nullable': True, 'default': None, 'primary_key': 0}]\n",
      "[{'name': 'constructorId', 'type': NullType(), 'nullable': True, 'default': None, 'primary_key': 0}, {'name': 'constructorRef', 'type': NullType(), 'nullable': True, 'default': None, 'primary_key': 0}, {'name': 'name', 'type': NullType(), 'nullable': True, 'default': None, 'primary_key': 0}, {'name': 'nationality', 'type': NullType(), 'nullable': True, 'default': None, 'primary_key': 0}, {'name': 'url', 'type': NullType(), 'nullable': True, 'default': None, 'primary_key': 0}, {'name': '', 'type': NullType(), 'nullable': True, 'default': None, 'primary_key': 0}]\n",
      "[{'name': 'driverStandingsId', 'type': INTEGER(), 'nullable': True, 'default': None, 'primary_key': 1}, {'name': 'raceId', 'type': INTEGER(), 'nullable': True, 'default': None, 'primary_key': 0}, {'name': 'driverId', 'type': INTEGER(), 'nullable': True, 'default': None, 'primary_key': 0}, {'name': 'points', 'type': INTEGER(), 'nullable': True, 'default': None, 'primary_key': 0}, {'name': 'position', 'type': INTEGER(), 'nullable': True, 'default': None, 'primary_key': 0}, {'name': 'positionText', 'type': VARCHAR(), 'nullable': True, 'default': None, 'primary_key': 0}, {'name': 'wins', 'type': INTEGER(), 'nullable': True, 'default': None, 'primary_key': 0}]\n",
      "[{'name': 'driverId', 'type': INTEGER(), 'nullable': True, 'default': None, 'primary_key': 1}, {'name': 'driverRef', 'type': VARCHAR(), 'nullable': True, 'default': None, 'primary_key': 0}, {'name': 'number', 'type': VARCHAR(), 'nullable': True, 'default': None, 'primary_key': 0}, {'name': 'code', 'type': VARCHAR(), 'nullable': True, 'default': None, 'primary_key': 0}, {'name': 'forename', 'type': VARCHAR(), 'nullable': True, 'default': None, 'primary_key': 0}, {'name': 'surname', 'type': VARCHAR(), 'nullable': True, 'default': None, 'primary_key': 0}, {'name': 'dob', 'type': VARCHAR(), 'nullable': True, 'default': None, 'primary_key': 0}, {'name': 'nationality', 'type': VARCHAR(), 'nullable': True, 'default': None, 'primary_key': 0}, {'name': 'url', 'type': VARCHAR(), 'nullable': True, 'default': None, 'primary_key': 0}]\n",
      "[{'name': 'raceId', 'type': INTEGER(), 'nullable': True, 'default': None, 'primary_key': 0}, {'name': 'driverId', 'type': INTEGER(), 'nullable': True, 'default': None, 'primary_key': 0}, {'name': 'lap', 'type': INTEGER(), 'nullable': True, 'default': None, 'primary_key': 0}, {'name': 'position', 'type': INTEGER(), 'nullable': True, 'default': None, 'primary_key': 0}, {'name': 'time', 'type': VARCHAR(), 'nullable': True, 'default': None, 'primary_key': 0}, {'name': 'milliseconds', 'type': INTEGER(), 'nullable': True, 'default': None, 'primary_key': 0}]\n",
      "[{'name': 'raceId', 'type': INTEGER(), 'nullable': True, 'default': None, 'primary_key': 0}, {'name': 'driverId', 'type': INTEGER(), 'nullable': True, 'default': None, 'primary_key': 0}, {'name': 'stop', 'type': INTEGER(), 'nullable': True, 'default': None, 'primary_key': 0}, {'name': 'lap', 'type': INTEGER(), 'nullable': True, 'default': None, 'primary_key': 0}, {'name': 'time', 'type': VARCHAR(), 'nullable': True, 'default': None, 'primary_key': 0}, {'name': 'duration', 'type': DECIMAL(), 'nullable': True, 'default': None, 'primary_key': 0}, {'name': 'milliseconds', 'type': INTEGER(), 'nullable': True, 'default': None, 'primary_key': 0}]\n",
      "[{'name': 'qualifyId', 'type': INTEGER(), 'nullable': True, 'default': None, 'primary_key': 1}, {'name': 'raceId', 'type': INTEGER(), 'nullable': True, 'default': None, 'primary_key': 0}, {'name': 'driverId', 'type': INTEGER(), 'nullable': True, 'default': None, 'primary_key': 0}, {'name': 'constructorId', 'type': INTEGER(), 'nullable': True, 'default': None, 'primary_key': 0}, {'name': 'number', 'type': INTEGER(), 'nullable': True, 'default': None, 'primary_key': 0}, {'name': 'position', 'type': INTEGER(), 'nullable': True, 'default': None, 'primary_key': 0}, {'name': 'q1', 'type': VARCHAR(), 'nullable': True, 'default': None, 'primary_key': 0}, {'name': 'q2', 'type': VARCHAR(), 'nullable': True, 'default': None, 'primary_key': 0}, {'name': 'q3', 'type': VARCHAR(), 'nullable': True, 'default': None, 'primary_key': 0}]\n",
      "[{'name': 'raceId', 'type': INTEGER(), 'nullable': True, 'default': None, 'primary_key': 1}, {'name': 'year', 'type': INTEGER(), 'nullable': True, 'default': None, 'primary_key': 0}, {'name': 'round', 'type': INTEGER(), 'nullable': True, 'default': None, 'primary_key': 0}, {'name': 'circuitId', 'type': INTEGER(), 'nullable': True, 'default': None, 'primary_key': 0}, {'name': 'name', 'type': VARCHAR(), 'nullable': True, 'default': None, 'primary_key': 0}, {'name': 'date', 'type': DATE(), 'nullable': True, 'default': None, 'primary_key': 0}, {'name': 'time', 'type': TIME(), 'nullable': True, 'default': None, 'primary_key': 0}, {'name': 'url', 'type': VARCHAR(), 'nullable': True, 'default': None, 'primary_key': 0}]\n",
      "[{'name': 'resultId', 'type': NullType(), 'nullable': True, 'default': None, 'primary_key': 0}, {'name': 'raceId', 'type': INTEGER(), 'nullable': True, 'default': None, 'primary_key': 0}, {'name': 'driverId', 'type': INTEGER(), 'nullable': True, 'default': None, 'primary_key': 0}, {'name': 'constructorId', 'type': INTEGER(), 'nullable': True, 'default': None, 'primary_key': 0}, {'name': 'number', 'type': INTEGER(), 'nullable': True, 'default': None, 'primary_key': 0}, {'name': 'grid', 'type': INTEGER(), 'nullable': True, 'default': None, 'primary_key': 0}, {'name': 'position', 'type': INTEGER(), 'nullable': True, 'default': None, 'primary_key': 0}, {'name': 'positionText', 'type': VARCHAR(), 'nullable': True, 'default': None, 'primary_key': 0}, {'name': 'positionOrder', 'type': INTEGER(), 'nullable': True, 'default': None, 'primary_key': 0}, {'name': 'points', 'type': INTEGER(), 'nullable': True, 'default': None, 'primary_key': 0}, {'name': 'laps', 'type': INTEGER(), 'nullable': True, 'default': None, 'primary_key': 0}, {'name': 'time', 'type': VARCHAR(), 'nullable': True, 'default': None, 'primary_key': 0}, {'name': 'milliseconds', 'type': INTEGER(), 'nullable': True, 'default': None, 'primary_key': 0}, {'name': 'fastestLap', 'type': VARCHAR(), 'nullable': True, 'default': None, 'primary_key': 0}, {'name': 'rank', 'type': INTEGER(), 'nullable': True, 'default': None, 'primary_key': 0}, {'name': 'fastestLapTime', 'type': VARCHAR(), 'nullable': True, 'default': None, 'primary_key': 0}, {'name': 'fastestLapSpeed', 'type': DECIMAL(), 'nullable': True, 'default': None, 'primary_key': 0}, {'name': 'statusId', 'type': INTEGER(), 'nullable': True, 'default': None, 'primary_key': 0}]\n",
      "[{'name': 'year', 'type': INTEGER(), 'nullable': True, 'default': None, 'primary_key': 0}, {'name': 'url', 'type': VARCHAR(), 'nullable': True, 'default': None, 'primary_key': 0}]\n",
      "[{'name': 'statusId', 'type': INTEGER(), 'nullable': True, 'default': None, 'primary_key': 1}, {'name': 'status', 'type': VARCHAR(), 'nullable': True, 'default': None, 'primary_key': 0}]\n"
     ]
    }
   ],
   "source": [
    "for tbl in inspector.get_table_names():\n",
    "    print(inspector.get_columns(schema_name='main',table_name=tbl))\n",
    "\n"
   ]
  },
  {
   "cell_type": "code",
   "execution_count": 75,
   "id": "4e159cf7",
   "metadata": {},
   "outputs": [
    {
     "name": "stdout",
     "output_type": "stream",
     "text": [
      "Table = circuits\n",
      "*circuitId*, circuitRef, name, location, country, lat, lng, alt, url, \n",
      "\n",
      "Table = constructor_results\n",
      "*constructorResultsId*, raceId, constructorId, points, status, \n",
      "\n",
      "Table = constructor_standings\n",
      "*constructorStandingsId*, raceId, constructorId, points, position, positionText, wins, , \n",
      "\n",
      "Table = constructors\n",
      "constructorId, constructorRef, name, nationality, url, , \n",
      "\n",
      "Table = driver_standings\n",
      "*driverStandingsId*, raceId, driverId, points, position, positionText, wins, \n",
      "\n",
      "Table = drivers\n",
      "*driverId*, driverRef, number, code, forename, surname, dob, nationality, url, \n",
      "\n",
      "Table = laptimes\n",
      "raceId, driverId, lap, position, time, milliseconds, \n",
      "\n",
      "Table = pitstops\n",
      "raceId, driverId, stop, lap, time, duration, milliseconds, \n",
      "\n",
      "Table = qualifying\n",
      "*qualifyId*, raceId, driverId, constructorId, number, position, q1, q2, q3, \n",
      "\n",
      "Table = races\n",
      "*raceId*, year, round, circuitId, name, date, time, url, \n",
      "\n",
      "Table = results\n",
      "resultId, raceId, driverId, constructorId, number, grid, position, positionText, positionOrder, points, laps, time, milliseconds, fastestLap, rank, fastestLapTime, fastestLapSpeed, statusId, \n",
      "\n",
      "Table = seasons\n",
      "year, url, \n",
      "\n",
      "Table = status\n",
      "*statusId*, status, \n",
      "\n"
     ]
    }
   ],
   "source": [
    "for tbl in inspector.get_table_names():\n",
    "    print(f\"Table = {tbl}\")\n",
    "    for col in inspector.get_columns(schema_name=\"main\",table_name=tbl):\n",
    "        star = \"\"\n",
    "        if col['primary_key'] == 1:\n",
    "            star = \"*\"\n",
    "        print(f\"{star}{col['name']}{star}\", end = \", \")\n",
    "    print(\"\\n\")\n"
   ]
  },
  {
   "cell_type": "code",
   "execution_count": 73,
   "id": "e817905c",
   "metadata": {},
   "outputs": [
    {
     "data": {
      "text/plain": [
       "['__annotations__',\n",
       " '__class__',\n",
       " '__class_getitem__',\n",
       " '__delattr__',\n",
       " '__dict__',\n",
       " '__dir__',\n",
       " '__doc__',\n",
       " '__eq__',\n",
       " '__format__',\n",
       " '__ge__',\n",
       " '__getattribute__',\n",
       " '__getstate__',\n",
       " '__gt__',\n",
       " '__hash__',\n",
       " '__init__',\n",
       " '__init_subclass__',\n",
       " '__le__',\n",
       " '__lt__',\n",
       " '__module__',\n",
       " '__ne__',\n",
       " '__new__',\n",
       " '__orig_bases__',\n",
       " '__parameters__',\n",
       " '__reduce__',\n",
       " '__reduce_ex__',\n",
       " '__repr__',\n",
       " '__setattr__',\n",
       " '__sizeof__',\n",
       " '__slots__',\n",
       " '__str__',\n",
       " '__subclasshook__',\n",
       " '__weakref__',\n",
       " '_connection_insp',\n",
       " '_construct',\n",
       " '_engine_insp',\n",
       " '_get_reflection_info',\n",
       " '_index_sort_exprs',\n",
       " '_init_connection',\n",
       " '_init_engine',\n",
       " '_init_legacy',\n",
       " '_inspection_context',\n",
       " '_instantiate_types',\n",
       " '_is_protocol',\n",
       " '_op_context_requires_connect',\n",
       " '_operation_context',\n",
       " '_reflect_check_constraints',\n",
       " '_reflect_column',\n",
       " '_reflect_fk',\n",
       " '_reflect_indexes',\n",
       " '_reflect_pk',\n",
       " '_reflect_table_comment',\n",
       " '_reflect_unique_constraints',\n",
       " 'bind',\n",
       " 'clear_cache',\n",
       " 'default_schema_name',\n",
       " 'dialect',\n",
       " 'engine',\n",
       " 'from_engine',\n",
       " 'get_check_constraints',\n",
       " 'get_columns',\n",
       " 'get_foreign_keys',\n",
       " 'get_indexes',\n",
       " 'get_materialized_view_names',\n",
       " 'get_multi_check_constraints',\n",
       " 'get_multi_columns',\n",
       " 'get_multi_foreign_keys',\n",
       " 'get_multi_indexes',\n",
       " 'get_multi_pk_constraint',\n",
       " 'get_multi_table_comment',\n",
       " 'get_multi_table_options',\n",
       " 'get_multi_unique_constraints',\n",
       " 'get_pk_constraint',\n",
       " 'get_schema_names',\n",
       " 'get_sequence_names',\n",
       " 'get_sorted_table_and_fkc_names',\n",
       " 'get_table_comment',\n",
       " 'get_table_names',\n",
       " 'get_table_options',\n",
       " 'get_temp_table_names',\n",
       " 'get_temp_view_names',\n",
       " 'get_unique_constraints',\n",
       " 'get_view_definition',\n",
       " 'get_view_names',\n",
       " 'has_index',\n",
       " 'has_schema',\n",
       " 'has_sequence',\n",
       " 'has_table',\n",
       " 'info_cache',\n",
       " 'reflect_table',\n",
       " 'sort_tables_on_foreign_key_dependency']"
      ]
     },
     "execution_count": 73,
     "metadata": {},
     "output_type": "execute_result"
    }
   ],
   "source": [
    "dir(inspector)\n",
    "#a = inspector.get_table('races')"
   ]
  }
 ],
 "metadata": {
  "kernelspec": {
   "display_name": "Python 3 (ipykernel)",
   "language": "python",
   "name": "python3"
  },
  "language_info": {
   "codemirror_mode": {
    "name": "ipython",
    "version": 3
   },
   "file_extension": ".py",
   "mimetype": "text/x-python",
   "name": "python",
   "nbconvert_exporter": "python",
   "pygments_lexer": "ipython3",
   "version": "3.11.2"
  }
 },
 "nbformat": 4,
 "nbformat_minor": 5
}
