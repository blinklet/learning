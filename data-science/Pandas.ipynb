{
 "cells": [
  {
   "cell_type": "code",
   "execution_count": 12,
   "id": "facbd657",
   "metadata": {},
   "outputs": [],
   "source": [
    "import pandas as pd\n",
    "\n",
    "url = r\"sqlite:///C:/Users/blinklet/Documents/Chinook_Sqlite.sqlite\"\n"
   ]
  },
  {
   "cell_type": "code",
   "execution_count": 20,
   "id": "6b15c6d3",
   "metadata": {
    "scrolled": false
   },
   "outputs": [
    {
     "name": "stdout",
     "output_type": "stream",
     "text": [
      "(347, 3)\n"
     ]
    },
    {
     "data": {
      "text/html": [
       "<div>\n",
       "<style scoped>\n",
       "    .dataframe tbody tr th:only-of-type {\n",
       "        vertical-align: middle;\n",
       "    }\n",
       "\n",
       "    .dataframe tbody tr th {\n",
       "        vertical-align: top;\n",
       "    }\n",
       "\n",
       "    .dataframe thead th {\n",
       "        text-align: right;\n",
       "    }\n",
       "</style>\n",
       "<table border=\"1\" class=\"dataframe\">\n",
       "  <thead>\n",
       "    <tr style=\"text-align: right;\">\n",
       "      <th></th>\n",
       "      <th>AlbumId</th>\n",
       "      <th>Title</th>\n",
       "      <th>ArtistId</th>\n",
       "    </tr>\n",
       "  </thead>\n",
       "  <tbody>\n",
       "    <tr>\n",
       "      <th>0</th>\n",
       "      <td>1</td>\n",
       "      <td>For Those About To Rock We Salute You</td>\n",
       "      <td>1</td>\n",
       "    </tr>\n",
       "    <tr>\n",
       "      <th>1</th>\n",
       "      <td>2</td>\n",
       "      <td>Balls to the Wall</td>\n",
       "      <td>2</td>\n",
       "    </tr>\n",
       "    <tr>\n",
       "      <th>2</th>\n",
       "      <td>3</td>\n",
       "      <td>Restless and Wild</td>\n",
       "      <td>2</td>\n",
       "    </tr>\n",
       "  </tbody>\n",
       "</table>\n",
       "</div>"
      ],
      "text/plain": [
       "   AlbumId                                  Title  ArtistId\n",
       "0        1  For Those About To Rock We Salute You         1\n",
       "1        2                      Balls to the Wall         2\n",
       "2        3                      Restless and Wild         2"
      ]
     },
     "metadata": {},
     "output_type": "display_data"
    }
   ],
   "source": [
    "albums = pd.read_sql_table('Album', url)\n",
    "print(df.shape)\n",
    "display(df.head(3))"
   ]
  },
  {
   "cell_type": "code",
   "execution_count": null,
   "id": "b76ff08a",
   "metadata": {},
   "outputs": [],
   "source": [
    "statement = 'SELECT \"Album\".\"Title\", \"Album\".\"ArtistId\" FROM \"Album\"'\n",
    "df = pd.read_sql_query(statement, url)\n",
    "display(df.head(3))"
   ]
  },
  {
   "cell_type": "code",
   "execution_count": null,
   "id": "b0ffd0cd",
   "metadata": {
    "scrolled": true
   },
   "outputs": [],
   "source": [
    "statement = 'SELECT \"Album\".\"Title\" AS \"Album\", \\\n",
    "    \"Artist\".\"Name\" AS \"Artist\", \\\n",
    "    \"Track\".\"Name\" AS \"Track\", \\\n",
    "    \"Track\".\"Composer\", \\\n",
    "    \"Track\".\"Milliseconds\" AS \"Length\" \\\n",
    "    FROM \"Album\" \\\n",
    "    JOIN \"Track\" ON \"Album\".\"AlbumId\" = \"Track\".\"AlbumId\" \\\n",
    "    JOIN \"Artist\" ON \"Artist\".\"ArtistId\" = \"Album\".\"ArtistId\"'\n",
    "\n",
    "df = pd.read_sql_query(statement, url)\n",
    "display(df.head(3))"
   ]
  },
  {
   "cell_type": "code",
   "execution_count": 21,
   "id": "c6bbba01",
   "metadata": {},
   "outputs": [],
   "source": [
    "artists = pd.read_sql_table('Artist', url)\n",
    "tracks = pd.read_sql_table('Track', url)"
   ]
  },
  {
   "cell_type": "code",
   "execution_count": 17,
   "id": "1a4489a5",
   "metadata": {
    "scrolled": true
   },
   "outputs": [
    {
     "name": "stdout",
     "output_type": "stream",
     "text": [
      "             name\n",
      "0           Album\n",
      "1          Artist\n",
      "2        Customer\n",
      "3        Employee\n",
      "4           Genre\n",
      "5         Invoice\n",
      "6     InvoiceLine\n",
      "7       MediaType\n",
      "8        Playlist\n",
      "9   PlaylistTrack\n",
      "10          Track\n"
     ]
    }
   ],
   "source": [
    "statement = \"\"\"\n",
    "SELECT name from sqlite_master where type= \"table\";\n",
    "\"\"\"\n",
    "tables = pd.read_sql_query(statement, url)\n",
    "print(tables)"
   ]
  },
  {
   "cell_type": "code",
   "execution_count": 36,
   "id": "78639528",
   "metadata": {},
   "outputs": [
    {
     "name": "stdout",
     "output_type": "stream",
     "text": [
      "albums columns:  Index(['AlbumId', 'Title', 'ArtistId'], dtype='object')\n",
      "\n",
      "artists columns:  Index(['ArtistId', 'Name'], dtype='object')\n",
      "\n",
      "tracks columns:  Index(['TrackId', 'Name', 'AlbumId', 'MediaTypeId', 'GenreId', 'Composer',\n",
      "       'Milliseconds', 'Bytes', 'UnitPrice'],\n",
      "      dtype='object')\n"
     ]
    }
   ],
   "source": [
    "print(f\"albums columns:  {albums.columns}\\n\")\n",
    "print(f\"artists columns:  {artists.columns}\\n\")\n",
    "print(f\"tracks columns:  {tracks.columns}\")"
   ]
  },
  {
   "cell_type": "code",
   "execution_count": 53,
   "id": "58091f6b",
   "metadata": {},
   "outputs": [
    {
     "name": "stdout",
     "output_type": "stream",
     "text": [
      "(3503, 12)\n"
     ]
    },
    {
     "data": {
      "text/html": [
       "<div>\n",
       "<style scoped>\n",
       "    .dataframe tbody tr th:only-of-type {\n",
       "        vertical-align: middle;\n",
       "    }\n",
       "\n",
       "    .dataframe tbody tr th {\n",
       "        vertical-align: top;\n",
       "    }\n",
       "\n",
       "    .dataframe thead th {\n",
       "        text-align: right;\n",
       "    }\n",
       "</style>\n",
       "<table border=\"1\" class=\"dataframe\">\n",
       "  <thead>\n",
       "    <tr style=\"text-align: right;\">\n",
       "      <th></th>\n",
       "      <th>AlbumId</th>\n",
       "      <th>Title</th>\n",
       "      <th>ArtistId</th>\n",
       "      <th>Name_artist</th>\n",
       "      <th>TrackId</th>\n",
       "      <th>Name_track</th>\n",
       "      <th>MediaTypeId</th>\n",
       "      <th>GenreId</th>\n",
       "      <th>Composer</th>\n",
       "      <th>Milliseconds</th>\n",
       "      <th>Bytes</th>\n",
       "      <th>UnitPrice</th>\n",
       "    </tr>\n",
       "  </thead>\n",
       "  <tbody>\n",
       "    <tr>\n",
       "      <th>0</th>\n",
       "      <td>1</td>\n",
       "      <td>For Those About To Rock We Salute You</td>\n",
       "      <td>1</td>\n",
       "      <td>AC/DC</td>\n",
       "      <td>1</td>\n",
       "      <td>For Those About To Rock (We Salute You)</td>\n",
       "      <td>1</td>\n",
       "      <td>1</td>\n",
       "      <td>Angus Young, Malcolm Young, Brian Johnson</td>\n",
       "      <td>343719</td>\n",
       "      <td>11170334</td>\n",
       "      <td>0.99</td>\n",
       "    </tr>\n",
       "    <tr>\n",
       "      <th>1</th>\n",
       "      <td>1</td>\n",
       "      <td>For Those About To Rock We Salute You</td>\n",
       "      <td>1</td>\n",
       "      <td>AC/DC</td>\n",
       "      <td>6</td>\n",
       "      <td>Put The Finger On You</td>\n",
       "      <td>1</td>\n",
       "      <td>1</td>\n",
       "      <td>Angus Young, Malcolm Young, Brian Johnson</td>\n",
       "      <td>205662</td>\n",
       "      <td>6713451</td>\n",
       "      <td>0.99</td>\n",
       "    </tr>\n",
       "    <tr>\n",
       "      <th>2</th>\n",
       "      <td>1</td>\n",
       "      <td>For Those About To Rock We Salute You</td>\n",
       "      <td>1</td>\n",
       "      <td>AC/DC</td>\n",
       "      <td>7</td>\n",
       "      <td>Let's Get It Up</td>\n",
       "      <td>1</td>\n",
       "      <td>1</td>\n",
       "      <td>Angus Young, Malcolm Young, Brian Johnson</td>\n",
       "      <td>233926</td>\n",
       "      <td>7636561</td>\n",
       "      <td>0.99</td>\n",
       "    </tr>\n",
       "  </tbody>\n",
       "</table>\n",
       "</div>"
      ],
      "text/plain": [
       "   AlbumId                                  Title  ArtistId Name_artist  \\\n",
       "0        1  For Those About To Rock We Salute You         1       AC/DC   \n",
       "1        1  For Those About To Rock We Salute You         1       AC/DC   \n",
       "2        1  For Those About To Rock We Salute You         1       AC/DC   \n",
       "\n",
       "   TrackId                               Name_track  MediaTypeId  GenreId  \\\n",
       "0        1  For Those About To Rock (We Salute You)            1        1   \n",
       "1        6                    Put The Finger On You            1        1   \n",
       "2        7                          Let's Get It Up            1        1   \n",
       "\n",
       "                                    Composer  Milliseconds     Bytes  \\\n",
       "0  Angus Young, Malcolm Young, Brian Johnson        343719  11170334   \n",
       "1  Angus Young, Malcolm Young, Brian Johnson        205662   6713451   \n",
       "2  Angus Young, Malcolm Young, Brian Johnson        233926   7636561   \n",
       "\n",
       "   UnitPrice  \n",
       "0       0.99  \n",
       "1       0.99  \n",
       "2       0.99  "
      ]
     },
     "metadata": {},
     "output_type": "display_data"
    }
   ],
   "source": [
    "df1 = (\n",
    "    albums\n",
    "    .merge(artists, on='ArtistId')\n",
    "    .merge(tracks, on='AlbumId', suffixes=['_artist','_track'])\n",
    ")\n",
    "print(df1.shape)\n",
    "display(df1.head(3))"
   ]
  },
  {
   "cell_type": "code",
   "execution_count": 55,
   "id": "484d1747",
   "metadata": {},
   "outputs": [
    {
     "name": "stdout",
     "output_type": "stream",
     "text": [
      "(3503, 5)\n"
     ]
    },
    {
     "data": {
      "text/html": [
       "<div>\n",
       "<style scoped>\n",
       "    .dataframe tbody tr th:only-of-type {\n",
       "        vertical-align: middle;\n",
       "    }\n",
       "\n",
       "    .dataframe tbody tr th {\n",
       "        vertical-align: top;\n",
       "    }\n",
       "\n",
       "    .dataframe thead th {\n",
       "        text-align: right;\n",
       "    }\n",
       "</style>\n",
       "<table border=\"1\" class=\"dataframe\">\n",
       "  <thead>\n",
       "    <tr style=\"text-align: right;\">\n",
       "      <th></th>\n",
       "      <th>Album</th>\n",
       "      <th>Artist</th>\n",
       "      <th>Track</th>\n",
       "      <th>Composer</th>\n",
       "      <th>Length</th>\n",
       "    </tr>\n",
       "  </thead>\n",
       "  <tbody>\n",
       "    <tr>\n",
       "      <th>0</th>\n",
       "      <td>For Those About To Rock We Salute You</td>\n",
       "      <td>AC/DC</td>\n",
       "      <td>For Those About To Rock (We Salute You)</td>\n",
       "      <td>Angus Young, Malcolm Young, Brian Johnson</td>\n",
       "      <td>343719</td>\n",
       "    </tr>\n",
       "    <tr>\n",
       "      <th>1</th>\n",
       "      <td>For Those About To Rock We Salute You</td>\n",
       "      <td>AC/DC</td>\n",
       "      <td>Put The Finger On You</td>\n",
       "      <td>Angus Young, Malcolm Young, Brian Johnson</td>\n",
       "      <td>205662</td>\n",
       "    </tr>\n",
       "    <tr>\n",
       "      <th>2</th>\n",
       "      <td>For Those About To Rock We Salute You</td>\n",
       "      <td>AC/DC</td>\n",
       "      <td>Let's Get It Up</td>\n",
       "      <td>Angus Young, Malcolm Young, Brian Johnson</td>\n",
       "      <td>233926</td>\n",
       "    </tr>\n",
       "  </tbody>\n",
       "</table>\n",
       "</div>"
      ],
      "text/plain": [
       "                                   Album Artist  \\\n",
       "0  For Those About To Rock We Salute You  AC/DC   \n",
       "1  For Those About To Rock We Salute You  AC/DC   \n",
       "2  For Those About To Rock We Salute You  AC/DC   \n",
       "\n",
       "                                     Track  \\\n",
       "0  For Those About To Rock (We Salute You)   \n",
       "1                    Put The Finger On You   \n",
       "2                          Let's Get It Up   \n",
       "\n",
       "                                    Composer  Length  \n",
       "0  Angus Young, Malcolm Young, Brian Johnson  343719  \n",
       "1  Angus Young, Malcolm Young, Brian Johnson  205662  \n",
       "2  Angus Young, Malcolm Young, Brian Johnson  233926  "
      ]
     },
     "metadata": {},
     "output_type": "display_data"
    }
   ],
   "source": [
    "df1 = (\n",
    "    albums\n",
    "    .merge(artists, on='ArtistId')\n",
    "    .merge(tracks, on='AlbumId', suffixes=['_artist','_track'])\n",
    "    .rename(columns = {'Title':'Album','Name_artist':'Artist', \n",
    "                       'Name_track':'Track', 'Milliseconds':'Length',})\n",
    "    .drop(['AlbumId', 'TrackId', 'MediaTypeId', \n",
    "           'GenreId', 'Bytes', 'UnitPrice', 'ArtistId'], axis=1)\n",
    ")\n",
    "\n",
    "print(df1.shape)\n",
    "display(df1.head(3))"
   ]
  },
  {
   "cell_type": "code",
   "execution_count": 56,
   "id": "70eac1b8",
   "metadata": {},
   "outputs": [
    {
     "name": "stdout",
     "output_type": "stream",
     "text": [
      "customers columns:  Index(['CustomerId', 'FirstName', 'LastName', 'Company', 'Address', 'City',\n",
      "       'State', 'Country', 'PostalCode', 'Phone', 'Fax', 'Email',\n",
      "       'SupportRepId'],\n",
      "      dtype='object')\n",
      "\n",
      "employees columns:  Index(['EmployeeId', 'LastName', 'FirstName', 'Title', 'ReportsTo',\n",
      "       'BirthDate', 'HireDate', 'Address', 'City', 'State', 'Country',\n",
      "       'PostalCode', 'Phone', 'Fax', 'Email'],\n",
      "      dtype='object')\n"
     ]
    }
   ],
   "source": [
    "customers = pd.read_sql_table('Customer', url)\n",
    "employees = pd.read_sql_table('Employee', url)\n",
    "\n",
    "print(f\"customers columns:  {customers.columns}\\n\")\n",
    "print(f\"employees columns:  {employees.columns}\")"
   ]
  },
  {
   "cell_type": "code",
   "execution_count": 72,
   "id": "71ebc974",
   "metadata": {},
   "outputs": [
    {
     "name": "stdout",
     "output_type": "stream",
     "text": [
      " EmployeeId    Employee_Name               Title  Num_Customers\n",
      "          1     Andrew Adams     General Manager              0\n",
      "          2    Nancy Edwards       Sales Manager              0\n",
      "          3     Jane Peacock Sales Support Agent             21\n",
      "          4    Margaret Park Sales Support Agent             20\n",
      "          5    Steve Johnson Sales Support Agent             18\n",
      "          6 Michael Mitchell          IT Manager              0\n",
      "          7      Robert King            IT Staff              0\n",
      "          8   Laura Callahan            IT Staff              0\n"
     ]
    }
   ],
   "source": [
    "dataframe = (\n",
    "    employees\n",
    "    .merge(customers, left_on='EmployeeId', right_on='SupportRepId', \n",
    "           how = 'left', suffixes=['_emp','_cust'])\n",
    "    .groupby(['EmployeeId','LastName_emp', 'FirstName_emp', 'Title'], \n",
    "             as_index=False, dropna=False)['CustomerId']\n",
    "    .count()\n",
    "    .rename(columns = {'CustomerId':'Num_Customers'})\n",
    ")\n",
    "dataframe['Employee_Name'] = (\n",
    "    dataframe['FirstName_emp'] + ' ' + dataframe['LastName_emp']\n",
    ")\n",
    "dataframe = dataframe.drop(['FirstName_emp', 'LastName_emp'], axis=1)\n",
    "dataframe = dataframe[['EmployeeId', 'Employee_Name', 'Title', 'Num_Customers']]\n",
    "\n",
    "print(dataframe.to_string(index=False))"
   ]
  }
 ],
 "metadata": {
  "kernelspec": {
   "display_name": "Python 3 (ipykernel)",
   "language": "python",
   "name": "python3"
  },
  "language_info": {
   "codemirror_mode": {
    "name": "ipython",
    "version": 3
   },
   "file_extension": ".py",
   "mimetype": "text/x-python",
   "name": "python",
   "nbconvert_exporter": "python",
   "pygments_lexer": "ipython3",
   "version": "3.11.2"
  }
 },
 "nbformat": 4,
 "nbformat_minor": 5
}
